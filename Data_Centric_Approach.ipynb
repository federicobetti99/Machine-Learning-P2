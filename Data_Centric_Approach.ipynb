{
  "nbformat": 4,
  "nbformat_minor": 0,
  "metadata": {
    "colab": {
      "name": "Data Centric Approach.ipynb",
      "provenance": [],
      "collapsed_sections": []
    },
    "kernelspec": {
      "name": "python3",
      "display_name": "Python 3"
    },
    "language_info": {
      "name": "python"
    },
    "accelerator": "GPU"
  },
  "cells": [
    {
      "cell_type": "markdown",
      "metadata": {
        "id": "bvrqRxILaLl9"
      },
      "source": [
        "#Data Centric Approach\n",
        "In this notebook we will follow a data centric approach and try to improve predictions for relKa."
      ]
    },
    {
      "cell_type": "code",
      "metadata": {
        "id": "3ANR2JL-Zntf",
        "colab": {
          "base_uri": "https://localhost:8080/"
        },
        "outputId": "8f3bed82-fc0e-4637-c7a2-b3fca8118f21"
      },
      "source": [
        "#Mount  Google Drive\n",
        "from google.colab import drive\n",
        "drive.mount('/content/drive')\n",
        "%cd drive/My\\ Drive/Colab\\ Notebooks/ML\\ Project2"
      ],
      "execution_count": 1,
      "outputs": [
        {
          "output_type": "stream",
          "name": "stdout",
          "text": [
            "Mounted at /content/drive\n",
            "/content/drive/My Drive/Colab Notebooks/ML Project2\n"
          ]
        }
      ]
    },
    {
      "cell_type": "code",
      "metadata": {
        "id": "Fx22-cLKaEEq"
      },
      "source": [
        "#Usefull Libraries\n",
        "\n",
        "# pandas / numpy\n",
        "import pandas as pd\n",
        "import numpy as np\n",
        "\n",
        "#import xgboost regressor model\n",
        "from xgboost import XGBRegressor\n",
        "\n",
        "#pearson corelation coefficient\n",
        "from scipy.stats import pearsonr\n",
        "\n",
        "#import cross validation function from sklearn\n",
        "from sklearn.model_selection import cross_val_score\n",
        "#import one hot encoder function from sklearn\n",
        "from sklearn.preprocessing import OneHotEncoder\n",
        "#import the train test split function from sklearn to split the dataset randomly for training and testing\n",
        "from sklearn.model_selection import train_test_split\n",
        "#import mse loss\n",
        "from sklearn.metrics import mean_squared_error"
      ],
      "execution_count": 18,
      "outputs": []
    },
    {
      "cell_type": "code",
      "metadata": {
        "id": "Bu0Qvdd8cQ8W",
        "colab": {
          "base_uri": "https://localhost:8080/",
          "height": 242
        },
        "outputId": "df254af2-58ae-4b2a-aa72-c05a90f0c375"
      },
      "source": [
        "#import data from zip\n",
        "pddata = pd.read_csv('GSM1586785_ScrH-12A_Exd_14mer_cg.csv.zip', compression='zip', error_bad_lines=False)\n",
        "#print the first samples of the dataframe to get a look at the data\n",
        "pddata.head(4)"
      ],
      "execution_count": 3,
      "outputs": [
        {
          "output_type": "execute_result",
          "data": {
            "text/html": [
              "<div>\n",
              "<style scoped>\n",
              "    .dataframe tbody tr th:only-of-type {\n",
              "        vertical-align: middle;\n",
              "    }\n",
              "\n",
              "    .dataframe tbody tr th {\n",
              "        vertical-align: top;\n",
              "    }\n",
              "\n",
              "    .dataframe thead th {\n",
              "        text-align: right;\n",
              "    }\n",
              "</style>\n",
              "<table border=\"1\" class=\"dataframe\">\n",
              "  <thead>\n",
              "    <tr style=\"text-align: right;\">\n",
              "      <th></th>\n",
              "      <th>Unnamed: 0</th>\n",
              "      <th>Kmer</th>\n",
              "      <th>y_1</th>\n",
              "      <th>y_2</th>\n",
              "      <th>y_3</th>\n",
              "      <th>y_4</th>\n",
              "      <th>y_5</th>\n",
              "      <th>y_6</th>\n",
              "      <th>zC_1</th>\n",
              "      <th>zC_2</th>\n",
              "      <th>zC_3</th>\n",
              "      <th>zC_4</th>\n",
              "      <th>zC_5</th>\n",
              "      <th>zC_6</th>\n",
              "      <th>x_1</th>\n",
              "      <th>x_2</th>\n",
              "      <th>x_3</th>\n",
              "      <th>x_4</th>\n",
              "      <th>x_5</th>\n",
              "      <th>x_6</th>\n",
              "      <th>zW_1</th>\n",
              "      <th>zW_2</th>\n",
              "      <th>zW_3</th>\n",
              "      <th>zW_4</th>\n",
              "      <th>zW_5</th>\n",
              "      <th>zW_6</th>\n",
              "      <th>y_7</th>\n",
              "      <th>y_8</th>\n",
              "      <th>y_9</th>\n",
              "      <th>y_10</th>\n",
              "      <th>y_11</th>\n",
              "      <th>y_12</th>\n",
              "      <th>zC_7</th>\n",
              "      <th>zC_8</th>\n",
              "      <th>zC_9</th>\n",
              "      <th>zC_10</th>\n",
              "      <th>zC_11</th>\n",
              "      <th>zC_12</th>\n",
              "      <th>x_7</th>\n",
              "      <th>x_8</th>\n",
              "      <th>...</th>\n",
              "      <th>x_70</th>\n",
              "      <th>x_71</th>\n",
              "      <th>x_72</th>\n",
              "      <th>zW_67</th>\n",
              "      <th>zW_68</th>\n",
              "      <th>zW_69</th>\n",
              "      <th>zW_70</th>\n",
              "      <th>zW_71</th>\n",
              "      <th>zW_72</th>\n",
              "      <th>y_73</th>\n",
              "      <th>y_74</th>\n",
              "      <th>y_75</th>\n",
              "      <th>y_76</th>\n",
              "      <th>y_77</th>\n",
              "      <th>y_78</th>\n",
              "      <th>zC_73</th>\n",
              "      <th>zC_74</th>\n",
              "      <th>zC_75</th>\n",
              "      <th>zC_76</th>\n",
              "      <th>zC_77</th>\n",
              "      <th>zC_78</th>\n",
              "      <th>x_73</th>\n",
              "      <th>x_74</th>\n",
              "      <th>x_75</th>\n",
              "      <th>x_76</th>\n",
              "      <th>x_77</th>\n",
              "      <th>x_78</th>\n",
              "      <th>zW_73</th>\n",
              "      <th>zW_74</th>\n",
              "      <th>zW_75</th>\n",
              "      <th>zW_76</th>\n",
              "      <th>zW_77</th>\n",
              "      <th>zW_78</th>\n",
              "      <th>y_79</th>\n",
              "      <th>y_80</th>\n",
              "      <th>y_81</th>\n",
              "      <th>y_82</th>\n",
              "      <th>y_83</th>\n",
              "      <th>y_84</th>\n",
              "      <th>relKa</th>\n",
              "    </tr>\n",
              "  </thead>\n",
              "  <tbody>\n",
              "    <tr>\n",
              "      <th>0</th>\n",
              "      <td>0</td>\n",
              "      <td>AATGATTAATTACC</td>\n",
              "      <td>0.593697</td>\n",
              "      <td>-1.092779</td>\n",
              "      <td>0.309117</td>\n",
              "      <td>0.133525</td>\n",
              "      <td>0.023403</td>\n",
              "      <td>-0.157348</td>\n",
              "      <td>1.177586</td>\n",
              "      <td>-2.166888</td>\n",
              "      <td>-1.059702</td>\n",
              "      <td>-0.986852</td>\n",
              "      <td>9.851130</td>\n",
              "      <td>-1.990198</td>\n",
              "      <td>-0.398346</td>\n",
              "      <td>0.089837</td>\n",
              "      <td>3.357047</td>\n",
              "      <td>-0.769275</td>\n",
              "      <td>-0.221956</td>\n",
              "      <td>3.386346</td>\n",
              "      <td>0.605164</td>\n",
              "      <td>-4.442468</td>\n",
              "      <td>-2.825918</td>\n",
              "      <td>0.281830</td>\n",
              "      <td>9.129749</td>\n",
              "      <td>-1.237129</td>\n",
              "      <td>0.167000</td>\n",
              "      <td>-1.267301</td>\n",
              "      <td>0.183102</td>\n",
              "      <td>0.141690</td>\n",
              "      <td>0.025378</td>\n",
              "      <td>0.080681</td>\n",
              "      <td>1.958107</td>\n",
              "      <td>-2.755203</td>\n",
              "      <td>-1.608669</td>\n",
              "      <td>-0.641613</td>\n",
              "      <td>9.935603</td>\n",
              "      <td>-1.641385</td>\n",
              "      <td>0.009468</td>\n",
              "      <td>-0.179413</td>\n",
              "      <td>...</td>\n",
              "      <td>-0.219001</td>\n",
              "      <td>-0.545648</td>\n",
              "      <td>3.323891</td>\n",
              "      <td>0.752496</td>\n",
              "      <td>-3.620260</td>\n",
              "      <td>-2.373654</td>\n",
              "      <td>-0.318634</td>\n",
              "      <td>9.522320</td>\n",
              "      <td>-1.373931</td>\n",
              "      <td>0.322805</td>\n",
              "      <td>-0.900553</td>\n",
              "      <td>0.124381</td>\n",
              "      <td>0.036043</td>\n",
              "      <td>0.022354</td>\n",
              "      <td>0.004046</td>\n",
              "      <td>2.020696</td>\n",
              "      <td>-4.257512</td>\n",
              "      <td>-2.142878</td>\n",
              "      <td>0.010588</td>\n",
              "      <td>9.566650</td>\n",
              "      <td>-0.941402</td>\n",
              "      <td>-0.131415</td>\n",
              "      <td>0.153189</td>\n",
              "      <td>3.356950</td>\n",
              "      <td>0.438937</td>\n",
              "      <td>-0.894560</td>\n",
              "      <td>3.707160</td>\n",
              "      <td>2.591673</td>\n",
              "      <td>-3.422281</td>\n",
              "      <td>-1.331358</td>\n",
              "      <td>-0.674709</td>\n",
              "      <td>10.019444</td>\n",
              "      <td>-1.012806</td>\n",
              "      <td>-0.790300</td>\n",
              "      <td>-0.112492</td>\n",
              "      <td>0.118705</td>\n",
              "      <td>0.237596</td>\n",
              "      <td>-0.009713</td>\n",
              "      <td>0.267886</td>\n",
              "      <td>1.00000</td>\n",
              "    </tr>\n",
              "    <tr>\n",
              "      <th>1</th>\n",
              "      <td>1</td>\n",
              "      <td>GGTAATTAATCATT</td>\n",
              "      <td>0.790300</td>\n",
              "      <td>-0.112492</td>\n",
              "      <td>0.118705</td>\n",
              "      <td>-0.237596</td>\n",
              "      <td>-0.009713</td>\n",
              "      <td>0.267886</td>\n",
              "      <td>2.591673</td>\n",
              "      <td>-3.422281</td>\n",
              "      <td>-1.331358</td>\n",
              "      <td>-0.674709</td>\n",
              "      <td>10.019444</td>\n",
              "      <td>-1.012806</td>\n",
              "      <td>0.131415</td>\n",
              "      <td>0.153189</td>\n",
              "      <td>3.356950</td>\n",
              "      <td>-0.438937</td>\n",
              "      <td>-0.894560</td>\n",
              "      <td>3.707160</td>\n",
              "      <td>2.020696</td>\n",
              "      <td>-4.257512</td>\n",
              "      <td>-2.142878</td>\n",
              "      <td>0.010588</td>\n",
              "      <td>9.566650</td>\n",
              "      <td>-0.941402</td>\n",
              "      <td>-0.322805</td>\n",
              "      <td>-0.900553</td>\n",
              "      <td>0.124381</td>\n",
              "      <td>-0.036043</td>\n",
              "      <td>0.022354</td>\n",
              "      <td>0.004046</td>\n",
              "      <td>0.752496</td>\n",
              "      <td>-3.620260</td>\n",
              "      <td>-2.373654</td>\n",
              "      <td>-0.318634</td>\n",
              "      <td>9.522320</td>\n",
              "      <td>-1.373931</td>\n",
              "      <td>0.092423</td>\n",
              "      <td>-0.159535</td>\n",
              "      <td>...</td>\n",
              "      <td>-0.117570</td>\n",
              "      <td>-0.826970</td>\n",
              "      <td>3.284579</td>\n",
              "      <td>1.958107</td>\n",
              "      <td>-2.755203</td>\n",
              "      <td>-1.608669</td>\n",
              "      <td>-0.641613</td>\n",
              "      <td>9.935603</td>\n",
              "      <td>-1.641385</td>\n",
              "      <td>-0.167000</td>\n",
              "      <td>-1.267301</td>\n",
              "      <td>0.183102</td>\n",
              "      <td>-0.141690</td>\n",
              "      <td>0.025378</td>\n",
              "      <td>0.080681</td>\n",
              "      <td>0.605164</td>\n",
              "      <td>-4.442468</td>\n",
              "      <td>-2.825918</td>\n",
              "      <td>0.281830</td>\n",
              "      <td>9.129749</td>\n",
              "      <td>-1.237129</td>\n",
              "      <td>0.398346</td>\n",
              "      <td>0.089837</td>\n",
              "      <td>3.357047</td>\n",
              "      <td>0.769275</td>\n",
              "      <td>-0.221956</td>\n",
              "      <td>3.386346</td>\n",
              "      <td>1.177586</td>\n",
              "      <td>-2.166888</td>\n",
              "      <td>-1.059702</td>\n",
              "      <td>-0.986852</td>\n",
              "      <td>9.851130</td>\n",
              "      <td>-1.990198</td>\n",
              "      <td>-0.593697</td>\n",
              "      <td>-1.092779</td>\n",
              "      <td>0.309117</td>\n",
              "      <td>-0.133525</td>\n",
              "      <td>0.023403</td>\n",
              "      <td>-0.157348</td>\n",
              "      <td>1.00000</td>\n",
              "    </tr>\n",
              "    <tr>\n",
              "      <th>2</th>\n",
              "      <td>2</td>\n",
              "      <td>AATGATTAATTACT</td>\n",
              "      <td>0.593690</td>\n",
              "      <td>-1.092780</td>\n",
              "      <td>0.309116</td>\n",
              "      <td>0.133525</td>\n",
              "      <td>0.023403</td>\n",
              "      <td>-0.157348</td>\n",
              "      <td>1.177587</td>\n",
              "      <td>-2.166890</td>\n",
              "      <td>-1.059703</td>\n",
              "      <td>-0.986851</td>\n",
              "      <td>9.851129</td>\n",
              "      <td>-1.990198</td>\n",
              "      <td>-0.398346</td>\n",
              "      <td>0.089837</td>\n",
              "      <td>3.357047</td>\n",
              "      <td>-0.769275</td>\n",
              "      <td>-0.221958</td>\n",
              "      <td>3.386346</td>\n",
              "      <td>0.605174</td>\n",
              "      <td>-4.442467</td>\n",
              "      <td>-2.825916</td>\n",
              "      <td>0.281830</td>\n",
              "      <td>9.129752</td>\n",
              "      <td>-1.237126</td>\n",
              "      <td>0.166994</td>\n",
              "      <td>-1.267297</td>\n",
              "      <td>0.183101</td>\n",
              "      <td>0.141690</td>\n",
              "      <td>0.025378</td>\n",
              "      <td>0.080682</td>\n",
              "      <td>1.958105</td>\n",
              "      <td>-2.755201</td>\n",
              "      <td>-1.608675</td>\n",
              "      <td>-0.641611</td>\n",
              "      <td>9.935602</td>\n",
              "      <td>-1.641385</td>\n",
              "      <td>0.009466</td>\n",
              "      <td>-0.179412</td>\n",
              "      <td>...</td>\n",
              "      <td>-0.197861</td>\n",
              "      <td>-0.587698</td>\n",
              "      <td>3.365527</td>\n",
              "      <td>1.077618</td>\n",
              "      <td>-3.502014</td>\n",
              "      <td>-2.362643</td>\n",
              "      <td>-0.283750</td>\n",
              "      <td>9.607518</td>\n",
              "      <td>-1.279651</td>\n",
              "      <td>0.118214</td>\n",
              "      <td>-0.940085</td>\n",
              "      <td>0.118129</td>\n",
              "      <td>0.068205</td>\n",
              "      <td>0.010715</td>\n",
              "      <td>0.111194</td>\n",
              "      <td>1.687236</td>\n",
              "      <td>-4.636734</td>\n",
              "      <td>-2.726127</td>\n",
              "      <td>0.248499</td>\n",
              "      <td>9.282680</td>\n",
              "      <td>-0.900859</td>\n",
              "      <td>0.372109</td>\n",
              "      <td>0.309957</td>\n",
              "      <td>3.365526</td>\n",
              "      <td>0.952859</td>\n",
              "      <td>-0.630216</td>\n",
              "      <td>3.537972</td>\n",
              "      <td>2.137980</td>\n",
              "      <td>-2.777053</td>\n",
              "      <td>-1.371144</td>\n",
              "      <td>-0.839165</td>\n",
              "      <td>10.065669</td>\n",
              "      <td>-1.499679</td>\n",
              "      <td>-0.826872</td>\n",
              "      <td>-1.141872</td>\n",
              "      <td>0.500342</td>\n",
              "      <td>-0.143809</td>\n",
              "      <td>0.043456</td>\n",
              "      <td>0.095141</td>\n",
              "      <td>0.96883</td>\n",
              "    </tr>\n",
              "    <tr>\n",
              "      <th>3</th>\n",
              "      <td>3</td>\n",
              "      <td>AGTAATTAATCATT</td>\n",
              "      <td>0.826872</td>\n",
              "      <td>-1.141872</td>\n",
              "      <td>0.500342</td>\n",
              "      <td>0.143809</td>\n",
              "      <td>0.043456</td>\n",
              "      <td>0.095141</td>\n",
              "      <td>2.137980</td>\n",
              "      <td>-2.777053</td>\n",
              "      <td>-1.371144</td>\n",
              "      <td>-0.839165</td>\n",
              "      <td>10.065669</td>\n",
              "      <td>-1.499679</td>\n",
              "      <td>-0.372109</td>\n",
              "      <td>0.309957</td>\n",
              "      <td>3.365526</td>\n",
              "      <td>-0.952859</td>\n",
              "      <td>-0.630216</td>\n",
              "      <td>3.537972</td>\n",
              "      <td>1.687236</td>\n",
              "      <td>-4.636734</td>\n",
              "      <td>-2.726127</td>\n",
              "      <td>0.248499</td>\n",
              "      <td>9.282680</td>\n",
              "      <td>-0.900859</td>\n",
              "      <td>-0.118214</td>\n",
              "      <td>-0.940085</td>\n",
              "      <td>0.118129</td>\n",
              "      <td>-0.068205</td>\n",
              "      <td>0.010715</td>\n",
              "      <td>0.111194</td>\n",
              "      <td>1.077618</td>\n",
              "      <td>-3.502014</td>\n",
              "      <td>-2.362643</td>\n",
              "      <td>-0.283750</td>\n",
              "      <td>9.607518</td>\n",
              "      <td>-1.279651</td>\n",
              "      <td>0.128618</td>\n",
              "      <td>-0.194635</td>\n",
              "      <td>...</td>\n",
              "      <td>-0.117566</td>\n",
              "      <td>-0.826970</td>\n",
              "      <td>3.284579</td>\n",
              "      <td>1.958105</td>\n",
              "      <td>-2.755201</td>\n",
              "      <td>-1.608675</td>\n",
              "      <td>-0.641611</td>\n",
              "      <td>9.935602</td>\n",
              "      <td>-1.641385</td>\n",
              "      <td>-0.166994</td>\n",
              "      <td>-1.267297</td>\n",
              "      <td>0.183101</td>\n",
              "      <td>-0.141690</td>\n",
              "      <td>0.025378</td>\n",
              "      <td>0.080682</td>\n",
              "      <td>0.605174</td>\n",
              "      <td>-4.442467</td>\n",
              "      <td>-2.825916</td>\n",
              "      <td>0.281830</td>\n",
              "      <td>9.129752</td>\n",
              "      <td>-1.237126</td>\n",
              "      <td>0.398346</td>\n",
              "      <td>0.089837</td>\n",
              "      <td>3.357047</td>\n",
              "      <td>0.769275</td>\n",
              "      <td>-0.221958</td>\n",
              "      <td>3.386346</td>\n",
              "      <td>1.177587</td>\n",
              "      <td>-2.166890</td>\n",
              "      <td>-1.059703</td>\n",
              "      <td>-0.986851</td>\n",
              "      <td>9.851129</td>\n",
              "      <td>-1.990198</td>\n",
              "      <td>-0.593690</td>\n",
              "      <td>-1.092780</td>\n",
              "      <td>0.309116</td>\n",
              "      <td>-0.133525</td>\n",
              "      <td>0.023403</td>\n",
              "      <td>-0.157348</td>\n",
              "      <td>0.96883</td>\n",
              "    </tr>\n",
              "  </tbody>\n",
              "</table>\n",
              "<p>4 rows × 321 columns</p>\n",
              "</div>"
            ],
            "text/plain": [
              "   Unnamed: 0            Kmer       y_1  ...      y_83      y_84    relKa\n",
              "0           0  AATGATTAATTACC  0.593697  ... -0.009713  0.267886  1.00000\n",
              "1           1  GGTAATTAATCATT  0.790300  ...  0.023403 -0.157348  1.00000\n",
              "2           2  AATGATTAATTACT  0.593690  ...  0.043456  0.095141  0.96883\n",
              "3           3  AGTAATTAATCATT  0.826872  ...  0.023403 -0.157348  0.96883\n",
              "\n",
              "[4 rows x 321 columns]"
            ]
          },
          "metadata": {},
          "execution_count": 3
        }
      ]
    },
    {
      "cell_type": "code",
      "metadata": {
        "id": "UNpiW07vc0X1"
      },
      "source": [
        "#convert dataframe to np array\n",
        "data = pddata.to_numpy()\n",
        "#labels\n",
        "relKa = data[:,320:]\n",
        "# features\n",
        "# we remove the index of the data samples, since it is not a feature\n",
        "features = data[:,1:320]\n",
        "# temporarily remove the 2nd feature because one hot encoding causes ram overflow\n",
        "features = features[:,1:]"
      ],
      "execution_count": 4,
      "outputs": []
    },
    {
      "cell_type": "markdown",
      "metadata": {
        "id": "TgBLOflbtH8G"
      },
      "source": [
        "### Preprocessing of data\n",
        "\n",
        "One hot encoding the data is troubling for my setup and for google colab. The first one is unable to perform the task in reasonable time, while the second one runs out of RAM. I tried both the encoder os scikit learn and a custom encoder of mine that you can find here. The main problem is the size of the end result."
      ]
    },
    {
      "cell_type": "code",
      "metadata": {
        "id": "1_gmF27Iyj91"
      },
      "source": [
        "def one_hot_encoder(pos,length):\n",
        "  \"\"\"\n",
        "  One hot encode a list of unique elements\n",
        "\n",
        "  @param pos: int64 \n",
        "  @param length: int64 \n",
        "  \"\"\"\n",
        "  encoded = np.zeros(length)\n",
        "  encoded[pos] = 1\n",
        "  return encoded"
      ],
      "execution_count": 5,
      "outputs": []
    },
    {
      "cell_type": "code",
      "metadata": {
        "id": "S41_K7nfv13T"
      },
      "source": [
        "#remove duplicate sequences in case they exist\n",
        "#Kmer = [one_hot_encoder(i,len(relKa[:,0])) for i in range(len(relKa[:,0]))]\n",
        "#create the encoding for all sequences\n",
        "#Kmer_encode = [ for i in range(len(Kmer))]\n",
        "#Kmer"
      ],
      "execution_count": 6,
      "outputs": []
    },
    {
      "cell_type": "code",
      "metadata": {
        "id": "0J0xEIZstN1P"
      },
      "source": [
        "\n",
        "# initialize a one hot encoder that ignores the unseen sequences\n",
        "# enc = OneHotEncoder(handle_unknown='ignore')\n",
        "# use the sequences of the data for the initialization\n",
        "# enc.fit(Kmer_encode)\n",
        "# encode the sequences\n",
        "# enc.transform(Kmer_encode).toarray()\n"
      ],
      "execution_count": 7,
      "outputs": []
    },
    {
      "cell_type": "code",
      "metadata": {
        "id": "Hxct5Fcv4Eip"
      },
      "source": [
        "def standardization(x):\n",
        "  \"\"\"\n",
        "  Standardization of elements for a vector x\n",
        "  @param:x np.ndarray\n",
        "  \"\"\"\n",
        "  mean = np.mean(x)\n",
        "  #print(mean)\n",
        "  std = np.std(x)\n",
        "  #print(std)\n",
        "  x = np.apply_along_axis(lambda y: (y - mean)/std, 0, x)\n",
        "  return x"
      ],
      "execution_count": 8,
      "outputs": []
    },
    {
      "cell_type": "code",
      "metadata": {
        "id": "_QGw-cM33ZDe"
      },
      "source": [
        "#standardize all features\n",
        "std_features=np.apply_along_axis(standardization, 1, features)"
      ],
      "execution_count": 9,
      "outputs": []
    },
    {
      "cell_type": "code",
      "metadata": {
        "id": "JTSgJrs9SKpI"
      },
      "source": [
        "# randomly split the dataset in a 70/30 split\n",
        "# change the train_size for partitions of different size\n",
        "# rerun for different partitions\n",
        "X_train, X_test, y_train, y_test = train_test_split(features, relKa,  train_size=0.7, random_state=33, shuffle=True)"
      ],
      "execution_count": 10,
      "outputs": []
    },
    {
      "cell_type": "markdown",
      "metadata": {
        "id": "HIo35hDWiDe0"
      },
      "source": [
        "## Initial Training of the regression method \n",
        "\n",
        "We choose Xgboost as our model for this approach."
      ]
    },
    {
      "cell_type": "code",
      "metadata": {
        "id": "xU16e-mhiBEx"
      },
      "source": [
        "#Cross validation for initial data and Xgboost\n",
        "scores = cross_val_score(XGBRegressor(objective='reg:squarederror'), features, relKa, scoring='neg_mean_squared_error')"
      ],
      "execution_count": 11,
      "outputs": []
    },
    {
      "cell_type": "code",
      "metadata": {
        "id": "VQ2LZdh5rKu5",
        "colab": {
          "base_uri": "https://localhost:8080/"
        },
        "outputId": "70d7791f-8513-49a6-c8b7-73c6baed79bb"
      },
      "source": [
        "print(\"Basic loss for XGBoost:\",np.mean((-scores)**0.5))"
      ],
      "execution_count": 12,
      "outputs": [
        {
          "output_type": "stream",
          "name": "stdout",
          "text": [
            "Basic loss for XGBoost: 0.07645230899873175\n"
          ]
        }
      ]
    },
    {
      "cell_type": "code",
      "metadata": {
        "id": "gUJSmXAVm8kD"
      },
      "source": [
        "#Set the parameters for the XGBRegressor\n",
        "#we will use the GPU, otherwise it does not train\n",
        "param_dict = {\n",
        "    'max_depth':10,\n",
        "    'n_estimators':1000,\n",
        "    'objective': 'reg:squarederror',\n",
        "    'tree_method': 'gpu_hist'\n",
        "}"
      ],
      "execution_count": 13,
      "outputs": []
    },
    {
      "cell_type": "code",
      "metadata": {
        "id": "0R7Xd2PwRFp8"
      },
      "source": [
        "#model of XBGRegressor without extensive parameter tuning\n",
        "model=XGBRegressor(**param_dict)"
      ],
      "execution_count": 14,
      "outputs": []
    },
    {
      "cell_type": "code",
      "metadata": {
        "id": "GxuOs2e6RX-d",
        "colab": {
          "base_uri": "https://localhost:8080/"
        },
        "outputId": "b36b64d6-b248-43a7-ad4e-fbe7c69c053b"
      },
      "source": [
        "#fit the model\n",
        "model.fit(X_train,y_train,eval_metric=\"rmse\")"
      ],
      "execution_count": 15,
      "outputs": [
        {
          "output_type": "execute_result",
          "data": {
            "text/plain": [
              "XGBRegressor(max_depth=10, n_estimators=1000, objective='reg:squarederror',\n",
              "             tree_method='gpu_hist')"
            ]
          },
          "metadata": {},
          "execution_count": 15
        }
      ]
    },
    {
      "cell_type": "code",
      "metadata": {
        "id": "LxN0QhOtUROH"
      },
      "source": [
        "# do some predictions with the model\n",
        "y_pred = model.predict(X_test)"
      ],
      "execution_count": 20,
      "outputs": []
    },
    {
      "cell_type": "code",
      "metadata": {
        "id": "8cbsSZUZ7xhf",
        "colab": {
          "base_uri": "https://localhost:8080/"
        },
        "outputId": "c0a65d9c-9920-47cf-de8a-566d3ac7ac46"
      },
      "source": [
        "#mean squared error\n",
        "mean_squared_error(y_test,y_pred)\n",
        "#np.corrcoef(y_test,y_pred)"
      ],
      "execution_count": 22,
      "outputs": [
        {
          "output_type": "execute_result",
          "data": {
            "text/plain": [
              "0.00041931443427523427"
            ]
          },
          "metadata": {},
          "execution_count": 22
        }
      ]
    }
  ]
}