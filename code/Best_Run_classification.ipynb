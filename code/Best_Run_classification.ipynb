{
 "cells": [
  {
   "cell_type": "code",
   "execution_count": 17,
   "metadata": {
    "id": "0nZTKX_wtyYz"
   },
   "outputs": [],
   "source": [
    "# for dealing with data\n",
    "import pandas as pd\n",
    "import numpy as np\n",
    "import random\n",
    "\n",
    "\n",
    "# for visualization\n",
    "from matplotlib import pyplot as plt\n",
    "import seaborn as sns\n",
    "\n",
    "\n",
    "# Machine learning libraries\n",
    "from sklearn.model_selection import train_test_split\n",
    "from sklearn.model_selection import RandomizedSearchCV\n",
    "from sklearn.preprocessing import StandardScaler\n",
    "from sklearn.ensemble import IsolationForest\n",
    "from sklearn import preprocessing\n",
    "from sklearn.ensemble import RandomForestClassifier\n",
    "from sklearn.metrics import make_scorer, f1_score\n",
    "from sklearn.model_selection import RandomizedSearchCV\n",
    "\n",
    "\n",
    "# Mathematics library\n",
    "import math\n",
    "\n",
    "\n",
    "# for statisticals tools \n",
    "from scipy import stats\n",
    "import scipy as sci\n",
    "from scipy.spatial.distance import minkowski\n",
    "\n",
    "\n",
    "# helpers file\n",
    "from preprocessing_helper import *\n",
    "from sampling_helper import *\n",
    "from metrics_helper import *\n",
    "\n",
    "\n",
    "# we set the dimensions of the plots\n",
    "sns.set(rc={'figure.figsize':(11.7,8.27)})"
   ]
  },
  {
   "cell_type": "code",
   "execution_count": 2,
   "metadata": {
    "colab": {
     "base_uri": "https://localhost:8080/"
    },
    "id": "fm5S_OlXt3Db",
    "outputId": "f11e39ba-2c93-4e12-9249-50f5b1755ff6"
   },
   "outputs": [],
   "source": [
    "#from google.colab import drive\n",
    "#drive.mount('/content/drive')\n",
    "#%cd drive/My\\ Drive"
   ]
  },
  {
   "cell_type": "markdown",
   "metadata": {},
   "source": [
    "# Preprocessing"
   ]
  },
  {
   "cell_type": "markdown",
   "metadata": {},
   "source": [
    "### Dataset import"
   ]
  },
  {
   "cell_type": "code",
   "execution_count": 5,
   "metadata": {
    "id": "fmz0oJi4t6EM"
   },
   "outputs": [],
   "source": [
    "# we import the dataset using pandas\n",
    "df = pd.read_csv('../data/GSM1586785_ScrH-12A_Exd_14mer_cg.csv')"
   ]
  },
  {
   "cell_type": "code",
   "execution_count": 6,
   "metadata": {},
   "outputs": [
    {
     "data": {
      "text/html": [
       "<div>\n",
       "<style scoped>\n",
       "    .dataframe tbody tr th:only-of-type {\n",
       "        vertical-align: middle;\n",
       "    }\n",
       "\n",
       "    .dataframe tbody tr th {\n",
       "        vertical-align: top;\n",
       "    }\n",
       "\n",
       "    .dataframe thead th {\n",
       "        text-align: right;\n",
       "    }\n",
       "</style>\n",
       "<table border=\"1\" class=\"dataframe\">\n",
       "  <thead>\n",
       "    <tr style=\"text-align: right;\">\n",
       "      <th></th>\n",
       "      <th>Unnamed: 0</th>\n",
       "      <th>Kmer</th>\n",
       "      <th>y_1</th>\n",
       "      <th>y_2</th>\n",
       "      <th>y_3</th>\n",
       "      <th>y_4</th>\n",
       "      <th>y_5</th>\n",
       "      <th>y_6</th>\n",
       "      <th>zC_1</th>\n",
       "      <th>zC_2</th>\n",
       "      <th>...</th>\n",
       "      <th>zW_76</th>\n",
       "      <th>zW_77</th>\n",
       "      <th>zW_78</th>\n",
       "      <th>y_79</th>\n",
       "      <th>y_80</th>\n",
       "      <th>y_81</th>\n",
       "      <th>y_82</th>\n",
       "      <th>y_83</th>\n",
       "      <th>y_84</th>\n",
       "      <th>relKa</th>\n",
       "    </tr>\n",
       "  </thead>\n",
       "  <tbody>\n",
       "    <tr>\n",
       "      <th>0</th>\n",
       "      <td>0</td>\n",
       "      <td>AATGATTAATTACC</td>\n",
       "      <td>0.593697</td>\n",
       "      <td>-1.092779</td>\n",
       "      <td>0.309117</td>\n",
       "      <td>0.133525</td>\n",
       "      <td>0.023403</td>\n",
       "      <td>-0.157348</td>\n",
       "      <td>1.177586</td>\n",
       "      <td>-2.166888</td>\n",
       "      <td>...</td>\n",
       "      <td>-0.674709</td>\n",
       "      <td>10.019444</td>\n",
       "      <td>-1.012806</td>\n",
       "      <td>-0.790300</td>\n",
       "      <td>-0.112492</td>\n",
       "      <td>0.118705</td>\n",
       "      <td>0.237596</td>\n",
       "      <td>-0.009713</td>\n",
       "      <td>0.267886</td>\n",
       "      <td>1.000000</td>\n",
       "    </tr>\n",
       "    <tr>\n",
       "      <th>1</th>\n",
       "      <td>1</td>\n",
       "      <td>GGTAATTAATCATT</td>\n",
       "      <td>0.790300</td>\n",
       "      <td>-0.112492</td>\n",
       "      <td>0.118705</td>\n",
       "      <td>-0.237596</td>\n",
       "      <td>-0.009713</td>\n",
       "      <td>0.267886</td>\n",
       "      <td>2.591673</td>\n",
       "      <td>-3.422281</td>\n",
       "      <td>...</td>\n",
       "      <td>-0.986852</td>\n",
       "      <td>9.851130</td>\n",
       "      <td>-1.990198</td>\n",
       "      <td>-0.593697</td>\n",
       "      <td>-1.092779</td>\n",
       "      <td>0.309117</td>\n",
       "      <td>-0.133525</td>\n",
       "      <td>0.023403</td>\n",
       "      <td>-0.157348</td>\n",
       "      <td>1.000000</td>\n",
       "    </tr>\n",
       "    <tr>\n",
       "      <th>2</th>\n",
       "      <td>2</td>\n",
       "      <td>AATGATTAATTACT</td>\n",
       "      <td>0.593690</td>\n",
       "      <td>-1.092780</td>\n",
       "      <td>0.309116</td>\n",
       "      <td>0.133525</td>\n",
       "      <td>0.023403</td>\n",
       "      <td>-0.157348</td>\n",
       "      <td>1.177587</td>\n",
       "      <td>-2.166890</td>\n",
       "      <td>...</td>\n",
       "      <td>-0.839165</td>\n",
       "      <td>10.065669</td>\n",
       "      <td>-1.499679</td>\n",
       "      <td>-0.826872</td>\n",
       "      <td>-1.141872</td>\n",
       "      <td>0.500342</td>\n",
       "      <td>-0.143809</td>\n",
       "      <td>0.043456</td>\n",
       "      <td>0.095141</td>\n",
       "      <td>0.968830</td>\n",
       "    </tr>\n",
       "    <tr>\n",
       "      <th>3</th>\n",
       "      <td>3</td>\n",
       "      <td>AGTAATTAATCATT</td>\n",
       "      <td>0.826872</td>\n",
       "      <td>-1.141872</td>\n",
       "      <td>0.500342</td>\n",
       "      <td>0.143809</td>\n",
       "      <td>0.043456</td>\n",
       "      <td>0.095141</td>\n",
       "      <td>2.137980</td>\n",
       "      <td>-2.777053</td>\n",
       "      <td>...</td>\n",
       "      <td>-0.986851</td>\n",
       "      <td>9.851129</td>\n",
       "      <td>-1.990198</td>\n",
       "      <td>-0.593690</td>\n",
       "      <td>-1.092780</td>\n",
       "      <td>0.309116</td>\n",
       "      <td>-0.133525</td>\n",
       "      <td>0.023403</td>\n",
       "      <td>-0.157348</td>\n",
       "      <td>0.968830</td>\n",
       "    </tr>\n",
       "    <tr>\n",
       "      <th>4</th>\n",
       "      <td>4</td>\n",
       "      <td>AGGTAATTAATCAT</td>\n",
       "      <td>1.260372</td>\n",
       "      <td>-0.870861</td>\n",
       "      <td>0.397555</td>\n",
       "      <td>0.124897</td>\n",
       "      <td>0.053255</td>\n",
       "      <td>0.213696</td>\n",
       "      <td>1.977567</td>\n",
       "      <td>-2.851909</td>\n",
       "      <td>...</td>\n",
       "      <td>-0.960712</td>\n",
       "      <td>9.943948</td>\n",
       "      <td>-1.806082</td>\n",
       "      <td>0.336528</td>\n",
       "      <td>-0.596511</td>\n",
       "      <td>0.184099</td>\n",
       "      <td>-0.075285</td>\n",
       "      <td>0.032807</td>\n",
       "      <td>0.149085</td>\n",
       "      <td>0.968752</td>\n",
       "    </tr>\n",
       "    <tr>\n",
       "      <th>5</th>\n",
       "      <td>5</td>\n",
       "      <td>ATGATTAATTACCT</td>\n",
       "      <td>-0.336528</td>\n",
       "      <td>-0.596511</td>\n",
       "      <td>0.184099</td>\n",
       "      <td>0.075285</td>\n",
       "      <td>0.032807</td>\n",
       "      <td>0.149085</td>\n",
       "      <td>1.689293</td>\n",
       "      <td>-2.713471</td>\n",
       "      <td>...</td>\n",
       "      <td>-0.880962</td>\n",
       "      <td>10.025845</td>\n",
       "      <td>-1.642795</td>\n",
       "      <td>-1.260372</td>\n",
       "      <td>-0.870861</td>\n",
       "      <td>0.397555</td>\n",
       "      <td>-0.124897</td>\n",
       "      <td>0.053255</td>\n",
       "      <td>0.213696</td>\n",
       "      <td>0.968752</td>\n",
       "    </tr>\n",
       "    <tr>\n",
       "      <th>6</th>\n",
       "      <td>6</td>\n",
       "      <td>GAATGATTAATTAC</td>\n",
       "      <td>0.913065</td>\n",
       "      <td>-0.050248</td>\n",
       "      <td>0.143538</td>\n",
       "      <td>-0.223040</td>\n",
       "      <td>0.018513</td>\n",
       "      <td>0.150335</td>\n",
       "      <td>1.664473</td>\n",
       "      <td>-2.791084</td>\n",
       "      <td>...</td>\n",
       "      <td>-1.250065</td>\n",
       "      <td>9.932713</td>\n",
       "      <td>-1.650592</td>\n",
       "      <td>0.378019</td>\n",
       "      <td>-0.119601</td>\n",
       "      <td>0.143364</td>\n",
       "      <td>0.200255</td>\n",
       "      <td>-0.000247</td>\n",
       "      <td>0.258814</td>\n",
       "      <td>0.962931</td>\n",
       "    </tr>\n",
       "    <tr>\n",
       "      <th>7</th>\n",
       "      <td>7</td>\n",
       "      <td>GTAATTAATCATTC</td>\n",
       "      <td>-0.378019</td>\n",
       "      <td>-0.119601</td>\n",
       "      <td>0.143364</td>\n",
       "      <td>-0.200255</td>\n",
       "      <td>-0.000247</td>\n",
       "      <td>0.258814</td>\n",
       "      <td>0.834275</td>\n",
       "      <td>-1.606688</td>\n",
       "      <td>...</td>\n",
       "      <td>-0.909342</td>\n",
       "      <td>9.914885</td>\n",
       "      <td>-1.620308</td>\n",
       "      <td>-0.913065</td>\n",
       "      <td>-0.050248</td>\n",
       "      <td>0.143538</td>\n",
       "      <td>0.223040</td>\n",
       "      <td>0.018513</td>\n",
       "      <td>0.150335</td>\n",
       "      <td>0.962931</td>\n",
       "    </tr>\n",
       "    <tr>\n",
       "      <th>8</th>\n",
       "      <td>8</td>\n",
       "      <td>AAGTAATTAATCAT</td>\n",
       "      <td>1.120371</td>\n",
       "      <td>-1.103292</td>\n",
       "      <td>0.321935</td>\n",
       "      <td>0.118111</td>\n",
       "      <td>0.038891</td>\n",
       "      <td>-0.068592</td>\n",
       "      <td>1.112401</td>\n",
       "      <td>-2.117575</td>\n",
       "      <td>...</td>\n",
       "      <td>-0.960720</td>\n",
       "      <td>9.943946</td>\n",
       "      <td>-1.806092</td>\n",
       "      <td>0.336478</td>\n",
       "      <td>-0.596498</td>\n",
       "      <td>0.184103</td>\n",
       "      <td>-0.075283</td>\n",
       "      <td>0.032807</td>\n",
       "      <td>0.149103</td>\n",
       "      <td>0.962317</td>\n",
       "    </tr>\n",
       "    <tr>\n",
       "      <th>9</th>\n",
       "      <td>9</td>\n",
       "      <td>ATGATTAATTACTT</td>\n",
       "      <td>-0.336478</td>\n",
       "      <td>-0.596498</td>\n",
       "      <td>0.184103</td>\n",
       "      <td>0.075283</td>\n",
       "      <td>0.032807</td>\n",
       "      <td>0.149103</td>\n",
       "      <td>1.689279</td>\n",
       "      <td>-2.713457</td>\n",
       "      <td>...</td>\n",
       "      <td>-1.116182</td>\n",
       "      <td>9.884140</td>\n",
       "      <td>-2.053728</td>\n",
       "      <td>-1.120371</td>\n",
       "      <td>-1.103292</td>\n",
       "      <td>0.321935</td>\n",
       "      <td>-0.118111</td>\n",
       "      <td>0.038891</td>\n",
       "      <td>-0.068592</td>\n",
       "      <td>0.962317</td>\n",
       "    </tr>\n",
       "  </tbody>\n",
       "</table>\n",
       "<p>10 rows × 321 columns</p>\n",
       "</div>"
      ],
      "text/plain": [
       "   Unnamed: 0            Kmer       y_1       y_2       y_3       y_4  \\\n",
       "0           0  AATGATTAATTACC  0.593697 -1.092779  0.309117  0.133525   \n",
       "1           1  GGTAATTAATCATT  0.790300 -0.112492  0.118705 -0.237596   \n",
       "2           2  AATGATTAATTACT  0.593690 -1.092780  0.309116  0.133525   \n",
       "3           3  AGTAATTAATCATT  0.826872 -1.141872  0.500342  0.143809   \n",
       "4           4  AGGTAATTAATCAT  1.260372 -0.870861  0.397555  0.124897   \n",
       "5           5  ATGATTAATTACCT -0.336528 -0.596511  0.184099  0.075285   \n",
       "6           6  GAATGATTAATTAC  0.913065 -0.050248  0.143538 -0.223040   \n",
       "7           7  GTAATTAATCATTC -0.378019 -0.119601  0.143364 -0.200255   \n",
       "8           8  AAGTAATTAATCAT  1.120371 -1.103292  0.321935  0.118111   \n",
       "9           9  ATGATTAATTACTT -0.336478 -0.596498  0.184103  0.075283   \n",
       "\n",
       "        y_5       y_6      zC_1      zC_2  ...     zW_76      zW_77     zW_78  \\\n",
       "0  0.023403 -0.157348  1.177586 -2.166888  ... -0.674709  10.019444 -1.012806   \n",
       "1 -0.009713  0.267886  2.591673 -3.422281  ... -0.986852   9.851130 -1.990198   \n",
       "2  0.023403 -0.157348  1.177587 -2.166890  ... -0.839165  10.065669 -1.499679   \n",
       "3  0.043456  0.095141  2.137980 -2.777053  ... -0.986851   9.851129 -1.990198   \n",
       "4  0.053255  0.213696  1.977567 -2.851909  ... -0.960712   9.943948 -1.806082   \n",
       "5  0.032807  0.149085  1.689293 -2.713471  ... -0.880962  10.025845 -1.642795   \n",
       "6  0.018513  0.150335  1.664473 -2.791084  ... -1.250065   9.932713 -1.650592   \n",
       "7 -0.000247  0.258814  0.834275 -1.606688  ... -0.909342   9.914885 -1.620308   \n",
       "8  0.038891 -0.068592  1.112401 -2.117575  ... -0.960720   9.943946 -1.806092   \n",
       "9  0.032807  0.149103  1.689279 -2.713457  ... -1.116182   9.884140 -2.053728   \n",
       "\n",
       "       y_79      y_80      y_81      y_82      y_83      y_84     relKa  \n",
       "0 -0.790300 -0.112492  0.118705  0.237596 -0.009713  0.267886  1.000000  \n",
       "1 -0.593697 -1.092779  0.309117 -0.133525  0.023403 -0.157348  1.000000  \n",
       "2 -0.826872 -1.141872  0.500342 -0.143809  0.043456  0.095141  0.968830  \n",
       "3 -0.593690 -1.092780  0.309116 -0.133525  0.023403 -0.157348  0.968830  \n",
       "4  0.336528 -0.596511  0.184099 -0.075285  0.032807  0.149085  0.968752  \n",
       "5 -1.260372 -0.870861  0.397555 -0.124897  0.053255  0.213696  0.968752  \n",
       "6  0.378019 -0.119601  0.143364  0.200255 -0.000247  0.258814  0.962931  \n",
       "7 -0.913065 -0.050248  0.143538  0.223040  0.018513  0.150335  0.962931  \n",
       "8  0.336478 -0.596498  0.184103 -0.075283  0.032807  0.149103  0.962317  \n",
       "9 -1.120371 -1.103292  0.321935 -0.118111  0.038891 -0.068592  0.962317  \n",
       "\n",
       "[10 rows x 321 columns]"
      ]
     },
     "execution_count": 6,
     "metadata": {},
     "output_type": "execute_result"
    }
   ],
   "source": [
    "# we visualize the first ten rows of our dataframe\n",
    "df.head(10)"
   ]
  },
  {
   "cell_type": "markdown",
   "metadata": {},
   "source": [
    "The dataframe has 321 columns, the column \"Unnamed:0\" corresponds clearly to the indices of our dataframe so it doesn't carry any additional information (we will drop it soon), the column \"Kmer\" contains the DNA sequences corresponding to each datapoint (a protein). The column \"relKa\" represents the probability that the protein is a binding site or not and it is a number from zero to one coming from experiments. Finally, the other columns are mechanical properties of the protein."
   ]
  },
  {
   "cell_type": "code",
   "execution_count": 7,
   "metadata": {},
   "outputs": [
    {
     "data": {
      "image/png": "[encoded data removed]",
      "text/plain": [
       "<Figure size 842.4x595.44 with 1 Axes>"
      ]
     },
     "metadata": {},
     "output_type": "display_data"
    }
   ],
   "source": [
    "# we plot the distribution of the target label\n",
    "\n",
    "sns.set(font_scale=2)\n",
    "p = sns.histplot(data = df.relKa, kde=True)\n",
    "p.set_xlabel(\"relKa\", fontsize = 25) ## we want the labels to be big because we will use this plots in the report\n",
    "p.set_ylabel(\"Count\", fontsize = 25)\n",
    "plt.show()"
   ]
  },
  {
   "cell_type": "markdown",
   "metadata": {},
   "source": [
    "As we can observe the distribution is very skewed. Indeed, there are very few datapoints with a relKa bigger than 0.7. This makes our task quite hard since it is hard for a machine learning model to learn in the range of relKas between 0.7 and 1 because we have few datapoints in that range."
   ]
  },
  {
   "cell_type": "code",
   "execution_count": 8,
   "metadata": {},
   "outputs": [],
   "source": [
    "df.drop(columns = 'Unnamed: 0', inplace = True) # we drop the column with the indices\n",
    "df.drop(columns = 'Kmer', inplace = True) # we drop the column with DNA sequences"
   ]
  },
  {
   "cell_type": "markdown",
   "metadata": {},
   "source": [
    "We also tried to encode the DNA sequence instead of dropping with one hot encoding or sequential encoding but the final results were slightly worse."
   ]
  },
  {
   "cell_type": "markdown",
   "metadata": {},
   "source": [
    "### Splitting the dataset"
   ]
  },
  {
   "cell_type": "code",
   "execution_count": 9,
   "metadata": {
    "id": "vFegf1D7t78G"
   },
   "outputs": [],
   "source": [
    "# we divide our dataset in y labels and x label\n",
    "\n",
    "y = df['relKa'].to_numpy()\n",
    "x = df.loc[:, df.columns != 'relKa'].to_numpy()"
   ]
  },
  {
   "cell_type": "code",
   "execution_count": 10,
   "metadata": {
    "id": "UuXU1lLfoAy1"
   },
   "outputs": [],
   "source": [
    "# we split the x and y in x_0, x_1, y_0, y_1 where x_0 are all the features of the points with relka between 0 and 0.7, \n",
    "# x_1 are all the features of the points with relka between 0.7 and 1 and y_0,y_1 are the relKa corresponding to the two groups\n",
    "# respectively\n",
    "\n",
    "\n",
    "x_1,y_1,x_0,y_0 = split_importance(x,y)"
   ]
  },
  {
   "cell_type": "code",
   "execution_count": 11,
   "metadata": {
    "id": "wnZYvVZuoEXN"
   },
   "outputs": [],
   "source": [
    "# split the two classes seperately into train and test set to ensure representation of the minority class\n",
    "# both in the test set and in the train set\n",
    "x_1_train, x_1_test, y_1_train, y_1_test = train_test_split(x_1, y_1, test_size=0.3, random_state=42)\n",
    "x_0_train, x_0_test, y_0_train, y_0_test = train_test_split(x_0, y_0, test_size=0.3, random_state=42) # fede aveva messo 0.4\n",
    "\n",
    "x_train = np.concatenate((x_1_train, x_0_train))\n",
    "y_train = np.concatenate((y_1_train, y_0_train))\n",
    "x_test = np.concatenate((x_1_test, x_0_test))\n",
    "y_test = np.concatenate((y_1_test, y_0_test))"
   ]
  },
  {
   "cell_type": "markdown",
   "metadata": {},
   "source": [
    "### Outliers remotion"
   ]
  },
  {
   "cell_type": "code",
   "execution_count": 12,
   "metadata": {
    "colab": {
     "base_uri": "https://localhost:8080/",
     "height": 300
    },
    "id": "HCZIu9xH9RF0",
    "outputId": "0ba68b03-115d-44ef-ef3a-08a5ab5a1de8"
   },
   "outputs": [
    {
     "data": {
      "image/png": "[encoded data removed]",
      "text/plain": [
       "<Figure size 842.4x595.44 with 1 Axes>"
      ]
     },
     "metadata": {},
     "output_type": "display_data"
    },
    {
     "name": "stdout",
     "output_type": "stream",
     "text": [
      "The indecision percentage around 0.02 is 0.47895415640755074\n",
      "The percentage of outliers detected is 0.06591796057149557\n"
     ]
    }
   ],
   "source": [
    "# we apply the algorithm for outliers remotion\n",
    "contamination, scores, outliers_indices = Anomaly_Detection_Isolation_Forests(x_train, change_split=False)\n",
    "\n",
    "# we check that the algorithm is working properly\n",
    "check_Isolation_Forests(contamination, outliers_indices, y_train)\n",
    "\n",
    "# we plot the distribution of the scores\n",
    "check_boundary_decision(scores, 0.02, verbose=1)"
   ]
  },
  {
   "cell_type": "code",
   "execution_count": 13,
   "metadata": {
    "id": "wH_dVT6vyuhS"
   },
   "outputs": [],
   "source": [
    "# we drop the outliers\n",
    "x_train, y_train = drop_outliers(x_train, y_train, outliers_indices)"
   ]
  },
  {
   "cell_type": "markdown",
   "metadata": {},
   "source": [
    "### Features scaling"
   ]
  },
  {
   "cell_type": "code",
   "execution_count": 14,
   "metadata": {
    "id": "vO7-bhBsoMWO"
   },
   "outputs": [],
   "source": [
    "# we create a scaler\n",
    "sc = StandardScaler()\n",
    "\n",
    "# we fit and scale on the train (we work with the mean and the std of the train)\n",
    "x_train = sc.fit_transform(x_train)\n",
    "\n",
    "# we use the same scaler (same mean and same std to scale the validation and the test set)\n",
    "x_test = sc.transform(x_test)"
   ]
  },
  {
   "cell_type": "markdown",
   "metadata": {},
   "source": [
    "### Create the labels"
   ]
  },
  {
   "cell_type": "code",
   "execution_count": 15,
   "metadata": {
    "id": "l7n7FedHrOpn"
   },
   "outputs": [],
   "source": [
    "## Now we transform the RelKa in labels:\n",
    "\n",
    "# The relKa values belonging to [0.7,1] will be labelled as 1\n",
    "# The relKa values belonging to [0,0.7] will be labelled as 0\n",
    "\n",
    "y_train = split_RelKa(y_train, 0.7)\n",
    "y_test = split_RelKa(y_test, 0.7)"
   ]
  },
  {
   "cell_type": "markdown",
   "metadata": {},
   "source": [
    "### Sampling"
   ]
  },
  {
   "cell_type": "code",
   "execution_count": null,
   "metadata": {},
   "outputs": [],
   "source": [
    "x_train, y_train = smote_sf_classification(x_train, y_train)"
   ]
  },
  {
   "cell_type": "markdown",
   "metadata": {},
   "source": [
    "### Training"
   ]
  },
  {
   "cell_type": "code",
   "execution_count": null,
   "metadata": {
    "colab": {
     "base_uri": "https://localhost:8080/"
    },
    "id": "SxCPGlQVr7Od",
    "outputId": "dcded155-f319-4fac-b21e-102716e6d5b5"
   },
   "outputs": [],
   "source": [
    "clf = RandomForestClassifier(n_estimators = 150, min_samples_split = 2, min_samples_leaf = 1)\n",
    "clf.fit(x_train, y_train)\n",
    "y_pred = clf.predict(x_test)\n",
    "return_accuracy(y_test, y_pred, verbose=1)"
   ]
  },
  {
   "cell_type": "code",
   "execution_count": null,
   "metadata": {},
   "outputs": [],
   "source": []
  }
 ],
 "metadata": {
  "colab": {
   "collapsed_sections": [],
   "name": "Best_Run.ipynb",
   "provenance": []
  },
  "kernelspec": {
   "display_name": "Python 3 (ipykernel)",
   "language": "python",
   "name": "python3"
  },
  "language_info": {
   "codemirror_mode": {
    "name": "ipython",
    "version": 3
   },
   "file_extension": ".py",
   "mimetype": "text/x-python",
   "name": "python",
   "nbconvert_exporter": "python",
   "pygments_lexer": "ipython3",
   "version": "3.8.8"
  }
 },
 "nbformat": 4,
 "nbformat_minor": 1
}
