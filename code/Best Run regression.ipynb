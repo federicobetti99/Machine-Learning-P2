{
 "cells": [
  {
   "cell_type": "code",
   "execution_count": 18,
   "id": "3b6b5eb6",
   "metadata": {},
   "outputs": [],
   "source": [
    "# for dealing with data\n",
    "import pandas as pd\n",
    "import numpy as np\n",
    "\n",
    "#for visualization\n",
    "import matplotlib\n",
    "from matplotlib import pyplot as plt\n",
    "import seaborn as sns\n",
    "\n",
    "\n",
    "#machine learning libraries\n",
    "from sklearn.preprocessing import StandardScaler\n",
    "from sklearn.model_selection import train_test_split\n",
    "from xgboost import XGBRegressor\n",
    "from sklearn.metrics import mean_squared_error as MSE\n",
    "from sklearn.model_selection import RandomizedSearchCV\n",
    "from sklearn.metrics import make_scorer\n",
    "from sklearn.model_selection import PredefinedSplit\n",
    "\n",
    "#for mathematics and statistics\n",
    "import math\n",
    "from scipy import stats\n",
    "import scipy as sci\n",
    "from scipy.spatial.distance import minkowski\n",
    "from scipy.stats import spearmanr\n",
    "\n",
    "# helpers file\n",
    "from preprocessing_helper import *\n",
    "from sampling_helper import *\n",
    "from metrics_helper import *\n",
    "\n",
    "\n",
    "#to mount google drive later\n",
    "#from google.colab import drive\n",
    "\n",
    "\n",
    "sns.set(rc={'figure.figsize':(11.7,8.27)})"
   ]
  },
  {
   "cell_type": "code",
   "execution_count": 2,
   "id": "6e1375e3",
   "metadata": {},
   "outputs": [],
   "source": [
    "\n",
    "#Mount  Google Drive\n",
    "#drive.mount('/content/drive')\n",
    "#%cd drive/My\\ Drive/Colab\\ Notebooks/ML\\ Project2"
   ]
  },
  {
   "cell_type": "markdown",
   "id": "0a2c78b2",
   "metadata": {},
   "source": [
    "# Preprocessing"
   ]
  },
  {
   "cell_type": "markdown",
   "id": "2b2f9206",
   "metadata": {},
   "source": [
    "### Dataset import"
   ]
  },
  {
   "cell_type": "code",
   "execution_count": 3,
   "id": "48912c27",
   "metadata": {},
   "outputs": [],
   "source": [
    "# we import the dataset using pandas\n",
    "df = pd.read_csv('data/GSM1586785_ScrH-12A_Exd_14mer_cg.csv')"
   ]
  },
  {
   "cell_type": "code",
   "execution_count": 4,
   "id": "5346e913",
   "metadata": {},
   "outputs": [
    {
     "data": {
      "text/html": [
       "<div>\n",
       "<style scoped>\n",
       "    .dataframe tbody tr th:only-of-type {\n",
       "        vertical-align: middle;\n",
       "    }\n",
       "\n",
       "    .dataframe tbody tr th {\n",
       "        vertical-align: top;\n",
       "    }\n",
       "\n",
       "    .dataframe thead th {\n",
       "        text-align: right;\n",
       "    }\n",
       "</style>\n",
       "<table border=\"1\" class=\"dataframe\">\n",
       "  <thead>\n",
       "    <tr style=\"text-align: right;\">\n",
       "      <th></th>\n",
       "      <th>Unnamed: 0</th>\n",
       "      <th>Kmer</th>\n",
       "      <th>y_1</th>\n",
       "      <th>y_2</th>\n",
       "      <th>y_3</th>\n",
       "      <th>y_4</th>\n",
       "      <th>y_5</th>\n",
       "      <th>y_6</th>\n",
       "      <th>zC_1</th>\n",
       "      <th>zC_2</th>\n",
       "      <th>...</th>\n",
       "      <th>zW_76</th>\n",
       "      <th>zW_77</th>\n",
       "      <th>zW_78</th>\n",
       "      <th>y_79</th>\n",
       "      <th>y_80</th>\n",
       "      <th>y_81</th>\n",
       "      <th>y_82</th>\n",
       "      <th>y_83</th>\n",
       "      <th>y_84</th>\n",
       "      <th>relKa</th>\n",
       "    </tr>\n",
       "  </thead>\n",
       "  <tbody>\n",
       "    <tr>\n",
       "      <th>0</th>\n",
       "      <td>0</td>\n",
       "      <td>AATGATTAATTACC</td>\n",
       "      <td>0.593697</td>\n",
       "      <td>-1.092779</td>\n",
       "      <td>0.309117</td>\n",
       "      <td>0.133525</td>\n",
       "      <td>0.023403</td>\n",
       "      <td>-0.157348</td>\n",
       "      <td>1.177586</td>\n",
       "      <td>-2.166888</td>\n",
       "      <td>...</td>\n",
       "      <td>-0.674709</td>\n",
       "      <td>10.019444</td>\n",
       "      <td>-1.012806</td>\n",
       "      <td>-0.790300</td>\n",
       "      <td>-0.112492</td>\n",
       "      <td>0.118705</td>\n",
       "      <td>0.237596</td>\n",
       "      <td>-0.009713</td>\n",
       "      <td>0.267886</td>\n",
       "      <td>1.000000</td>\n",
       "    </tr>\n",
       "    <tr>\n",
       "      <th>1</th>\n",
       "      <td>1</td>\n",
       "      <td>GGTAATTAATCATT</td>\n",
       "      <td>0.790300</td>\n",
       "      <td>-0.112492</td>\n",
       "      <td>0.118705</td>\n",
       "      <td>-0.237596</td>\n",
       "      <td>-0.009713</td>\n",
       "      <td>0.267886</td>\n",
       "      <td>2.591673</td>\n",
       "      <td>-3.422281</td>\n",
       "      <td>...</td>\n",
       "      <td>-0.986852</td>\n",
       "      <td>9.851130</td>\n",
       "      <td>-1.990198</td>\n",
       "      <td>-0.593697</td>\n",
       "      <td>-1.092779</td>\n",
       "      <td>0.309117</td>\n",
       "      <td>-0.133525</td>\n",
       "      <td>0.023403</td>\n",
       "      <td>-0.157348</td>\n",
       "      <td>1.000000</td>\n",
       "    </tr>\n",
       "    <tr>\n",
       "      <th>2</th>\n",
       "      <td>2</td>\n",
       "      <td>AATGATTAATTACT</td>\n",
       "      <td>0.593690</td>\n",
       "      <td>-1.092780</td>\n",
       "      <td>0.309116</td>\n",
       "      <td>0.133525</td>\n",
       "      <td>0.023403</td>\n",
       "      <td>-0.157348</td>\n",
       "      <td>1.177587</td>\n",
       "      <td>-2.166890</td>\n",
       "      <td>...</td>\n",
       "      <td>-0.839165</td>\n",
       "      <td>10.065669</td>\n",
       "      <td>-1.499679</td>\n",
       "      <td>-0.826872</td>\n",
       "      <td>-1.141872</td>\n",
       "      <td>0.500342</td>\n",
       "      <td>-0.143809</td>\n",
       "      <td>0.043456</td>\n",
       "      <td>0.095141</td>\n",
       "      <td>0.968830</td>\n",
       "    </tr>\n",
       "    <tr>\n",
       "      <th>3</th>\n",
       "      <td>3</td>\n",
       "      <td>AGTAATTAATCATT</td>\n",
       "      <td>0.826872</td>\n",
       "      <td>-1.141872</td>\n",
       "      <td>0.500342</td>\n",
       "      <td>0.143809</td>\n",
       "      <td>0.043456</td>\n",
       "      <td>0.095141</td>\n",
       "      <td>2.137980</td>\n",
       "      <td>-2.777053</td>\n",
       "      <td>...</td>\n",
       "      <td>-0.986851</td>\n",
       "      <td>9.851129</td>\n",
       "      <td>-1.990198</td>\n",
       "      <td>-0.593690</td>\n",
       "      <td>-1.092780</td>\n",
       "      <td>0.309116</td>\n",
       "      <td>-0.133525</td>\n",
       "      <td>0.023403</td>\n",
       "      <td>-0.157348</td>\n",
       "      <td>0.968830</td>\n",
       "    </tr>\n",
       "    <tr>\n",
       "      <th>4</th>\n",
       "      <td>4</td>\n",
       "      <td>AGGTAATTAATCAT</td>\n",
       "      <td>1.260372</td>\n",
       "      <td>-0.870861</td>\n",
       "      <td>0.397555</td>\n",
       "      <td>0.124897</td>\n",
       "      <td>0.053255</td>\n",
       "      <td>0.213696</td>\n",
       "      <td>1.977567</td>\n",
       "      <td>-2.851909</td>\n",
       "      <td>...</td>\n",
       "      <td>-0.960712</td>\n",
       "      <td>9.943948</td>\n",
       "      <td>-1.806082</td>\n",
       "      <td>0.336528</td>\n",
       "      <td>-0.596511</td>\n",
       "      <td>0.184099</td>\n",
       "      <td>-0.075285</td>\n",
       "      <td>0.032807</td>\n",
       "      <td>0.149085</td>\n",
       "      <td>0.968752</td>\n",
       "    </tr>\n",
       "    <tr>\n",
       "      <th>5</th>\n",
       "      <td>5</td>\n",
       "      <td>ATGATTAATTACCT</td>\n",
       "      <td>-0.336528</td>\n",
       "      <td>-0.596511</td>\n",
       "      <td>0.184099</td>\n",
       "      <td>0.075285</td>\n",
       "      <td>0.032807</td>\n",
       "      <td>0.149085</td>\n",
       "      <td>1.689293</td>\n",
       "      <td>-2.713471</td>\n",
       "      <td>...</td>\n",
       "      <td>-0.880962</td>\n",
       "      <td>10.025845</td>\n",
       "      <td>-1.642795</td>\n",
       "      <td>-1.260372</td>\n",
       "      <td>-0.870861</td>\n",
       "      <td>0.397555</td>\n",
       "      <td>-0.124897</td>\n",
       "      <td>0.053255</td>\n",
       "      <td>0.213696</td>\n",
       "      <td>0.968752</td>\n",
       "    </tr>\n",
       "    <tr>\n",
       "      <th>6</th>\n",
       "      <td>6</td>\n",
       "      <td>GAATGATTAATTAC</td>\n",
       "      <td>0.913065</td>\n",
       "      <td>-0.050248</td>\n",
       "      <td>0.143538</td>\n",
       "      <td>-0.223040</td>\n",
       "      <td>0.018513</td>\n",
       "      <td>0.150335</td>\n",
       "      <td>1.664473</td>\n",
       "      <td>-2.791084</td>\n",
       "      <td>...</td>\n",
       "      <td>-1.250065</td>\n",
       "      <td>9.932713</td>\n",
       "      <td>-1.650592</td>\n",
       "      <td>0.378019</td>\n",
       "      <td>-0.119601</td>\n",
       "      <td>0.143364</td>\n",
       "      <td>0.200255</td>\n",
       "      <td>-0.000247</td>\n",
       "      <td>0.258814</td>\n",
       "      <td>0.962931</td>\n",
       "    </tr>\n",
       "    <tr>\n",
       "      <th>7</th>\n",
       "      <td>7</td>\n",
       "      <td>GTAATTAATCATTC</td>\n",
       "      <td>-0.378019</td>\n",
       "      <td>-0.119601</td>\n",
       "      <td>0.143364</td>\n",
       "      <td>-0.200255</td>\n",
       "      <td>-0.000247</td>\n",
       "      <td>0.258814</td>\n",
       "      <td>0.834275</td>\n",
       "      <td>-1.606688</td>\n",
       "      <td>...</td>\n",
       "      <td>-0.909342</td>\n",
       "      <td>9.914885</td>\n",
       "      <td>-1.620308</td>\n",
       "      <td>-0.913065</td>\n",
       "      <td>-0.050248</td>\n",
       "      <td>0.143538</td>\n",
       "      <td>0.223040</td>\n",
       "      <td>0.018513</td>\n",
       "      <td>0.150335</td>\n",
       "      <td>0.962931</td>\n",
       "    </tr>\n",
       "    <tr>\n",
       "      <th>8</th>\n",
       "      <td>8</td>\n",
       "      <td>AAGTAATTAATCAT</td>\n",
       "      <td>1.120371</td>\n",
       "      <td>-1.103292</td>\n",
       "      <td>0.321935</td>\n",
       "      <td>0.118111</td>\n",
       "      <td>0.038891</td>\n",
       "      <td>-0.068592</td>\n",
       "      <td>1.112401</td>\n",
       "      <td>-2.117575</td>\n",
       "      <td>...</td>\n",
       "      <td>-0.960720</td>\n",
       "      <td>9.943946</td>\n",
       "      <td>-1.806092</td>\n",
       "      <td>0.336478</td>\n",
       "      <td>-0.596498</td>\n",
       "      <td>0.184103</td>\n",
       "      <td>-0.075283</td>\n",
       "      <td>0.032807</td>\n",
       "      <td>0.149103</td>\n",
       "      <td>0.962317</td>\n",
       "    </tr>\n",
       "    <tr>\n",
       "      <th>9</th>\n",
       "      <td>9</td>\n",
       "      <td>ATGATTAATTACTT</td>\n",
       "      <td>-0.336478</td>\n",
       "      <td>-0.596498</td>\n",
       "      <td>0.184103</td>\n",
       "      <td>0.075283</td>\n",
       "      <td>0.032807</td>\n",
       "      <td>0.149103</td>\n",
       "      <td>1.689279</td>\n",
       "      <td>-2.713457</td>\n",
       "      <td>...</td>\n",
       "      <td>-1.116182</td>\n",
       "      <td>9.884140</td>\n",
       "      <td>-2.053728</td>\n",
       "      <td>-1.120371</td>\n",
       "      <td>-1.103292</td>\n",
       "      <td>0.321935</td>\n",
       "      <td>-0.118111</td>\n",
       "      <td>0.038891</td>\n",
       "      <td>-0.068592</td>\n",
       "      <td>0.962317</td>\n",
       "    </tr>\n",
       "  </tbody>\n",
       "</table>\n",
       "<p>10 rows × 321 columns</p>\n",
       "</div>"
      ],
      "text/plain": [
       "   Unnamed: 0            Kmer       y_1       y_2       y_3       y_4  \\\n",
       "0           0  AATGATTAATTACC  0.593697 -1.092779  0.309117  0.133525   \n",
       "1           1  GGTAATTAATCATT  0.790300 -0.112492  0.118705 -0.237596   \n",
       "2           2  AATGATTAATTACT  0.593690 -1.092780  0.309116  0.133525   \n",
       "3           3  AGTAATTAATCATT  0.826872 -1.141872  0.500342  0.143809   \n",
       "4           4  AGGTAATTAATCAT  1.260372 -0.870861  0.397555  0.124897   \n",
       "5           5  ATGATTAATTACCT -0.336528 -0.596511  0.184099  0.075285   \n",
       "6           6  GAATGATTAATTAC  0.913065 -0.050248  0.143538 -0.223040   \n",
       "7           7  GTAATTAATCATTC -0.378019 -0.119601  0.143364 -0.200255   \n",
       "8           8  AAGTAATTAATCAT  1.120371 -1.103292  0.321935  0.118111   \n",
       "9           9  ATGATTAATTACTT -0.336478 -0.596498  0.184103  0.075283   \n",
       "\n",
       "        y_5       y_6      zC_1      zC_2  ...     zW_76      zW_77     zW_78  \\\n",
       "0  0.023403 -0.157348  1.177586 -2.166888  ... -0.674709  10.019444 -1.012806   \n",
       "1 -0.009713  0.267886  2.591673 -3.422281  ... -0.986852   9.851130 -1.990198   \n",
       "2  0.023403 -0.157348  1.177587 -2.166890  ... -0.839165  10.065669 -1.499679   \n",
       "3  0.043456  0.095141  2.137980 -2.777053  ... -0.986851   9.851129 -1.990198   \n",
       "4  0.053255  0.213696  1.977567 -2.851909  ... -0.960712   9.943948 -1.806082   \n",
       "5  0.032807  0.149085  1.689293 -2.713471  ... -0.880962  10.025845 -1.642795   \n",
       "6  0.018513  0.150335  1.664473 -2.791084  ... -1.250065   9.932713 -1.650592   \n",
       "7 -0.000247  0.258814  0.834275 -1.606688  ... -0.909342   9.914885 -1.620308   \n",
       "8  0.038891 -0.068592  1.112401 -2.117575  ... -0.960720   9.943946 -1.806092   \n",
       "9  0.032807  0.149103  1.689279 -2.713457  ... -1.116182   9.884140 -2.053728   \n",
       "\n",
       "       y_79      y_80      y_81      y_82      y_83      y_84     relKa  \n",
       "0 -0.790300 -0.112492  0.118705  0.237596 -0.009713  0.267886  1.000000  \n",
       "1 -0.593697 -1.092779  0.309117 -0.133525  0.023403 -0.157348  1.000000  \n",
       "2 -0.826872 -1.141872  0.500342 -0.143809  0.043456  0.095141  0.968830  \n",
       "3 -0.593690 -1.092780  0.309116 -0.133525  0.023403 -0.157348  0.968830  \n",
       "4  0.336528 -0.596511  0.184099 -0.075285  0.032807  0.149085  0.968752  \n",
       "5 -1.260372 -0.870861  0.397555 -0.124897  0.053255  0.213696  0.968752  \n",
       "6  0.378019 -0.119601  0.143364  0.200255 -0.000247  0.258814  0.962931  \n",
       "7 -0.913065 -0.050248  0.143538  0.223040  0.018513  0.150335  0.962931  \n",
       "8  0.336478 -0.596498  0.184103 -0.075283  0.032807  0.149103  0.962317  \n",
       "9 -1.120371 -1.103292  0.321935 -0.118111  0.038891 -0.068592  0.962317  \n",
       "\n",
       "[10 rows x 321 columns]"
      ]
     },
     "execution_count": 4,
     "metadata": {},
     "output_type": "execute_result"
    }
   ],
   "source": [
    "# we visualize the first ten rows of our dataframe\n",
    "df.head(10)"
   ]
  },
  {
   "cell_type": "markdown",
   "id": "7de15493",
   "metadata": {},
   "source": [
    "The dataframe has 321 columns, the column \"Unnamed:0\" corresponds clearly to the indices of our dataframe so it doesn't carry any additional information (we will drop it soon), the column \"Kmer\" contains the DNA sequences corresponding to each datapoint (a protein). The column \"relKa\" represents the probability that the protein is a binding site or not and it is a number from zero to one coming from experiments. Finally, the other columns are mechanical properties of the protein."
   ]
  },
  {
   "cell_type": "code",
   "execution_count": 5,
   "id": "858e0f10",
   "metadata": {},
   "outputs": [
    {
     "data": {
      "image/png": "[encoded data removed]",
      "text/plain": [
       "<Figure size 842.4x595.44 with 1 Axes>"
      ]
     },
     "metadata": {},
     "output_type": "display_data"
    }
   ],
   "source": [
    "# we plot the distribution of the target label\n",
    "\n",
    "sns.set(font_scale=2)\n",
    "p = sns.histplot(data = df.relKa, kde=True)\n",
    "p.set_xlabel(\"relKa\", fontsize = 25) ## we want the labels to be big because we will use this plots in the report\n",
    "p.set_ylabel(\"Count\", fontsize = 25)\n",
    "plt.show()"
   ]
  },
  {
   "cell_type": "markdown",
   "id": "9cf08341",
   "metadata": {},
   "source": [
    "As we can observe the distribution is very skewed. Indeed, there are very few datapoints with a relKa bigger than 0.7. This makes our task quite hard since it is hard for a machine learning model to learn in the range of relKas between 0.7 and 1 because we have few datapoints in that range."
   ]
  },
  {
   "cell_type": "code",
   "execution_count": 6,
   "id": "eb3e5fbd",
   "metadata": {},
   "outputs": [],
   "source": [
    "df.drop(columns = 'Unnamed: 0', inplace = True) # we drop the column with the indices\n",
    "df.drop(columns = 'Kmer', inplace = True) # we drop the column with DNA sequences"
   ]
  },
  {
   "cell_type": "markdown",
   "id": "bfa66eb7",
   "metadata": {},
   "source": [
    "We also tried to encode the DNA sequence instead of dropping with one hot encoding or sequential encoding but the final results were slightly worse."
   ]
  },
  {
   "cell_type": "markdown",
   "id": "cb3801e2",
   "metadata": {},
   "source": [
    "### Splitting the dataset"
   ]
  },
  {
   "cell_type": "code",
   "execution_count": 7,
   "id": "4b6ce181",
   "metadata": {},
   "outputs": [],
   "source": [
    "# we divide our dataset in y labels and x label\n",
    "\n",
    "y = df['relKa'].to_numpy()\n",
    "x = df.loc[:, df.columns != 'relKa'].to_numpy()"
   ]
  },
  {
   "cell_type": "code",
   "execution_count": 8,
   "id": "20521245",
   "metadata": {},
   "outputs": [],
   "source": [
    "# we split the x and y in x_0, x_1, y_0, y_1 where x_0 are all the features of the points with relka between 0 and 0.7, \n",
    "# x_1 are all the features of the points with relka between 0.7 and 1 and y_0,y_1 are the relKa corresponding to the two groups\n",
    "# respectively\n",
    "\n",
    "\n",
    "x_1,y_1,x_0,y_0 = split_importance(x,y)"
   ]
  },
  {
   "cell_type": "markdown",
   "id": "e0785686",
   "metadata": {},
   "source": [
    "We split by classes because we would like to have a training set, a validation set and a test set as representative as possible of both the classes."
   ]
  },
  {
   "cell_type": "code",
   "execution_count": 9,
   "id": "7f0a0c6a",
   "metadata": {},
   "outputs": [],
   "source": [
    "# split the two classes seperately into train and test set to ensure representation of the minority class\n",
    "# both in the test set, in the train set and in the validation one\n",
    "\n",
    "# we split into train and test\n",
    "x_1_train,x_1_test,y_1_train,y_1_test = train_test_split(x_1, y_1, test_size=0.20, random_state=42)\n",
    "x_0_train,x_0_test,y_0_train,y_0_test = train_test_split(x_0, y_0, test_size=0.20, random_state=42)\n",
    "\n",
    "# we further split the train in validation and training\n",
    "x_1_train, x_1_val, y_1_train, y_1_val = train_test_split(x_1_train, y_1_train, test_size=0.20, random_state=42)\n",
    "x_0_train, x_0_val, y_0_train, y_0_val = train_test_split(x_0_train, y_0_train, test_size=0.20, random_state=42)\n",
    "\n",
    "# we stack together the two classes so that we have a unique class\n",
    "x_train = np.concatenate((x_1_train,x_0_train))\n",
    "y_train = np.concatenate((y_1_train,y_0_train))\n",
    "x_val = np.concatenate((x_1_val, x_0_val))\n",
    "y_val = np.concatenate((y_1_val, y_0_val))\n",
    "x_test = np.concatenate((x_1_test,x_0_test))\n",
    "y_test = np.concatenate((y_1_test,y_0_test))"
   ]
  },
  {
   "cell_type": "markdown",
   "id": "75273fb0",
   "metadata": {},
   "source": [
    "### Outliers remotion"
   ]
  },
  {
   "cell_type": "code",
   "execution_count": 10,
   "id": "96736253",
   "metadata": {},
   "outputs": [
    {
     "data": {
      "image/png": "[encoded data removed]",
      "text/plain": [
       "<Figure size 842.4x595.44 with 1 Axes>"
      ]
     },
     "metadata": {},
     "output_type": "display_data"
    },
    {
     "name": "stdout",
     "output_type": "stream",
     "text": [
      "The indecision percentage around 0.02 is 0.5325406930411922\n",
      "The percentage of outliers detected is 0.08918119280761375\n"
     ]
    }
   ],
   "source": [
    "# we apply the algorithm for outliers remotion\n",
    "contamination, scores, outliers_indices = Anomaly_Detection_Isolation_Forests(x_train, change_split=False)\n",
    "\n",
    "# we check that the algorithm is working properly\n",
    "check_Isolation_Forests(contamination, outliers_indices, y_train)\n",
    "\n",
    "# we plot the distribution of the scores\n",
    "check_boundary_decision(scores, 0.02, verbose=1)"
   ]
  },
  {
   "cell_type": "code",
   "execution_count": 11,
   "id": "a36b2142",
   "metadata": {},
   "outputs": [],
   "source": [
    "# we drop the outliers\n",
    "x_train, y_train = drop_outliers(x_train, y_train, outliers_indices)"
   ]
  },
  {
   "cell_type": "markdown",
   "id": "072e7109",
   "metadata": {},
   "source": [
    "### Features scaling"
   ]
  },
  {
   "cell_type": "code",
   "execution_count": 12,
   "id": "60c2c379",
   "metadata": {},
   "outputs": [],
   "source": [
    "# we create a scaler\n",
    "sc = StandardScaler()\n",
    "\n",
    "# we fit and scale on the train (we work with the mean and the std of the train)\n",
    "x_train = sc.fit_transform(x_train)\n",
    "\n",
    "# we use the same scaler (same mean and same std to scale the validation and the test set)\n",
    "x_val = sc.transform(x_val)\n",
    "x_test = sc.transform(x_test)"
   ]
  },
  {
   "cell_type": "markdown",
   "id": "9e14e64d",
   "metadata": {},
   "source": [
    "### We apply a transformation on the y labels (relKa values) to reduce skewness"
   ]
  },
  {
   "cell_type": "code",
   "execution_count": 13,
   "id": "d32327ac",
   "metadata": {},
   "outputs": [],
   "source": [
    "# we modify the values of y-train with a coxbox transformation (used to reduce the skewness of the y labels)\n",
    "\n",
    "y_train, fitted_lambda= stats.boxcox(list(y_train),lmbda=None)\n",
    "y_train = np.array(y_train)\n",
    "#print(fitted_lambda)"
   ]
  },
  {
   "cell_type": "code",
   "execution_count": 14,
   "id": "d99c2d73",
   "metadata": {},
   "outputs": [
    {
     "data": {
      "image/png": "[encoded data removed]",
      "text/plain": [
       "<Figure size 842.4x595.44 with 1 Axes>"
      ]
     },
     "metadata": {},
     "output_type": "display_data"
    }
   ],
   "source": [
    "# we check the results of the transformation with a plot\n",
    "\n",
    "sns.set(font_scale=2)\n",
    "p = sns.histplot(data = y_train, kde=True)\n",
    "p.set_xlabel(\"relKa\", fontsize = 25)\n",
    "p.set_ylabel(\"Count\", fontsize = 25)\n",
    "plt.show()"
   ]
  },
  {
   "cell_type": "code",
   "execution_count": 15,
   "id": "21277758",
   "metadata": {},
   "outputs": [],
   "source": [
    "# we compute the new importance boundary after applying the boxcox transformation\n",
    "importance_boundary = stats.boxcox([0.7,1.],fitted_lambda)[0]"
   ]
  },
  {
   "cell_type": "markdown",
   "id": "1c312002",
   "metadata": {},
   "source": [
    "### Sampling"
   ]
  },
  {
   "cell_type": "markdown",
   "id": "0d123428",
   "metadata": {},
   "source": [
    "We will apply both undersampling and oversampling to make the dataset more balanced on the training set"
   ]
  },
  {
   "cell_type": "code",
   "execution_count": 16,
   "id": "1c615585",
   "metadata": {},
   "outputs": [],
   "source": [
    "# we apply both undersampling and oversamping using PSU undersampling, at the end we will have 30% of points of the minority\n",
    "# class and 70% of points of the majority class, we use correlation score as the matrix and PSU undersampling technique\n",
    "x_train ,y_train = smote_sf(x_train, y_train, undersample=0.1, oversample=0.3,kneighbors=5, distance = 2.,\n",
    "                              undersampling = PSU_undersampling_regression ,attribute_scorer= Correlation_Score_Max,\n",
    "                              importance_class = importance_boundary)\n",
    "# we shuffle the data to ensure randomness\n",
    "p = np.random.permutation(len(y_train))\n",
    "x_train = x_train[p]\n",
    "y_train = y_train[p]"
   ]
  },
  {
   "cell_type": "markdown",
   "id": "e88f07ec",
   "metadata": {},
   "source": [
    "# Training"
   ]
  },
  {
   "cell_type": "code",
   "execution_count": 19,
   "id": "a63d2612",
   "metadata": {},
   "outputs": [],
   "source": [
    "# we use XGB regressor model with the following hyperparameters\n",
    "\n",
    "model = XGBRegressor(subsample = 0.8999999999999999, n_estimators= 500,\n",
    "                     max_depth = 20, learning_rate = 0.01, colsample_bytree = 0.7999999999999999, colsample_bylevel = 0.6, obj=penalized_MSE )\n",
    "model.fit(x_train, y_train,eval_metric=penalized_MSE_train)\n",
    "predictions = model.predict(x_test)"
   ]
  },
  {
   "cell_type": "code",
   "execution_count": 20,
   "id": "eca7d637",
   "metadata": {},
   "outputs": [
    {
     "name": "stdout",
     "output_type": "stream",
     "text": [
      "the MSE for tuned model XGB Regressor is 0.003298096918918044\n",
      "[ 0  1  2  3  4  5  6  7  8  9 10 11 12 13 14 15 16 17 18 19 20 21 22 23\n",
      " 24 25 26 27 28 29 30 31 32 33 34 35 36 37 38 39 40 41 42 43 44 45 46 47\n",
      " 48 49 50 51 52 53 54 55 56 57 58 59 60 61 62 63 64 65]\n",
      "[0.72502145 0.79381635 0.72175077 ... 0.21714475 0.14845979 0.19741368] [3.45787   3.6773868 3.559542  ... 1.2884057 1.1849322 1.2187922]\n",
      "the weighted-MSE for tuned model XGB Regressor is 7.728420622358379\n"
     ]
    }
   ],
   "source": [
    "# we scale back the predictions and we compute the MSE and the penalized MSE\n",
    "\n",
    "predictions = sci.special.inv_boxcox(predictions, fitted_lambda)\n",
    "print('the MSE for tuned model XGB Regressor is',MSE(y_test, predictions))\n",
    "print('the weighted-MSE for tuned model XGB Regressor is',penalized_MSE(y_test, predictions))"
   ]
  },
  {
   "cell_type": "markdown",
   "id": "c653d347",
   "metadata": {},
   "source": [
    "We visualize the MSE for ranges of values of relKa"
   ]
  },
  {
   "cell_type": "code",
   "execution_count": 21,
   "id": "b6898c6e",
   "metadata": {},
   "outputs": [
    {
     "data": {
      "image/png": "[encoded data removed]",
      "text/plain": [
       "<Figure size 842.4x595.44 with 1 Axes>"
      ]
     },
     "metadata": {},
     "output_type": "display_data"
    }
   ],
   "source": [
    "range_values = np.arange(0.05,1.05,0.1)\n",
    "mse_ranges = []\n",
    "for val in range_values:\n",
    "    labels_range = y_test[np.where(np.abs(y_test-val)<=0.05)]\n",
    "    correspondent_predictions = predictions[np.where(np.abs(y_test-val)<=0.05)]\n",
    "    mse_ranges.append(MSE(correspondent_predictions, labels_range))\n",
    "sns.set(rc={'figure.figsize':(11.7,8.27)})\n",
    "intervals = ['0.0-0.1', '0.1-0.2', '0.2-0.3', '0.3-0.4','0.4-0.5', '0.5-0.6', '0.6-0-7', '0.7-0.8', '0.8-0.9', '0.9-1.0']\n",
    "dict_mse = {'intervals': intervals, 'mse': mse_ranges}\n",
    "df_mse = pd.DataFrame.from_dict(dict_mse)\n",
    "sns.barplot(x = df_mse['intervals'], y = df_mse['mse'], color='blue')\n",
    "plt.show()"
   ]
  },
  {
   "cell_type": "markdown",
   "id": "1402ddc4",
   "metadata": {},
   "source": [
    "# Error Analysis"
   ]
  },
  {
   "cell_type": "code",
   "execution_count": 22,
   "id": "67752abc",
   "metadata": {},
   "outputs": [
    {
     "ename": "NameError",
     "evalue": "name 'fitted_lambda' is not defined",
     "output_type": "error",
     "traceback": [
      "\u001b[1;31m---------------------------------------------------------------------------\u001b[0m",
      "\u001b[1;31mNameError\u001b[0m                                 Traceback (most recent call last)",
      "\u001b[1;32m~\\AppData\\Local\\Temp/ipykernel_5364/3352987464.py\u001b[0m in \u001b[0;36m<module>\u001b[1;34m\u001b[0m\n\u001b[0;32m      1\u001b[0m \u001b[1;31m# we plot the curve of loss vs iterations for the training and test set to understand if we are overfitting or not\u001b[0m\u001b[1;33m\u001b[0m\u001b[1;33m\u001b[0m\u001b[1;33m\u001b[0m\u001b[0m\n\u001b[1;32m----> 2\u001b[1;33m \u001b[0mtraining_scores\u001b[0m\u001b[1;33m,\u001b[0m \u001b[0mtesting_scores\u001b[0m \u001b[1;33m=\u001b[0m \u001b[0mscore_metrics\u001b[0m\u001b[1;33m(\u001b[0m\u001b[0mx_train\u001b[0m\u001b[1;33m,\u001b[0m \u001b[0mx_test\u001b[0m\u001b[1;33m,\u001b[0m \u001b[0my_train\u001b[0m\u001b[1;33m,\u001b[0m \u001b[0my_test\u001b[0m\u001b[1;33m,\u001b[0m \u001b[0miterations\u001b[0m\u001b[1;33m=\u001b[0m\u001b[1;36m1\u001b[0m\u001b[1;33m)\u001b[0m\u001b[1;33m\u001b[0m\u001b[1;33m\u001b[0m\u001b[0m\n\u001b[0m",
      "\u001b[1;32m~\\Documents\\Luca\\Machine Learning\\Machine-Learning-P2\\metrics_helper.py\u001b[0m in \u001b[0;36mscore_metrics\u001b[1;34m(x_train, x_test, y_train, y_test, iterations)\u001b[0m\n\u001b[0;32m     75\u001b[0m                              \u001b[0mmax_depth\u001b[0m\u001b[1;33m=\u001b[0m\u001b[1;36m20\u001b[0m\u001b[1;33m,\u001b[0m \u001b[0mlearning_rate\u001b[0m\u001b[1;33m=\u001b[0m\u001b[1;36m0.01\u001b[0m\u001b[1;33m,\u001b[0m \u001b[0mcolsample_bytree\u001b[0m\u001b[1;33m=\u001b[0m\u001b[1;36m0.7999999999999999\u001b[0m\u001b[1;33m,\u001b[0m\u001b[1;33m\u001b[0m\u001b[1;33m\u001b[0m\u001b[0m\n\u001b[0;32m     76\u001b[0m                              colsample_bylevel=0.6, obj=penalized_MSE_train)\n\u001b[1;32m---> 77\u001b[1;33m         \u001b[0my_train2\u001b[0m \u001b[1;33m=\u001b[0m \u001b[0msci\u001b[0m\u001b[1;33m.\u001b[0m\u001b[0mspecial\u001b[0m\u001b[1;33m.\u001b[0m\u001b[0minv_boxcox\u001b[0m\u001b[1;33m(\u001b[0m\u001b[0my_train\u001b[0m\u001b[1;33m,\u001b[0m \u001b[0mfitted_lambda\u001b[0m\u001b[1;33m)\u001b[0m\u001b[1;33m\u001b[0m\u001b[1;33m\u001b[0m\u001b[0m\n\u001b[0m\u001b[0;32m     78\u001b[0m         \u001b[0mmodel\u001b[0m\u001b[1;33m.\u001b[0m\u001b[0mfit\u001b[0m\u001b[1;33m(\u001b[0m\u001b[0mx_train\u001b[0m\u001b[1;33m,\u001b[0m \u001b[0my_train\u001b[0m\u001b[1;33m,\u001b[0m \u001b[0meval_metric\u001b[0m\u001b[1;33m=\u001b[0m\u001b[0mpenalized_MSE_helper\u001b[0m\u001b[1;33m,\u001b[0m \u001b[0meval_set\u001b[0m\u001b[1;33m=\u001b[0m\u001b[1;33m[\u001b[0m\u001b[1;33m(\u001b[0m\u001b[0mx_train\u001b[0m\u001b[1;33m,\u001b[0m \u001b[0my_train\u001b[0m\u001b[1;33m)\u001b[0m\u001b[1;33m,\u001b[0m \u001b[1;33m(\u001b[0m\u001b[0mx_test\u001b[0m\u001b[1;33m,\u001b[0m \u001b[0my_test\u001b[0m\u001b[1;33m)\u001b[0m\u001b[1;33m]\u001b[0m\u001b[1;33m)\u001b[0m\u001b[1;33m\u001b[0m\u001b[1;33m\u001b[0m\u001b[0m\n\u001b[0;32m     79\u001b[0m         \u001b[0mtraining_scores\u001b[0m\u001b[1;33m.\u001b[0m\u001b[0mappend\u001b[0m\u001b[1;33m(\u001b[0m\u001b[0mmodel\u001b[0m\u001b[1;33m.\u001b[0m\u001b[0mevals_result\u001b[0m\u001b[1;33m(\u001b[0m\u001b[1;33m)\u001b[0m\u001b[1;33m[\u001b[0m\u001b[1;34m'validation_0'\u001b[0m\u001b[1;33m]\u001b[0m\u001b[1;33m[\u001b[0m\u001b[1;34m'rmse'\u001b[0m\u001b[1;33m]\u001b[0m\u001b[1;33m)\u001b[0m\u001b[1;33m\u001b[0m\u001b[1;33m\u001b[0m\u001b[0m\n",
      "\u001b[1;31mNameError\u001b[0m: name 'fitted_lambda' is not defined"
     ]
    }
   ],
   "source": [
    "# we plot the curve of loss vs iterations for the training and test set to understand if we are overfitting or not\n",
    "training_scores, testing_scores = score_metrics(x_train, x_test, y_train, y_test, iterations=1)"
   ]
  },
  {
   "cell_type": "code",
   "execution_count": null,
   "id": "104a6bb8",
   "metadata": {},
   "outputs": [],
   "source": [
    "# we set as significant errors all the errors which are off by more than 0.15 from the true labels\n",
    "indices_significant_errors = np.where(np.abs(predictions-y_test)>0.15)[0]\n",
    "\n",
    "# we create a vector with the x, y of the errors and the x, y of the correct ones\n",
    "x_errors = x_test[indices_significant_errors, :]\n",
    "y_errors = y_test[indices_significant_errors]\n",
    "x_correct = np.delete(x_test, indices_significant_errors, axis=0)\n",
    "y_correct = np.delete(y_test, indices_significant_errors, axis=0)"
   ]
  },
  {
   "cell_type": "code",
   "execution_count": null,
   "id": "95b40e76",
   "metadata": {},
   "outputs": [],
   "source": [
    "# we create a df with the errors and the correct ones\n",
    "\n",
    "df_errors = pd.DataFrame(data=x_errors)\n",
    "df_correct = pd.DataFrame(data=x_correct)\n",
    "df_errors[318] = y_errors\n",
    "df_correct[318] = y_correct\n",
    "df_errors['label'] = 1\n",
    "df_correct['label'] = 0\n",
    "\n",
    "\n",
    "df_to_study = pd.concat([df_correct, df_errors], axis=0)"
   ]
  },
  {
   "cell_type": "code",
   "execution_count": null,
   "id": "f1d76013",
   "metadata": {},
   "outputs": [],
   "source": [
    "# we plot the distribution of the errors for each feature\n",
    "\n",
    "fig, ax = plt.subplots(80,4, figsize=(14,400))\n",
    "for i in range(df_to_study.shape[1]):\n",
    "    sbplt = ax[i%80, math.floor(i/80)]\n",
    "    df_0 = df_to_study[df_to_study['label']==0]\n",
    "    df_1 = df_to_study[df_to_study['label']==1]\n",
    "    sbplt.hist(df_0.iloc[:,i], bins =100, alpha=0.5, label='correct', color='r',log=True)\n",
    "    sbplt.hist(df_1.iloc[:,i], bins =100, alpha=0.5, label='error', color='b', log=True)\n",
    "    sbplt.set_title('column: {}'.format(i))\n",
    "fig.tight_layout()"
   ]
  },
  {
   "cell_type": "markdown",
   "id": "6a6fa490",
   "metadata": {},
   "source": [
    "It is difficult to notice some meaningful differences."
   ]
  },
  {
   "cell_type": "markdown",
   "id": "328f512b",
   "metadata": {},
   "source": [
    "# Hyperparameters tuning"
   ]
  },
  {
   "cell_type": "code",
   "execution_count": null,
   "id": "23796cff",
   "metadata": {},
   "outputs": [],
   "source": [
    "# we stack together train and validation set\n",
    "\n",
    "train_val_x = np.concatenate((x_train, x_val))\n",
    "train_val_y = np.concatenate((y_train,y_val))"
   ]
  },
  {
   "cell_type": "code",
   "execution_count": null,
   "id": "dbfbb361",
   "metadata": {},
   "outputs": [],
   "source": [
    "# we create my_test_fold which is a list containing -1 if the point associeted with the index is in the train, zero otherwise\n",
    "\n",
    "my_test_fold = [-1 if i<np.shape(x_train)[0] else 0 for i in range(train_val_x.shape[0])]\n",
    "\n",
    "# we use predefinedsplit to create the validation fold\n",
    "\n",
    "ps = PredefinedSplit(test_fold=my_test_fold)"
   ]
  },
  {
   "cell_type": "code",
   "execution_count": null,
   "id": "a3c09450",
   "metadata": {},
   "outputs": [],
   "source": [
    "# we set the grid of parameters\n",
    "\n",
    "params = { 'max_depth': [5, 10, 15, 20],\n",
    "           'learning_rate': [0.01, 0.1, 0.5],\n",
    "           'subsample': np.arange(0.5, 1.0, 0.1),\n",
    "           'colsample_bytree': np.arange(0.5, 1.0, 0.1),\n",
    "           'colsample_bylevel': np.arange(0.5, 1.0, 0.1),\n",
    "           'n_estimators': [100,500,1000]\n",
    "            }\n",
    "\n",
    "# we create the scorer\n",
    "score = make_scorer(penalized_MSE_train, greater_is_better=False)\n",
    "\n",
    "# we create the model\n",
    "model = XGBRegressor(tree_method='gpu_hist',seed = 20)\n",
    "\n",
    "# we apply randomized search to select the best hyperparameters using a fixed validation set x_val, y_val\n",
    "clf = RandomizedSearchCV(estimator = model,\n",
    "                         param_distributions = params,\n",
    "                         scoring = score,\n",
    "                         n_iter=10,\n",
    "                         cv = ps,\n",
    "                         verbose=10)\n",
    "# we fit to produce the new results\n",
    "clf.fit(train_val_x, train_val_y, eval_metric = penalized_MSE)"
   ]
  }
 ],
 "metadata": {
  "kernelspec": {
   "display_name": "Python 3 (ipykernel)",
   "language": "python",
   "name": "python3"
  },
  "language_info": {
   "codemirror_mode": {
    "name": "ipython",
    "version": 3
   },
   "file_extension": ".py",
   "mimetype": "text/x-python",
   "name": "python",
   "nbconvert_exporter": "python",
   "pygments_lexer": "ipython3",
   "version": "3.8.8"
  }
 },
 "nbformat": 4,
 "nbformat_minor": 5
}
