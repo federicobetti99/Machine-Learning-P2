{
  "nbformat": 4,
  "nbformat_minor": 5,
  "metadata": {
    "kernelspec": {
      "display_name": "Python 3",
      "language": "python",
      "name": "python3"
    },
    "language_info": {
      "codemirror_mode": {
        "name": "ipython",
        "version": 3
      },
      "file_extension": ".py",
      "mimetype": "text/x-python",
      "name": "python",
      "nbconvert_exporter": "python",
      "pygments_lexer": "ipython3",
      "version": "3.8.8"
    },
    "colab": {
      "name": "Outliers_Detection.ipynb",
      "provenance": [],
      "collapsed_sections": []
    },
    "accelerator": "GPU"
  },
  "cells": [
    {
      "cell_type": "markdown",
      "metadata": {
        "id": "OVkUbtoxrZN3"
      },
      "source": [
        "Importing useful libraries and importing the drive for the dataset"
      ],
      "id": "OVkUbtoxrZN3"
    },
    {
      "cell_type": "code",
      "metadata": {
        "id": "dc466260"
      },
      "source": [
        "import numpy as np\n",
        "import matplotlib.pyplot as plt\n",
        "import scipy.stats as st\n",
        "import torch\n",
        "import torch.nn as nn\n",
        "import sklearn\n",
        "import pandas as pd\n",
        "import io\n",
        "import math\n",
        "from sklearn.model_selection import train_test_split"
      ],
      "id": "dc466260",
      "execution_count": 1,
      "outputs": []
    },
    {
      "cell_type": "code",
      "metadata": {
        "colab": {
          "base_uri": "https://localhost:8080/"
        },
        "id": "jjM2luKFSayr",
        "outputId": "d60d02f9-836b-436e-b5d5-d76b2c5fb211"
      },
      "source": [
        "from google.colab import drive\n",
        "drive.mount('/content/drive')\n",
        "%cd drive/My\\ Drive"
      ],
      "id": "jjM2luKFSayr",
      "execution_count": 2,
      "outputs": [
        {
          "output_type": "stream",
          "name": "stdout",
          "text": [
            "Mounted at /content/drive\n",
            "/content/drive/My Drive\n"
          ]
        }
      ]
    },
    {
      "cell_type": "markdown",
      "metadata": {
        "id": "FkcqxT8Eo-D2"
      },
      "source": [
        "Importing the data"
      ],
      "id": "FkcqxT8Eo-D2"
    },
    {
      "cell_type": "code",
      "metadata": {
        "id": "z6__FhQiuUag"
      },
      "source": [
        "pddata = pd.read_csv('GSM1586785_ScrH-12A_Exd_14mer_cg.csv.zip', compression='zip', error_bad_lines=False, skiprows=1)"
      ],
      "id": "z6__FhQiuUag",
      "execution_count": 3,
      "outputs": []
    },
    {
      "cell_type": "code",
      "metadata": {
        "id": "7Onini8BliWv"
      },
      "source": [
        "pddata = pddata.to_numpy()\n",
        "RelKa = pddata[:, -1]\n",
        "training_data = pddata[:, 2:-1]"
      ],
      "id": "7Onini8BliWv",
      "execution_count": 4,
      "outputs": []
    },
    {
      "cell_type": "markdown",
      "metadata": {
        "id": "_k3VzeutCXDe"
      },
      "source": [
        "Some helpers function for the analysis below"
      ],
      "id": "_k3VzeutCXDe"
    },
    {
      "cell_type": "code",
      "metadata": {
        "id": "iOBmnZCWDJEC"
      },
      "source": [
        "def drop_outliers(x, y, outliers):\n",
        "  x = np.delete(x, outliers, axis=0)\n",
        "  y = np.delete(y, outliers, axis=0)\n",
        "  return x, y"
      ],
      "id": "iOBmnZCWDJEC",
      "execution_count": 5,
      "outputs": []
    },
    {
      "cell_type": "code",
      "metadata": {
        "id": "c4K442J2Cbu5"
      },
      "source": [
        "from sklearn import preprocessing\n",
        "\n",
        "def standardize(x):\n",
        "  scaler = preprocessing.StandardScaler().fit(training_data)\n",
        "  x = scaler.transform(x)\n",
        "  return x"
      ],
      "id": "c4K442J2Cbu5",
      "execution_count": 6,
      "outputs": []
    },
    {
      "cell_type": "code",
      "metadata": {
        "id": "V2AblynuDYKx"
      },
      "source": [
        "def split_RelKa(y, p):\n",
        "  return np.array([1 if value > p else 0 for value in y])"
      ],
      "id": "V2AblynuDYKx",
      "execution_count": 7,
      "outputs": []
    },
    {
      "cell_type": "code",
      "metadata": {
        "id": "LCehBG91D9S1"
      },
      "source": [
        "from sklearn.ensemble import RandomForestClassifier\n",
        "\n",
        "def predict_with_Random_Forests(x_train, x_test, y_train, y_test):\n",
        "  clf = RandomForestClassifier(n_estimators=100, criterion='entropy')\n",
        "  clf.fit(X_train, y_train)\n",
        "  y_pred = clf.predict(X_test)  \n",
        "  return y_pred"
      ],
      "id": "LCehBG91D9S1",
      "execution_count": 8,
      "outputs": []
    },
    {
      "cell_type": "code",
      "metadata": {
        "id": "VGsyw7IyCpN7"
      },
      "source": [
        "from sklearn import metrics\n",
        "\n",
        "def return_accuracy(y_test, y_pred, verbose=1):\n",
        "  C = metrics.confusion_matrix(y_test, y_pred)\n",
        "  accuracy = np.trace(C) / len(y_test)\n",
        "  if verbose == 1:\n",
        "    print(\"The number of true negatives is:\", C[0, 0])\n",
        "    print(\"The number of false negatives is:\", C[1,0])\n",
        "    print(\"The number of false positives is:\", C[0,1])  \n",
        "    print(\"The number of true positives is:\", C[1,1])\n",
        "    print(\"The accuracy is:\", accuracy)\n",
        "  return accuracy"
      ],
      "id": "VGsyw7IyCpN7",
      "execution_count": 9,
      "outputs": []
    },
    {
      "cell_type": "markdown",
      "metadata": {
        "id": "DV5aXOeq6mGI"
      },
      "source": [
        "ISOLATION FORESTS ANOMALY DETECTION"
      ],
      "id": "DV5aXOeq6mGI"
    },
    {
      "cell_type": "code",
      "metadata": {
        "id": "ec7aw0cE6rsV"
      },
      "source": [
        "from sklearn.ensemble import IsolationForest\n",
        "\n",
        "def Anomaly_Detection_Isolation_Forests(x):\n",
        "  random_state = np.random.RandomState(42)\n",
        "  contamination = 'auto'\n",
        "  model = IsolationForest(n_estimators=120, max_samples='auto', contamination=contamination, random_state=random_state)\n",
        "  model.fit(x)\n",
        "  scores = model.decision_function(x)\n",
        "  anomaly_score = model.predict(x)\n",
        "  outliers_indices = np.where(anomaly_score == -1)[0] \n",
        "  return contamination, scores, anomaly_score, outliers_indices\n",
        "\n",
        "def check_Isolation_Forests(contamination, outliers_indices):\n",
        "  \"\"\"\n",
        "  Simply a check on the proper working of the IF algorithm\n",
        "  \"\"\"\n",
        "  tol = 1.0e-02\n",
        "  if contamination != 'auto':\n",
        "    outliers_percentage = 1 / len(RelKa) * len(outliers_indices)\n",
        "    assert np.abs(contamination-outliers_percentage) < tol\n",
        "\n",
        "def check_boundary_decision(scores, p, verbose=1):\n",
        "  \"\"\"\n",
        "  This function simply controls how many scores returned by the IF algorithm \n",
        "  are likely to be misclassified\n",
        "  \"\"\"\n",
        "  indecision_percentage = 1 / len(RelKa) * np.count_nonzero(np.abs(scores) <= p)\n",
        "  if verbose == 1:\n",
        "    plt.hist(scores)\n",
        "    plt.show()\n",
        "    print(\"The indecision percentage around\", p,  \"is\", indecision_percentage)"
      ],
      "id": "ec7aw0cE6rsV",
      "execution_count": 16,
      "outputs": []
    },
    {
      "cell_type": "code",
      "metadata": {
        "colab": {
          "base_uri": "https://localhost:8080/",
          "height": 282
        },
        "id": "T13n1dNv7ct7",
        "outputId": "5dbfafe5-2669-4da5-d44b-669f08bf002d"
      },
      "source": [
        "contamination, scores, anomaly_score, outliers_indices = Anomaly_Detection_Isolation_Forests(training_data)\n",
        "check_Isolation_Forests(contamination, outliers_indices)\n",
        "check_boundary_decision(scores, 0.02, verbose=1)"
      ],
      "id": "T13n1dNv7ct7",
      "execution_count": 17,
      "outputs": [
        {
          "output_type": "display_data",
          "data": {
            "image/png": "[encoded data removed]",
            "text/plain": [
              "<Figure size 432x288 with 1 Axes>"
            ]
          },
          "metadata": {
            "needs_background": "light"
          }
        },
        {
          "output_type": "stream",
          "name": "stdout",
          "text": [
            "The indecision percentage around 0.02 is 0.5672001406964474\n"
          ]
        }
      ]
    },
    {
      "cell_type": "code",
      "metadata": {
        "id": "bCG72D-4EhlD"
      },
      "source": [
        "training_data, RelKa = drop_outliers(training_data, RelKa, outliers_indices)\n",
        "training_data = standardize(training_data)\n",
        "RelKa_tilda = split_RelKa(RelKa, 0.5)"
      ],
      "id": "bCG72D-4EhlD",
      "execution_count": 18,
      "outputs": []
    },
    {
      "cell_type": "code",
      "metadata": {
        "id": "ssEbARYX4S5-"
      },
      "source": [
        "X_train, X_test, y_train, y_test = train_test_split(training_data, RelKa_tilda, train_size=0.7, random_state=42)"
      ],
      "id": "ssEbARYX4S5-",
      "execution_count": 19,
      "outputs": []
    },
    {
      "cell_type": "code",
      "metadata": {
        "colab": {
          "base_uri": "https://localhost:8080/"
        },
        "id": "nob2nvYFE3kj",
        "outputId": "b1235e7b-8c6f-4ced-85e5-e3d793e639aa"
      },
      "source": [
        "y_pred = predict_with_Random_Forests(X_train, X_test, y_train, y_test)\n",
        "accuracy = return_accuracy(y_test, y_pred, verbose=1)"
      ],
      "id": "nob2nvYFE3kj",
      "execution_count": 20,
      "outputs": [
        {
          "output_type": "stream",
          "name": "stdout",
          "text": [
            "The number of true negatives is: 45200\n",
            "The number of false negatives is: 247\n",
            "The number of false positives is: 54\n",
            "The number of true positives is: 405\n",
            "The accuracy is: 0.9934431229033241\n"
          ]
        }
      ]
    },
    {
      "cell_type": "markdown",
      "metadata": {
        "id": "4TyHT3NLfYy7"
      },
      "source": [
        "We see that we have a problem with a large number of false negatives, namely with incorrectly predictions of the negative class"
      ],
      "id": "4TyHT3NLfYy7"
    },
    {
      "cell_type": "markdown",
      "metadata": {
        "id": "GqcRaNgPqWlT"
      },
      "source": [
        "A further insight on the errors has to be done, but probably increasing the threshold 0.5 helps already a lot"
      ],
      "id": "GqcRaNgPqWlT"
    },
    {
      "cell_type": "markdown",
      "metadata": {
        "id": "04SnNRBP_CrZ"
      },
      "source": [
        "LOCAL OUTLIER FACTOR ANOMALY DETECTION\n",
        "The quickness here is really depending on the number of neighbours, for example\n",
        "n_neigbors = 20 is already too much and Isolation Forests may be already considered preferable as they are quite efficient without incurring in large running times.\n"
      ],
      "id": "04SnNRBP_CrZ"
    },
    {
      "cell_type": "code",
      "metadata": {
        "id": "_sI6Ry_n_H4D"
      },
      "source": [
        "from sklearn.neighbors import LocalOutlierFactor \n",
        "\n",
        "def LOF_Anomaly_Detection(X):\n",
        "  clf = LocalOutlierFactor(n_neighbors=20, algorithm='auto', leaf_size=30, metric='minkowski', p=2, metric_params=None, contamination='auto', novelty=False)\n",
        "  anomaly_score = clf.fit_predict(X)\n",
        "  scores = clf.negative_outlier_factor(X)\n",
        "  outliers_indices = np.where(anomaly_score == -1)[0]\n",
        "  return scores, outliers_indices"
      ],
      "id": "_sI6Ry_n_H4D",
      "execution_count": null,
      "outputs": []
    },
    {
      "cell_type": "code",
      "metadata": {
        "id": "FiVnmz6CB5CF"
      },
      "source": [
        "training_data, RelKa = drop_outliers(training_data, RelKa, outliers_indices)\n",
        "training_data = standardize(training_data)\n",
        "RelKa_tilda = split_RelKa(RelKa, 0.5)"
      ],
      "id": "FiVnmz6CB5CF",
      "execution_count": null,
      "outputs": []
    },
    {
      "cell_type": "code",
      "metadata": {
        "id": "FouqkpgOB91w"
      },
      "source": [
        "X_train, X_test, y_train, y_test = train_test_split(training_data, RelKa_tilda, test_size=0.7, random_state=42)"
      ],
      "id": "FouqkpgOB91w",
      "execution_count": null,
      "outputs": []
    },
    {
      "cell_type": "code",
      "metadata": {
        "id": "WAXUb_cPCIgE"
      },
      "source": [
        "y_pred = predict_with_Random_Forests(X_train, X_test, y_train, y_test)\n",
        "accuracy = return_accuracy(y_test, y_pred, verbose=1)"
      ],
      "id": "WAXUb_cPCIgE",
      "execution_count": null,
      "outputs": []
    },
    {
      "cell_type": "markdown",
      "metadata": {
        "id": "1vAi22ydnFGR"
      },
      "source": [
        "# CROSS VALIDATION (5-FOLD) TO FINETUNE THE RF PARAMETERS"
      ],
      "id": "1vAi22ydnFGR"
    },
    {
      "cell_type": "code",
      "metadata": {
        "id": "uySFlHwpoewE"
      },
      "source": [
        "X_train, X_test, y_train, y_test = train_test_split(training_data, RelKa_tilda, test_size=0.7, random_state=42)"
      ],
      "id": "uySFlHwpoewE",
      "execution_count": 21,
      "outputs": []
    },
    {
      "cell_type": "code",
      "metadata": {
        "id": "eVKIvgRtnQZV"
      },
      "source": [
        "from sklearn.model_selection import RandomizedSearchCV\n",
        "\n",
        "n_estimators = [int(x) for x in np.linspace(start = 100, stop = 200, num = 5)]\n",
        "min_samples_split = [2, 5, 10]\n",
        "min_samples_leaf = [1, 2, 4]\n",
        "random_grid = {'n_estimators': n_estimators,\n",
        "               'min_samples_split': min_samples_split,\n",
        "               'min_samples_leaf': min_samples_leaf}"
      ],
      "id": "eVKIvgRtnQZV",
      "execution_count": null,
      "outputs": []
    },
    {
      "cell_type": "code",
      "metadata": {
        "colab": {
          "base_uri": "https://localhost:8080/"
        },
        "id": "DiMsjYxCoBKC",
        "outputId": "60c7d597-c021-4fc2-9f3b-d55c33e03f47"
      },
      "source": [
        "from sklearn.ensemble import RandomForestClassifier\n",
        "\n",
        "rf = RandomForestClassifier()\n",
        "rf_random = RandomizedSearchCV(estimator = rf, param_distributions = random_grid, n_iter = 10, cv = 5, verbose=10)\n",
        "rf_random.fit(X_train, y_train)"
      ],
      "id": "DiMsjYxCoBKC",
      "execution_count": null,
      "outputs": [
        {
          "output_type": "stream",
          "name": "stdout",
          "text": [
            "Fitting 5 folds for each of 10 candidates, totalling 50 fits\n",
            "[CV 1/5; 1/10] START min_samples_leaf=1, min_samples_split=2, n_estimators=100..\n",
            "[CV 1/5; 1/10] END min_samples_leaf=1, min_samples_split=2, n_estimators=100;, score=0.991 total time= 1.5min\n",
            "[CV 2/5; 1/10] START min_samples_leaf=1, min_samples_split=2, n_estimators=100..\n",
            "[CV 2/5; 1/10] END min_samples_leaf=1, min_samples_split=2, n_estimators=100;, score=0.992 total time= 1.6min\n",
            "[CV 3/5; 1/10] START min_samples_leaf=1, min_samples_split=2, n_estimators=100..\n",
            "[CV 3/5; 1/10] END min_samples_leaf=1, min_samples_split=2, n_estimators=100;, score=0.991 total time= 1.6min\n",
            "[CV 4/5; 1/10] START min_samples_leaf=1, min_samples_split=2, n_estimators=100..\n",
            "[CV 4/5; 1/10] END min_samples_leaf=1, min_samples_split=2, n_estimators=100;, score=0.991 total time= 1.6min\n",
            "[CV 5/5; 1/10] START min_samples_leaf=1, min_samples_split=2, n_estimators=100..\n",
            "[CV 5/5; 1/10] END min_samples_leaf=1, min_samples_split=2, n_estimators=100;, score=0.992 total time= 1.6min\n",
            "[CV 1/5; 2/10] START min_samples_leaf=2, min_samples_split=10, n_estimators=100.\n",
            "[CV 1/5; 2/10] END min_samples_leaf=2, min_samples_split=10, n_estimators=100;, score=0.991 total time= 1.4min\n",
            "[CV 2/5; 2/10] START min_samples_leaf=2, min_samples_split=10, n_estimators=100.\n",
            "[CV 2/5; 2/10] END min_samples_leaf=2, min_samples_split=10, n_estimators=100;, score=0.991 total time= 1.5min\n",
            "[CV 3/5; 2/10] START min_samples_leaf=2, min_samples_split=10, n_estimators=100.\n",
            "[CV 3/5; 2/10] END min_samples_leaf=2, min_samples_split=10, n_estimators=100;, score=0.990 total time= 1.5min\n",
            "[CV 4/5; 2/10] START min_samples_leaf=2, min_samples_split=10, n_estimators=100.\n",
            "[CV 4/5; 2/10] END min_samples_leaf=2, min_samples_split=10, n_estimators=100;, score=0.990 total time= 1.5min\n",
            "[CV 5/5; 2/10] START min_samples_leaf=2, min_samples_split=10, n_estimators=100.\n",
            "[CV 5/5; 2/10] END min_samples_leaf=2, min_samples_split=10, n_estimators=100;, score=0.991 total time= 1.5min\n",
            "[CV 1/5; 3/10] START min_samples_leaf=4, min_samples_split=10, n_estimators=100.\n",
            "[CV 1/5; 3/10] END min_samples_leaf=4, min_samples_split=10, n_estimators=100;, score=0.991 total time= 1.5min\n",
            "[CV 2/5; 3/10] START min_samples_leaf=4, min_samples_split=10, n_estimators=100.\n",
            "[CV 2/5; 3/10] END min_samples_leaf=4, min_samples_split=10, n_estimators=100;, score=0.990 total time= 1.5min\n",
            "[CV 3/5; 3/10] START min_samples_leaf=4, min_samples_split=10, n_estimators=100.\n",
            "[CV 3/5; 3/10] END min_samples_leaf=4, min_samples_split=10, n_estimators=100;, score=0.990 total time= 1.5min\n",
            "[CV 4/5; 3/10] START min_samples_leaf=4, min_samples_split=10, n_estimators=100.\n",
            "[CV 4/5; 3/10] END min_samples_leaf=4, min_samples_split=10, n_estimators=100;, score=0.990 total time= 1.6min\n",
            "[CV 5/5; 3/10] START min_samples_leaf=4, min_samples_split=10, n_estimators=100.\n",
            "[CV 5/5; 3/10] END min_samples_leaf=4, min_samples_split=10, n_estimators=100;, score=0.991 total time= 1.5min\n",
            "[CV 1/5; 4/10] START min_samples_leaf=2, min_samples_split=10, n_estimators=175.\n",
            "[CV 1/5; 4/10] END min_samples_leaf=2, min_samples_split=10, n_estimators=175;, score=0.991 total time= 2.6min\n",
            "[CV 2/5; 4/10] START min_samples_leaf=2, min_samples_split=10, n_estimators=175.\n",
            "[CV 2/5; 4/10] END min_samples_leaf=2, min_samples_split=10, n_estimators=175;, score=0.990 total time= 2.7min\n",
            "[CV 3/5; 4/10] START min_samples_leaf=2, min_samples_split=10, n_estimators=175.\n",
            "[CV 3/5; 4/10] END min_samples_leaf=2, min_samples_split=10, n_estimators=175;, score=0.990 total time= 2.6min\n",
            "[CV 4/5; 4/10] START min_samples_leaf=2, min_samples_split=10, n_estimators=175.\n",
            "[CV 4/5; 4/10] END min_samples_leaf=2, min_samples_split=10, n_estimators=175;, score=0.991 total time= 2.7min\n",
            "[CV 5/5; 4/10] START min_samples_leaf=2, min_samples_split=10, n_estimators=175.\n",
            "[CV 5/5; 4/10] END min_samples_leaf=2, min_samples_split=10, n_estimators=175;, score=0.991 total time= 2.6min\n",
            "[CV 1/5; 5/10] START min_samples_leaf=2, min_samples_split=10, n_estimators=150.\n",
            "[CV 1/5; 5/10] END min_samples_leaf=2, min_samples_split=10, n_estimators=150;, score=0.990 total time= 2.3min\n",
            "[CV 2/5; 5/10] START min_samples_leaf=2, min_samples_split=10, n_estimators=150.\n",
            "[CV 2/5; 5/10] END min_samples_leaf=2, min_samples_split=10, n_estimators=150;, score=0.991 total time= 2.2min\n",
            "[CV 3/5; 5/10] START min_samples_leaf=2, min_samples_split=10, n_estimators=150.\n",
            "[CV 3/5; 5/10] END min_samples_leaf=2, min_samples_split=10, n_estimators=150;, score=0.990 total time= 2.3min\n",
            "[CV 4/5; 5/10] START min_samples_leaf=2, min_samples_split=10, n_estimators=150.\n",
            "[CV 4/5; 5/10] END min_samples_leaf=2, min_samples_split=10, n_estimators=150;, score=0.991 total time= 2.4min\n",
            "[CV 5/5; 5/10] START min_samples_leaf=2, min_samples_split=10, n_estimators=150.\n",
            "[CV 5/5; 5/10] END min_samples_leaf=2, min_samples_split=10, n_estimators=150;, score=0.991 total time= 2.3min\n",
            "[CV 1/5; 6/10] START min_samples_leaf=1, min_samples_split=10, n_estimators=150.\n",
            "[CV 1/5; 6/10] END min_samples_leaf=1, min_samples_split=10, n_estimators=150;, score=0.991 total time= 2.2min\n",
            "[CV 2/5; 6/10] START min_samples_leaf=1, min_samples_split=10, n_estimators=150.\n",
            "[CV 2/5; 6/10] END min_samples_leaf=1, min_samples_split=10, n_estimators=150;, score=0.991 total time= 2.4min\n",
            "[CV 3/5; 6/10] START min_samples_leaf=1, min_samples_split=10, n_estimators=150.\n",
            "[CV 3/5; 6/10] END min_samples_leaf=1, min_samples_split=10, n_estimators=150;, score=0.991 total time= 2.4min\n",
            "[CV 4/5; 6/10] START min_samples_leaf=1, min_samples_split=10, n_estimators=150.\n",
            "[CV 4/5; 6/10] END min_samples_leaf=1, min_samples_split=10, n_estimators=150;, score=0.991 total time= 2.3min\n",
            "[CV 5/5; 6/10] START min_samples_leaf=1, min_samples_split=10, n_estimators=150.\n",
            "[CV 5/5; 6/10] END min_samples_leaf=1, min_samples_split=10, n_estimators=150;, score=0.992 total time= 2.3min\n",
            "[CV 1/5; 7/10] START min_samples_leaf=2, min_samples_split=2, n_estimators=150..\n",
            "[CV 1/5; 7/10] END min_samples_leaf=2, min_samples_split=2, n_estimators=150;, score=0.991 total time= 2.2min\n",
            "[CV 2/5; 7/10] START min_samples_leaf=2, min_samples_split=2, n_estimators=150..\n",
            "[CV 2/5; 7/10] END min_samples_leaf=2, min_samples_split=2, n_estimators=150;, score=0.991 total time= 2.3min\n",
            "[CV 3/5; 7/10] START min_samples_leaf=2, min_samples_split=2, n_estimators=150..\n",
            "[CV 3/5; 7/10] END min_samples_leaf=2, min_samples_split=2, n_estimators=150;, score=0.991 total time= 2.3min\n",
            "[CV 4/5; 7/10] START min_samples_leaf=2, min_samples_split=2, n_estimators=150..\n",
            "[CV 4/5; 7/10] END min_samples_leaf=2, min_samples_split=2, n_estimators=150;, score=0.991 total time= 2.4min\n",
            "[CV 5/5; 7/10] START min_samples_leaf=2, min_samples_split=2, n_estimators=150..\n",
            "[CV 5/5; 7/10] END min_samples_leaf=2, min_samples_split=2, n_estimators=150;, score=0.991 total time= 2.4min\n",
            "[CV 1/5; 8/10] START min_samples_leaf=4, min_samples_split=5, n_estimators=125..\n",
            "[CV 1/5; 8/10] END min_samples_leaf=4, min_samples_split=5, n_estimators=125;, score=0.991 total time= 1.9min\n",
            "[CV 2/5; 8/10] START min_samples_leaf=4, min_samples_split=5, n_estimators=125..\n",
            "[CV 2/5; 8/10] END min_samples_leaf=4, min_samples_split=5, n_estimators=125;, score=0.991 total time= 2.0min\n",
            "[CV 3/5; 8/10] START min_samples_leaf=4, min_samples_split=5, n_estimators=125..\n",
            "[CV 3/5; 8/10] END min_samples_leaf=4, min_samples_split=5, n_estimators=125;, score=0.990 total time= 2.0min\n",
            "[CV 4/5; 8/10] START min_samples_leaf=4, min_samples_split=5, n_estimators=125..\n",
            "[CV 4/5; 8/10] END min_samples_leaf=4, min_samples_split=5, n_estimators=125;, score=0.991 total time= 2.0min\n",
            "[CV 5/5; 8/10] START min_samples_leaf=4, min_samples_split=5, n_estimators=125..\n",
            "[CV 5/5; 8/10] END min_samples_leaf=4, min_samples_split=5, n_estimators=125;, score=0.991 total time= 2.0min\n",
            "[CV 1/5; 9/10] START min_samples_leaf=1, min_samples_split=10, n_estimators=200.\n",
            "[CV 1/5; 9/10] END min_samples_leaf=1, min_samples_split=10, n_estimators=200;, score=0.991 total time= 3.0min\n",
            "[CV 2/5; 9/10] START min_samples_leaf=1, min_samples_split=10, n_estimators=200.\n",
            "[CV 2/5; 9/10] END min_samples_leaf=1, min_samples_split=10, n_estimators=200;, score=0.991 total time= 3.2min\n",
            "[CV 3/5; 9/10] START min_samples_leaf=1, min_samples_split=10, n_estimators=200.\n",
            "[CV 3/5; 9/10] END min_samples_leaf=1, min_samples_split=10, n_estimators=200;, score=0.990 total time= 3.1min\n",
            "[CV 4/5; 9/10] START min_samples_leaf=1, min_samples_split=10, n_estimators=200.\n",
            "[CV 4/5; 9/10] END min_samples_leaf=1, min_samples_split=10, n_estimators=200;, score=0.991 total time= 3.1min\n",
            "[CV 5/5; 9/10] START min_samples_leaf=1, min_samples_split=10, n_estimators=200.\n",
            "[CV 5/5; 9/10] END min_samples_leaf=1, min_samples_split=10, n_estimators=200;, score=0.992 total time= 3.0min\n",
            "[CV 1/5; 10/10] START min_samples_leaf=1, min_samples_split=2, n_estimators=150.\n",
            "[CV 1/5; 10/10] END min_samples_leaf=1, min_samples_split=2, n_estimators=150;, score=0.991 total time= 2.2min\n",
            "[CV 2/5; 10/10] START min_samples_leaf=1, min_samples_split=2, n_estimators=150.\n",
            "[CV 2/5; 10/10] END min_samples_leaf=1, min_samples_split=2, n_estimators=150;, score=0.991 total time= 2.3min\n",
            "[CV 3/5; 10/10] START min_samples_leaf=1, min_samples_split=2, n_estimators=150.\n",
            "[CV 3/5; 10/10] END min_samples_leaf=1, min_samples_split=2, n_estimators=150;, score=0.991 total time= 2.4min\n",
            "[CV 4/5; 10/10] START min_samples_leaf=1, min_samples_split=2, n_estimators=150.\n",
            "[CV 4/5; 10/10] END min_samples_leaf=1, min_samples_split=2, n_estimators=150;, score=0.991 total time= 2.4min\n",
            "[CV 5/5; 10/10] START min_samples_leaf=1, min_samples_split=2, n_estimators=150.\n",
            "[CV 5/5; 10/10] END min_samples_leaf=1, min_samples_split=2, n_estimators=150;, score=0.993 total time= 2.2min\n"
          ]
        },
        {
          "output_type": "execute_result",
          "data": {
            "text/plain": [
              "RandomizedSearchCV(cv=5, estimator=RandomForestClassifier(),\n",
              "                   param_distributions={'min_samples_leaf': [1, 2, 4],\n",
              "                                        'min_samples_split': [2, 5, 10],\n",
              "                                        'n_estimators': [100, 125, 150, 175,\n",
              "                                                         200]},\n",
              "                   verbose=10)"
            ]
          },
          "metadata": {},
          "execution_count": 39
        }
      ]
    },
    {
      "cell_type": "code",
      "metadata": {
        "colab": {
          "base_uri": "https://localhost:8080/"
        },
        "id": "UjUwQj2MFcvn",
        "outputId": "67b17079-799e-4265-eb0f-d7a9e41bf180"
      },
      "source": [
        "clf = RandomForestClassifier(n_estimators=150, min_samples_leaf=1, min_samples_split=2, criterion='entropy')\n",
        "clf.fit(X_train, y_train)\n",
        "y_pred = clf.predict(X_test)\n",
        "accuracy = return_accuracy(y_test, y_pred, verbose=1)"
      ],
      "id": "UjUwQj2MFcvn",
      "execution_count": 23,
      "outputs": [
        {
          "output_type": "stream",
          "name": "stdout",
          "text": [
            "The number of true negatives is: 105503\n",
            "The number of false negatives is: 717\n",
            "The number of false positives is: 119\n",
            "The number of true positives is: 775\n",
            "The accuracy is: 0.9921952312489497\n"
          ]
        }
      ]
    },
    {
      "cell_type": "markdown",
      "metadata": {
        "id": "u9oXrvQYHxOO"
      },
      "source": [
        "We see that the accuracy is slightly decreasing with respect to the case in which the parameters were not tuned"
      ],
      "id": "u9oXrvQYHxOO"
    }
  ]
}