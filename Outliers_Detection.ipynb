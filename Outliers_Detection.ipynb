{
  "nbformat": 4,
  "nbformat_minor": 5,
  "metadata": {
    "kernelspec": {
      "display_name": "Python 3",
      "language": "python",
      "name": "python3"
    },
    "language_info": {
      "codemirror_mode": {
        "name": "ipython",
        "version": 3
      },
      "file_extension": ".py",
      "mimetype": "text/x-python",
      "name": "python",
      "nbconvert_exporter": "python",
      "pygments_lexer": "ipython3",
      "version": "3.8.8"
    },
    "colab": {
      "name": "Outliers_Detection.ipynb",
      "provenance": [],
      "collapsed_sections": []
    },
    "accelerator": "GPU"
  },
  "cells": [
    {
      "cell_type": "markdown",
      "metadata": {
        "id": "OVkUbtoxrZN3"
      },
      "source": [
        "Importing useful libraries and importing the drive for the dataset"
      ],
      "id": "OVkUbtoxrZN3"
    },
    {
      "cell_type": "code",
      "metadata": {
        "id": "dc466260"
      },
      "source": [
        "import numpy as np\n",
        "import matplotlib.pyplot as plt\n",
        "import scipy.stats as st\n",
        "import torch\n",
        "import torch.nn as nn\n",
        "import sklearn\n",
        "import pandas as pd\n",
        "import io\n",
        "import math\n",
        "from sklearn.model_selection import train_test_split"
      ],
      "id": "dc466260",
      "execution_count": 1,
      "outputs": []
    },
    {
      "cell_type": "code",
      "metadata": {
        "colab": {
          "base_uri": "https://localhost:8080/"
        },
        "id": "jjM2luKFSayr",
        "outputId": "39fbd392-aece-414c-d4bb-f6ab178092bf"
      },
      "source": [
        "from google.colab import drive\n",
        "drive.mount('/content/drive')\n",
        "%cd drive/My\\ Drive"
      ],
      "id": "jjM2luKFSayr",
      "execution_count": 2,
      "outputs": [
        {
          "output_type": "stream",
          "name": "stdout",
          "text": [
            "Mounted at /content/drive\n",
            "/content/drive/My Drive\n"
          ]
        }
      ]
    },
    {
      "cell_type": "markdown",
      "metadata": {
        "id": "FkcqxT8Eo-D2"
      },
      "source": [
        "Importing the data"
      ],
      "id": "FkcqxT8Eo-D2"
    },
    {
      "cell_type": "code",
      "metadata": {
        "id": "z6__FhQiuUag"
      },
      "source": [
        "pddata = pd.read_csv('GSM1586785_ScrH-12A_Exd_14mer_cg.csv.zip', compression='zip', error_bad_lines=False, skiprows=1)"
      ],
      "id": "z6__FhQiuUag",
      "execution_count": 3,
      "outputs": []
    },
    {
      "cell_type": "code",
      "metadata": {
        "id": "7Onini8BliWv"
      },
      "source": [
        "pddata = pddata.to_numpy()\n",
        "RelKa = pddata[:, -1]\n",
        "training_data = pddata[:, 2:-1]"
      ],
      "id": "7Onini8BliWv",
      "execution_count": 4,
      "outputs": []
    },
    {
      "cell_type": "markdown",
      "metadata": {
        "id": "_k3VzeutCXDe"
      },
      "source": [
        "Some helpers function for the analysis below"
      ],
      "id": "_k3VzeutCXDe"
    },
    {
      "cell_type": "code",
      "metadata": {
        "id": "iOBmnZCWDJEC"
      },
      "source": [
        "def drop_outliers(x, y, outliers):\n",
        "  x = np.delete(x, outliers, axis=0)\n",
        "  y = np.delete(y, outliers, axis=0)\n",
        "  return x, y"
      ],
      "id": "iOBmnZCWDJEC",
      "execution_count": 5,
      "outputs": []
    },
    {
      "cell_type": "code",
      "metadata": {
        "id": "c4K442J2Cbu5"
      },
      "source": [
        "from sklearn import preprocessing\n",
        "\n",
        "def standardize(x):\n",
        "  scaler = preprocessing.StandardScaler().fit(training_data)\n",
        "  x = scaler.transform(x)\n",
        "  return x"
      ],
      "id": "c4K442J2Cbu5",
      "execution_count": 6,
      "outputs": []
    },
    {
      "cell_type": "code",
      "metadata": {
        "id": "V2AblynuDYKx"
      },
      "source": [
        "def split_RelKa(y, p):\n",
        "  return np.array([1 if value > p else 0 for value in y])"
      ],
      "id": "V2AblynuDYKx",
      "execution_count": 7,
      "outputs": []
    },
    {
      "cell_type": "code",
      "metadata": {
        "id": "LCehBG91D9S1"
      },
      "source": [
        "from sklearn.ensemble import RandomForestClassifier\n",
        "\n",
        "def predict_with_Random_Forests(x_train, x_test, y_train, y_test):\n",
        "  clf = RandomForestClassifier(n_estimators=100, criterion='entropy')\n",
        "  clf.fit(X_train, y_train)\n",
        "  y_pred = clf.predict(X_test)  \n",
        "  return y_pred"
      ],
      "id": "LCehBG91D9S1",
      "execution_count": 8,
      "outputs": []
    },
    {
      "cell_type": "code",
      "metadata": {
        "id": "VGsyw7IyCpN7"
      },
      "source": [
        "from sklearn import metrics\n",
        "\n",
        "def return_accuracy(y_test, y_pred, verbose=1):\n",
        "  C = metrics.confusion_matrix(y_test, y_pred)\n",
        "  accuracy = np.trace(C) / len(y_test)\n",
        "  if verbose == 1:\n",
        "    print(\"The number of true negatives is:\", C[0, 0])\n",
        "    print(\"The number of false negatives is:\", C[1,0])\n",
        "    print(\"The number of false positives is:\", C[0,1])  \n",
        "    print(\"The number of true positives is:\", C[1,1])\n",
        "    print(\"The accuracy is:\", accuracy)\n",
        "  return accuracy"
      ],
      "id": "VGsyw7IyCpN7",
      "execution_count": 9,
      "outputs": []
    },
    {
      "cell_type": "code",
      "metadata": {
        "id": "O_VezXLPOxCd"
      },
      "source": [
        "def split_outliers(threshold, scores):\n",
        "  \"\"\"\n",
        "  As a consequence of the histogram below, we change the decision function \n",
        "  implemented in the isolation forests if the \n",
        "  Anomaly_Detection_Isolation_Forests function is told to do so\n",
        "  \"\"\"\n",
        "  outliers_indices = np.where(scores <= threshold)[0]\n",
        "  return outliers_indices"
      ],
      "id": "O_VezXLPOxCd",
      "execution_count": 12,
      "outputs": []
    },
    {
      "cell_type": "markdown",
      "metadata": {
        "id": "DxQsUtJxOGkA"
      },
      "source": [
        "WE FIRTS TRY TO DO A PREDICTION WITHOUT ANY OUTLIER REMOTION TO HAVE A COMPARISON"
      ],
      "id": "DxQsUtJxOGkA"
    },
    {
      "cell_type": "code",
      "metadata": {
        "id": "qL_SNdMdOMMT"
      },
      "source": [
        "training_data = standardize(training_data)\n",
        "RelKa_tilda = split_RelKa(RelKa, 0.5)\n",
        "X_train, X_test, y_train, y_test = train_test_split(training_data, RelKa_tilda, train_size=0.7, random_state=42)"
      ],
      "id": "qL_SNdMdOMMT",
      "execution_count": 10,
      "outputs": []
    },
    {
      "cell_type": "code",
      "metadata": {
        "colab": {
          "base_uri": "https://localhost:8080/"
        },
        "id": "LXWLj0eUOPil",
        "outputId": "f825158a-9736-4018-c10a-dfd2e85bd776"
      },
      "source": [
        "y_pred = predict_with_Random_Forests(X_train, X_test, y_train, y_test)\n",
        "accuracy = return_accuracy(y_test, y_pred, verbose=1)"
      ],
      "id": "LXWLj0eUOPil",
      "execution_count": 11,
      "outputs": [
        {
          "output_type": "stream",
          "name": "stdout",
          "text": [
            "The number of true negatives is: 50428\n",
            "The number of false negatives is: 253\n",
            "The number of false positives is: 58\n",
            "The number of true positives is: 436\n",
            "The accuracy is: 0.9939228138739619\n"
          ]
        }
      ]
    },
    {
      "cell_type": "markdown",
      "metadata": {
        "id": "A5jxNaIhPrCo"
      },
      "source": [
        "We see that indeed we get a very high accuracy and the number of FN is controlled. What if we finetune the parameters of the RF?"
      ],
      "id": "A5jxNaIhPrCo"
    },
    {
      "cell_type": "code",
      "metadata": {
        "id": "XfIslhQMRnNA"
      },
      "source": [
        "from sklearn.model_selection import RandomizedSearchCV\n",
        "\n",
        "n_estimators = [int(x) for x in np.linspace(start = 100, stop = 120, num = 5)]\n",
        "min_samples_split = [2, 5, 8]\n",
        "min_samples_leaf = [1, 2, 4]\n",
        "random_grid = {'n_estimators': n_estimators,\n",
        "               'min_samples_split': min_samples_split,\n",
        "               'min_samples_leaf': min_samples_leaf}"
      ],
      "id": "XfIslhQMRnNA",
      "execution_count": 32,
      "outputs": []
    },
    {
      "cell_type": "code",
      "metadata": {
        "colab": {
          "base_uri": "https://localhost:8080/"
        },
        "id": "1HVEF-N3Szsu",
        "outputId": "0119cd69-aefa-4b0b-f31b-cf3aec009c89"
      },
      "source": [
        "from sklearn.ensemble import RandomForestClassifier\n",
        "\n",
        "rf = RandomForestClassifier()\n",
        "rf_random = RandomizedSearchCV(estimator = rf, param_distributions = random_grid, n_iter = 3, cv = 4, verbose=10)\n",
        "rf_random.fit(X_train, y_train)"
      ],
      "id": "1HVEF-N3Szsu",
      "execution_count": 33,
      "outputs": [
        {
          "output_type": "stream",
          "name": "stdout",
          "text": [
            "Fitting 4 folds for each of 3 candidates, totalling 12 fits\n",
            "[CV 1/4; 1/3] START min_samples_leaf=1, min_samples_split=5, n_estimators=110...\n",
            "[CV 1/4; 1/3] END min_samples_leaf=1, min_samples_split=5, n_estimators=110;, score=0.993 total time= 3.9min\n",
            "[CV 2/4; 1/3] START min_samples_leaf=1, min_samples_split=5, n_estimators=110...\n",
            "[CV 2/4; 1/3] END min_samples_leaf=1, min_samples_split=5, n_estimators=110;, score=0.993 total time= 4.0min\n",
            "[CV 3/4; 1/3] START min_samples_leaf=1, min_samples_split=5, n_estimators=110...\n",
            "[CV 3/4; 1/3] END min_samples_leaf=1, min_samples_split=5, n_estimators=110;, score=0.992 total time= 4.0min\n",
            "[CV 4/4; 1/3] START min_samples_leaf=1, min_samples_split=5, n_estimators=110...\n",
            "[CV 4/4; 1/3] END min_samples_leaf=1, min_samples_split=5, n_estimators=110;, score=0.993 total time= 4.1min\n",
            "[CV 1/4; 2/3] START min_samples_leaf=2, min_samples_split=8, n_estimators=100...\n",
            "[CV 1/4; 2/3] END min_samples_leaf=2, min_samples_split=8, n_estimators=100;, score=0.993 total time= 3.7min\n",
            "[CV 2/4; 2/3] START min_samples_leaf=2, min_samples_split=8, n_estimators=100...\n",
            "[CV 2/4; 2/3] END min_samples_leaf=2, min_samples_split=8, n_estimators=100;, score=0.993 total time= 3.6min\n",
            "[CV 3/4; 2/3] START min_samples_leaf=2, min_samples_split=8, n_estimators=100...\n",
            "[CV 3/4; 2/3] END min_samples_leaf=2, min_samples_split=8, n_estimators=100;, score=0.992 total time= 3.7min\n",
            "[CV 4/4; 2/3] START min_samples_leaf=2, min_samples_split=8, n_estimators=100...\n",
            "[CV 4/4; 2/3] END min_samples_leaf=2, min_samples_split=8, n_estimators=100;, score=0.993 total time= 3.7min\n",
            "[CV 1/4; 3/3] START min_samples_leaf=2, min_samples_split=5, n_estimators=110...\n",
            "[CV 1/4; 3/3] END min_samples_leaf=2, min_samples_split=5, n_estimators=110;, score=0.993 total time= 4.1min\n",
            "[CV 2/4; 3/3] START min_samples_leaf=2, min_samples_split=5, n_estimators=110...\n",
            "[CV 2/4; 3/3] END min_samples_leaf=2, min_samples_split=5, n_estimators=110;, score=0.993 total time= 4.2min\n",
            "[CV 3/4; 3/3] START min_samples_leaf=2, min_samples_split=5, n_estimators=110...\n",
            "[CV 3/4; 3/3] END min_samples_leaf=2, min_samples_split=5, n_estimators=110;, score=0.993 total time= 4.1min\n",
            "[CV 4/4; 3/3] START min_samples_leaf=2, min_samples_split=5, n_estimators=110...\n",
            "[CV 4/4; 3/3] END min_samples_leaf=2, min_samples_split=5, n_estimators=110;, score=0.993 total time= 4.3min\n"
          ]
        },
        {
          "output_type": "execute_result",
          "data": {
            "text/plain": [
              "RandomizedSearchCV(cv=4, estimator=RandomForestClassifier(), n_iter=3,\n",
              "                   param_distributions={'min_samples_leaf': [1, 2, 4],\n",
              "                                        'min_samples_split': [2, 5, 8],\n",
              "                                        'n_estimators': [100, 105, 110, 115,\n",
              "                                                         120]},\n",
              "                   verbose=10)"
            ]
          },
          "metadata": {},
          "execution_count": 33
        }
      ]
    },
    {
      "cell_type": "code",
      "metadata": {
        "colab": {
          "base_uri": "https://localhost:8080/"
        },
        "id": "8H2NteSFUU8b",
        "outputId": "735a0ddd-e293-4903-abe6-26cc76e550f8"
      },
      "source": [
        "clf = RandomForestClassifier(n_estimators=110, min_samples_leaf=2, min_samples_split=5, criterion='entropy')\n",
        "clf.fit(X_train, y_train)\n",
        "y_pred = clf.predict(X_test)\n",
        "accuracy = return_accuracy(y_test, y_pred, verbose=1)"
      ],
      "id": "8H2NteSFUU8b",
      "execution_count": 36,
      "outputs": [
        {
          "output_type": "stream",
          "name": "stdout",
          "text": [
            "The number of true negatives is: 46447\n",
            "The number of false negatives is: 263\n",
            "The number of false positives is: 36\n",
            "The number of true positives is: 408\n",
            "The accuracy is: 0.9936590745217797\n"
          ]
        }
      ]
    },
    {
      "cell_type": "markdown",
      "metadata": {
        "id": "orlE_95jh_5C"
      },
      "source": [
        "We see that the accuracy with respect to the above (0.9939228138739619) is \n",
        "indeed decreasing a little bit (0.9936590745217797)"
      ],
      "id": "orlE_95jh_5C"
    },
    {
      "cell_type": "markdown",
      "metadata": {
        "id": "DV5aXOeq6mGI"
      },
      "source": [
        "ISOLATION FORESTS ANOMALY DETECTION"
      ],
      "id": "DV5aXOeq6mGI"
    },
    {
      "cell_type": "code",
      "metadata": {
        "id": "ec7aw0cE6rsV"
      },
      "source": [
        "from sklearn.ensemble import IsolationForest\n",
        "\n",
        "def Anomaly_Detection_Isolation_Forests(x, change_split=True):\n",
        "  random_state = np.random.RandomState(42)\n",
        "  contamination = 'auto'\n",
        "  threshold = np.random.uniform(-0.03, -0.02, 1)\n",
        "  model = IsolationForest(n_estimators=120, max_samples='auto', contamination=contamination, random_state=random_state)\n",
        "  model.fit(x)\n",
        "  scores = model.decision_function(x)\n",
        "  if change_split == False:\n",
        "    anomaly_score = model.predict(x)\n",
        "    outliers_indices = np.where(anomaly_score == -1)[0]\n",
        "  if change_split == True:\n",
        "    outliers_indices = split_outliers(threshold, scores)\n",
        "  return contamination, scores, outliers_indices\n",
        "\n",
        "def check_Isolation_Forests(contamination, outliers_indices):\n",
        "  \"\"\"\n",
        "  Simply a check on the proper working of the IF algorithm\n",
        "  \"\"\"\n",
        "  tol = 1.0e-02\n",
        "  if contamination != 'auto':\n",
        "    outliers_percentage = 1 / len(RelKa) * len(outliers_indices)\n",
        "    assert np.abs(contamination-outliers_percentage) < tol\n",
        "\n",
        "def check_boundary_decision(scores, p, verbose=1):\n",
        "  \"\"\"\n",
        "  This function simply controls how many scores returned by the IF algorithm \n",
        "  are likely to be misclassified\n",
        "  \"\"\"\n",
        "  indecision_percentage = 1 / len(RelKa) * np.count_nonzero(np.abs(scores) <= p)\n",
        "  if verbose == 1:\n",
        "    plt.hist(scores)\n",
        "    plt.show()\n",
        "    print(\"The indecision percentage around\", p,  \"is\", indecision_percentage)\n",
        "    print(\"The percentage of outliers detected is\", 1 / len(scores) * len(np.where(scores < 0)[0]))"
      ],
      "id": "ec7aw0cE6rsV",
      "execution_count": 26,
      "outputs": []
    },
    {
      "cell_type": "code",
      "metadata": {
        "colab": {
          "base_uri": "https://localhost:8080/",
          "height": 300
        },
        "id": "T13n1dNv7ct7",
        "outputId": "b09b44ee-88be-41df-fe72-7bd913609aa4"
      },
      "source": [
        "contamination, scores, outliers_indices = Anomaly_Detection_Isolation_Forests(training_data, change_split=False)\n",
        "check_Isolation_Forests(contamination, outliers_indices)\n",
        "check_boundary_decision(scores, 0.02, verbose=1)"
      ],
      "id": "T13n1dNv7ct7",
      "execution_count": 27,
      "outputs": [
        {
          "output_type": "display_data",
          "data": {
            "image/png": "[encoded data removed]",
            "text/plain": [
              "<Figure size 432x288 with 1 Axes>"
            ]
          },
          "metadata": {
            "needs_background": "light"
          }
        },
        {
          "output_type": "stream",
          "name": "stdout",
          "text": [
            "The indecision percentage around 0.02 is 0.5964638817137258\n",
            "The percentage of outliers detected is 0.07785906634829187\n"
          ]
        }
      ]
    },
    {
      "cell_type": "code",
      "metadata": {
        "id": "bCG72D-4EhlD"
      },
      "source": [
        "training_data, RelKa = drop_outliers(training_data, RelKa, outliers_indices)\n",
        "training_data = standardize(training_data)\n",
        "RelKa_tilda = split_RelKa(RelKa, 0.5)"
      ],
      "id": "bCG72D-4EhlD",
      "execution_count": 23,
      "outputs": []
    },
    {
      "cell_type": "code",
      "metadata": {
        "id": "ssEbARYX4S5-"
      },
      "source": [
        "X_train, X_test, y_train, y_test = train_test_split(training_data, RelKa_tilda, train_size=0.7, random_state=42)"
      ],
      "id": "ssEbARYX4S5-",
      "execution_count": 24,
      "outputs": []
    },
    {
      "cell_type": "code",
      "metadata": {
        "colab": {
          "base_uri": "https://localhost:8080/"
        },
        "id": "nob2nvYFE3kj",
        "outputId": "7a4c7cd1-5afe-4ea7-fb87-04327bad921a"
      },
      "source": [
        "y_pred = predict_with_Random_Forests(X_train, X_test, y_train, y_test)\n",
        "accuracy = return_accuracy(y_test, y_pred, verbose=1)"
      ],
      "id": "nob2nvYFE3kj",
      "execution_count": 25,
      "outputs": [
        {
          "output_type": "stream",
          "name": "stdout",
          "text": [
            "The number of true negatives is: 46443\n",
            "The number of false negatives is: 250\n",
            "The number of false positives is: 40\n",
            "The number of true positives is: 421\n",
            "The accuracy is: 0.993849938499385\n"
          ]
        }
      ]
    },
    {
      "cell_type": "markdown",
      "metadata": {
        "id": "c0ZFt_3aQOYT"
      },
      "source": [
        "THE RESULTS ARE COLLECTED HERE: BY CHANGING THE SPLITTING OF THE OUTLIERS \\\\\n",
        "The number of true negatives is: 50393 \\\\\n",
        "The number of false negatives is: 262 \\\\\n",
        "The number of false positives is: 51 \\\\\n",
        "The number of true positives is: 429 \\\\\n",
        "The accuracy is: 0.9938789478830546\n",
        "\n",
        "WHILE BY MAINTAINING THE STANDARD ISOLATION FORESTS ALGORITHM \\\\\n",
        "The number of true negatives is: 46443 \\\\\n",
        "The number of false negatives is: 250 \\\\\n",
        "The number of false positives is: 40 \\\\\n",
        "The number of true positives is: 421 \\\\\n",
        "The accuracy is: 0.993849938499385 \n",
        "\n",
        "GIVING US THE CONFIRMATION THAT DROPPING OUTLIERS IS NOT CONVENIENT HERE\n",
        "\n"
      ],
      "id": "c0ZFt_3aQOYT"
    },
    {
      "cell_type": "markdown",
      "metadata": {
        "id": "4TyHT3NLfYy7"
      },
      "source": [
        "We see that we have a problem with a large number of false negatives, namely with incorrectly predictions of the negative class"
      ],
      "id": "4TyHT3NLfYy7"
    },
    {
      "cell_type": "markdown",
      "metadata": {
        "id": "GqcRaNgPqWlT"
      },
      "source": [
        "A further insight on the errors has to be done, but probably increasing the threshold 0.5 helps already a lot"
      ],
      "id": "GqcRaNgPqWlT"
    },
    {
      "cell_type": "markdown",
      "metadata": {
        "id": "1vAi22ydnFGR"
      },
      "source": [
        "# CROSS VALIDATION (5-FOLD) TO FINETUNE THE RF PARAMETERS"
      ],
      "id": "1vAi22ydnFGR"
    },
    {
      "cell_type": "code",
      "metadata": {
        "id": "uySFlHwpoewE"
      },
      "source": [
        "X_train, X_test, y_train, y_test = train_test_split(training_data, RelKa_tilda, train_size=0.7, random_state=42)"
      ],
      "id": "uySFlHwpoewE",
      "execution_count": null,
      "outputs": []
    },
    {
      "cell_type": "code",
      "metadata": {
        "id": "eVKIvgRtnQZV"
      },
      "source": [
        "from sklearn.model_selection import RandomizedSearchCV\n",
        "\n",
        "n_estimators = [int(x) for x in np.linspace(start = 100, stop = 200, num = 5)]\n",
        "min_samples_split = [2, 5, 10]\n",
        "min_samples_leaf = [1, 2, 4]\n",
        "random_grid = {'n_estimators': n_estimators,\n",
        "               'min_samples_split': min_samples_split,\n",
        "               'min_samples_leaf': min_samples_leaf}"
      ],
      "id": "eVKIvgRtnQZV",
      "execution_count": null,
      "outputs": []
    },
    {
      "cell_type": "code",
      "metadata": {
        "colab": {
          "base_uri": "https://localhost:8080/"
        },
        "id": "DiMsjYxCoBKC",
        "outputId": "60c7d597-c021-4fc2-9f3b-d55c33e03f47"
      },
      "source": [
        "from sklearn.ensemble import RandomForestClassifier\n",
        "\n",
        "rf = RandomForestClassifier()\n",
        "rf_random = RandomizedSearchCV(estimator = rf, param_distributions = random_grid, n_iter = 10, cv = 5, verbose=10)\n",
        "rf_random.fit(X_train, y_train)"
      ],
      "id": "DiMsjYxCoBKC",
      "execution_count": null,
      "outputs": [
        {
          "output_type": "stream",
          "name": "stdout",
          "text": [
            "Fitting 5 folds for each of 10 candidates, totalling 50 fits\n",
            "[CV 1/5; 1/10] START min_samples_leaf=1, min_samples_split=2, n_estimators=100..\n",
            "[CV 1/5; 1/10] END min_samples_leaf=1, min_samples_split=2, n_estimators=100;, score=0.991 total time= 1.5min\n",
            "[CV 2/5; 1/10] START min_samples_leaf=1, min_samples_split=2, n_estimators=100..\n",
            "[CV 2/5; 1/10] END min_samples_leaf=1, min_samples_split=2, n_estimators=100;, score=0.992 total time= 1.6min\n",
            "[CV 3/5; 1/10] START min_samples_leaf=1, min_samples_split=2, n_estimators=100..\n",
            "[CV 3/5; 1/10] END min_samples_leaf=1, min_samples_split=2, n_estimators=100;, score=0.991 total time= 1.6min\n",
            "[CV 4/5; 1/10] START min_samples_leaf=1, min_samples_split=2, n_estimators=100..\n",
            "[CV 4/5; 1/10] END min_samples_leaf=1, min_samples_split=2, n_estimators=100;, score=0.991 total time= 1.6min\n",
            "[CV 5/5; 1/10] START min_samples_leaf=1, min_samples_split=2, n_estimators=100..\n",
            "[CV 5/5; 1/10] END min_samples_leaf=1, min_samples_split=2, n_estimators=100;, score=0.992 total time= 1.6min\n",
            "[CV 1/5; 2/10] START min_samples_leaf=2, min_samples_split=10, n_estimators=100.\n",
            "[CV 1/5; 2/10] END min_samples_leaf=2, min_samples_split=10, n_estimators=100;, score=0.991 total time= 1.4min\n",
            "[CV 2/5; 2/10] START min_samples_leaf=2, min_samples_split=10, n_estimators=100.\n",
            "[CV 2/5; 2/10] END min_samples_leaf=2, min_samples_split=10, n_estimators=100;, score=0.991 total time= 1.5min\n",
            "[CV 3/5; 2/10] START min_samples_leaf=2, min_samples_split=10, n_estimators=100.\n",
            "[CV 3/5; 2/10] END min_samples_leaf=2, min_samples_split=10, n_estimators=100;, score=0.990 total time= 1.5min\n",
            "[CV 4/5; 2/10] START min_samples_leaf=2, min_samples_split=10, n_estimators=100.\n",
            "[CV 4/5; 2/10] END min_samples_leaf=2, min_samples_split=10, n_estimators=100;, score=0.990 total time= 1.5min\n",
            "[CV 5/5; 2/10] START min_samples_leaf=2, min_samples_split=10, n_estimators=100.\n",
            "[CV 5/5; 2/10] END min_samples_leaf=2, min_samples_split=10, n_estimators=100;, score=0.991 total time= 1.5min\n",
            "[CV 1/5; 3/10] START min_samples_leaf=4, min_samples_split=10, n_estimators=100.\n",
            "[CV 1/5; 3/10] END min_samples_leaf=4, min_samples_split=10, n_estimators=100;, score=0.991 total time= 1.5min\n",
            "[CV 2/5; 3/10] START min_samples_leaf=4, min_samples_split=10, n_estimators=100.\n",
            "[CV 2/5; 3/10] END min_samples_leaf=4, min_samples_split=10, n_estimators=100;, score=0.990 total time= 1.5min\n",
            "[CV 3/5; 3/10] START min_samples_leaf=4, min_samples_split=10, n_estimators=100.\n",
            "[CV 3/5; 3/10] END min_samples_leaf=4, min_samples_split=10, n_estimators=100;, score=0.990 total time= 1.5min\n",
            "[CV 4/5; 3/10] START min_samples_leaf=4, min_samples_split=10, n_estimators=100.\n",
            "[CV 4/5; 3/10] END min_samples_leaf=4, min_samples_split=10, n_estimators=100;, score=0.990 total time= 1.6min\n",
            "[CV 5/5; 3/10] START min_samples_leaf=4, min_samples_split=10, n_estimators=100.\n",
            "[CV 5/5; 3/10] END min_samples_leaf=4, min_samples_split=10, n_estimators=100;, score=0.991 total time= 1.5min\n",
            "[CV 1/5; 4/10] START min_samples_leaf=2, min_samples_split=10, n_estimators=175.\n",
            "[CV 1/5; 4/10] END min_samples_leaf=2, min_samples_split=10, n_estimators=175;, score=0.991 total time= 2.6min\n",
            "[CV 2/5; 4/10] START min_samples_leaf=2, min_samples_split=10, n_estimators=175.\n",
            "[CV 2/5; 4/10] END min_samples_leaf=2, min_samples_split=10, n_estimators=175;, score=0.990 total time= 2.7min\n",
            "[CV 3/5; 4/10] START min_samples_leaf=2, min_samples_split=10, n_estimators=175.\n",
            "[CV 3/5; 4/10] END min_samples_leaf=2, min_samples_split=10, n_estimators=175;, score=0.990 total time= 2.6min\n",
            "[CV 4/5; 4/10] START min_samples_leaf=2, min_samples_split=10, n_estimators=175.\n",
            "[CV 4/5; 4/10] END min_samples_leaf=2, min_samples_split=10, n_estimators=175;, score=0.991 total time= 2.7min\n",
            "[CV 5/5; 4/10] START min_samples_leaf=2, min_samples_split=10, n_estimators=175.\n",
            "[CV 5/5; 4/10] END min_samples_leaf=2, min_samples_split=10, n_estimators=175;, score=0.991 total time= 2.6min\n",
            "[CV 1/5; 5/10] START min_samples_leaf=2, min_samples_split=10, n_estimators=150.\n",
            "[CV 1/5; 5/10] END min_samples_leaf=2, min_samples_split=10, n_estimators=150;, score=0.990 total time= 2.3min\n",
            "[CV 2/5; 5/10] START min_samples_leaf=2, min_samples_split=10, n_estimators=150.\n",
            "[CV 2/5; 5/10] END min_samples_leaf=2, min_samples_split=10, n_estimators=150;, score=0.991 total time= 2.2min\n",
            "[CV 3/5; 5/10] START min_samples_leaf=2, min_samples_split=10, n_estimators=150.\n",
            "[CV 3/5; 5/10] END min_samples_leaf=2, min_samples_split=10, n_estimators=150;, score=0.990 total time= 2.3min\n",
            "[CV 4/5; 5/10] START min_samples_leaf=2, min_samples_split=10, n_estimators=150.\n",
            "[CV 4/5; 5/10] END min_samples_leaf=2, min_samples_split=10, n_estimators=150;, score=0.991 total time= 2.4min\n",
            "[CV 5/5; 5/10] START min_samples_leaf=2, min_samples_split=10, n_estimators=150.\n",
            "[CV 5/5; 5/10] END min_samples_leaf=2, min_samples_split=10, n_estimators=150;, score=0.991 total time= 2.3min\n",
            "[CV 1/5; 6/10] START min_samples_leaf=1, min_samples_split=10, n_estimators=150.\n",
            "[CV 1/5; 6/10] END min_samples_leaf=1, min_samples_split=10, n_estimators=150;, score=0.991 total time= 2.2min\n",
            "[CV 2/5; 6/10] START min_samples_leaf=1, min_samples_split=10, n_estimators=150.\n",
            "[CV 2/5; 6/10] END min_samples_leaf=1, min_samples_split=10, n_estimators=150;, score=0.991 total time= 2.4min\n",
            "[CV 3/5; 6/10] START min_samples_leaf=1, min_samples_split=10, n_estimators=150.\n",
            "[CV 3/5; 6/10] END min_samples_leaf=1, min_samples_split=10, n_estimators=150;, score=0.991 total time= 2.4min\n",
            "[CV 4/5; 6/10] START min_samples_leaf=1, min_samples_split=10, n_estimators=150.\n",
            "[CV 4/5; 6/10] END min_samples_leaf=1, min_samples_split=10, n_estimators=150;, score=0.991 total time= 2.3min\n",
            "[CV 5/5; 6/10] START min_samples_leaf=1, min_samples_split=10, n_estimators=150.\n",
            "[CV 5/5; 6/10] END min_samples_leaf=1, min_samples_split=10, n_estimators=150;, score=0.992 total time= 2.3min\n",
            "[CV 1/5; 7/10] START min_samples_leaf=2, min_samples_split=2, n_estimators=150..\n",
            "[CV 1/5; 7/10] END min_samples_leaf=2, min_samples_split=2, n_estimators=150;, score=0.991 total time= 2.2min\n",
            "[CV 2/5; 7/10] START min_samples_leaf=2, min_samples_split=2, n_estimators=150..\n",
            "[CV 2/5; 7/10] END min_samples_leaf=2, min_samples_split=2, n_estimators=150;, score=0.991 total time= 2.3min\n",
            "[CV 3/5; 7/10] START min_samples_leaf=2, min_samples_split=2, n_estimators=150..\n",
            "[CV 3/5; 7/10] END min_samples_leaf=2, min_samples_split=2, n_estimators=150;, score=0.991 total time= 2.3min\n",
            "[CV 4/5; 7/10] START min_samples_leaf=2, min_samples_split=2, n_estimators=150..\n",
            "[CV 4/5; 7/10] END min_samples_leaf=2, min_samples_split=2, n_estimators=150;, score=0.991 total time= 2.4min\n",
            "[CV 5/5; 7/10] START min_samples_leaf=2, min_samples_split=2, n_estimators=150..\n",
            "[CV 5/5; 7/10] END min_samples_leaf=2, min_samples_split=2, n_estimators=150;, score=0.991 total time= 2.4min\n",
            "[CV 1/5; 8/10] START min_samples_leaf=4, min_samples_split=5, n_estimators=125..\n",
            "[CV 1/5; 8/10] END min_samples_leaf=4, min_samples_split=5, n_estimators=125;, score=0.991 total time= 1.9min\n",
            "[CV 2/5; 8/10] START min_samples_leaf=4, min_samples_split=5, n_estimators=125..\n",
            "[CV 2/5; 8/10] END min_samples_leaf=4, min_samples_split=5, n_estimators=125;, score=0.991 total time= 2.0min\n",
            "[CV 3/5; 8/10] START min_samples_leaf=4, min_samples_split=5, n_estimators=125..\n",
            "[CV 3/5; 8/10] END min_samples_leaf=4, min_samples_split=5, n_estimators=125;, score=0.990 total time= 2.0min\n",
            "[CV 4/5; 8/10] START min_samples_leaf=4, min_samples_split=5, n_estimators=125..\n",
            "[CV 4/5; 8/10] END min_samples_leaf=4, min_samples_split=5, n_estimators=125;, score=0.991 total time= 2.0min\n",
            "[CV 5/5; 8/10] START min_samples_leaf=4, min_samples_split=5, n_estimators=125..\n",
            "[CV 5/5; 8/10] END min_samples_leaf=4, min_samples_split=5, n_estimators=125;, score=0.991 total time= 2.0min\n",
            "[CV 1/5; 9/10] START min_samples_leaf=1, min_samples_split=10, n_estimators=200.\n",
            "[CV 1/5; 9/10] END min_samples_leaf=1, min_samples_split=10, n_estimators=200;, score=0.991 total time= 3.0min\n",
            "[CV 2/5; 9/10] START min_samples_leaf=1, min_samples_split=10, n_estimators=200.\n",
            "[CV 2/5; 9/10] END min_samples_leaf=1, min_samples_split=10, n_estimators=200;, score=0.991 total time= 3.2min\n",
            "[CV 3/5; 9/10] START min_samples_leaf=1, min_samples_split=10, n_estimators=200.\n",
            "[CV 3/5; 9/10] END min_samples_leaf=1, min_samples_split=10, n_estimators=200;, score=0.990 total time= 3.1min\n",
            "[CV 4/5; 9/10] START min_samples_leaf=1, min_samples_split=10, n_estimators=200.\n",
            "[CV 4/5; 9/10] END min_samples_leaf=1, min_samples_split=10, n_estimators=200;, score=0.991 total time= 3.1min\n",
            "[CV 5/5; 9/10] START min_samples_leaf=1, min_samples_split=10, n_estimators=200.\n",
            "[CV 5/5; 9/10] END min_samples_leaf=1, min_samples_split=10, n_estimators=200;, score=0.992 total time= 3.0min\n",
            "[CV 1/5; 10/10] START min_samples_leaf=1, min_samples_split=2, n_estimators=150.\n",
            "[CV 1/5; 10/10] END min_samples_leaf=1, min_samples_split=2, n_estimators=150;, score=0.991 total time= 2.2min\n",
            "[CV 2/5; 10/10] START min_samples_leaf=1, min_samples_split=2, n_estimators=150.\n",
            "[CV 2/5; 10/10] END min_samples_leaf=1, min_samples_split=2, n_estimators=150;, score=0.991 total time= 2.3min\n",
            "[CV 3/5; 10/10] START min_samples_leaf=1, min_samples_split=2, n_estimators=150.\n",
            "[CV 3/5; 10/10] END min_samples_leaf=1, min_samples_split=2, n_estimators=150;, score=0.991 total time= 2.4min\n",
            "[CV 4/5; 10/10] START min_samples_leaf=1, min_samples_split=2, n_estimators=150.\n",
            "[CV 4/5; 10/10] END min_samples_leaf=1, min_samples_split=2, n_estimators=150;, score=0.991 total time= 2.4min\n",
            "[CV 5/5; 10/10] START min_samples_leaf=1, min_samples_split=2, n_estimators=150.\n",
            "[CV 5/5; 10/10] END min_samples_leaf=1, min_samples_split=2, n_estimators=150;, score=0.993 total time= 2.2min\n"
          ]
        },
        {
          "output_type": "execute_result",
          "data": {
            "text/plain": [
              "RandomizedSearchCV(cv=5, estimator=RandomForestClassifier(),\n",
              "                   param_distributions={'min_samples_leaf': [1, 2, 4],\n",
              "                                        'min_samples_split': [2, 5, 10],\n",
              "                                        'n_estimators': [100, 125, 150, 175,\n",
              "                                                         200]},\n",
              "                   verbose=10)"
            ]
          },
          "metadata": {},
          "execution_count": 39
        }
      ]
    },
    {
      "cell_type": "code",
      "metadata": {
        "colab": {
          "base_uri": "https://localhost:8080/"
        },
        "id": "UjUwQj2MFcvn",
        "outputId": "e1a5cd10-e977-477e-ee81-bceb0931d72f"
      },
      "source": [
        "clf = RandomForestClassifier(n_estimators=150, min_samples_leaf=1, min_samples_split=2, criterion='entropy')\n",
        "clf.fit(X_train, y_train)\n",
        "y_pred = clf.predict(X_test)\n",
        "accuracy = return_accuracy(y_test, y_pred, verbose=1)"
      ],
      "id": "UjUwQj2MFcvn",
      "execution_count": null,
      "outputs": [
        {
          "output_type": "stream",
          "name": "stdout",
          "text": [
            "The number of true negatives is: 117751\n",
            "The number of false negatives is: 746\n",
            "The number of false positives is: 101\n",
            "The number of true positives is: 808\n",
            "The accuracy is: 0.9929065541095088\n"
          ]
        }
      ]
    },
    {
      "cell_type": "markdown",
      "metadata": {
        "id": "u9oXrvQYHxOO"
      },
      "source": [
        "We see that the accuracy is slightly decreasing with respect to the case in which the parameters were not tuned"
      ],
      "id": "u9oXrvQYHxOO"
    },
    {
      "cell_type": "markdown",
      "metadata": {
        "id": "04SnNRBP_CrZ"
      },
      "source": [
        "LOCAL OUTLIER FACTOR ANOMALY DETECTION\n",
        "The quickness here is really depending on the number of neighbours, for example\n",
        "n_neigbors = 20 is already too much and Isolation Forests may be already considered preferable as they are quite efficient without incurring in large running times.\n"
      ],
      "id": "04SnNRBP_CrZ"
    },
    {
      "cell_type": "code",
      "metadata": {
        "id": "_sI6Ry_n_H4D"
      },
      "source": [
        "from sklearn.neighbors import LocalOutlierFactor \n",
        "\n",
        "def LOF_Anomaly_Detection(X):\n",
        "  clf = LocalOutlierFactor(n_neighbors=20, algorithm='auto', leaf_size=30, metric='minkowski', p=2, metric_params=None, contamination='auto', novelty=False)\n",
        "  anomaly_score = clf.fit_predict(X)\n",
        "  scores = clf.negative_outlier_factor(X)\n",
        "  outliers_indices = np.where(anomaly_score == -1)[0]\n",
        "  return scores, outliers_indices"
      ],
      "id": "_sI6Ry_n_H4D",
      "execution_count": null,
      "outputs": []
    },
    {
      "cell_type": "code",
      "metadata": {
        "id": "FiVnmz6CB5CF"
      },
      "source": [
        "training_data, RelKa = drop_outliers(training_data, RelKa, outliers_indices)\n",
        "training_data = standardize(training_data)\n",
        "RelKa_tilda = split_RelKa(RelKa, 0.5)"
      ],
      "id": "FiVnmz6CB5CF",
      "execution_count": null,
      "outputs": []
    },
    {
      "cell_type": "code",
      "metadata": {
        "id": "FouqkpgOB91w"
      },
      "source": [
        "X_train, X_test, y_train, y_test = train_test_split(training_data, RelKa_tilda, test_size=0.7, random_state=42)"
      ],
      "id": "FouqkpgOB91w",
      "execution_count": null,
      "outputs": []
    },
    {
      "cell_type": "code",
      "metadata": {
        "id": "WAXUb_cPCIgE"
      },
      "source": [
        "y_pred = predict_with_Random_Forests(X_train, X_test, y_train, y_test)\n",
        "accuracy = return_accuracy(y_test, y_pred, verbose=1)"
      ],
      "id": "WAXUb_cPCIgE",
      "execution_count": null,
      "outputs": []
    }
  ]
}