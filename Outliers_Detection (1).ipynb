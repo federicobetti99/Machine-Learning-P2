{
 "cells": [
  {
   "cell_type": "markdown",
   "id": "OVkUbtoxrZN3",
   "metadata": {
    "id": "OVkUbtoxrZN3"
   },
   "source": [
    "Importing useful libraries and importing the drive for the dataset"
   ]
  },
  {
   "cell_type": "code",
   "execution_count": 3,
   "id": "dc466260",
   "metadata": {
    "id": "dc466260"
   },
   "outputs": [],
   "source": [
    "import numpy as np\n",
    "import matplotlib.pyplot as plt\n",
    "import scipy.stats as st\n",
    "import torch\n",
    "import torch.nn as nn\n",
    "import sklearn\n",
    "import pandas as pd\n",
    "import io\n",
    "import math\n",
    "from sklearn.model_selection import train_test_split"
   ]
  },
  {
   "cell_type": "code",
   "execution_count": 4,
   "id": "jjM2luKFSayr",
   "metadata": {
    "colab": {
     "base_uri": "https://localhost:8080/"
    },
    "id": "jjM2luKFSayr",
    "outputId": "b985c4f6-23b5-4579-ef5e-35787b7dcae1"
   },
   "outputs": [
    {
     "name": "stdout",
     "output_type": "stream",
     "text": [
      "Mounted at /content/drive\n",
      "/content/drive/My Drive\n"
     ]
    }
   ],
   "source": [
    "from google.colab import drive\n",
    "drive.mount('/content/drive')\n",
    "%cd drive/My\\ Drive"
   ]
  },
  {
   "cell_type": "markdown",
   "id": "FkcqxT8Eo-D2",
   "metadata": {
    "id": "FkcqxT8Eo-D2"
   },
   "source": [
    "Importing the data"
   ]
  },
  {
   "cell_type": "code",
   "execution_count": 5,
   "id": "z6__FhQiuUag",
   "metadata": {
    "id": "z6__FhQiuUag"
   },
   "outputs": [],
   "source": [
    "pddata = pd.read_csv('GSM1586785_ScrH-12A_Exd_14mer_cg.csv.zip', compression='zip', error_bad_lines=False, skiprows=1)"
   ]
  },
  {
   "cell_type": "code",
   "execution_count": 6,
   "id": "7Onini8BliWv",
   "metadata": {
    "id": "7Onini8BliWv"
   },
   "outputs": [],
   "source": [
    "pddata = pddata.to_numpy()\n",
    "RelKa = pddata[:, -1]\n",
    "training_data = pddata[:, 2:-1]"
   ]
  },
  {
   "cell_type": "markdown",
   "id": "_k3VzeutCXDe",
   "metadata": {
    "id": "_k3VzeutCXDe"
   },
   "source": [
    "Some helpers function for the analysis below"
   ]
  },
  {
   "cell_type": "code",
   "execution_count": 7,
   "id": "iOBmnZCWDJEC",
   "metadata": {
    "id": "iOBmnZCWDJEC"
   },
   "outputs": [],
   "source": [
    "def drop_outliers(x, y, outliers):\n",
    "    x = np.delete(x, outliers, axis=0)\n",
    "    y = np.delete(y, outliers, axis=0)\n",
    "    return x, y"
   ]
  },
  {
   "cell_type": "code",
   "execution_count": 8,
   "id": "c4K442J2Cbu5",
   "metadata": {
    "id": "c4K442J2Cbu5"
   },
   "outputs": [],
   "source": [
    "from sklearn import preprocessing\n",
    "\n",
    "def standardize(x):\n",
    "    scaler = preprocessing.StandardScaler().fit(training_data)\n",
    "    x = scaler.transform(x)\n",
    "    return x"
   ]
  },
  {
   "cell_type": "code",
   "execution_count": 9,
   "id": "V2AblynuDYKx",
   "metadata": {
    "id": "V2AblynuDYKx"
   },
   "outputs": [],
   "source": [
    "def split_RelKa(y, p):\n",
    "  return np.array([1 if value > p else 0 for value in y])"
   ]
  },
  {
   "cell_type": "code",
   "execution_count": 10,
   "id": "LCehBG91D9S1",
   "metadata": {
    "id": "LCehBG91D9S1"
   },
   "outputs": [],
   "source": [
    "from sklearn.ensemble import RandomForestClassifier\n",
    "\n",
    "def predict_with_Random_Forests(X_train, X_test, y_train, y_test):\n",
    "    clf = RandomForestClassifier(n_estimators=100, criterion='entropy')\n",
    "    clf.fit(X_train, y_train)\n",
    "    y_pred = clf.predict(X_test)  \n",
    "    return y_pred"
   ]
  },
  {
   "cell_type": "code",
   "execution_count": 11,
   "id": "VGsyw7IyCpN7",
   "metadata": {
    "id": "VGsyw7IyCpN7"
   },
   "outputs": [],
   "source": [
    "from sklearn import metrics\n",
    "\n",
    "def return_accuracy(y_test, y_pred, verbose=1):\n",
    "    C = metrics.confusion_matrix(y_test, y_pred)\n",
    "    accuracy = np.trace(C) / len(y_test)\n",
    "    if verbose == 1:\n",
    "        print(\"The number of true negatives is:\", C[0, 0])\n",
    "        print(\"The number of false negatives is:\", C[1,0])\n",
    "        print(\"The number of false positives is:\", C[0,1])  \n",
    "        print(\"The number of true positives is:\", C[1,1])\n",
    "        print(\"The accuracy is:\", accuracy)\n",
    "        print(\"The accuracy on the 1's is \", 1 / np.sum(y_test == 1) * (np.sum(y_test == 1) - C[1, 0]))\n",
    "        print(\"The accuracy on the 0's is \", 1 / np.sum(y_test == 0) * (np.sum(y_test == 0) - C[0, 1]))\n",
    "    return accuracy"
   ]
  },
  {
   "cell_type": "code",
   "execution_count": 13,
   "id": "M1_1YDzeSwg_",
   "metadata": {
    "id": "M1_1YDzeSwg_"
   },
   "outputs": [],
   "source": [
    "import random\n",
    "\n",
    "def undersampling(X, y, ratios, intervals):\n",
    "    undersampled_training_data = np.zeros(training_data.shape[1])\n",
    "    undersampled_training_data = undersampled_training_data[..., np.newaxis].T\n",
    "    undersampled_RelKa = np.array([])\n",
    "    for i in range(len(intervals)-1):\n",
    "        indices = np.where(np.logical_and(intervals[i] <= RelKa, RelKa <= intervals[i+1]))[0]\n",
    "        sample_length = np.int(ratios[i]*len(indices))\n",
    "        random_picked = random.sample(list(np.arange(0, len(indices) + 1)), sample_length)\n",
    "        training_to_add = training_data[indices[0] + random_picked, :]\n",
    "        undersampled_training_data = np.concatenate([undersampled_training_data, training_to_add], axis=0)\n",
    "        RelKa_to_add = RelKa[indices[0] + random_picked]\n",
    "        undersampled_RelKa = np.concatenate([undersampled_RelKa, RelKa_to_add], axis=0)\n",
    "    critical_indices = np.where(RelKa >= 0.7)[0]\n",
    "    critical_RelKa = RelKa[critical_indices]\n",
    "    critical_samples = training_data[critical_indices, :]\n",
    "    undersampled_training_data = np.concatenate([undersampled_training_data, critical_samples], axis=0)\n",
    "    undersampled_RelKa = np.concatenate([undersampled_RelKa, critical_RelKa], axis=0)\n",
    "    undersampled_training_data = np.delete(undersampled_training_data, 0, axis=0)\n",
    "    return undersampled_training_data, undersampled_RelKa"
   ]
  },
  {
   "cell_type": "code",
   "execution_count": null,
   "id": "kdztV9dvhWxQ",
   "metadata": {
    "id": "kdztV9dvhWxQ"
   },
   "outputs": [],
   "source": [
    "def initialize_clusters(data, k):\n",
    "    \"\"\"randomly initialize the k cluster centers (the means). Make sure you choose k clusters from the data itself,\n",
    "             or ensure otherwise that your initializations have the same scale as the data\n",
    "    \n",
    "    Args:\n",
    "        data: shape = (N, d). original data. \n",
    "        k: integer number. predefined number of clusters for the k-means algorithm. \n",
    "    Returns:\n",
    "        numpy array with shape (k, d) which corresponds to the k initial clusters.\n",
    "    \"\"\"\n",
    "    uniform_choice = random.sample(list(np.arange(0, data.shape[0])), k)\n",
    "    d = data.shape[1]\n",
    "    cluster_means = np.zeros((k, d))\n",
    "    for i in range(len(uniform_choice)):\n",
    "        cluster_means[i, :] = data[uniform_choice[i], :]\n",
    "    return cluster_means"
   ]
  },
  {
   "cell_type": "code",
   "execution_count": null,
   "id": "gd1qxnJAhbn7",
   "metadata": {
    "id": "gd1qxnJAhbn7"
   },
   "outputs": [],
   "source": [
    "def build_distance_matrix(data, mu):\n",
    "    \"\"\"builds a distance matrix.\n",
    "    \n",
    "    Args:\n",
    "        data: numpy array of shape = (N, d). original data. \n",
    "        mu:   numpy array of shape = (k, d). Each row corresponds to a cluster center.\n",
    "    Returns:\n",
    "        numpy array of shape (N, k):\n",
    "            squared distances matrix,  \n",
    "            the value row i column j corresponds to the squared distance of datapoint i with cluster center j.\n",
    "    \"\"\"\n",
    "    M = np.zeros((data.shape[0], mu.shape[0]))\n",
    "    for i in range(M.shape[0]):\n",
    "        for j in range(M.shape[1]):\n",
    "            M[i,j] = np.linalg.norm(data[i, :] - mu[j, :])\n",
    "    return M"
   ]
  },
  {
   "cell_type": "code",
   "execution_count": null,
   "id": "FicQG--_hJOS",
   "metadata": {
    "id": "FicQG--_hJOS"
   },
   "outputs": [],
   "source": [
    "def update_kmeans_parameters(data, mu_old):\n",
    "    \"\"\"compute one step of the kmeans algorithm: using mu_old, find to which cluster each datapoint belongs to, \n",
    "            then update the parameter cluster centers.\n",
    "    \n",
    "    Args:\n",
    "        data:   numpy array of shape = (N, d). original data. \n",
    "        mu_old: numpy array of shape = (k, d). Each row corresponds to a cluster center.\n",
    "    Returns:\n",
    "        losses: shape (N, ), contains the (old) squared distances of each data point to its (old) cluster mean (computed from mu_old).\n",
    "        assignments: vector of shape (N, ) which contains the cluster associated to each data point.\n",
    "        mu: updated vector mu of shape (k, d) where each row corresponds to the new cluster center.\n",
    "    \"\"\"\n",
    "    k = mu_old.shape[0]\n",
    "    d = mu_old.shape[1]\n",
    "    N = data.shape[0]\n",
    "    all_losses = build_distance_matrix(data, mu_old)\n",
    "    mu = np.zeros((k, d))\n",
    "    assignments = np.array([np.argmin(all_losses[i, :]) for i in range(N)])\n",
    "    losses = np.array([np.linalg.norm(data[i,:] - mu_old[assignments[i], :]) for i in range(N)])\n",
    "    for i in range(k):\n",
    "        assigned_indices = np.where(assignments == i)[0]\n",
    "        mu[i, :] = np.mean(data[assigned_indices, :], axis=0)\n",
    "    return losses, assignments, mu"
   ]
  },
  {
   "cell_type": "code",
   "execution_count": null,
   "id": "JLYMp5o2hd35",
   "metadata": {
    "id": "JLYMp5o2hd35"
   },
   "outputs": [],
   "source": [
    "def kmeans(data, k, max_iters, threshold, verbose = True):\n",
    "    \"\"\"run the k-means algorithm.\"\"\"\n",
    "    output_figure = \"kmeans_figures/\"\n",
    "    # initialize the cluster.\n",
    "    mu_old = initialize_clusters(data, k)\n",
    "    # init some empty lists to store the result.\n",
    "    loss_list = []\n",
    "\n",
    "    # start the kmeans algorithm.\n",
    "    for iteration in range(max_iters):\n",
    "        # update z and mu\n",
    "        losses, assignments, mu = update_kmeans_parameters(data, mu_old)\n",
    "        # calculate the average loss over all points\n",
    "        average_loss = np.mean(losses)\n",
    "        loss_list.append(average_loss)\n",
    "        if verbose:\n",
    "            print(\"The current iteration of k-means is: {i}, \\\n",
    "                   the average loss is {l}.\".format(i=iteration, l=average_loss))\n",
    "        # check convergence\n",
    "        if iteration > 0 and np.abs(loss_list[-1] - loss_list[-2]) < threshold:\n",
    "            break\n",
    "        # update k-means information.\n",
    "        mu_old = mu\n",
    "    return average_loss, assignments"
   ]
  },
  {
   "cell_type": "markdown",
   "id": "DxQsUtJxOGkA",
   "metadata": {
    "id": "DxQsUtJxOGkA"
   },
   "source": [
    "WE FIRTS TRY TO DO A PREDICTION WITHOUT ANY OUTLIER REMOTION TO HAVE A COMPARISON AND WITHOUT ANY CLUSTERING TO HAVE A COMPARISON"
   ]
  },
  {
   "cell_type": "code",
   "execution_count": 56,
   "id": "qL_SNdMdOMMT",
   "metadata": {
    "id": "qL_SNdMdOMMT"
   },
   "outputs": [],
   "source": [
    "training_data = standardize(training_data)\n",
    "RelKa_tilda = split_RelKa(RelKa, 0.8)\n",
    "indices = [i for i in range(len(training_data))]\n",
    "X_train, X_test, y_train, y_test, train_indices, test_indices = train_test_split(training_data, RelKa_tilda, indices, train_size=0.7, random_state=42)"
   ]
  },
  {
   "cell_type": "code",
   "execution_count": 57,
   "id": "LXWLj0eUOPil",
   "metadata": {
    "colab": {
     "base_uri": "https://localhost:8080/"
    },
    "id": "LXWLj0eUOPil",
    "outputId": "b6766b4e-c1fc-4df0-cf09-ff542e5c9a63"
   },
   "outputs": [
    {
     "name": "stdout",
     "output_type": "stream",
     "text": [
      "The number of true negatives is: 51150\n",
      "The number of false negatives is: 22\n",
      "The number of false positives is: 0\n",
      "The number of true positives is: 3\n",
      "The accuracy is: 0.9995701025891549\n",
      "The accuracy on the 1's is  0.12\n",
      "The accuracy on the 0's is  1.0\n"
     ]
    }
   ],
   "source": [
    "y_pred = predict_with_Random_Forests(X_train, X_test, y_train, y_test)\n",
    "accuracy = return_accuracy(y_test, y_pred, verbose=1)"
   ]
  },
  {
   "cell_type": "markdown",
   "id": "Z07FC8x7PfIm",
   "metadata": {
    "id": "Z07FC8x7PfIm"
   },
   "source": [
    "WE SEE THAT THE ACCURACY IS HIGH BUT WE ARE PREDICTING VERY POORLY THE CLASS 1"
   ]
  },
  {
   "cell_type": "code",
   "execution_count": null,
   "id": "XfIslhQMRnNA",
   "metadata": {
    "id": "XfIslhQMRnNA"
   },
   "outputs": [],
   "source": [
    "from sklearn.model_selection import RandomizedSearchCV\n",
    "\n",
    "n_estimators = [int(x) for x in np.linspace(start = 100, stop = 120, num = 5)]\n",
    "min_samples_split = [2, 5, 8]\n",
    "min_samples_leaf = [1, 2, 4]\n",
    "random_grid = {'n_estimators': n_estimators,\n",
    "               'min_samples_split': min_samples_split,\n",
    "               'min_samples_leaf': min_samples_leaf}"
   ]
  },
  {
   "cell_type": "code",
   "execution_count": null,
   "id": "1HVEF-N3Szsu",
   "metadata": {
    "colab": {
     "base_uri": "https://localhost:8080/"
    },
    "id": "1HVEF-N3Szsu",
    "outputId": "0119cd69-aefa-4b0b-f31b-cf3aec009c89"
   },
   "outputs": [
    {
     "name": "stdout",
     "output_type": "stream",
     "text": [
      "Fitting 4 folds for each of 3 candidates, totalling 12 fits\n",
      "[CV 1/4; 1/3] START min_samples_leaf=1, min_samples_split=5, n_estimators=110...\n",
      "[CV 1/4; 1/3] END min_samples_leaf=1, min_samples_split=5, n_estimators=110;, score=0.993 total time= 3.9min\n",
      "[CV 2/4; 1/3] START min_samples_leaf=1, min_samples_split=5, n_estimators=110...\n",
      "[CV 2/4; 1/3] END min_samples_leaf=1, min_samples_split=5, n_estimators=110;, score=0.993 total time= 4.0min\n",
      "[CV 3/4; 1/3] START min_samples_leaf=1, min_samples_split=5, n_estimators=110...\n",
      "[CV 3/4; 1/3] END min_samples_leaf=1, min_samples_split=5, n_estimators=110;, score=0.992 total time= 4.0min\n",
      "[CV 4/4; 1/3] START min_samples_leaf=1, min_samples_split=5, n_estimators=110...\n",
      "[CV 4/4; 1/3] END min_samples_leaf=1, min_samples_split=5, n_estimators=110;, score=0.993 total time= 4.1min\n",
      "[CV 1/4; 2/3] START min_samples_leaf=2, min_samples_split=8, n_estimators=100...\n",
      "[CV 1/4; 2/3] END min_samples_leaf=2, min_samples_split=8, n_estimators=100;, score=0.993 total time= 3.7min\n",
      "[CV 2/4; 2/3] START min_samples_leaf=2, min_samples_split=8, n_estimators=100...\n",
      "[CV 2/4; 2/3] END min_samples_leaf=2, min_samples_split=8, n_estimators=100;, score=0.993 total time= 3.6min\n",
      "[CV 3/4; 2/3] START min_samples_leaf=2, min_samples_split=8, n_estimators=100...\n",
      "[CV 3/4; 2/3] END min_samples_leaf=2, min_samples_split=8, n_estimators=100;, score=0.992 total time= 3.7min\n",
      "[CV 4/4; 2/3] START min_samples_leaf=2, min_samples_split=8, n_estimators=100...\n",
      "[CV 4/4; 2/3] END min_samples_leaf=2, min_samples_split=8, n_estimators=100;, score=0.993 total time= 3.7min\n",
      "[CV 1/4; 3/3] START min_samples_leaf=2, min_samples_split=5, n_estimators=110...\n",
      "[CV 1/4; 3/3] END min_samples_leaf=2, min_samples_split=5, n_estimators=110;, score=0.993 total time= 4.1min\n",
      "[CV 2/4; 3/3] START min_samples_leaf=2, min_samples_split=5, n_estimators=110...\n",
      "[CV 2/4; 3/3] END min_samples_leaf=2, min_samples_split=5, n_estimators=110;, score=0.993 total time= 4.2min\n",
      "[CV 3/4; 3/3] START min_samples_leaf=2, min_samples_split=5, n_estimators=110...\n",
      "[CV 3/4; 3/3] END min_samples_leaf=2, min_samples_split=5, n_estimators=110;, score=0.993 total time= 4.1min\n",
      "[CV 4/4; 3/3] START min_samples_leaf=2, min_samples_split=5, n_estimators=110...\n",
      "[CV 4/4; 3/3] END min_samples_leaf=2, min_samples_split=5, n_estimators=110;, score=0.993 total time= 4.3min\n"
     ]
    },
    {
     "data": {
      "text/plain": [
       "RandomizedSearchCV(cv=4, estimator=RandomForestClassifier(), n_iter=3,\n",
       "                   param_distributions={'min_samples_leaf': [1, 2, 4],\n",
       "                                        'min_samples_split': [2, 5, 8],\n",
       "                                        'n_estimators': [100, 105, 110, 115,\n",
       "                                                         120]},\n",
       "                   verbose=10)"
      ]
     },
     "execution_count": 33,
     "metadata": {},
     "output_type": "execute_result"
    }
   ],
   "source": [
    "from sklearn.ensemble import RandomForestClassifier\n",
    "from sklearn.metrics import make_scorer, f1_score\n",
    "\n",
    "rf = RandomForestClassifier()\n",
    "rf_random = RandomizedSearchCV(estimator = rf, param_distributions = random_grid, n_iter = 3, cv = 4, verbose=10, scoring=make_scorer(f1_score, average='weigthed'))\n",
    "rf_random.fit(X_train, y_train)"
   ]
  },
  {
   "cell_type": "code",
   "execution_count": null,
   "id": "8H2NteSFUU8b",
   "metadata": {
    "colab": {
     "base_uri": "https://localhost:8080/"
    },
    "id": "8H2NteSFUU8b",
    "outputId": "735a0ddd-e293-4903-abe6-26cc76e550f8"
   },
   "outputs": [
    {
     "name": "stdout",
     "output_type": "stream",
     "text": [
      "The number of true negatives is: 46447\n",
      "The number of false negatives is: 263\n",
      "The number of false positives is: 36\n",
      "The number of true positives is: 408\n",
      "The accuracy is: 0.9936590745217797\n"
     ]
    }
   ],
   "source": [
    "clf = RandomForestClassifier(n_estimators=110, min_samples_leaf=2, min_samples_split=5, criterion='entropy')\n",
    "clf.fit(X_train, y_train)\n",
    "y_pred = clf.predict(X_test)\n",
    "accuracy = return_accuracy(y_test, y_pred, verbose=1)"
   ]
  },
  {
   "cell_type": "markdown",
   "id": "HKe56WQGrs_H",
   "metadata": {
    "id": "HKe56WQGrs_H"
   },
   "source": [
    "After tuning the parameters we see that the accuracy goes up to 60% on the 1's, but this value is still not satisfying (we want at least 80%-85%)"
   ]
  },
  {
   "cell_type": "markdown",
   "id": "DV5aXOeq6mGI",
   "metadata": {
    "id": "DV5aXOeq6mGI"
   },
   "source": [
    "ISOLATION FORESTS ANOMALY DETECTION"
   ]
  },
  {
   "cell_type": "code",
   "execution_count": 23,
   "id": "ec7aw0cE6rsV",
   "metadata": {
    "id": "ec7aw0cE6rsV"
   },
   "outputs": [],
   "source": [
    "from sklearn.ensemble import IsolationForest\n",
    "\n",
    "def Anomaly_Detection_Isolation_Forests(x, change_split=True):\n",
    "    random_state = np.random.RandomState(42)\n",
    "    contamination = 'auto'\n",
    "    threshold = np.random.uniform(-0.03, -0.02, 1)\n",
    "    model = IsolationForest(n_estimators=120, max_samples='auto', contamination=contamination, random_state=random_state)\n",
    "    model.fit(x)\n",
    "    scores = model.decision_function(x)\n",
    "    if change_split == False:\n",
    "        anomaly_score = model.predict(x)\n",
    "        outliers_indices = np.where(anomaly_score == -1)[0]\n",
    "    if change_split == True:\n",
    "        outliers_indices = split_outliers(threshold, scores)\n",
    "    return contamination, scores, outliers_indices\n",
    "\n",
    "def check_Isolation_Forests(contamination, outliers_indices):\n",
    "  \"\"\"\n",
    "  Simply a check on the proper working of the IF algorithm\n",
    "  \"\"\"\n",
    "    tol = 1.0e-02\n",
    "    if contamination != 'auto':\n",
    "        outliers_percentage = 1 / len(RelKa) * len(outliers_indices)\n",
    "    assert np.abs(contamination-outliers_percentage) < tol\n",
    "\n",
    "def check_boundary_decision(scores, p, verbose=1):\n",
    "  \"\"\"\n",
    "  This function simply controls how many scores returned by the IF algorithm \n",
    "  are likely to be misclassified\n",
    "  \"\"\"\n",
    "    indecision_percentage = 1 / len(RelKa) * np.count_nonzero(np.abs(scores) <= p)\n",
    "    if verbose == 1:\n",
    "        plt.hist(scores)\n",
    "        plt.show()\n",
    "        print(\"The indecision percentage around\", p,  \"is\", indecision_percentage)\n",
    "        print(\"The percentage of outliers detected is\", 1 / len(scores) * len(np.where(scores < 0)[0]))"
   ]
  },
  {
   "cell_type": "code",
   "execution_count": null,
   "id": "T13n1dNv7ct7",
   "metadata": {
    "colab": {
     "base_uri": "https://localhost:8080/",
     "height": 300
    },
    "id": "T13n1dNv7ct7",
    "outputId": "37250b74-68d7-430e-aa06-fd65922b93cc"
   },
   "outputs": [
    {
     "data": {
      "image/png": "[encoded data removed]",
      "text/plain": [
       "<Figure size 432x288 with 1 Axes>"
      ]
     },
     "metadata": {
      "needs_background": "light"
     },
     "output_type": "display_data"
    },
    {
     "name": "stdout",
     "output_type": "stream",
     "text": [
      "The indecision percentage around 0.02 is 0.5672001406964474\n",
      "The percentage of outliers detected is 0.10294290069175753\n"
     ]
    }
   ],
   "source": [
    "contamination, scores, outliers_indices = Anomaly_Detection_Isolation_Forests(training_data, change_split=False)\n",
    "check_Isolation_Forests(contamination, outliers_indices)\n",
    "check_boundary_decision(scores, 0.02, verbose=1)"
   ]
  },
  {
   "cell_type": "code",
   "execution_count": null,
   "id": "bCG72D-4EhlD",
   "metadata": {
    "id": "bCG72D-4EhlD"
   },
   "outputs": [],
   "source": [
    "training_data, RelKa = drop_outliers(training_data, RelKa, outliers_indices)\n",
    "training_data = standardize(training_data)\n",
    "RelKa_tilda = split_RelKa(RelKa, 0.8)"
   ]
  },
  {
   "cell_type": "code",
   "execution_count": null,
   "id": "ssEbARYX4S5-",
   "metadata": {
    "id": "ssEbARYX4S5-"
   },
   "outputs": [],
   "source": [
    "indices = [i for i in range(len(training_data))]\n",
    "X_train, X_test, y_train, y_test, train_indices, test_indices = train_test_split(training_data, RelKa_tilda, indices, train_size=0.7, random_state=42)"
   ]
  },
  {
   "cell_type": "code",
   "execution_count": null,
   "id": "nob2nvYFE3kj",
   "metadata": {
    "colab": {
     "base_uri": "https://localhost:8080/"
    },
    "id": "nob2nvYFE3kj",
    "outputId": "978c622d-c8b8-4737-c98c-49e0ddf298d9"
   },
   "outputs": [
    {
     "name": "stdout",
     "output_type": "stream",
     "text": [
      "The number of true negatives is: 45880\n",
      "The number of false negatives is: 24\n",
      "The number of false positives is: 1\n",
      "The number of true positives is: 1\n",
      "The accuracy is: 0.9994554088790136\n"
     ]
    }
   ],
   "source": [
    "y_pred = predict_with_Random_Forests(X_train, X_test, y_train, y_test)\n",
    "accuracy = return_accuracy(y_test, y_pred, verbose=1)"
   ]
  },
  {
   "cell_type": "markdown",
   "id": "4TyHT3NLfYy7",
   "metadata": {
    "id": "4TyHT3NLfYy7"
   },
   "source": [
    "We see that we have a problem with a large number of false negatives, namely with incorrectly predictions of the negative class"
   ]
  },
  {
   "cell_type": "code",
   "execution_count": null,
   "id": "uySFlHwpoewE",
   "metadata": {
    "id": "uySFlHwpoewE"
   },
   "outputs": [],
   "source": [
    "X_train, X_test, y_train, y_test = train_test_split(training_data, RelKa_tilda, train_size=0.7, random_state=42)"
   ]
  },
  {
   "cell_type": "code",
   "execution_count": null,
   "id": "eVKIvgRtnQZV",
   "metadata": {
    "id": "eVKIvgRtnQZV"
   },
   "outputs": [],
   "source": [
    "from sklearn.model_selection import RandomizedSearchCV\n",
    "\n",
    "n_estimators = [int(x) for x in np.linspace(start = 100, stop = 200, num = 5)]\n",
    "min_samples_split = [2, 5, 10]\n",
    "min_samples_leaf = [1, 2, 4]\n",
    "random_grid = {'n_estimators': n_estimators,\n",
    "               'min_samples_split': min_samples_split,\n",
    "               'min_samples_leaf': min_samples_leaf}"
   ]
  },
  {
   "cell_type": "code",
   "execution_count": null,
   "id": "DiMsjYxCoBKC",
   "metadata": {
    "colab": {
     "base_uri": "https://localhost:8080/"
    },
    "id": "DiMsjYxCoBKC",
    "outputId": "60c7d597-c021-4fc2-9f3b-d55c33e03f47"
   },
   "outputs": [
    {
     "name": "stdout",
     "output_type": "stream",
     "text": [
      "Fitting 5 folds for each of 10 candidates, totalling 50 fits\n",
      "[CV 1/5; 1/10] START min_samples_leaf=1, min_samples_split=2, n_estimators=100..\n",
      "[CV 1/5; 1/10] END min_samples_leaf=1, min_samples_split=2, n_estimators=100;, score=0.991 total time= 1.5min\n",
      "[CV 2/5; 1/10] START min_samples_leaf=1, min_samples_split=2, n_estimators=100..\n",
      "[CV 2/5; 1/10] END min_samples_leaf=1, min_samples_split=2, n_estimators=100;, score=0.992 total time= 1.6min\n",
      "[CV 3/5; 1/10] START min_samples_leaf=1, min_samples_split=2, n_estimators=100..\n",
      "[CV 3/5; 1/10] END min_samples_leaf=1, min_samples_split=2, n_estimators=100;, score=0.991 total time= 1.6min\n",
      "[CV 4/5; 1/10] START min_samples_leaf=1, min_samples_split=2, n_estimators=100..\n",
      "[CV 4/5; 1/10] END min_samples_leaf=1, min_samples_split=2, n_estimators=100;, score=0.991 total time= 1.6min\n",
      "[CV 5/5; 1/10] START min_samples_leaf=1, min_samples_split=2, n_estimators=100..\n",
      "[CV 5/5; 1/10] END min_samples_leaf=1, min_samples_split=2, n_estimators=100;, score=0.992 total time= 1.6min\n",
      "[CV 1/5; 2/10] START min_samples_leaf=2, min_samples_split=10, n_estimators=100.\n",
      "[CV 1/5; 2/10] END min_samples_leaf=2, min_samples_split=10, n_estimators=100;, score=0.991 total time= 1.4min\n",
      "[CV 2/5; 2/10] START min_samples_leaf=2, min_samples_split=10, n_estimators=100.\n",
      "[CV 2/5; 2/10] END min_samples_leaf=2, min_samples_split=10, n_estimators=100;, score=0.991 total time= 1.5min\n",
      "[CV 3/5; 2/10] START min_samples_leaf=2, min_samples_split=10, n_estimators=100.\n",
      "[CV 3/5; 2/10] END min_samples_leaf=2, min_samples_split=10, n_estimators=100;, score=0.990 total time= 1.5min\n",
      "[CV 4/5; 2/10] START min_samples_leaf=2, min_samples_split=10, n_estimators=100.\n",
      "[CV 4/5; 2/10] END min_samples_leaf=2, min_samples_split=10, n_estimators=100;, score=0.990 total time= 1.5min\n",
      "[CV 5/5; 2/10] START min_samples_leaf=2, min_samples_split=10, n_estimators=100.\n",
      "[CV 5/5; 2/10] END min_samples_leaf=2, min_samples_split=10, n_estimators=100;, score=0.991 total time= 1.5min\n",
      "[CV 1/5; 3/10] START min_samples_leaf=4, min_samples_split=10, n_estimators=100.\n",
      "[CV 1/5; 3/10] END min_samples_leaf=4, min_samples_split=10, n_estimators=100;, score=0.991 total time= 1.5min\n",
      "[CV 2/5; 3/10] START min_samples_leaf=4, min_samples_split=10, n_estimators=100.\n",
      "[CV 2/5; 3/10] END min_samples_leaf=4, min_samples_split=10, n_estimators=100;, score=0.990 total time= 1.5min\n",
      "[CV 3/5; 3/10] START min_samples_leaf=4, min_samples_split=10, n_estimators=100.\n",
      "[CV 3/5; 3/10] END min_samples_leaf=4, min_samples_split=10, n_estimators=100;, score=0.990 total time= 1.5min\n",
      "[CV 4/5; 3/10] START min_samples_leaf=4, min_samples_split=10, n_estimators=100.\n",
      "[CV 4/5; 3/10] END min_samples_leaf=4, min_samples_split=10, n_estimators=100;, score=0.990 total time= 1.6min\n",
      "[CV 5/5; 3/10] START min_samples_leaf=4, min_samples_split=10, n_estimators=100.\n",
      "[CV 5/5; 3/10] END min_samples_leaf=4, min_samples_split=10, n_estimators=100;, score=0.991 total time= 1.5min\n",
      "[CV 1/5; 4/10] START min_samples_leaf=2, min_samples_split=10, n_estimators=175.\n",
      "[CV 1/5; 4/10] END min_samples_leaf=2, min_samples_split=10, n_estimators=175;, score=0.991 total time= 2.6min\n",
      "[CV 2/5; 4/10] START min_samples_leaf=2, min_samples_split=10, n_estimators=175.\n",
      "[CV 2/5; 4/10] END min_samples_leaf=2, min_samples_split=10, n_estimators=175;, score=0.990 total time= 2.7min\n",
      "[CV 3/5; 4/10] START min_samples_leaf=2, min_samples_split=10, n_estimators=175.\n",
      "[CV 3/5; 4/10] END min_samples_leaf=2, min_samples_split=10, n_estimators=175;, score=0.990 total time= 2.6min\n",
      "[CV 4/5; 4/10] START min_samples_leaf=2, min_samples_split=10, n_estimators=175.\n",
      "[CV 4/5; 4/10] END min_samples_leaf=2, min_samples_split=10, n_estimators=175;, score=0.991 total time= 2.7min\n",
      "[CV 5/5; 4/10] START min_samples_leaf=2, min_samples_split=10, n_estimators=175.\n",
      "[CV 5/5; 4/10] END min_samples_leaf=2, min_samples_split=10, n_estimators=175;, score=0.991 total time= 2.6min\n",
      "[CV 1/5; 5/10] START min_samples_leaf=2, min_samples_split=10, n_estimators=150.\n",
      "[CV 1/5; 5/10] END min_samples_leaf=2, min_samples_split=10, n_estimators=150;, score=0.990 total time= 2.3min\n",
      "[CV 2/5; 5/10] START min_samples_leaf=2, min_samples_split=10, n_estimators=150.\n",
      "[CV 2/5; 5/10] END min_samples_leaf=2, min_samples_split=10, n_estimators=150;, score=0.991 total time= 2.2min\n",
      "[CV 3/5; 5/10] START min_samples_leaf=2, min_samples_split=10, n_estimators=150.\n",
      "[CV 3/5; 5/10] END min_samples_leaf=2, min_samples_split=10, n_estimators=150;, score=0.990 total time= 2.3min\n",
      "[CV 4/5; 5/10] START min_samples_leaf=2, min_samples_split=10, n_estimators=150.\n",
      "[CV 4/5; 5/10] END min_samples_leaf=2, min_samples_split=10, n_estimators=150;, score=0.991 total time= 2.4min\n",
      "[CV 5/5; 5/10] START min_samples_leaf=2, min_samples_split=10, n_estimators=150.\n",
      "[CV 5/5; 5/10] END min_samples_leaf=2, min_samples_split=10, n_estimators=150;, score=0.991 total time= 2.3min\n",
      "[CV 1/5; 6/10] START min_samples_leaf=1, min_samples_split=10, n_estimators=150.\n",
      "[CV 1/5; 6/10] END min_samples_leaf=1, min_samples_split=10, n_estimators=150;, score=0.991 total time= 2.2min\n",
      "[CV 2/5; 6/10] START min_samples_leaf=1, min_samples_split=10, n_estimators=150.\n",
      "[CV 2/5; 6/10] END min_samples_leaf=1, min_samples_split=10, n_estimators=150;, score=0.991 total time= 2.4min\n",
      "[CV 3/5; 6/10] START min_samples_leaf=1, min_samples_split=10, n_estimators=150.\n",
      "[CV 3/5; 6/10] END min_samples_leaf=1, min_samples_split=10, n_estimators=150;, score=0.991 total time= 2.4min\n",
      "[CV 4/5; 6/10] START min_samples_leaf=1, min_samples_split=10, n_estimators=150.\n",
      "[CV 4/5; 6/10] END min_samples_leaf=1, min_samples_split=10, n_estimators=150;, score=0.991 total time= 2.3min\n",
      "[CV 5/5; 6/10] START min_samples_leaf=1, min_samples_split=10, n_estimators=150.\n",
      "[CV 5/5; 6/10] END min_samples_leaf=1, min_samples_split=10, n_estimators=150;, score=0.992 total time= 2.3min\n",
      "[CV 1/5; 7/10] START min_samples_leaf=2, min_samples_split=2, n_estimators=150..\n",
      "[CV 1/5; 7/10] END min_samples_leaf=2, min_samples_split=2, n_estimators=150;, score=0.991 total time= 2.2min\n",
      "[CV 2/5; 7/10] START min_samples_leaf=2, min_samples_split=2, n_estimators=150..\n",
      "[CV 2/5; 7/10] END min_samples_leaf=2, min_samples_split=2, n_estimators=150;, score=0.991 total time= 2.3min\n",
      "[CV 3/5; 7/10] START min_samples_leaf=2, min_samples_split=2, n_estimators=150..\n",
      "[CV 3/5; 7/10] END min_samples_leaf=2, min_samples_split=2, n_estimators=150;, score=0.991 total time= 2.3min\n",
      "[CV 4/5; 7/10] START min_samples_leaf=2, min_samples_split=2, n_estimators=150..\n",
      "[CV 4/5; 7/10] END min_samples_leaf=2, min_samples_split=2, n_estimators=150;, score=0.991 total time= 2.4min\n",
      "[CV 5/5; 7/10] START min_samples_leaf=2, min_samples_split=2, n_estimators=150..\n",
      "[CV 5/5; 7/10] END min_samples_leaf=2, min_samples_split=2, n_estimators=150;, score=0.991 total time= 2.4min\n",
      "[CV 1/5; 8/10] START min_samples_leaf=4, min_samples_split=5, n_estimators=125..\n",
      "[CV 1/5; 8/10] END min_samples_leaf=4, min_samples_split=5, n_estimators=125;, score=0.991 total time= 1.9min\n",
      "[CV 2/5; 8/10] START min_samples_leaf=4, min_samples_split=5, n_estimators=125..\n",
      "[CV 2/5; 8/10] END min_samples_leaf=4, min_samples_split=5, n_estimators=125;, score=0.991 total time= 2.0min\n",
      "[CV 3/5; 8/10] START min_samples_leaf=4, min_samples_split=5, n_estimators=125..\n",
      "[CV 3/5; 8/10] END min_samples_leaf=4, min_samples_split=5, n_estimators=125;, score=0.990 total time= 2.0min\n",
      "[CV 4/5; 8/10] START min_samples_leaf=4, min_samples_split=5, n_estimators=125..\n",
      "[CV 4/5; 8/10] END min_samples_leaf=4, min_samples_split=5, n_estimators=125;, score=0.991 total time= 2.0min\n",
      "[CV 5/5; 8/10] START min_samples_leaf=4, min_samples_split=5, n_estimators=125..\n",
      "[CV 5/5; 8/10] END min_samples_leaf=4, min_samples_split=5, n_estimators=125;, score=0.991 total time= 2.0min\n",
      "[CV 1/5; 9/10] START min_samples_leaf=1, min_samples_split=10, n_estimators=200.\n",
      "[CV 1/5; 9/10] END min_samples_leaf=1, min_samples_split=10, n_estimators=200;, score=0.991 total time= 3.0min\n",
      "[CV 2/5; 9/10] START min_samples_leaf=1, min_samples_split=10, n_estimators=200.\n",
      "[CV 2/5; 9/10] END min_samples_leaf=1, min_samples_split=10, n_estimators=200;, score=0.991 total time= 3.2min\n",
      "[CV 3/5; 9/10] START min_samples_leaf=1, min_samples_split=10, n_estimators=200.\n",
      "[CV 3/5; 9/10] END min_samples_leaf=1, min_samples_split=10, n_estimators=200;, score=0.990 total time= 3.1min\n",
      "[CV 4/5; 9/10] START min_samples_leaf=1, min_samples_split=10, n_estimators=200.\n",
      "[CV 4/5; 9/10] END min_samples_leaf=1, min_samples_split=10, n_estimators=200;, score=0.991 total time= 3.1min\n",
      "[CV 5/5; 9/10] START min_samples_leaf=1, min_samples_split=10, n_estimators=200.\n",
      "[CV 5/5; 9/10] END min_samples_leaf=1, min_samples_split=10, n_estimators=200;, score=0.992 total time= 3.0min\n",
      "[CV 1/5; 10/10] START min_samples_leaf=1, min_samples_split=2, n_estimators=150.\n",
      "[CV 1/5; 10/10] END min_samples_leaf=1, min_samples_split=2, n_estimators=150;, score=0.991 total time= 2.2min\n",
      "[CV 2/5; 10/10] START min_samples_leaf=1, min_samples_split=2, n_estimators=150.\n",
      "[CV 2/5; 10/10] END min_samples_leaf=1, min_samples_split=2, n_estimators=150;, score=0.991 total time= 2.3min\n",
      "[CV 3/5; 10/10] START min_samples_leaf=1, min_samples_split=2, n_estimators=150.\n",
      "[CV 3/5; 10/10] END min_samples_leaf=1, min_samples_split=2, n_estimators=150;, score=0.991 total time= 2.4min\n",
      "[CV 4/5; 10/10] START min_samples_leaf=1, min_samples_split=2, n_estimators=150.\n",
      "[CV 4/5; 10/10] END min_samples_leaf=1, min_samples_split=2, n_estimators=150;, score=0.991 total time= 2.4min\n",
      "[CV 5/5; 10/10] START min_samples_leaf=1, min_samples_split=2, n_estimators=150.\n",
      "[CV 5/5; 10/10] END min_samples_leaf=1, min_samples_split=2, n_estimators=150;, score=0.993 total time= 2.2min\n"
     ]
    },
    {
     "data": {
      "text/plain": [
       "RandomizedSearchCV(cv=5, estimator=RandomForestClassifier(),\n",
       "                   param_distributions={'min_samples_leaf': [1, 2, 4],\n",
       "                                        'min_samples_split': [2, 5, 10],\n",
       "                                        'n_estimators': [100, 125, 150, 175,\n",
       "                                                         200]},\n",
       "                   verbose=10)"
      ]
     },
     "execution_count": 39,
     "metadata": {},
     "output_type": "execute_result"
    }
   ],
   "source": [
    "from sklearn.ensemble import RandomForestClassifier\n",
    "from sklearn.metrics import make_scorer, f1_score\n",
    "\n",
    "rf = RandomForestClassifier()\n",
    "rf_random = RandomizedSearchCV(estimator = rf, param_distributions = random_grid, n_iter = 10, cv = 5, verbose=10, scoring=make_scorer(f1_score, average=\"weighted\"))\n",
    "rf_random.fit(X_train, y_train)"
   ]
  },
  {
   "cell_type": "code",
   "execution_count": 20,
   "id": "UjUwQj2MFcvn",
   "metadata": {
    "colab": {
     "base_uri": "https://localhost:8080/"
    },
    "id": "UjUwQj2MFcvn",
    "outputId": "bcb5bb45-6c1f-4d94-d03c-e9f4767148bf"
   },
   "outputs": [
    {
     "name": "stdout",
     "output_type": "stream",
     "text": [
      "{'n_estimators': 200, 'min_samples_split': 2, 'min_samples_leaf': 1}\n"
     ]
    }
   ],
   "source": [
    "# print(rf_random.best_params_)\n",
    "clf = RandomForestClassifier(n_estimators=200, min_samples_leaf=1, min_samples_split=2, criterion='entropy')\n",
    "clf.fit(X_train, y_train)\n",
    "y_pred = clf.predict(X_test)\n",
    "accuracy = return_accuracy(y_test, y_pred, verbose=1)"
   ]
  },
  {
   "cell_type": "markdown",
   "id": "lESSLic6cP90",
   "metadata": {
    "id": "lESSLic6cP90"
   },
   "source": [
    "UNDERSAMPLING TECHNIQUE TO BALANCE THE DATASET"
   ]
  },
  {
   "cell_type": "code",
   "execution_count": 14,
   "id": "uNeZk7J5mVNI",
   "metadata": {
    "id": "uNeZk7J5mVNI"
   },
   "outputs": [],
   "source": [
    "ratios = np.array([0.1])\n",
    "intervals = 0.2 * np.arange(0, 2)\n",
    "undersampled_training_data, undersampled_RelKa = undersampling(training_data, RelKa, ratios, intervals)\n",
    "undersampled_training_data = standardize(undersampled_training_data)\n",
    "undersampled_RelKa = split_RelKa(undersampled_RelKa, 0.6)"
   ]
  },
  {
   "cell_type": "code",
   "execution_count": 15,
   "id": "oSiiXxs8mpS0",
   "metadata": {
    "colab": {
     "base_uri": "https://localhost:8080/"
    },
    "id": "oSiiXxs8mpS0",
    "outputId": "6f91429c-40df-4511-f4d9-537a8e501a75"
   },
   "outputs": [
    {
     "name": "stdout",
     "output_type": "stream",
     "text": [
      "The number of true negatives is: 3553\n",
      "The number of false negatives is: 7\n",
      "The number of false positives is: 1\n",
      "The number of true positives is: 95\n",
      "The accuracy is: 0.9978118161925602\n",
      "The accuracy on the 1's is  0.9313725490196079\n",
      "The accuracy on the 0's is  0.9997186268992685\n"
     ]
    },
    {
     "data": {
      "text/plain": [
       "0.9978118161925602"
      ]
     },
     "execution_count": 15,
     "metadata": {},
     "output_type": "execute_result"
    }
   ],
   "source": [
    "undersampled_X_train, undersampled_X_test, undersampled_y_train, undersampled_y_test = train_test_split(undersampled_training_data, undersampled_RelKa, train_size=0.7, random_state=42)\n",
    "undersampled_y_pred = predict_with_Random_Forests(undersampled_X_train, undersampled_X_test, undersampled_y_train, undersampled_y_test)\n",
    "return_accuracy(undersampled_y_test, undersampled_y_pred, verbose=1)"
   ]
  },
  {
   "cell_type": "markdown",
   "id": "HUJCp56B4WIr",
   "metadata": {
    "id": "HUJCp56B4WIr"
   },
   "source": [
    "WE SEE THAT INCREASING THE NUMBER OF SAMPLES CRITICAL WE ALMOST HAVE 100 % ACCURACY BOTH ON 0'S AND 1'S AT THE COST OF DOING THE UNDERSAMPLING AND THE OVERSAMPLING OF THE PREVIOUS PARAGRAPH. WE TRY NOW TO ACHIEVE SIMILAR RESULTS BY PENALIZING ERRORS ON 1'S"
   ]
  },
  {
   "cell_type": "markdown",
   "id": "TBcYywbW-P6Q",
   "metadata": {
    "id": "TBcYywbW-P6Q"
   },
   "source": [
    "WE PERFORM CROSS VALIDATION TO TUNE THE HYPERPARAMETERS OF THE RANDOM FOREST"
   ]
  },
  {
   "cell_type": "code",
   "execution_count": 16,
   "id": "v4sUtR9N-Q-F",
   "metadata": {
    "id": "v4sUtR9N-Q-F"
   },
   "outputs": [],
   "source": [
    "from sklearn.model_selection import RandomizedSearchCV\n",
    "\n",
    "n_estimators = [int(x) for x in np.linspace(start = 100, stop = 200, num = 5)]\n",
    "min_samples_split = [2, 5, 10]\n",
    "min_samples_leaf = [1, 2, 4]\n",
    "random_grid = {'n_estimators': n_estimators,\n",
    "               'min_samples_split': min_samples_split,\n",
    "               'min_samples_leaf': min_samples_leaf}"
   ]
  },
  {
   "cell_type": "code",
   "execution_count": 18,
   "id": "k3nrhqFp-Yep",
   "metadata": {
    "colab": {
     "base_uri": "https://localhost:8080/"
    },
    "id": "k3nrhqFp-Yep",
    "outputId": "271b1b1c-a690-44d2-b37c-a596b2855cdc"
   },
   "outputs": [
    {
     "name": "stdout",
     "output_type": "stream",
     "text": [
      "Fitting 5 folds for each of 10 candidates, totalling 50 fits\n",
      "[CV 1/5; 1/10] START min_samples_leaf=4, min_samples_split=5, n_estimators=100..\n",
      "[CV 1/5; 1/10] END min_samples_leaf=4, min_samples_split=5, n_estimators=100;, score=0.995 total time=   9.1s\n",
      "[CV 2/5; 1/10] START min_samples_leaf=4, min_samples_split=5, n_estimators=100..\n",
      "[CV 2/5; 1/10] END min_samples_leaf=4, min_samples_split=5, n_estimators=100;, score=0.992 total time=   8.7s\n",
      "[CV 3/5; 1/10] START min_samples_leaf=4, min_samples_split=5, n_estimators=100..\n",
      "[CV 3/5; 1/10] END min_samples_leaf=4, min_samples_split=5, n_estimators=100;, score=0.995 total time=   9.0s\n",
      "[CV 4/5; 1/10] START min_samples_leaf=4, min_samples_split=5, n_estimators=100..\n",
      "[CV 4/5; 1/10] END min_samples_leaf=4, min_samples_split=5, n_estimators=100;, score=0.994 total time=   8.9s\n",
      "[CV 5/5; 1/10] START min_samples_leaf=4, min_samples_split=5, n_estimators=100..\n",
      "[CV 5/5; 1/10] END min_samples_leaf=4, min_samples_split=5, n_estimators=100;, score=0.995 total time=   8.8s\n",
      "[CV 1/5; 2/10] START min_samples_leaf=1, min_samples_split=2, n_estimators=100..\n",
      "[CV 1/5; 2/10] END min_samples_leaf=1, min_samples_split=2, n_estimators=100;, score=0.995 total time=   9.6s\n",
      "[CV 2/5; 2/10] START min_samples_leaf=1, min_samples_split=2, n_estimators=100..\n",
      "[CV 2/5; 2/10] END min_samples_leaf=1, min_samples_split=2, n_estimators=100;, score=0.992 total time=   9.2s\n",
      "[CV 3/5; 2/10] START min_samples_leaf=1, min_samples_split=2, n_estimators=100..\n",
      "[CV 3/5; 2/10] END min_samples_leaf=1, min_samples_split=2, n_estimators=100;, score=0.997 total time=   9.2s\n",
      "[CV 4/5; 2/10] START min_samples_leaf=1, min_samples_split=2, n_estimators=100..\n",
      "[CV 4/5; 2/10] END min_samples_leaf=1, min_samples_split=2, n_estimators=100;, score=0.996 total time=   9.1s\n",
      "[CV 5/5; 2/10] START min_samples_leaf=1, min_samples_split=2, n_estimators=100..\n",
      "[CV 5/5; 2/10] END min_samples_leaf=1, min_samples_split=2, n_estimators=100;, score=0.996 total time=   9.2s\n",
      "[CV 1/5; 3/10] START min_samples_leaf=1, min_samples_split=2, n_estimators=200..\n",
      "[CV 1/5; 3/10] END min_samples_leaf=1, min_samples_split=2, n_estimators=200;, score=0.995 total time=  18.2s\n",
      "[CV 2/5; 3/10] START min_samples_leaf=1, min_samples_split=2, n_estimators=200..\n",
      "[CV 2/5; 3/10] END min_samples_leaf=1, min_samples_split=2, n_estimators=200;, score=0.995 total time=  18.9s\n",
      "[CV 3/5; 3/10] START min_samples_leaf=1, min_samples_split=2, n_estimators=200..\n",
      "[CV 3/5; 3/10] END min_samples_leaf=1, min_samples_split=2, n_estimators=200;, score=0.997 total time=  18.2s\n",
      "[CV 4/5; 3/10] START min_samples_leaf=1, min_samples_split=2, n_estimators=200..\n",
      "[CV 4/5; 3/10] END min_samples_leaf=1, min_samples_split=2, n_estimators=200;, score=0.996 total time=  19.1s\n",
      "[CV 5/5; 3/10] START min_samples_leaf=1, min_samples_split=2, n_estimators=200..\n",
      "[CV 5/5; 3/10] END min_samples_leaf=1, min_samples_split=2, n_estimators=200;, score=0.996 total time=  19.0s\n",
      "[CV 1/5; 4/10] START min_samples_leaf=4, min_samples_split=2, n_estimators=125..\n",
      "[CV 1/5; 4/10] END min_samples_leaf=4, min_samples_split=2, n_estimators=125;, score=0.995 total time=  11.5s\n",
      "[CV 2/5; 4/10] START min_samples_leaf=4, min_samples_split=2, n_estimators=125..\n",
      "[CV 2/5; 4/10] END min_samples_leaf=4, min_samples_split=2, n_estimators=125;, score=0.991 total time=  11.0s\n",
      "[CV 3/5; 4/10] START min_samples_leaf=4, min_samples_split=2, n_estimators=125..\n",
      "[CV 3/5; 4/10] END min_samples_leaf=4, min_samples_split=2, n_estimators=125;, score=0.995 total time=  11.5s\n",
      "[CV 4/5; 4/10] START min_samples_leaf=4, min_samples_split=2, n_estimators=125..\n",
      "[CV 4/5; 4/10] END min_samples_leaf=4, min_samples_split=2, n_estimators=125;, score=0.994 total time=  11.1s\n",
      "[CV 5/5; 4/10] START min_samples_leaf=4, min_samples_split=2, n_estimators=125..\n",
      "[CV 5/5; 4/10] END min_samples_leaf=4, min_samples_split=2, n_estimators=125;, score=0.995 total time=  11.5s\n",
      "[CV 1/5; 5/10] START min_samples_leaf=1, min_samples_split=5, n_estimators=200..\n",
      "[CV 1/5; 5/10] END min_samples_leaf=1, min_samples_split=5, n_estimators=200;, score=0.995 total time=  20.1s\n",
      "[CV 2/5; 5/10] START min_samples_leaf=1, min_samples_split=5, n_estimators=200..\n",
      "[CV 2/5; 5/10] END min_samples_leaf=1, min_samples_split=5, n_estimators=200;, score=0.995 total time=  19.1s\n",
      "[CV 3/5; 5/10] START min_samples_leaf=1, min_samples_split=5, n_estimators=200..\n",
      "[CV 3/5; 5/10] END min_samples_leaf=1, min_samples_split=5, n_estimators=200;, score=0.995 total time=  18.8s\n",
      "[CV 4/5; 5/10] START min_samples_leaf=1, min_samples_split=5, n_estimators=200..\n",
      "[CV 4/5; 5/10] END min_samples_leaf=1, min_samples_split=5, n_estimators=200;, score=0.996 total time=  18.9s\n",
      "[CV 5/5; 5/10] START min_samples_leaf=1, min_samples_split=5, n_estimators=200..\n",
      "[CV 5/5; 5/10] END min_samples_leaf=1, min_samples_split=5, n_estimators=200;, score=0.996 total time=  17.9s\n",
      "[CV 1/5; 6/10] START min_samples_leaf=4, min_samples_split=5, n_estimators=150..\n",
      "[CV 1/5; 6/10] END min_samples_leaf=4, min_samples_split=5, n_estimators=150;, score=0.994 total time=  14.0s\n",
      "[CV 2/5; 6/10] START min_samples_leaf=4, min_samples_split=5, n_estimators=150..\n",
      "[CV 2/5; 6/10] END min_samples_leaf=4, min_samples_split=5, n_estimators=150;, score=0.995 total time=  12.8s\n",
      "[CV 3/5; 6/10] START min_samples_leaf=4, min_samples_split=5, n_estimators=150..\n",
      "[CV 3/5; 6/10] END min_samples_leaf=4, min_samples_split=5, n_estimators=150;, score=0.995 total time=  13.4s\n",
      "[CV 4/5; 6/10] START min_samples_leaf=4, min_samples_split=5, n_estimators=150..\n",
      "[CV 4/5; 6/10] END min_samples_leaf=4, min_samples_split=5, n_estimators=150;, score=0.994 total time=  13.7s\n",
      "[CV 5/5; 6/10] START min_samples_leaf=4, min_samples_split=5, n_estimators=150..\n",
      "[CV 5/5; 6/10] END min_samples_leaf=4, min_samples_split=5, n_estimators=150;, score=0.995 total time=  12.9s\n",
      "[CV 1/5; 7/10] START min_samples_leaf=2, min_samples_split=2, n_estimators=175..\n",
      "[CV 1/5; 7/10] END min_samples_leaf=2, min_samples_split=2, n_estimators=175;, score=0.995 total time=  16.1s\n",
      "[CV 2/5; 7/10] START min_samples_leaf=2, min_samples_split=2, n_estimators=175..\n",
      "[CV 2/5; 7/10] END min_samples_leaf=2, min_samples_split=2, n_estimators=175;, score=0.994 total time=  15.5s\n",
      "[CV 3/5; 7/10] START min_samples_leaf=2, min_samples_split=2, n_estimators=175..\n",
      "[CV 3/5; 7/10] END min_samples_leaf=2, min_samples_split=2, n_estimators=175;, score=0.996 total time=  16.1s\n",
      "[CV 4/5; 7/10] START min_samples_leaf=2, min_samples_split=2, n_estimators=175..\n",
      "[CV 4/5; 7/10] END min_samples_leaf=2, min_samples_split=2, n_estimators=175;, score=0.996 total time=  15.8s\n",
      "[CV 5/5; 7/10] START min_samples_leaf=2, min_samples_split=2, n_estimators=175..\n",
      "[CV 5/5; 7/10] END min_samples_leaf=2, min_samples_split=2, n_estimators=175;, score=0.996 total time=  15.7s\n",
      "[CV 1/5; 8/10] START min_samples_leaf=4, min_samples_split=5, n_estimators=125..\n",
      "[CV 1/5; 8/10] END min_samples_leaf=4, min_samples_split=5, n_estimators=125;, score=0.995 total time=  11.7s\n",
      "[CV 2/5; 8/10] START min_samples_leaf=4, min_samples_split=5, n_estimators=125..\n",
      "[CV 2/5; 8/10] END min_samples_leaf=4, min_samples_split=5, n_estimators=125;, score=0.994 total time=  10.7s\n",
      "[CV 3/5; 8/10] START min_samples_leaf=4, min_samples_split=5, n_estimators=125..\n",
      "[CV 3/5; 8/10] END min_samples_leaf=4, min_samples_split=5, n_estimators=125;, score=0.994 total time=  11.3s\n",
      "[CV 4/5; 8/10] START min_samples_leaf=4, min_samples_split=5, n_estimators=125..\n",
      "[CV 4/5; 8/10] END min_samples_leaf=4, min_samples_split=5, n_estimators=125;, score=0.996 total time=  11.0s\n",
      "[CV 5/5; 8/10] START min_samples_leaf=4, min_samples_split=5, n_estimators=125..\n",
      "[CV 5/5; 8/10] END min_samples_leaf=4, min_samples_split=5, n_estimators=125;, score=0.995 total time=  10.2s\n",
      "[CV 1/5; 9/10] START min_samples_leaf=2, min_samples_split=5, n_estimators=100..\n",
      "[CV 1/5; 9/10] END min_samples_leaf=2, min_samples_split=5, n_estimators=100;, score=0.995 total time=   8.4s\n",
      "[CV 2/5; 9/10] START min_samples_leaf=2, min_samples_split=5, n_estimators=100..\n",
      "[CV 2/5; 9/10] END min_samples_leaf=2, min_samples_split=5, n_estimators=100;, score=0.994 total time=   8.7s\n",
      "[CV 3/5; 9/10] START min_samples_leaf=2, min_samples_split=5, n_estimators=100..\n",
      "[CV 3/5; 9/10] END min_samples_leaf=2, min_samples_split=5, n_estimators=100;, score=0.995 total time=   8.3s\n",
      "[CV 4/5; 9/10] START min_samples_leaf=2, min_samples_split=5, n_estimators=100..\n",
      "[CV 4/5; 9/10] END min_samples_leaf=2, min_samples_split=5, n_estimators=100;, score=0.996 total time=   9.1s\n",
      "[CV 5/5; 9/10] START min_samples_leaf=2, min_samples_split=5, n_estimators=100..\n",
      "[CV 5/5; 9/10] END min_samples_leaf=2, min_samples_split=5, n_estimators=100;, score=0.996 total time=   9.2s\n",
      "[CV 1/5; 10/10] START min_samples_leaf=1, min_samples_split=10, n_estimators=125\n",
      "[CV 1/5; 10/10] END min_samples_leaf=1, min_samples_split=10, n_estimators=125;, score=0.995 total time=  11.2s\n",
      "[CV 2/5; 10/10] START min_samples_leaf=1, min_samples_split=10, n_estimators=125\n",
      "[CV 2/5; 10/10] END min_samples_leaf=1, min_samples_split=10, n_estimators=125;, score=0.995 total time=  10.7s\n",
      "[CV 3/5; 10/10] START min_samples_leaf=1, min_samples_split=10, n_estimators=125\n",
      "[CV 3/5; 10/10] END min_samples_leaf=1, min_samples_split=10, n_estimators=125;, score=0.995 total time=  10.6s\n",
      "[CV 4/5; 10/10] START min_samples_leaf=1, min_samples_split=10, n_estimators=125\n",
      "[CV 4/5; 10/10] END min_samples_leaf=1, min_samples_split=10, n_estimators=125;, score=0.996 total time=  11.2s\n",
      "[CV 5/5; 10/10] START min_samples_leaf=1, min_samples_split=10, n_estimators=125\n",
      "[CV 5/5; 10/10] END min_samples_leaf=1, min_samples_split=10, n_estimators=125;, score=0.996 total time=  10.3s\n"
     ]
    },
    {
     "data": {
      "text/plain": [
       "RandomizedSearchCV(cv=5, estimator=RandomForestClassifier(),\n",
       "                   param_distributions={'min_samples_leaf': [1, 2, 4],\n",
       "                                        'min_samples_split': [2, 5, 10],\n",
       "                                        'n_estimators': [100, 125, 150, 175,\n",
       "                                                         200]},\n",
       "                   scoring=make_scorer(f1_score, average=micro), verbose=10)"
      ]
     },
     "execution_count": 18,
     "metadata": {},
     "output_type": "execute_result"
    }
   ],
   "source": [
    "from sklearn.ensemble import RandomForestClassifier\n",
    "from sklearn.metrics import make_scorer, f1_score\n",
    "\n",
    "rf = RandomForestClassifier()\n",
    "rf_random = RandomizedSearchCV(estimator = rf, param_distributions = random_grid, n_iter = 10, cv = 5, verbose=10, scoring=make_scorer(f1_score, average='weighted'))\n",
    "rf_random.fit(undersampled_X_train, undersampled_y_train)"
   ]
  },
  {
   "cell_type": "code",
   "execution_count": 21,
   "id": "gpYQrUNa-lSL",
   "metadata": {
    "colab": {
     "base_uri": "https://localhost:8080/"
    },
    "id": "gpYQrUNa-lSL",
    "outputId": "0157f33e-054f-4eb8-c7d0-d4276b13f8b9"
   },
   "outputs": [
    {
     "name": "stdout",
     "output_type": "stream",
     "text": [
      "The number of true negatives is: 3554\n",
      "The number of false negatives is: 8\n",
      "The number of false positives is: 0\n",
      "The number of true positives is: 94\n",
      "The accuracy is: 0.9978118161925602\n",
      "The accuracy on the 1's is  0.9215686274509803\n",
      "The accuracy on the 0's is  1.0\n"
     ]
    }
   ],
   "source": [
    "# print(rf_random.best_params_)\n",
    "clf = RandomForestClassifier(n_estimators=200, min_samples_leaf=1, min_samples_split=2, criterion='entropy')\n",
    "clf.fit(undersampled_X_train, undersampled_y_train)\n",
    "undersampled_y_pred = clf.predict(undersampled_X_test)\n",
    "accuracy = return_accuracy(undersampled_y_test, undersampled_y_pred, verbose=1)"
   ]
  },
  {
   "cell_type": "markdown",
   "id": "hU88rC0WC_6N",
   "metadata": {
    "id": "hU88rC0WC_6N"
   },
   "source": [
    "TUNING THE PARAMETERS IN THE STANDARD WAY IS SLIGHTLY INCREASING THE ACCURACY ON THE 1'S, SO WE SHOULD TRY TO DO CROSS-VALIDATION USING THE F1 SCORE TO FURTHER IMPROVE"
   ]
  },
  {
   "cell_type": "markdown",
   "id": "dSfmRCkSROOz",
   "metadata": {
    "id": "dSfmRCkSROOz"
   },
   "source": [
    "WE TRY NOW TO DETECT AND DROP OUTLIERS ON THE BALANCED DATASET TO SEE WHETHER THE PERFORMANCE IS IMPROVING"
   ]
  },
  {
   "cell_type": "code",
   "execution_count": 24,
   "id": "ROwaaxTNRSI-",
   "metadata": {
    "colab": {
     "base_uri": "https://localhost:8080/",
     "height": 300
    },
    "id": "ROwaaxTNRSI-",
    "outputId": "e2e7d250-ec91-4259-e584-35b34be6011a"
   },
   "outputs": [
    {
     "data": {
      "image/png": "[encoded data removed]",
      "text/plain": [
       "<Figure size 432x288 with 1 Axes>"
      ]
     },
     "metadata": {
      "needs_background": "light"
     },
     "output_type": "display_data"
    },
    {
     "name": "stdout",
     "output_type": "stream",
     "text": [
      "The indecision percentage around 0.02 is 0.026187126275061555\n",
      "The percentage of outliers detected is 0.030860144451739985\n"
     ]
    }
   ],
   "source": [
    "contamination, scores, outliers_indices = Anomaly_Detection_Isolation_Forests(undersampled_training_data, change_split=False)\n",
    "check_Isolation_Forests(contamination, outliers_indices)\n",
    "check_boundary_decision(scores, 0.02, verbose=1)"
   ]
  },
  {
   "cell_type": "code",
   "execution_count": 25,
   "id": "VJGx8hvZRVes",
   "metadata": {
    "id": "VJGx8hvZRVes"
   },
   "outputs": [],
   "source": [
    "undersampled_training_data, undersampled_RelKa = drop_outliers(undersampled_training_data, undersampled_RelKa, outliers_indices)\n",
    "undersampled_training_data = standardize(undersampled_training_data)\n",
    "undersampled_RelKa = split_RelKa(undersampled_RelKa, 0.6)"
   ]
  },
  {
   "cell_type": "code",
   "execution_count": 26,
   "id": "E_Oiw79XRVib",
   "metadata": {
    "colab": {
     "base_uri": "https://localhost:8080/"
    },
    "id": "E_Oiw79XRVib",
    "outputId": "d488b233-db96-4ef0-e388-40518433bd2d"
   },
   "outputs": [
    {
     "name": "stdout",
     "output_type": "stream",
     "text": [
      "The number of true negatives is: 3443\n",
      "The number of false negatives is: 7\n",
      "The number of false positives is: 0\n",
      "The number of true positives is: 93\n",
      "The accuracy is: 0.9980242732147897\n",
      "The accuracy on the 1's is  0.93\n",
      "The accuracy on the 0's is  1.0\n"
     ]
    },
    {
     "data": {
      "text/plain": [
       "0.9980242732147897"
      ]
     },
     "execution_count": 26,
     "metadata": {},
     "output_type": "execute_result"
    }
   ],
   "source": [
    "undersampled_X_train, undersampled_X_test, undersampled_y_train, undersampled_y_test = train_test_split(undersampled_training_data, undersampled_RelKa, train_size=0.7, random_state=42)\n",
    "undersampled_y_pred = predict_with_Random_Forests(undersampled_X_train, undersampled_X_test, undersampled_y_train, undersampled_y_test)\n",
    "return_accuracy(undersampled_y_test, undersampled_y_pred, verbose=1)"
   ]
  },
  {
   "cell_type": "code",
   "execution_count": 27,
   "id": "vvnnn-e3glzg",
   "metadata": {
    "id": "vvnnn-e3glzg"
   },
   "outputs": [],
   "source": [
    "from sklearn.model_selection import RandomizedSearchCV\n",
    "\n",
    "n_estimators = [int(x) for x in np.linspace(start = 100, stop = 200, num = 5)]\n",
    "min_samples_split = [2, 5, 10]\n",
    "min_samples_leaf = [1, 2, 4]\n",
    "random_grid = {'n_estimators': n_estimators,\n",
    "               'min_samples_split': min_samples_split,\n",
    "               'min_samples_leaf': min_samples_leaf}"
   ]
  },
  {
   "cell_type": "code",
   "execution_count": 28,
   "id": "9D9B5-ZzgtnQ",
   "metadata": {
    "colab": {
     "base_uri": "https://localhost:8080/"
    },
    "id": "9D9B5-ZzgtnQ",
    "outputId": "6b940f0b-3d80-4a9a-9779-7db027f5d5a4"
   },
   "outputs": [
    {
     "name": "stdout",
     "output_type": "stream",
     "text": [
      "Fitting 5 folds for each of 10 candidates, totalling 50 fits\n",
      "[CV 1/5; 1/10] START min_samples_leaf=4, min_samples_split=10, n_estimators=100.\n",
      "[CV 1/5; 1/10] END min_samples_leaf=4, min_samples_split=10, n_estimators=100;, score=0.992 total time=   8.3s\n",
      "[CV 2/5; 1/10] START min_samples_leaf=4, min_samples_split=10, n_estimators=100.\n",
      "[CV 2/5; 1/10] END min_samples_leaf=4, min_samples_split=10, n_estimators=100;, score=0.995 total time=   8.0s\n",
      "[CV 3/5; 1/10] START min_samples_leaf=4, min_samples_split=10, n_estimators=100.\n",
      "[CV 3/5; 1/10] END min_samples_leaf=4, min_samples_split=10, n_estimators=100;, score=0.995 total time=   8.8s\n",
      "[CV 4/5; 1/10] START min_samples_leaf=4, min_samples_split=10, n_estimators=100.\n",
      "[CV 4/5; 1/10] END min_samples_leaf=4, min_samples_split=10, n_estimators=100;, score=0.993 total time=   8.4s\n",
      "[CV 5/5; 1/10] START min_samples_leaf=4, min_samples_split=10, n_estimators=100.\n",
      "[CV 5/5; 1/10] END min_samples_leaf=4, min_samples_split=10, n_estimators=100;, score=0.993 total time=   8.7s\n",
      "[CV 1/5; 2/10] START min_samples_leaf=4, min_samples_split=2, n_estimators=150..\n",
      "[CV 1/5; 2/10] END min_samples_leaf=4, min_samples_split=2, n_estimators=150;, score=0.992 total time=  12.8s\n",
      "[CV 2/5; 2/10] START min_samples_leaf=4, min_samples_split=2, n_estimators=150..\n",
      "[CV 2/5; 2/10] END min_samples_leaf=4, min_samples_split=2, n_estimators=150;, score=0.996 total time=  11.8s\n",
      "[CV 3/5; 2/10] START min_samples_leaf=4, min_samples_split=2, n_estimators=150..\n",
      "[CV 3/5; 2/10] END min_samples_leaf=4, min_samples_split=2, n_estimators=150;, score=0.995 total time=  12.5s\n",
      "[CV 4/5; 2/10] START min_samples_leaf=4, min_samples_split=2, n_estimators=150..\n",
      "[CV 4/5; 2/10] END min_samples_leaf=4, min_samples_split=2, n_estimators=150;, score=0.992 total time=  12.5s\n",
      "[CV 5/5; 2/10] START min_samples_leaf=4, min_samples_split=2, n_estimators=150..\n",
      "[CV 5/5; 2/10] END min_samples_leaf=4, min_samples_split=2, n_estimators=150;, score=0.994 total time=  12.8s\n",
      "[CV 1/5; 3/10] START min_samples_leaf=2, min_samples_split=2, n_estimators=150..\n",
      "[CV 1/5; 3/10] END min_samples_leaf=2, min_samples_split=2, n_estimators=150;, score=0.994 total time=  13.1s\n",
      "[CV 2/5; 3/10] START min_samples_leaf=2, min_samples_split=2, n_estimators=150..\n",
      "[CV 2/5; 3/10] END min_samples_leaf=2, min_samples_split=2, n_estimators=150;, score=0.996 total time=  12.5s\n",
      "[CV 3/5; 3/10] START min_samples_leaf=2, min_samples_split=2, n_estimators=150..\n",
      "[CV 3/5; 3/10] END min_samples_leaf=2, min_samples_split=2, n_estimators=150;, score=0.995 total time=  13.1s\n",
      "[CV 4/5; 3/10] START min_samples_leaf=2, min_samples_split=2, n_estimators=150..\n",
      "[CV 4/5; 3/10] END min_samples_leaf=2, min_samples_split=2, n_estimators=150;, score=0.993 total time=  12.8s\n",
      "[CV 5/5; 3/10] START min_samples_leaf=2, min_samples_split=2, n_estimators=150..\n",
      "[CV 5/5; 3/10] END min_samples_leaf=2, min_samples_split=2, n_estimators=150;, score=0.995 total time=  12.9s\n",
      "[CV 1/5; 4/10] START min_samples_leaf=1, min_samples_split=5, n_estimators=175..\n",
      "[CV 1/5; 4/10] END min_samples_leaf=1, min_samples_split=5, n_estimators=175;, score=0.993 total time=  14.7s\n",
      "[CV 2/5; 4/10] START min_samples_leaf=1, min_samples_split=5, n_estimators=175..\n",
      "[CV 2/5; 4/10] END min_samples_leaf=1, min_samples_split=5, n_estimators=175;, score=0.996 total time=  14.9s\n",
      "[CV 3/5; 4/10] START min_samples_leaf=1, min_samples_split=5, n_estimators=175..\n",
      "[CV 3/5; 4/10] END min_samples_leaf=1, min_samples_split=5, n_estimators=175;, score=0.996 total time=  15.3s\n",
      "[CV 4/5; 4/10] START min_samples_leaf=1, min_samples_split=5, n_estimators=175..\n",
      "[CV 4/5; 4/10] END min_samples_leaf=1, min_samples_split=5, n_estimators=175;, score=0.994 total time=  14.7s\n",
      "[CV 5/5; 4/10] START min_samples_leaf=1, min_samples_split=5, n_estimators=175..\n",
      "[CV 5/5; 4/10] END min_samples_leaf=1, min_samples_split=5, n_estimators=175;, score=0.996 total time=  15.6s\n",
      "[CV 1/5; 5/10] START min_samples_leaf=1, min_samples_split=2, n_estimators=125..\n",
      "[CV 1/5; 5/10] END min_samples_leaf=1, min_samples_split=2, n_estimators=125;, score=0.994 total time=  10.4s\n",
      "[CV 2/5; 5/10] START min_samples_leaf=1, min_samples_split=2, n_estimators=125..\n",
      "[CV 2/5; 5/10] END min_samples_leaf=1, min_samples_split=2, n_estimators=125;, score=0.996 total time=  10.8s\n",
      "[CV 3/5; 5/10] START min_samples_leaf=1, min_samples_split=2, n_estimators=125..\n",
      "[CV 3/5; 5/10] END min_samples_leaf=1, min_samples_split=2, n_estimators=125;, score=0.996 total time=  11.1s\n",
      "[CV 4/5; 5/10] START min_samples_leaf=1, min_samples_split=2, n_estimators=125..\n",
      "[CV 4/5; 5/10] END min_samples_leaf=1, min_samples_split=2, n_estimators=125;, score=0.993 total time=  10.7s\n",
      "[CV 5/5; 5/10] START min_samples_leaf=1, min_samples_split=2, n_estimators=125..\n",
      "[CV 5/5; 5/10] END min_samples_leaf=1, min_samples_split=2, n_estimators=125;, score=0.996 total time=  10.8s\n",
      "[CV 1/5; 6/10] START min_samples_leaf=1, min_samples_split=2, n_estimators=200..\n",
      "[CV 1/5; 6/10] END min_samples_leaf=1, min_samples_split=2, n_estimators=200;, score=0.994 total time=  16.7s\n",
      "[CV 2/5; 6/10] START min_samples_leaf=1, min_samples_split=2, n_estimators=200..\n",
      "[CV 2/5; 6/10] END min_samples_leaf=1, min_samples_split=2, n_estimators=200;, score=0.997 total time=  17.8s\n",
      "[CV 3/5; 6/10] START min_samples_leaf=1, min_samples_split=2, n_estimators=200..\n",
      "[CV 3/5; 6/10] END min_samples_leaf=1, min_samples_split=2, n_estimators=200;, score=0.996 total time=  17.4s\n",
      "[CV 4/5; 6/10] START min_samples_leaf=1, min_samples_split=2, n_estimators=200..\n",
      "[CV 4/5; 6/10] END min_samples_leaf=1, min_samples_split=2, n_estimators=200;, score=0.995 total time=  17.6s\n",
      "[CV 5/5; 6/10] START min_samples_leaf=1, min_samples_split=2, n_estimators=200..\n",
      "[CV 5/5; 6/10] END min_samples_leaf=1, min_samples_split=2, n_estimators=200;, score=0.995 total time=  18.0s\n",
      "[CV 1/5; 7/10] START min_samples_leaf=1, min_samples_split=10, n_estimators=150.\n",
      "[CV 1/5; 7/10] END min_samples_leaf=1, min_samples_split=10, n_estimators=150;, score=0.992 total time=  13.3s\n",
      "[CV 2/5; 7/10] START min_samples_leaf=1, min_samples_split=10, n_estimators=150.\n",
      "[CV 2/5; 7/10] END min_samples_leaf=1, min_samples_split=10, n_estimators=150;, score=0.995 total time=  12.5s\n",
      "[CV 3/5; 7/10] START min_samples_leaf=1, min_samples_split=10, n_estimators=150.\n",
      "[CV 3/5; 7/10] END min_samples_leaf=1, min_samples_split=10, n_estimators=150;, score=0.995 total time=  13.0s\n",
      "[CV 4/5; 7/10] START min_samples_leaf=1, min_samples_split=10, n_estimators=150.\n",
      "[CV 4/5; 7/10] END min_samples_leaf=1, min_samples_split=10, n_estimators=150;, score=0.993 total time=  13.2s\n",
      "[CV 5/5; 7/10] START min_samples_leaf=1, min_samples_split=10, n_estimators=150.\n",
      "[CV 5/5; 7/10] END min_samples_leaf=1, min_samples_split=10, n_estimators=150;, score=0.995 total time=  13.4s\n",
      "[CV 1/5; 8/10] START min_samples_leaf=4, min_samples_split=5, n_estimators=150..\n",
      "[CV 1/5; 8/10] END min_samples_leaf=4, min_samples_split=5, n_estimators=150;, score=0.992 total time=  12.3s\n",
      "[CV 2/5; 8/10] START min_samples_leaf=4, min_samples_split=5, n_estimators=150..\n",
      "[CV 2/5; 8/10] END min_samples_leaf=4, min_samples_split=5, n_estimators=150;, score=0.995 total time=  12.4s\n",
      "[CV 3/5; 8/10] START min_samples_leaf=4, min_samples_split=5, n_estimators=150..\n",
      "[CV 3/5; 8/10] END min_samples_leaf=4, min_samples_split=5, n_estimators=150;, score=0.994 total time=  13.2s\n",
      "[CV 4/5; 8/10] START min_samples_leaf=4, min_samples_split=5, n_estimators=150..\n",
      "[CV 4/5; 8/10] END min_samples_leaf=4, min_samples_split=5, n_estimators=150;, score=0.993 total time=  13.5s\n",
      "[CV 5/5; 8/10] START min_samples_leaf=4, min_samples_split=5, n_estimators=150..\n",
      "[CV 5/5; 8/10] END min_samples_leaf=4, min_samples_split=5, n_estimators=150;, score=0.995 total time=  13.2s\n",
      "[CV 1/5; 9/10] START min_samples_leaf=1, min_samples_split=5, n_estimators=125..\n",
      "[CV 1/5; 9/10] END min_samples_leaf=1, min_samples_split=5, n_estimators=125;, score=0.993 total time=  11.3s\n",
      "[CV 2/5; 9/10] START min_samples_leaf=1, min_samples_split=5, n_estimators=125..\n",
      "[CV 2/5; 9/10] END min_samples_leaf=1, min_samples_split=5, n_estimators=125;, score=0.996 total time=  10.4s\n",
      "[CV 3/5; 9/10] START min_samples_leaf=1, min_samples_split=5, n_estimators=125..\n",
      "[CV 3/5; 9/10] END min_samples_leaf=1, min_samples_split=5, n_estimators=125;, score=0.996 total time=  11.0s\n",
      "[CV 4/5; 9/10] START min_samples_leaf=1, min_samples_split=5, n_estimators=125..\n",
      "[CV 4/5; 9/10] END min_samples_leaf=1, min_samples_split=5, n_estimators=125;, score=0.994 total time=  10.9s\n",
      "[CV 5/5; 9/10] START min_samples_leaf=1, min_samples_split=5, n_estimators=125..\n",
      "[CV 5/5; 9/10] END min_samples_leaf=1, min_samples_split=5, n_estimators=125;, score=0.994 total time=  10.8s\n",
      "[CV 1/5; 10/10] START min_samples_leaf=1, min_samples_split=10, n_estimators=100\n",
      "[CV 1/5; 10/10] END min_samples_leaf=1, min_samples_split=10, n_estimators=100;, score=0.993 total time=   8.4s\n",
      "[CV 2/5; 10/10] START min_samples_leaf=1, min_samples_split=10, n_estimators=100\n",
      "[CV 2/5; 10/10] END min_samples_leaf=1, min_samples_split=10, n_estimators=100;, score=0.996 total time=   8.4s\n",
      "[CV 3/5; 10/10] START min_samples_leaf=1, min_samples_split=10, n_estimators=100\n",
      "[CV 3/5; 10/10] END min_samples_leaf=1, min_samples_split=10, n_estimators=100;, score=0.995 total time=   9.2s\n",
      "[CV 4/5; 10/10] START min_samples_leaf=1, min_samples_split=10, n_estimators=100\n",
      "[CV 4/5; 10/10] END min_samples_leaf=1, min_samples_split=10, n_estimators=100;, score=0.993 total time=   9.3s\n",
      "[CV 5/5; 10/10] START min_samples_leaf=1, min_samples_split=10, n_estimators=100\n",
      "[CV 5/5; 10/10] END min_samples_leaf=1, min_samples_split=10, n_estimators=100;, score=0.996 total time=   9.0s\n"
     ]
    },
    {
     "data": {
      "text/plain": [
       "RandomizedSearchCV(cv=5, estimator=RandomForestClassifier(),\n",
       "                   param_distributions={'min_samples_leaf': [1, 2, 4],\n",
       "                                        'min_samples_split': [2, 5, 10],\n",
       "                                        'n_estimators': [100, 125, 150, 175,\n",
       "                                                         200]},\n",
       "                   scoring=make_scorer(f1_score, average=micro), verbose=10)"
      ]
     },
     "execution_count": 28,
     "metadata": {},
     "output_type": "execute_result"
    }
   ],
   "source": [
    "from sklearn.ensemble import RandomForestClassifier\n",
    "from sklearn.metrics import make_scorer, f1_score\n",
    "\n",
    "rf = RandomForestClassifier()\n",
    "rf_random = RandomizedSearchCV(estimator = rf, param_distributions = random_grid, n_iter = 10, cv = 5, verbose=10, scoring=make_scorer(f1_score, average='weighted'))\n",
    "rf_random.fit(undersampled_X_train, undersampled_y_train)"
   ]
  },
  {
   "cell_type": "code",
   "execution_count": 35,
   "id": "NoX5dGpegy4x",
   "metadata": {
    "colab": {
     "base_uri": "https://localhost:8080/"
    },
    "id": "NoX5dGpegy4x",
    "outputId": "0780f8b0-1366-4ada-c1a2-8adc32ff310d"
   },
   "outputs": [
    {
     "name": "stdout",
     "output_type": "stream",
     "text": [
      "The number of true negatives is: 3443\n",
      "The number of false negatives is: 9\n",
      "The number of false positives is: 0\n",
      "The number of true positives is: 91\n",
      "The accuracy is: 0.9974597798475868\n",
      "The accuracy on the 1's is  0.91\n",
      "The accuracy on the 0's is  1.0\n"
     ]
    }
   ],
   "source": [
    "# print(rf_random.best_params_)\n",
    "clf = RandomForestClassifier(n_estimators=200, min_samples_leaf=1, min_samples_split=2, criterion='entropy')\n",
    "clf.fit(undersampled_X_train, undersampled_y_train)\n",
    "undersampled_y_pred = clf.predict(undersampled_X_test)\n",
    "accuracy = return_accuracy(undersampled_y_test, undersampled_y_pred, verbose=1)"
   ]
  },
  {
   "cell_type": "markdown",
   "id": "MgvvYR3Og4yb",
   "metadata": {
    "id": "MgvvYR3Og4yb"
   },
   "source": [
    "WE TRY TO MAKE THE SUBSAMPLING PROCEDURE MORE ELEGANT AND EFFICIENT BY CONSIDERING K-CLUSTERING, THEN TAKING A SUBSAMPLE FOR EACH CLUSTER (WE PERFORM THE CLUSTERING ONLY ON THE SAMPLES WITH RELKA'S BELOW 0.2) "
   ]
  },
  {
   "cell_type": "code",
   "execution_count": 52,
   "id": "lFL-jAqBiUg_",
   "metadata": {
    "colab": {
     "base_uri": "https://localhost:8080/"
    },
    "id": "lFL-jAqBiUg_",
    "outputId": "32e3a048-711d-4ed9-ae12-cb06d47fb2d1"
   },
   "outputs": [
    {
     "name": "stdout",
     "output_type": "stream",
     "text": [
      "The current iteration of k-means is: 0,                    the average loss is 6.913651290204287.\n",
      "The current iteration of k-means is: 1,                    the average loss is 5.51839742076969.\n",
      "The current iteration of k-means is: 2,                    the average loss is 5.3974221020446524.\n",
      "The current iteration of k-means is: 3,                    the average loss is 5.350227764835033.\n",
      "The current iteration of k-means is: 4,                    the average loss is 5.3174242010148305.\n",
      "The current iteration of k-means is: 5,                    the average loss is 5.292021291232115.\n",
      "The current iteration of k-means is: 6,                    the average loss is 5.273316762498283.\n",
      "The current iteration of k-means is: 7,                    the average loss is 5.25977890279777.\n",
      "The current iteration of k-means is: 8,                    the average loss is 5.250263920568093.\n",
      "The current iteration of k-means is: 9,                    the average loss is 5.243452766213569.\n"
     ]
    }
   ],
   "source": [
    "max_iters = 5\n",
    "threshold = 1.0e-02\n",
    "k = 5\n",
    "indices = np.where(RelKa <= 0.2)[0]\n",
    "redundant_training_data = training_data[indices, :]\n",
    "redundant_RelKa = RelKa[indices]\n",
    "\n",
    "average_loss, assignments = kmeans(redundant_training_data, k, max_iters, threshold)"
   ]
  },
  {
   "cell_type": "code",
   "execution_count": 53,
   "id": "dLvySA-Al9OV",
   "metadata": {
    "id": "dLvySA-Al9OV"
   },
   "outputs": [],
   "source": [
    "import random\n",
    "\n",
    "clustered_data = np.zeros(training_data.shape[1])\n",
    "clustered_data = clustered_data[..., np.newaxis].T\n",
    "clustered_RelKa = np.array([])\n",
    "for i in range(k):\n",
    "    # collect random_size casual samples from the i-th cluster\n",
    "    assigned_indices = np.where(assignments == i)[0]\n",
    "    # taking the samples and RelKa assigned to the i-th cluster\n",
    "    assigned_data = redundant_training_data[assigned_indices, :]\n",
    "    assigned_RelKa = redundant_RelKa[assigned_indices]\n",
    "    # taking a random subsample\n",
    "    random_picked = random.sample(list(np.arange(0, len(assigned_indices))), np.int(1/10 * len(assigned_indices)))\n",
    "    data_to_add = assigned_data[random_picked, :]\n",
    "    RelKa_to_add = assigned_RelKa[random_picked]\n",
    "    # concatenate the subsample to the old clustered_data and clustered_RelKa\n",
    "    clustered_data = np.concatenate([clustered_data, data_to_add])\n",
    "    clustered_RelKa = np.concatenate([clustered_RelKa, RelKa_to_add])\n",
    "# we delete the first row which was just for initialization\n",
    "clustered_data = np.delete(clustered_data, 0, axis = 0)"
   ]
  },
  {
   "cell_type": "code",
   "execution_count": 54,
   "id": "RspXuwKdn9q1",
   "metadata": {
    "id": "RspXuwKdn9q1"
   },
   "outputs": [],
   "source": [
    "# adding all the other samples (which represent less than 20% of the original dataset)\n",
    "indices = np.where(RelKa > 0.2)[0]\n",
    "clustered_data = np.concatenate([clustered_data, training_data[indices, :]])\n",
    "clustered_RelKa = np.concatenate([clustered_RelKa, RelKa[indices]])"
   ]
  },
  {
   "cell_type": "code",
   "execution_count": 55,
   "id": "aPkkpTa5o8UO",
   "metadata": {
    "colab": {
     "base_uri": "https://localhost:8080/"
    },
    "id": "aPkkpTa5o8UO",
    "outputId": "fad27336-8f3e-4104-8714-21a043b5c3bc"
   },
   "outputs": [
    {
     "name": "stdout",
     "output_type": "stream",
     "text": [
      "(75687, 318)\n",
      "(75687,)\n"
     ]
    }
   ],
   "source": [
    "print(clustered_data.shape)\n",
    "print(clustered_RelKa.shape)"
   ]
  },
  {
   "cell_type": "code",
   "execution_count": 56,
   "id": "xWZqYzmYpBKt",
   "metadata": {
    "id": "xWZqYzmYpBKt"
   },
   "outputs": [],
   "source": [
    "clustered_RelKa = split_RelKa(clustered_RelKa, 0.6)\n",
    "clustered_data = standardize(clustered_data)"
   ]
  },
  {
   "cell_type": "code",
   "execution_count": 57,
   "id": "z8dO_jZTpO-1",
   "metadata": {
    "colab": {
     "base_uri": "https://localhost:8080/"
    },
    "id": "z8dO_jZTpO-1",
    "outputId": "fa5f5668-1897-4af9-92b2-5226cb1a7ef4"
   },
   "outputs": [
    {
     "name": "stdout",
     "output_type": "stream",
     "text": [
      "The number of true negatives is: 22416\n",
      "The number of false negatives is: 111\n",
      "The number of false positives is: 24\n",
      "The number of true positives is: 156\n",
      "The accuracy is: 0.9940546967895363\n",
      "The accuracy on the 1's is  0.5842696629213483\n",
      "The accuracy on the 0's is  0.9989304812834224\n"
     ]
    },
    {
     "data": {
      "text/plain": [
       "0.9940546967895363"
      ]
     },
     "execution_count": 57,
     "metadata": {},
     "output_type": "execute_result"
    }
   ],
   "source": [
    "clustered_X_train, clustered_X_test, clustered_y_train, clustered_y_test = train_test_split(clustered_data, clustered_RelKa, train_size=0.7, random_state=42)\n",
    "clustered_y_pred = predict_with_Random_Forests(clustered_X_train, clustered_X_test, clustered_y_train, clustered_y_test)\n",
    "return_accuracy(clustered_y_test, clustered_y_pred, verbose=1)"
   ]
  },
  {
   "cell_type": "markdown",
   "id": "RPnl8KUNuUm8",
   "metadata": {
    "id": "RPnl8KUNuUm8"
   },
   "source": [
    "Taking 20 clusters the accuracy on the 1's is lower than the accuracy with 10 clusters (61%), so we should decrease such a number for the kmeans"
   ]
  },
  {
   "cell_type": "code",
   "execution_count": 58,
   "id": "Ug9wqKwSqoqF",
   "metadata": {
    "id": "Ug9wqKwSqoqF"
   },
   "outputs": [],
   "source": [
    "from sklearn.model_selection import RandomizedSearchCV\n",
    "\n",
    "n_estimators = [int(x) for x in np.linspace(start = 100, stop = 200, num = 5)]\n",
    "min_samples_split = [2, 5, 10]\n",
    "min_samples_leaf = [1, 2, 4]\n",
    "random_grid = {'n_estimators': n_estimators,\n",
    "               'min_samples_split': min_samples_split,\n",
    "               'min_samples_leaf': min_samples_leaf}"
   ]
  },
  {
   "cell_type": "code",
   "execution_count": 59,
   "id": "C2WeI5K4qsA1",
   "metadata": {
    "colab": {
     "base_uri": "https://localhost:8080/"
    },
    "id": "C2WeI5K4qsA1",
    "outputId": "fb5fbbec-b63b-4586-a255-5119c6952d0c"
   },
   "outputs": [
    {
     "name": "stdout",
     "output_type": "stream",
     "text": [
      "Fitting 5 folds for each of 10 candidates, totalling 50 fits\n",
      "[CV 1/5; 1/10] START min_samples_leaf=4, min_samples_split=2, n_estimators=175..\n",
      "[CV 1/5; 1/10] END min_samples_leaf=4, min_samples_split=2, n_estimators=175;, score=0.992 total time=  14.9s\n",
      "[CV 2/5; 1/10] START min_samples_leaf=4, min_samples_split=2, n_estimators=175..\n",
      "[CV 2/5; 1/10] END min_samples_leaf=4, min_samples_split=2, n_estimators=175;, score=0.996 total time=  14.1s\n",
      "[CV 3/5; 1/10] START min_samples_leaf=4, min_samples_split=2, n_estimators=175..\n",
      "[CV 3/5; 1/10] END min_samples_leaf=4, min_samples_split=2, n_estimators=175;, score=0.995 total time=  14.8s\n",
      "[CV 4/5; 1/10] START min_samples_leaf=4, min_samples_split=2, n_estimators=175..\n",
      "[CV 4/5; 1/10] END min_samples_leaf=4, min_samples_split=2, n_estimators=175;, score=0.992 total time=  14.9s\n",
      "[CV 5/5; 1/10] START min_samples_leaf=4, min_samples_split=2, n_estimators=175..\n",
      "[CV 5/5; 1/10] END min_samples_leaf=4, min_samples_split=2, n_estimators=175;, score=0.994 total time=  15.4s\n",
      "[CV 1/5; 2/10] START min_samples_leaf=4, min_samples_split=5, n_estimators=200..\n",
      "[CV 1/5; 2/10] END min_samples_leaf=4, min_samples_split=5, n_estimators=200;, score=0.993 total time=  17.2s\n",
      "[CV 2/5; 2/10] START min_samples_leaf=4, min_samples_split=5, n_estimators=200..\n",
      "[CV 2/5; 2/10] END min_samples_leaf=4, min_samples_split=5, n_estimators=200;, score=0.995 total time=  17.5s\n",
      "[CV 3/5; 2/10] START min_samples_leaf=4, min_samples_split=5, n_estimators=200..\n",
      "[CV 3/5; 2/10] END min_samples_leaf=4, min_samples_split=5, n_estimators=200;, score=0.995 total time=  16.9s\n",
      "[CV 4/5; 2/10] START min_samples_leaf=4, min_samples_split=5, n_estimators=200..\n",
      "[CV 4/5; 2/10] END min_samples_leaf=4, min_samples_split=5, n_estimators=200;, score=0.992 total time=  17.3s\n",
      "[CV 5/5; 2/10] START min_samples_leaf=4, min_samples_split=5, n_estimators=200..\n",
      "[CV 5/5; 2/10] END min_samples_leaf=4, min_samples_split=5, n_estimators=200;, score=0.995 total time=  16.9s\n",
      "[CV 1/5; 3/10] START min_samples_leaf=2, min_samples_split=5, n_estimators=100..\n",
      "[CV 1/5; 3/10] END min_samples_leaf=2, min_samples_split=5, n_estimators=100;, score=0.993 total time=   8.5s\n",
      "[CV 2/5; 3/10] START min_samples_leaf=2, min_samples_split=5, n_estimators=100..\n",
      "[CV 2/5; 3/10] END min_samples_leaf=2, min_samples_split=5, n_estimators=100;, score=0.996 total time=   8.5s\n",
      "[CV 3/5; 3/10] START min_samples_leaf=2, min_samples_split=5, n_estimators=100..\n",
      "[CV 3/5; 3/10] END min_samples_leaf=2, min_samples_split=5, n_estimators=100;, score=0.995 total time=   8.8s\n",
      "[CV 4/5; 3/10] START min_samples_leaf=2, min_samples_split=5, n_estimators=100..\n",
      "[CV 4/5; 3/10] END min_samples_leaf=2, min_samples_split=5, n_estimators=100;, score=0.993 total time=   8.3s\n",
      "[CV 5/5; 3/10] START min_samples_leaf=2, min_samples_split=5, n_estimators=100..\n",
      "[CV 5/5; 3/10] END min_samples_leaf=2, min_samples_split=5, n_estimators=100;, score=0.995 total time=   8.6s\n",
      "[CV 1/5; 4/10] START min_samples_leaf=4, min_samples_split=5, n_estimators=125..\n",
      "[CV 1/5; 4/10] END min_samples_leaf=4, min_samples_split=5, n_estimators=125;, score=0.992 total time=  10.4s\n",
      "[CV 2/5; 4/10] START min_samples_leaf=4, min_samples_split=5, n_estimators=125..\n",
      "[CV 2/5; 4/10] END min_samples_leaf=4, min_samples_split=5, n_estimators=125;, score=0.995 total time=  10.2s\n",
      "[CV 3/5; 4/10] START min_samples_leaf=4, min_samples_split=5, n_estimators=125..\n",
      "[CV 3/5; 4/10] END min_samples_leaf=4, min_samples_split=5, n_estimators=125;, score=0.995 total time=  10.8s\n",
      "[CV 4/5; 4/10] START min_samples_leaf=4, min_samples_split=5, n_estimators=125..\n",
      "[CV 4/5; 4/10] END min_samples_leaf=4, min_samples_split=5, n_estimators=125;, score=0.993 total time=   9.9s\n",
      "[CV 5/5; 4/10] START min_samples_leaf=4, min_samples_split=5, n_estimators=125..\n",
      "[CV 5/5; 4/10] END min_samples_leaf=4, min_samples_split=5, n_estimators=125;, score=0.995 total time=  10.4s\n",
      "[CV 1/5; 5/10] START min_samples_leaf=2, min_samples_split=10, n_estimators=125.\n",
      "[CV 1/5; 5/10] END min_samples_leaf=2, min_samples_split=10, n_estimators=125;, score=0.993 total time=  10.1s\n",
      "[CV 2/5; 5/10] START min_samples_leaf=2, min_samples_split=10, n_estimators=125.\n",
      "[CV 2/5; 5/10] END min_samples_leaf=2, min_samples_split=10, n_estimators=125;, score=0.996 total time=  10.4s\n",
      "[CV 3/5; 5/10] START min_samples_leaf=2, min_samples_split=10, n_estimators=125.\n",
      "[CV 3/5; 5/10] END min_samples_leaf=2, min_samples_split=10, n_estimators=125;, score=0.995 total time=  10.5s\n",
      "[CV 4/5; 5/10] START min_samples_leaf=2, min_samples_split=10, n_estimators=125.\n",
      "[CV 4/5; 5/10] END min_samples_leaf=2, min_samples_split=10, n_estimators=125;, score=0.993 total time=  10.3s\n",
      "[CV 5/5; 5/10] START min_samples_leaf=2, min_samples_split=10, n_estimators=125.\n",
      "[CV 5/5; 5/10] END min_samples_leaf=2, min_samples_split=10, n_estimators=125;, score=0.994 total time=  11.1s\n",
      "[CV 1/5; 6/10] START min_samples_leaf=4, min_samples_split=10, n_estimators=100.\n",
      "[CV 1/5; 6/10] END min_samples_leaf=4, min_samples_split=10, n_estimators=100;, score=0.992 total time=   8.0s\n",
      "[CV 2/5; 6/10] START min_samples_leaf=4, min_samples_split=10, n_estimators=100.\n",
      "[CV 2/5; 6/10] END min_samples_leaf=4, min_samples_split=10, n_estimators=100;, score=0.994 total time=   8.1s\n",
      "[CV 3/5; 6/10] START min_samples_leaf=4, min_samples_split=10, n_estimators=100.\n",
      "[CV 3/5; 6/10] END min_samples_leaf=4, min_samples_split=10, n_estimators=100;, score=0.995 total time=   7.8s\n",
      "[CV 4/5; 6/10] START min_samples_leaf=4, min_samples_split=10, n_estimators=100.\n",
      "[CV 4/5; 6/10] END min_samples_leaf=4, min_samples_split=10, n_estimators=100;, score=0.992 total time=   8.3s\n",
      "[CV 5/5; 6/10] START min_samples_leaf=4, min_samples_split=10, n_estimators=100.\n",
      "[CV 5/5; 6/10] END min_samples_leaf=4, min_samples_split=10, n_estimators=100;, score=0.995 total time=   8.5s\n",
      "[CV 1/5; 7/10] START min_samples_leaf=1, min_samples_split=2, n_estimators=125..\n",
      "[CV 1/5; 7/10] END min_samples_leaf=1, min_samples_split=2, n_estimators=125;, score=0.993 total time=  10.4s\n",
      "[CV 2/5; 7/10] START min_samples_leaf=1, min_samples_split=2, n_estimators=125..\n",
      "[CV 2/5; 7/10] END min_samples_leaf=1, min_samples_split=2, n_estimators=125;, score=0.997 total time=  10.1s\n",
      "[CV 3/5; 7/10] START min_samples_leaf=1, min_samples_split=2, n_estimators=125..\n",
      "[CV 3/5; 7/10] END min_samples_leaf=1, min_samples_split=2, n_estimators=125;, score=0.996 total time=  11.0s\n",
      "[CV 4/5; 7/10] START min_samples_leaf=1, min_samples_split=2, n_estimators=125..\n",
      "[CV 4/5; 7/10] END min_samples_leaf=1, min_samples_split=2, n_estimators=125;, score=0.994 total time=  10.6s\n",
      "[CV 5/5; 7/10] START min_samples_leaf=1, min_samples_split=2, n_estimators=125..\n",
      "[CV 5/5; 7/10] END min_samples_leaf=1, min_samples_split=2, n_estimators=125;, score=0.996 total time=  11.2s\n",
      "[CV 1/5; 8/10] START min_samples_leaf=2, min_samples_split=10, n_estimators=175.\n",
      "[CV 1/5; 8/10] END min_samples_leaf=2, min_samples_split=10, n_estimators=175;, score=0.993 total time=  15.0s\n",
      "[CV 2/5; 8/10] START min_samples_leaf=2, min_samples_split=10, n_estimators=175.\n",
      "[CV 2/5; 8/10] END min_samples_leaf=2, min_samples_split=10, n_estimators=175;, score=0.996 total time=  14.5s\n",
      "[CV 3/5; 8/10] START min_samples_leaf=2, min_samples_split=10, n_estimators=175.\n",
      "[CV 3/5; 8/10] END min_samples_leaf=2, min_samples_split=10, n_estimators=175;, score=0.995 total time=  15.8s\n",
      "[CV 4/5; 8/10] START min_samples_leaf=2, min_samples_split=10, n_estimators=175.\n",
      "[CV 4/5; 8/10] END min_samples_leaf=2, min_samples_split=10, n_estimators=175;, score=0.993 total time=  15.3s\n",
      "[CV 5/5; 8/10] START min_samples_leaf=2, min_samples_split=10, n_estimators=175.\n",
      "[CV 5/5; 8/10] END min_samples_leaf=2, min_samples_split=10, n_estimators=175;, score=0.995 total time=  15.6s\n",
      "[CV 1/5; 9/10] START min_samples_leaf=4, min_samples_split=2, n_estimators=100..\n",
      "[CV 1/5; 9/10] END min_samples_leaf=4, min_samples_split=2, n_estimators=100;, score=0.992 total time=   8.3s\n",
      "[CV 2/5; 9/10] START min_samples_leaf=4, min_samples_split=2, n_estimators=100..\n",
      "[CV 2/5; 9/10] END min_samples_leaf=4, min_samples_split=2, n_estimators=100;, score=0.995 total time=   7.9s\n",
      "[CV 3/5; 9/10] START min_samples_leaf=4, min_samples_split=2, n_estimators=100..\n",
      "[CV 3/5; 9/10] END min_samples_leaf=4, min_samples_split=2, n_estimators=100;, score=0.995 total time=   8.5s\n",
      "[CV 4/5; 9/10] START min_samples_leaf=4, min_samples_split=2, n_estimators=100..\n",
      "[CV 4/5; 9/10] END min_samples_leaf=4, min_samples_split=2, n_estimators=100;, score=0.992 total time=   8.5s\n",
      "[CV 5/5; 9/10] START min_samples_leaf=4, min_samples_split=2, n_estimators=100..\n",
      "[CV 5/5; 9/10] END min_samples_leaf=4, min_samples_split=2, n_estimators=100;, score=0.995 total time=   8.9s\n",
      "[CV 1/5; 10/10] START min_samples_leaf=2, min_samples_split=2, n_estimators=125.\n",
      "[CV 1/5; 10/10] END min_samples_leaf=2, min_samples_split=2, n_estimators=125;, score=0.992 total time=  10.8s\n",
      "[CV 2/5; 10/10] START min_samples_leaf=2, min_samples_split=2, n_estimators=125.\n",
      "[CV 2/5; 10/10] END min_samples_leaf=2, min_samples_split=2, n_estimators=125;, score=0.996 total time=  10.3s\n",
      "[CV 3/5; 10/10] START min_samples_leaf=2, min_samples_split=2, n_estimators=125.\n",
      "[CV 3/5; 10/10] END min_samples_leaf=2, min_samples_split=2, n_estimators=125;, score=0.995 total time=  10.3s\n",
      "[CV 4/5; 10/10] START min_samples_leaf=2, min_samples_split=2, n_estimators=125.\n",
      "[CV 4/5; 10/10] END min_samples_leaf=2, min_samples_split=2, n_estimators=125;, score=0.992 total time=  11.2s\n",
      "[CV 5/5; 10/10] START min_samples_leaf=2, min_samples_split=2, n_estimators=125.\n",
      "[CV 5/5; 10/10] END min_samples_leaf=2, min_samples_split=2, n_estimators=125;, score=0.994 total time=  11.0s\n"
     ]
    },
    {
     "data": {
      "text/plain": [
       "RandomizedSearchCV(cv=5, estimator=RandomForestClassifier(),\n",
       "                   param_distributions={'min_samples_leaf': [1, 2, 4],\n",
       "                                        'min_samples_split': [2, 5, 10],\n",
       "                                        'n_estimators': [100, 125, 150, 175,\n",
       "                                                         200]},\n",
       "                   scoring=make_scorer(f1_score, average=micro), verbose=10)"
      ]
     },
     "execution_count": 59,
     "metadata": {},
     "output_type": "execute_result"
    }
   ],
   "source": [
    "from sklearn.ensemble import RandomForestClassifier\n",
    "from sklearn.metrics import make_scorer, f1_score\n",
    "\n",
    "rf = RandomForestClassifier()\n",
    "rf_random = RandomizedSearchCV(estimator = rf, param_distributions = random_grid, n_iter = 10, cv = 5, verbose=10, scoring=make_scorer(f1_score, average='weighted'))\n",
    "rf_random.fit(clustered_X_train, clustered_y_train)"
   ]
  },
  {
   "cell_type": "code",
   "execution_count": 63,
   "id": "Xu3JbQ2Gqu18",
   "metadata": {
    "colab": {
     "base_uri": "https://localhost:8080/"
    },
    "id": "Xu3JbQ2Gqu18",
    "outputId": "0b02c77b-c4f4-499e-d33d-d40d4760d323"
   },
   "outputs": [
    {
     "name": "stdout",
     "output_type": "stream",
     "text": [
      "The number of true negatives is: 22416\n",
      "The number of false negatives is: 111\n",
      "The number of false positives is: 24\n",
      "The number of true positives is: 156\n",
      "The accuracy is: 0.9940546967895363\n",
      "The accuracy on the 1's is  0.5842696629213483\n",
      "The accuracy on the 0's is  0.9989304812834224\n"
     ]
    }
   ],
   "source": [
    "# print(rf_random.best_params_)\n",
    "clf = RandomForestClassifier(n_estimators=125, min_samples_leaf=1, min_samples_split=2, criterion='entropy')\n",
    "clf.fit(clustered_X_train, clustered_y_train)\n",
    "undersampled_y_pred = clf.predict(clustered_X_test)\n",
    "accuracy = return_accuracy(clustered_y_test, clustered_y_pred, verbose=1)"
   ]
  }
 ],
 "metadata": {
  "accelerator": "GPU",
  "colab": {
   "collapsed_sections": [],
   "name": "Outliers_Detection.ipynb",
   "provenance": []
  },
  "kernelspec": {
   "display_name": "Python 3",
   "language": "python",
   "name": "python3"
  },
  "language_info": {
   "codemirror_mode": {
    "name": "ipython",
    "version": 3
   },
   "file_extension": ".py",
   "mimetype": "text/x-python",
   "name": "python",
   "nbconvert_exporter": "python",
   "pygments_lexer": "ipython3",
   "version": "3.8.8"
  }
 },
 "nbformat": 4,
 "nbformat_minor": 5
}
