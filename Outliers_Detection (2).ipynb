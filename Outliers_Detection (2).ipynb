{
  "nbformat": 4,
  "nbformat_minor": 5,
  "metadata": {
    "accelerator": "GPU",
    "colab": {
      "name": "Outliers_Detection.ipynb",
      "provenance": [],
      "collapsed_sections": []
    },
    "kernelspec": {
      "display_name": "Python 3",
      "language": "python",
      "name": "python3"
    },
    "language_info": {
      "codemirror_mode": {
        "name": "ipython",
        "version": 3
      },
      "file_extension": ".py",
      "mimetype": "text/x-python",
      "name": "python",
      "nbconvert_exporter": "python",
      "pygments_lexer": "ipython3",
      "version": "3.8.8"
    }
  },
  "cells": [
    {
      "cell_type": "markdown",
      "metadata": {
        "id": "OVkUbtoxrZN3"
      },
      "source": [
        "Importing useful libraries and importing the drive for the dataset"
      ],
      "id": "OVkUbtoxrZN3"
    },
    {
      "cell_type": "code",
      "metadata": {
        "id": "dc466260"
      },
      "source": [
        "import pandas as pd\n",
        "import numpy as np\n",
        "from matplotlib import pyplot as plt\n",
        "import seaborn as sns\n",
        "\n",
        "from sklearn.model_selection import train_test_split\n",
        "from xgboost import XGBRegressor\n",
        "from sklearn.metrics import mean_squared_error as MSE\n",
        "from sklearn.model_selection import GridSearchCV, RandomizedSearchCV\n",
        "\n",
        "from sklearn.preprocessing import StandardScaler\n",
        "\n",
        "from sklearn.decomposition import PCA\n",
        "\n",
        "from sklearn.ensemble import IsolationForest\n",
        "\n",
        "import math\n",
        "\n",
        "from sklearn import preprocessing\n",
        "\n",
        "from scipy import stats\n",
        "import scipy as sci\n",
        "\n",
        "import random\n",
        "\n",
        "import imblearn\n",
        "from imblearn.over_sampling import SMOTE\n",
        "\n",
        "from sklearn.ensemble import RandomForestClassifier\n",
        "from sklearn.metrics import make_scorer, f1_score\n",
        "from sklearn.model_selection import RandomizedSearchCV\n",
        "\n",
        "from scipy.spatial.distance import minkowski"
      ],
      "id": "dc466260",
      "execution_count": null,
      "outputs": []
    },
    {
      "cell_type": "code",
      "metadata": {
        "colab": {
          "base_uri": "https://localhost:8080/"
        },
        "id": "jjM2luKFSayr",
        "outputId": "3a8f06f8-a26f-4194-a0e4-54cc34539898"
      },
      "source": [
        "from google.colab import drive\n",
        "drive.mount('/content/drive')\n",
        "%cd drive/My\\ Drive"
      ],
      "id": "jjM2luKFSayr",
      "execution_count": null,
      "outputs": [
        {
          "output_type": "stream",
          "name": "stdout",
          "text": [
            "Drive already mounted at /content/drive; to attempt to forcibly remount, call drive.mount(\"/content/drive\", force_remount=True).\n",
            "[Errno 2] No such file or directory: 'drive/My Drive'\n",
            "/content/drive/My Drive\n"
          ]
        }
      ]
    },
    {
      "cell_type": "markdown",
      "metadata": {
        "id": "FkcqxT8Eo-D2"
      },
      "source": [
        "Importing the data"
      ],
      "id": "FkcqxT8Eo-D2"
    },
    {
      "cell_type": "code",
      "metadata": {
        "id": "z6__FhQiuUag"
      },
      "source": [
        "pddata = pd.read_csv('GSM1586785_ScrH-12A_Exd_14mer_cg.csv.zip', compression='zip', error_bad_lines=False, skiprows=1)"
      ],
      "id": "z6__FhQiuUag",
      "execution_count": null,
      "outputs": []
    },
    {
      "cell_type": "code",
      "metadata": {
        "id": "7Onini8BliWv"
      },
      "source": [
        "pddata = pddata.to_numpy()\n",
        "RelKa = pddata[:, -1]\n",
        "training_data = pddata[:, 2:-1]"
      ],
      "id": "7Onini8BliWv",
      "execution_count": null,
      "outputs": []
    },
    {
      "cell_type": "markdown",
      "metadata": {
        "id": "_k3VzeutCXDe"
      },
      "source": [
        "Some helpers function for the analysis below"
      ],
      "id": "_k3VzeutCXDe"
    },
    {
      "cell_type": "code",
      "metadata": {
        "id": "iOBmnZCWDJEC"
      },
      "source": [
        "def drop_outliers(x, y, outliers):\n",
        "  x = np.delete(x, outliers, axis=0)\n",
        "  y = np.delete(y, outliers, axis=0)\n",
        "  return x, y"
      ],
      "id": "iOBmnZCWDJEC",
      "execution_count": null,
      "outputs": []
    },
    {
      "cell_type": "code",
      "metadata": {
        "id": "V2AblynuDYKx"
      },
      "source": [
        "def split_RelKa(y, p):\n",
        "  return np.array([1 if value > p else 0 for value in y])"
      ],
      "id": "V2AblynuDYKx",
      "execution_count": null,
      "outputs": []
    },
    {
      "cell_type": "code",
      "metadata": {
        "id": "LCehBG91D9S1"
      },
      "source": [
        "from sklearn.ensemble import RandomForestClassifier\n",
        "\n",
        "def predict_with_Random_Forests(X_train, X_test, y_train, y_test):\n",
        "  clf = RandomForestClassifier(n_estimators=100, criterion='entropy')\n",
        "  clf.fit(X_train, y_train)\n",
        "  y_pred = clf.predict(X_test)  \n",
        "  return y_pred"
      ],
      "id": "LCehBG91D9S1",
      "execution_count": null,
      "outputs": []
    },
    {
      "cell_type": "code",
      "metadata": {
        "id": "VGsyw7IyCpN7"
      },
      "source": [
        "from sklearn import metrics\n",
        "\n",
        "def return_accuracy(y_test, y_pred, verbose=1):\n",
        "  C = metrics.confusion_matrix(y_test, y_pred)\n",
        "  accuracy = np.trace(C) / len(y_test)\n",
        "  if verbose == 1:\n",
        "    print(\"The number of true negatives is:\", C[0, 0])\n",
        "    print(\"The number of false negatives is:\", C[1,0])\n",
        "    print(\"The number of false positives is:\", C[0,1])  \n",
        "    print(\"The number of true positives is:\", C[1,1])\n",
        "    print(\"The accuracy is:\", accuracy)\n",
        "    print(\"The accuracy on the 1's is \", 1 / np.sum(y_test == 1) * (np.sum(y_test == 1) - C[1, 0]))\n",
        "    print(\"The accuracy on the 0's is \", 1 / np.sum(y_test == 0) * (np.sum(y_test == 0) - C[0, 1]))\n",
        "  return accuracy"
      ],
      "id": "VGsyw7IyCpN7",
      "execution_count": null,
      "outputs": []
    },
    {
      "cell_type": "code",
      "metadata": {
        "id": "O_VezXLPOxCd"
      },
      "source": [
        "def split_outliers(threshold, scores):\n",
        "  \"\"\"\n",
        "  As a consequence of the histogram below, we change the decision function \n",
        "  implemented in the isolation forests if the \n",
        "  Anomaly_Detection_Isolation_Forests function is told to do so\n",
        "  \"\"\"\n",
        "  outliers_indices = np.where(scores <= threshold)[0]\n",
        "  return outliers_indices"
      ],
      "id": "O_VezXLPOxCd",
      "execution_count": null,
      "outputs": []
    },
    {
      "cell_type": "code",
      "metadata": {
        "id": "M1_1YDzeSwg_"
      },
      "source": [
        "import random\n",
        "\n",
        "def undersampling(X, y, ratios = np.array([0.1, 0.2, 0.2]), intervals = 0.2 * np.arange(0, 4)):\n",
        "  undersampled_training_data = np.zeros(training_data.shape[1])\n",
        "  undersampled_training_data = undersampled_training_data[..., np.newaxis].T\n",
        "  undersampled_RelKa = np.array([])\n",
        "  for i in range(len(intervals)-1):\n",
        "      indices = np.where(np.logical_and(intervals[i] <= RelKa, RelKa <= intervals[i+1]))[0]\n",
        "      sample_length = np.int(ratios[i]*len(indices))\n",
        "      random_picked = random.sample(list(np.arange(0, len(indices) + 1)), sample_length)\n",
        "      training_to_add = training_data[indices[0] + random_picked, :]\n",
        "      undersampled_training_data = np.concatenate([undersampled_training_data, training_to_add], axis=0)\n",
        "      RelKa_to_add = RelKa[indices[0] + random_picked]\n",
        "      undersampled_RelKa = np.concatenate([undersampled_RelKa, RelKa_to_add], axis=0)\n",
        "  critical_indices = np.where(RelKa >= 0.7)[0]\n",
        "  critical_RelKa = RelKa[critical_indices]\n",
        "  critical_samples = training_data[critical_indices, :]\n",
        "  undersampled_training_data = np.concatenate([undersampled_training_data, critical_samples], axis=0)\n",
        "  undersampled_RelKa = np.concatenate([undersampled_RelKa, critical_RelKa], axis=0)\n",
        "  undersampled_training_data = np.delete(undersampled_training_data, 0, axis=0)\n",
        "  return undersampled_training_data, undersampled_RelKa"
      ],
      "id": "M1_1YDzeSwg_",
      "execution_count": null,
      "outputs": []
    },
    {
      "cell_type": "code",
      "source": [
        "from sklearn import metrics\n",
        "\n",
        "def weighted_balance_average(y_true, y_pred):\n",
        "    ones_number = np.count_nonzero(y_true == 1.)\n",
        "    frequency_1 = ones_number / len(y_true)\n",
        "    frequency_0 = 1 - frequency_1\n",
        "    sum_inverse_frequencies = 1 / frequency_0 + 1 / frequency_1\n",
        "    weight_0 = 1 / (frequency_0 * sum_inverse_frequencies)\n",
        "    weight_1 = 1 / (frequency_1 * sum_inverse_frequencies)\n",
        "    C = metrics.confusion_matrix(y_true, y_pred)\n",
        "    return weight_0 * C[0, 0] / (C[0, 0] + C[1, 0]) + weight_1 * C[1, 1] / (C[1, 1] + C[0, 1])"
      ],
      "metadata": {
        "id": "9No2uLXpdZge"
      },
      "id": "9No2uLXpdZge",
      "execution_count": null,
      "outputs": []
    },
    {
      "cell_type": "code",
      "source": [
        "from sklearn import metrics\n",
        "\n",
        "def jaccard_score(y_true, y_pred):\n",
        "    C = metrics.confusion_matrix(y_true, y_pred)\n",
        "    return C[1, 1] / (C[1, 1] + C[1, 0] + C[0, 1])"
      ],
      "metadata": {
        "id": "Cx-n7wmHm3cy"
      },
      "id": "Cx-n7wmHm3cy",
      "execution_count": null,
      "outputs": []
    },
    {
      "cell_type": "markdown",
      "metadata": {
        "id": "DxQsUtJxOGkA"
      },
      "source": [
        "WE FIRTS TRY TO DO A PREDICTION WITHOUT ANY OUTLIER REMOTION TO HAVE A COMPARISON"
      ],
      "id": "DxQsUtJxOGkA"
    },
    {
      "cell_type": "code",
      "metadata": {
        "id": "qL_SNdMdOMMT"
      },
      "source": [
        "from sklearn.preprocessing import StandardScaler\n",
        "\n",
        "RelKa_tilda = split_RelKa(RelKa, 0.7)\n",
        "indices = [i for i in range(len(training_data))]\n",
        "X_train, X_test, y_train, y_test, train_indices, test_indices = train_test_split(training_data, RelKa_tilda, indices, train_size=0.7, random_state=42)"
      ],
      "id": "qL_SNdMdOMMT",
      "execution_count": null,
      "outputs": []
    },
    {
      "cell_type": "code",
      "metadata": {
        "colab": {
          "base_uri": "https://localhost:8080/"
        },
        "id": "LXWLj0eUOPil",
        "outputId": "ddb7e8bc-116e-4f59-d4a0-016ef213ab07"
      },
      "source": [
        "y_pred = predict_with_Random_Forests(X_train, X_test, y_train, y_test)\n",
        "accuracy = weighted_balance_average(y_test, y_pred)\n",
        "print(accuracy)"
      ],
      "id": "LXWLj0eUOPil",
      "execution_count": null,
      "outputs": [
        {
          "output_type": "stream",
          "name": "stdout",
          "text": [
            "0.8447460428034289\n"
          ]
        }
      ]
    },
    {
      "cell_type": "markdown",
      "metadata": {
        "id": "Z07FC8x7PfIm"
      },
      "source": [
        "WE SEE THAT THE ACCURACY IS HIGH BUT WE ARE PREDICTING VERY POORLY THE CLASS 1"
      ],
      "id": "Z07FC8x7PfIm"
    },
    {
      "cell_type": "markdown",
      "metadata": {
        "id": "DV5aXOeq6mGI"
      },
      "source": [
        "ISOLATION FORESTS ANOMALY DETECTION"
      ],
      "id": "DV5aXOeq6mGI"
    },
    {
      "cell_type": "code",
      "metadata": {
        "id": "ec7aw0cE6rsV"
      },
      "source": [
        "from sklearn.ensemble import IsolationForest\n",
        "\n",
        "def Anomaly_Detection_Isolation_Forests(x, change_split=True):\n",
        "  random_state = np.random.RandomState(42)\n",
        "  contamination = 'auto'\n",
        "  threshold = np.random.uniform(-0.03, -0.02, 1)\n",
        "  model = IsolationForest(n_estimators=120, max_samples='auto', contamination=contamination, random_state=random_state)\n",
        "  model.fit(x)\n",
        "  scores = model.decision_function(x)\n",
        "  if change_split == False:\n",
        "    anomaly_score = model.predict(x)\n",
        "    outliers_indices = np.where(anomaly_score == -1)[0]\n",
        "  if change_split == True:\n",
        "    outliers_indices = split_outliers(threshold, scores)\n",
        "  return contamination, scores, outliers_indices\n",
        "\n",
        "def check_Isolation_Forests(contamination, outliers_indices):\n",
        "  \"\"\"\n",
        "  Simply a check on the proper working of the IF algorithm\n",
        "  \"\"\"\n",
        "  tol = 1.0e-02\n",
        "  if contamination != 'auto':\n",
        "    outliers_percentage = 1 / len(RelKa) * len(outliers_indices)\n",
        "    assert np.abs(contamination-outliers_percentage) < tol\n",
        "\n",
        "def check_boundary_decision(scores, p, verbose=1):\n",
        "  \"\"\"\n",
        "  This function simply controls how many scores returned by the IF algorithm \n",
        "  are likely to be misclassified\n",
        "  \"\"\"\n",
        "  indecision_percentage = 1 / len(RelKa) * np.count_nonzero(np.abs(scores) <= p)\n",
        "  if verbose == 1:\n",
        "    plt.hist(scores)\n",
        "    plt.show()\n",
        "    print(\"The indecision percentage around\", p,  \"is\", indecision_percentage)\n",
        "    print(\"The percentage of outliers detected is\", 1 / len(scores) * len(np.where(scores < 0)[0]))"
      ],
      "id": "ec7aw0cE6rsV",
      "execution_count": null,
      "outputs": []
    },
    {
      "cell_type": "code",
      "metadata": {
        "colab": {
          "base_uri": "https://localhost:8080/",
          "height": 300
        },
        "id": "T13n1dNv7ct7",
        "outputId": "cb5c4abb-6db2-4bb2-c07b-f696216911c7"
      },
      "source": [
        "contamination, scores, outliers_indices = Anomaly_Detection_Isolation_Forests(training_data, change_split=False)\n",
        "check_Isolation_Forests(contamination, outliers_indices)\n",
        "check_boundary_decision(scores, 0.02, verbose=1)"
      ],
      "id": "T13n1dNv7ct7",
      "execution_count": null,
      "outputs": [
        {
          "output_type": "display_data",
          "data": {
            "image/png": "[encoded data removed]",
            "text/plain": [
              "<Figure size 432x288 with 1 Axes>"
            ]
          },
          "metadata": {
            "needs_background": "light"
          }
        },
        {
          "output_type": "stream",
          "name": "stdout",
          "text": [
            "The indecision percentage around 0.02 is 0.5672001406964474\n",
            "The percentage of outliers detected is 0.10294290069175753\n"
          ]
        }
      ]
    },
    {
      "cell_type": "code",
      "metadata": {
        "id": "bCG72D-4EhlD"
      },
      "source": [
        "training_data, RelKa = drop_outliers(training_data, RelKa, outliers_indices)\n",
        "RelKa_tilda = split_RelKa(RelKa, 0.7)"
      ],
      "id": "bCG72D-4EhlD",
      "execution_count": null,
      "outputs": []
    },
    {
      "cell_type": "code",
      "metadata": {
        "id": "ssEbARYX4S5-"
      },
      "source": [
        "indices = [i for i in range(len(training_data))]\n",
        "X_train, X_test, y_train, y_test, train_indices, test_indices = train_test_split(training_data, RelKa_tilda, indices, train_size=0.7, random_state=42)"
      ],
      "id": "ssEbARYX4S5-",
      "execution_count": null,
      "outputs": []
    },
    {
      "cell_type": "code",
      "metadata": {
        "colab": {
          "base_uri": "https://localhost:8080/"
        },
        "id": "nob2nvYFE3kj",
        "outputId": "7898e599-5dd3-4864-bc39-a484e0d42b50"
      },
      "source": [
        "y_pred = predict_with_Random_Forests(X_train, X_test, y_train, y_test)\n",
        "accuracy = return_accuracy(y_test, y_pred, verbose=1)"
      ],
      "id": "nob2nvYFE3kj",
      "execution_count": null,
      "outputs": [
        {
          "output_type": "stream",
          "name": "stdout",
          "text": [
            "The number of true negatives is: 45799\n",
            "The number of false negatives is: 59\n",
            "The number of false positives is: 11\n",
            "The number of true positives is: 37\n",
            "The accuracy is: 0.9984751448612382\n",
            "The accuracy on the 1's is  0.38541666666666663\n",
            "The accuracy on the 0's is  0.9997598777559485\n"
          ]
        }
      ]
    },
    {
      "cell_type": "markdown",
      "metadata": {
        "id": "4TyHT3NLfYy7"
      },
      "source": [
        "We see that we have a problem with a large number of false negatives, namely with incorrectly predictions of the negative class"
      ],
      "id": "4TyHT3NLfYy7"
    },
    {
      "cell_type": "markdown",
      "metadata": {
        "id": "1vAi22ydnFGR"
      },
      "source": [
        "# CROSS VALIDATION (5-FOLD) TO FINETUNE THE RF PARAMETERS"
      ],
      "id": "1vAi22ydnFGR"
    },
    {
      "cell_type": "code",
      "metadata": {
        "id": "uySFlHwpoewE"
      },
      "source": [
        "X_train, X_test, y_train, y_test = train_test_split(training_data, RelKa_tilda, train_size=0.7, random_state=42)"
      ],
      "id": "uySFlHwpoewE",
      "execution_count": null,
      "outputs": []
    },
    {
      "cell_type": "code",
      "metadata": {
        "id": "eVKIvgRtnQZV"
      },
      "source": [
        "from sklearn.model_selection import RandomizedSearchCV\n",
        "\n",
        "n_estimators = [int(x) for x in np.linspace(start = 100, stop = 200, num = 5)]\n",
        "min_samples_split = [2, 5, 10]\n",
        "min_samples_leaf = [1, 2, 4]\n",
        "random_grid = {'n_estimators': n_estimators,\n",
        "               'min_samples_split': min_samples_split,\n",
        "               'min_samples_leaf': min_samples_leaf}"
      ],
      "id": "eVKIvgRtnQZV",
      "execution_count": null,
      "outputs": []
    },
    {
      "cell_type": "code",
      "metadata": {
        "colab": {
          "base_uri": "https://localhost:8080/"
        },
        "id": "DiMsjYxCoBKC",
        "outputId": "72b8c6fb-2f5e-47ec-eb51-579310d72bc3"
      },
      "source": [
        "from sklearn.ensemble import RandomForestClassifier\n",
        "\n",
        "rf = RandomForestClassifier()\n",
        "rf_random = RandomizedSearchCV(estimator = rf, param_distributions = random_grid, n_iter = 3, cv = 5, scoring=make_scorer(weighted_balance_average), verbose=10)\n",
        "rf_random.fit(X_train, y_train)"
      ],
      "id": "DiMsjYxCoBKC",
      "execution_count": null,
      "outputs": [
        {
          "output_type": "stream",
          "name": "stdout",
          "text": [
            "Fitting 5 folds for each of 3 candidates, totalling 15 fits\n",
            "[CV 1/5; 1/3] START min_samples_leaf=1, min_samples_split=5, n_estimators=200...\n",
            "[CV 1/5; 1/3] END min_samples_leaf=1, min_samples_split=5, n_estimators=200;, score=0.751 total time= 5.9min\n",
            "[CV 2/5; 1/3] START min_samples_leaf=1, min_samples_split=5, n_estimators=200...\n",
            "[CV 2/5; 1/3] END min_samples_leaf=1, min_samples_split=5, n_estimators=200;, score=0.941 total time= 5.5min\n",
            "[CV 3/5; 1/3] START min_samples_leaf=1, min_samples_split=5, n_estimators=200...\n",
            "[CV 3/5; 1/3] END min_samples_leaf=1, min_samples_split=5, n_estimators=200;, score=0.909 total time= 5.4min\n",
            "[CV 4/5; 1/3] START min_samples_leaf=1, min_samples_split=5, n_estimators=200...\n",
            "[CV 4/5; 1/3] END min_samples_leaf=1, min_samples_split=5, n_estimators=200;, score=0.737 total time= 5.2min\n",
            "[CV 5/5; 1/3] START min_samples_leaf=1, min_samples_split=5, n_estimators=200...\n",
            "[CV 5/5; 1/3] END min_samples_leaf=1, min_samples_split=5, n_estimators=200;, score=1.000 total time= 5.4min\n",
            "[CV 1/5; 2/3] START min_samples_leaf=2, min_samples_split=5, n_estimators=200...\n",
            "[CV 1/5; 2/3] END min_samples_leaf=2, min_samples_split=5, n_estimators=200;, score=0.715 total time= 5.6min\n",
            "[CV 2/5; 2/3] START min_samples_leaf=2, min_samples_split=5, n_estimators=200...\n",
            "[CV 2/5; 2/3] END min_samples_leaf=2, min_samples_split=5, n_estimators=200;, score=0.938 total time= 5.3min\n",
            "[CV 3/5; 2/3] START min_samples_leaf=2, min_samples_split=5, n_estimators=200...\n",
            "[CV 3/5; 2/3] END min_samples_leaf=2, min_samples_split=5, n_estimators=200;, score=0.857 total time= 5.3min\n",
            "[CV 4/5; 2/3] START min_samples_leaf=2, min_samples_split=5, n_estimators=200...\n",
            "[CV 4/5; 2/3] END min_samples_leaf=2, min_samples_split=5, n_estimators=200;, score=0.834 total time= 5.4min\n",
            "[CV 5/5; 2/3] START min_samples_leaf=2, min_samples_split=5, n_estimators=200...\n",
            "[CV 5/5; 2/3] END min_samples_leaf=2, min_samples_split=5, n_estimators=200;, score=1.000 total time= 5.4min\n",
            "[CV 1/5; 3/3] START min_samples_leaf=1, min_samples_split=2, n_estimators=200...\n",
            "[CV 1/5; 3/3] END min_samples_leaf=1, min_samples_split=2, n_estimators=200;, score=0.667 total time= 5.6min\n",
            "[CV 2/5; 3/3] START min_samples_leaf=1, min_samples_split=2, n_estimators=200...\n",
            "[CV 2/5; 3/3] END min_samples_leaf=1, min_samples_split=2, n_estimators=200;, score=0.933 total time= 5.4min\n",
            "[CV 3/5; 3/3] START min_samples_leaf=1, min_samples_split=2, n_estimators=200...\n",
            "[CV 3/5; 3/3] END min_samples_leaf=1, min_samples_split=2, n_estimators=200;, score=0.905 total time= 5.5min\n",
            "[CV 4/5; 3/3] START min_samples_leaf=1, min_samples_split=2, n_estimators=200...\n",
            "[CV 4/5; 3/3] END min_samples_leaf=1, min_samples_split=2, n_estimators=200;, score=0.778 total time= 5.7min\n",
            "[CV 5/5; 3/3] START min_samples_leaf=1, min_samples_split=2, n_estimators=200...\n",
            "[CV 5/5; 3/3] END min_samples_leaf=1, min_samples_split=2, n_estimators=200;, score=1.000 total time= 5.5min\n"
          ]
        },
        {
          "output_type": "execute_result",
          "data": {
            "text/plain": [
              "RandomizedSearchCV(cv=5, estimator=RandomForestClassifier(), n_iter=3,\n",
              "                   param_distributions={'min_samples_leaf': [1, 2, 4],\n",
              "                                        'min_samples_split': [2, 5, 10],\n",
              "                                        'n_estimators': [100, 125, 150, 175,\n",
              "                                                         200]},\n",
              "                   scoring=make_scorer(weighted_balance_average), verbose=10)"
            ]
          },
          "metadata": {},
          "execution_count": 125
        }
      ]
    },
    {
      "cell_type": "code",
      "source": [
        "print(rf_random.best_params_)"
      ],
      "metadata": {
        "colab": {
          "base_uri": "https://localhost:8080/"
        },
        "id": "qTpstojt80cn",
        "outputId": "05577788-3c87-40ac-85f0-70bae148acf0"
      },
      "id": "qTpstojt80cn",
      "execution_count": null,
      "outputs": [
        {
          "output_type": "stream",
          "name": "stdout",
          "text": [
            "{'n_estimators': 200, 'min_samples_split': 5, 'min_samples_leaf': 2}\n"
          ]
        }
      ]
    },
    {
      "cell_type": "code",
      "metadata": {
        "colab": {
          "base_uri": "https://localhost:8080/"
        },
        "id": "UjUwQj2MFcvn",
        "outputId": "d95c21fa-4a80-433f-f910-39e0810954d8"
      },
      "source": [
        "clf = RandomForestClassifier(n_estimators=200, min_samples_leaf=2, min_samples_split=5, criterion='entropy')\n",
        "clf.fit(X_train, y_train)\n",
        "y_pred = clf.predict(X_test)\n",
        "accuracy = return_accuracy(y_test, y_pred, verbose=1)"
      ],
      "id": "UjUwQj2MFcvn",
      "execution_count": null,
      "outputs": [
        {
          "output_type": "stream",
          "name": "stdout",
          "text": [
            "The number of true negatives is: 45799\n",
            "The number of false negatives is: 60\n",
            "The number of false positives is: 11\n",
            "The number of true positives is: 36\n",
            "The accuracy is: 0.9984533612163987\n",
            "The accuracy on the 1's is  0.375\n",
            "The accuracy on the 0's is  0.9997598777559485\n"
          ]
        }
      ]
    },
    {
      "cell_type": "markdown",
      "metadata": {
        "id": "3gEP6-_0DGAv"
      },
      "source": [
        "WE TRY PERFORMING K-MEANS CLUSTERING FIRST"
      ],
      "id": "3gEP6-_0DGAv"
    },
    {
      "cell_type": "code",
      "metadata": {
        "id": "s_3R8ZKODJeo"
      },
      "source": [
        "max_iters = 5\n",
        "threshold = 1.0e-02\n",
        "k = 5\n",
        "indices = np.where(RelKa <= 0.2)[0]\n",
        "redundant_training_data = training_data[indices, :]\n",
        "redundant_RelKa = RelKa[indices]\n",
        "\n",
        "average_loss, assignments = kmeans(redundant_training_data, k, max_iters, threshold)"
      ],
      "id": "s_3R8ZKODJeo",
      "execution_count": null,
      "outputs": []
    },
    {
      "cell_type": "code",
      "metadata": {
        "id": "ZjwfhAHFDNVe"
      },
      "source": [
        "import random\n",
        "\n",
        "clustered_data = np.zeros(training_data.shape[1])\n",
        "clustered_data = clustered_data[..., np.newaxis].T\n",
        "clustered_RelKa = np.array([])\n",
        "for i in range(k):\n",
        "    # collect random_size casual samples from the i-th cluster\n",
        "    assigned_indices = np.where(assignments == i)[0]\n",
        "    # taking the samples and RelKa assigned to the i-th cluster\n",
        "    assigned_data = redundant_training_data[assigned_indices, :]\n",
        "    assigned_RelKa = redundant_RelKa[assigned_indices]\n",
        "    # taking a random subsample\n",
        "    random_picked = random.sample(list(np.arange(0, len(assigned_indices))), np.int(1/10 * len(assigned_indices)))\n",
        "    data_to_add = assigned_data[random_picked, :]\n",
        "    RelKa_to_add = assigned_RelKa[random_picked]\n",
        "    # concatenate the subsample to the old clustered_data and clustered_RelKa\n",
        "    clustered_data = np.concatenate([clustered_data, data_to_add])\n",
        "    clustered_RelKa = np.concatenate([clustered_RelKa, RelKa_to_add])\n",
        "# we delete the first row which was just for initialization\n",
        "clustered_data = np.delete(clustered_data, 0, axis = 0)"
      ],
      "id": "ZjwfhAHFDNVe",
      "execution_count": null,
      "outputs": []
    },
    {
      "cell_type": "code",
      "metadata": {
        "id": "Vlqyar0mDQi4"
      },
      "source": [
        "# adding all the other samples (which represent less than 20% of the original dataset)\n",
        "indices = np.where(RelKa > 0.2)[0]\n",
        "clustered_data = np.concatenate([clustered_data, training_data[indices, :]])\n",
        "clustered_RelKa = np.concatenate([clustered_RelKa, RelKa[indices]])"
      ],
      "id": "Vlqyar0mDQi4",
      "execution_count": null,
      "outputs": []
    },
    {
      "cell_type": "code",
      "metadata": {
        "id": "zIVhN0vKDSlk"
      },
      "source": [
        "clustered_RelKa = split_RelKa(clustered_RelKa, 0.6)\n",
        "clustered_data = standardize(clustered_data)"
      ],
      "id": "zIVhN0vKDSlk",
      "execution_count": null,
      "outputs": []
    },
    {
      "cell_type": "code",
      "metadata": {
        "id": "BfZQH0vqDSo-"
      },
      "source": [
        "clustered_X_train, clustered_X_test, clustered_y_train, clustered_y_test = train_test_split(clustered_data, clustered_RelKa, train_size=0.7, random_state=42)\n",
        "clustered_y_pred = predict_with_Random_Forests(clustered_X_train, clustered_X_test, clustered_y_train, clustered_y_test)\n",
        "return_accuracy(clustered_y_test, clustered_y_pred, verbose=1)"
      ],
      "id": "BfZQH0vqDSo-",
      "execution_count": null,
      "outputs": []
    },
    {
      "cell_type": "markdown",
      "source": [
        "UNDERSAMPLING AND OVERSAMPLING CROSS-VALIDATION TECHNIQUE"
      ],
      "metadata": {
        "id": "CBVNLwih0f-j"
      },
      "id": "CBVNLwih0f-j"
    },
    {
      "cell_type": "code",
      "source": [
        "def split_importance(x, y, importance_class=0.7):\n",
        "  \"\"\"\n",
        "  Split the samples into interesting ones and not interesting ones\n",
        "  :param x: numpy.ndarray:the feature vector of the initial dataset\n",
        "  :param y: numpy.ndarray: the value vector of the initial dataset\n",
        "  :param importance_class: float: the lower bound for the underepresented class\n",
        "  \"\"\"\n",
        "  return x[y >= importance_class], y[y >= importance_class], x[y < importance_class], y[y < importance_class]"
      ],
      "metadata": {
        "id": "d8eYszg3n53z"
      },
      "id": "d8eYszg3n53z",
      "execution_count": null,
      "outputs": []
    },
    {
      "cell_type": "code",
      "source": [
        "x_1, y_1, x_0, y_0 = split_importance(training_data, RelKa)"
      ],
      "metadata": {
        "id": "UuXU1lLfoAy1"
      },
      "id": "UuXU1lLfoAy1",
      "execution_count": null,
      "outputs": []
    },
    {
      "cell_type": "code",
      "source": [
        "# split the two classes seperately into train and test set to ensure representation of the minority class\n",
        "# both in the test set and in the train set\n",
        "x_1_train, x_1_test, y_1_train, y_1_test = train_test_split(x_1, y_1, test_size=0.4, random_state=42)\n",
        "x_0_train, x_0_test, y_0_train, y_0_test = train_test_split(x_0, y_0, test_size=0.4, random_state=42)\n",
        "\n",
        "x_train = np.concatenate((x_1_train, x_0_train))\n",
        "y_train = np.concatenate((y_1_train, y_0_train))\n",
        "x_test = np.concatenate((x_1_test, x_0_test))\n",
        "y_test = np.concatenate((y_1_test, y_0_test))"
      ],
      "metadata": {
        "id": "wnZYvVZuoEXN"
      },
      "id": "wnZYvVZuoEXN",
      "execution_count": null,
      "outputs": []
    },
    {
      "cell_type": "code",
      "source": [
        "from sklearn.preprocessing import StandardScaler\n",
        "\n",
        "sc = StandardScaler()\n",
        "x_train = sc.fit_transform(x_train)\n",
        "x_test = sc.transform(x_test)"
      ],
      "metadata": {
        "id": "vO7-bhBsoMWO"
      },
      "id": "vO7-bhBsoMWO",
      "execution_count": null,
      "outputs": []
    },
    {
      "cell_type": "code",
      "source": [
        "y_train = split_RelKa(y_train, 0.7)\n",
        "y_test = split_RelKa(y_test, 0.7)"
      ],
      "metadata": {
        "id": "l7n7FedHrOpn"
      },
      "id": "l7n7FedHrOpn",
      "execution_count": null,
      "outputs": []
    },
    {
      "cell_type": "code",
      "source": [
        "def Fisher_Score(x_import, x_nimport):\n",
        "  \"\"\"\n",
        "  Given two arrays of two classes this function calculates the Fischer_scores to \n",
        "  measure the significance for all features\n",
        "  :param x_import: numpy.ndarray: the array containing the samples of one class\n",
        "  :param x_nimport: numpy.ndarray: the array containing the samples of the other class\n",
        "  :return: numpy.ndarray: returns an array containg the Fisher_Score for all features \n",
        "  \"\"\"\n",
        "  mean_import = np.mean(x_import,axis = 0)\n",
        "  mean_nimport = np.mean(x_nimport,axis = 0)\n",
        "  mean_dist = np.absolute(mean_import-mean_nimport)\n",
        "  std_import = np.std(x_import,axis=0)\n",
        "  std_nimport = np.std(x_nimport,axis=0)\n",
        "  std_sum = std_import+std_nimport\n",
        "  #return std_sum\n",
        "  return np.divide(mean_dist,std_sum)\n",
        "\n",
        "def calculate_distances(x, distance):\n",
        "  \"\"\"\n",
        "  Calculates the distance between any two pairs of the set x using \n",
        "  the Minkowski distance of degree distance.\n",
        "  :param x: numpy.ndarray: the vector for which we will calculate the distance \n",
        "                            between all of its elements \n",
        "  :param distance: float: the norm which should be used for the Minkowski distance\n",
        "  :return: numpy.ndarray: returns the Minkowski distance with the specified norm \n",
        "                          between all pairs of elements in x \n",
        "  \"\"\"\n",
        "  dist = np.array([[minkowski(a1,a2,distance) for a2 in x] for a1 in x])\n",
        "  np.fill_diagonal(dist,float('inf'))\n",
        "  return dist\n",
        "\n",
        "def random_sampler(x, y, randomsize):\n",
        "  \"\"\"\n",
        "  This function does random undersampling of vectors x,y and reduces them to \n",
        "  size random size\n",
        "  :param x: numpy.ndarray: the feature vector to be subsampled\n",
        "  :param y: numpy.ndarray: the label vector to be subsampled\n",
        "  :return: <class 'tuple'>: A tuple containing the two undersampled vectors\n",
        "  \"\"\"\n",
        "  p = np.random.permutation(len(y))\n",
        "  new_x = x[p]\n",
        "  new_y = y[p]\n",
        "  return new_x[:randomsize],new_y[:randomsize]\n",
        "\n",
        "def generate_samples(x, y, neighbors, N):\n",
        "  \"\"\"\n",
        "  This function generate N samples which are convex combinations of \n",
        "  the features of x and the labels of y\n",
        "  :param x: numpy.ndarray:\n",
        "  :param y: numpy.ndarray:\n",
        "  :return: <class 'tuple'>:\n",
        "  \"\"\"\n",
        "  new_samples_x = []\n",
        "  new_samples_y = []\n",
        "  for i in range(N):\n",
        "    random_sample_i = random.randint(0,y.shape[0]-1)\n",
        "    x_i = x[random_sample_i]\n",
        "    random_sample_j = random.randint(0,neighbors.shape[1]-1)\n",
        "    neigh_i = neighbors[random_sample_i,random_sample_j]\n",
        "    x_j = x[neigh_i]\n",
        "    lambda_ = random.uniform(0,1)\n",
        "    y_i = y[random_sample_i]\n",
        "    y_j = y[neigh_i]\n",
        "    new_x = x_i + lambda_*(x_j-x_i)\n",
        "    new_y = y_i + lambda_*(y_j-y_i)\n",
        "    new_samples_x.append(new_x)\n",
        "    new_samples_y.append(new_y)\n",
        "  return np.array(new_samples_x),np.array(new_samples_y)\n",
        "\n",
        "def random_sampler(x,y,randomsize):\n",
        "  \"\"\"\n",
        "  This function does random undersampling of vectors x,y and reduces them to \n",
        "  size random size\n",
        "  :param x: numpy.ndarray: the feature vector to be subsampled\n",
        "  :param y: numpy.ndarray: the label vector to be subsampled\n",
        "  :return: <class 'tuple'>: A tuple containing the two undersampled vectors\n",
        "  \"\"\"\n",
        "  p = np.random.permutation(len(y))\n",
        "  new_x = x[p]\n",
        "  new_y = y[p]\n",
        "  return new_x[:randomsize],new_y[:randomsize]\n",
        "\n",
        "def generate_samples(x,y,neighbors,N):\n",
        "  \"\"\"\n",
        "  This function generate N samples which are convex combinations of \n",
        "  the features of x and the labels of y\n",
        "  :param x: numpy.ndarray:\n",
        "  :param y: numpy.ndarray:\n",
        "  :return: <class 'tuple'>:\n",
        "  \"\"\"\n",
        "  new_samples_x = []\n",
        "  new_samples_y = []\n",
        "  for i in range(N):\n",
        "    random_sample_i = random.randint(0,y.shape[0]-1)\n",
        "    x_i = x[random_sample_i]\n",
        "    random_sample_j = random.randint(0,neighbors.shape[1]-1)\n",
        "    neigh_i = neighbors[random_sample_i,random_sample_j]\n",
        "    x_j = x[neigh_i]\n",
        "    lambda_ = random.uniform(0,1)\n",
        "    y_i = y[random_sample_i]\n",
        "    y_j = y[neigh_i]\n",
        "    new_x = x_i + lambda_*(x_j-x_i)\n",
        "    new_y = y_i + lambda_*(y_j-y_i)\n",
        "    new_samples_x.append(new_x)\n",
        "    new_samples_y.append(new_y)\n",
        "  return np.array(new_samples_x),np.array(new_samples_y)\n",
        "\n",
        "def smote_sf(x, y, undersample=0.5, oversample = 0.1, attribute_scorer=Fisher_Score, \n",
        "             attribute_number = 10, distance = float('inf'), kneighbors = 3,\n",
        "             undersampling = random_sampler, importance_class = 0.7):\n",
        "  \"\"\"\n",
        "  This function takes the complete input and produces a more balanced dataset based on the importance class\n",
        "  :param x: numpy.ndarray: the feature vector of the initial dataset\n",
        "  :param y: numpy.ndarray: the value vector of the initial dataset\n",
        "  :param undersample: float: the percentage of the dominant class that we want to keep\n",
        "  :param oversample: float: the percentage of the dataset that the small class will be at the end\n",
        "  :param attribute_scorer: function: a function which will be used to score the relevance of a feature\n",
        "  :param attribute_number: int: the number of attributes to keep according to their score\n",
        "  :param distance: float: the norm which should be used for the Minkowski distance\n",
        "  :param kneighbors: int: the number of samples which should be considered for each point \n",
        "  :param undersampling: function: the function to use for the undersampling of the majority class\n",
        "  :param importance_class: float: the lower bound for the underepresented class\n",
        "  :return: returns 2 new feature vectors and 2 new label vectors containing \n",
        "            the data for the importance class and the data for the non importance \n",
        "            class and their labels. \n",
        "  \"\"\"\n",
        "  x_import = x[y>=importance_class]\n",
        "  y_import = y[y>=importance_class]\n",
        "  x_nimport = x[y<importance_class]\n",
        "  y_nimport = y[y<importance_class]\n",
        "\n",
        "  feature_scores =  attribute_scorer(x_import,x_nimport)\n",
        "  #find the attribute_number highest coordinates of the feature_scores vector\n",
        "  indices = np.sort((-feature_scores).argsort()[:attribute_number])\n",
        "  x_import_filtered = x_import[:,indices]\n",
        "  #x_nimport = x_nimport[:,indices]\n",
        "  distances = calculate_distances(x_import_filtered,distance)\n",
        "  #find the k lowest indices\n",
        "  neighbors = np.array([ np.sort(d.argsort()[:(kneighbors)]) for d in distances])\n",
        "  #undersampling for the majority class\n",
        "  nimport_len = int(undersample*y_nimport.shape[0])\n",
        "  x_nimport,y_nimport = undersampling(x_nimport,y_nimport,nimport_len)\n",
        "  #Calculate the number of samples to be generated\n",
        "  N = int(oversample*(y_nimport.shape[0]) - y_import.shape[0])\n",
        "  #Generate N new samples\n",
        "  new_samples_x,new_samples_y = generate_samples(x_import, y_import, neighbors, N)\n",
        "  #merge the new samples of the minority class with its old samples\n",
        "  x_import = np.concatenate((x_import,new_samples_x))\n",
        "  y_import = np.concatenate((y_import,new_samples_y))\n",
        "\n",
        "  x_ret = np.concatenate((x_import, x_nimport))\n",
        "  y_ret = np.concatenate((y_import,y_nimport))\n",
        "  return x_ret, y_ret"
      ],
      "metadata": {
        "id": "uJq6YmmPoTM1"
      },
      "id": "uJq6YmmPoTM1",
      "execution_count": null,
      "outputs": []
    },
    {
      "cell_type": "code",
      "source": [
        "x_train, y_train = smote_sf(x_train, y_train, undersample=0.1, oversample=0.3, kneighbors=5)"
      ],
      "metadata": {
        "id": "4c4WT7AvpFRs"
      },
      "id": "4c4WT7AvpFRs",
      "execution_count": null,
      "outputs": []
    },
    {
      "cell_type": "code",
      "source": [
        "from sklearn.model_selection import RandomizedSearchCV\n",
        "\n",
        "n_estimators = [int(x) for x in np.linspace(start = 100, stop = 200, num = 10)]\n",
        "min_samples_split = [2, 5, 10]\n",
        "min_samples_leaf = [1, 2, 4]\n",
        "random_grid = {'n_estimators': n_estimators,\n",
        "               'min_samples_split': min_samples_split,\n",
        "               'min_samples_leaf': min_samples_leaf}"
      ],
      "metadata": {
        "id": "c-MTe2swpzDW"
      },
      "id": "c-MTe2swpzDW",
      "execution_count": null,
      "outputs": []
    },
    {
      "cell_type": "code",
      "source": [
        "from sklearn.ensemble import RandomForestClassifier\n",
        "\n",
        "rf = RandomForestClassifier()\n",
        "rf_random = RandomizedSearchCV(estimator = rf, param_distributions = random_grid, n_iter = 10, cv = 10, scoring=make_scorer(weighted_balance_average), verbose=10)\n",
        "rf_random.fit(x_train, y_train)"
      ],
      "metadata": {
        "colab": {
          "base_uri": "https://localhost:8080/"
        },
        "id": "hy-76IRup2qQ",
        "outputId": "36c8f3d2-f268-499f-cd0e-125566ecc602"
      },
      "id": "hy-76IRup2qQ",
      "execution_count": null,
      "outputs": [
        {
          "output_type": "stream",
          "name": "stdout",
          "text": [
            "Fitting 10 folds for each of 10 candidates, totalling 100 fits\n",
            "[CV 1/10; 1/10] START min_samples_leaf=4, min_samples_split=2, n_estimators=188.\n",
            "[CV 1/10; 1/10] END min_samples_leaf=4, min_samples_split=2, n_estimators=188;, score=0.991 total time=  25.1s\n",
            "[CV 2/10; 1/10] START min_samples_leaf=4, min_samples_split=2, n_estimators=188.\n",
            "[CV 2/10; 1/10] END min_samples_leaf=4, min_samples_split=2, n_estimators=188;, score=0.982 total time=  24.5s\n",
            "[CV 3/10; 1/10] START min_samples_leaf=4, min_samples_split=2, n_estimators=188.\n",
            "[CV 3/10; 1/10] END min_samples_leaf=4, min_samples_split=2, n_estimators=188;, score=0.999 total time=  24.2s\n",
            "[CV 4/10; 1/10] START min_samples_leaf=4, min_samples_split=2, n_estimators=188.\n",
            "[CV 4/10; 1/10] END min_samples_leaf=4, min_samples_split=2, n_estimators=188;, score=0.988 total time=  23.9s\n",
            "[CV 5/10; 1/10] START min_samples_leaf=4, min_samples_split=2, n_estimators=188.\n",
            "[CV 5/10; 1/10] END min_samples_leaf=4, min_samples_split=2, n_estimators=188;, score=0.983 total time=  23.7s\n",
            "[CV 6/10; 1/10] START min_samples_leaf=4, min_samples_split=2, n_estimators=188.\n",
            "[CV 6/10; 1/10] END min_samples_leaf=4, min_samples_split=2, n_estimators=188;, score=0.986 total time=  24.4s\n",
            "[CV 7/10; 1/10] START min_samples_leaf=4, min_samples_split=2, n_estimators=188.\n",
            "[CV 7/10; 1/10] END min_samples_leaf=4, min_samples_split=2, n_estimators=188;, score=0.977 total time=  25.2s\n",
            "[CV 8/10; 1/10] START min_samples_leaf=4, min_samples_split=2, n_estimators=188.\n",
            "[CV 8/10; 1/10] END min_samples_leaf=4, min_samples_split=2, n_estimators=188;, score=0.996 total time=  24.7s\n",
            "[CV 9/10; 1/10] START min_samples_leaf=4, min_samples_split=2, n_estimators=188.\n",
            "[CV 9/10; 1/10] END min_samples_leaf=4, min_samples_split=2, n_estimators=188;, score=0.996 total time=  24.4s\n",
            "[CV 10/10; 1/10] START min_samples_leaf=4, min_samples_split=2, n_estimators=188\n",
            "[CV 10/10; 1/10] END min_samples_leaf=4, min_samples_split=2, n_estimators=188;, score=0.986 total time=  24.3s\n",
            "[CV 1/10; 2/10] START min_samples_leaf=1, min_samples_split=2, n_estimators=122.\n",
            "[CV 1/10; 2/10] END min_samples_leaf=1, min_samples_split=2, n_estimators=122;, score=0.991 total time=  16.1s\n",
            "[CV 2/10; 2/10] START min_samples_leaf=1, min_samples_split=2, n_estimators=122.\n",
            "[CV 2/10; 2/10] END min_samples_leaf=1, min_samples_split=2, n_estimators=122;, score=0.985 total time=  15.9s\n",
            "[CV 3/10; 2/10] START min_samples_leaf=1, min_samples_split=2, n_estimators=122.\n",
            "[CV 3/10; 2/10] END min_samples_leaf=1, min_samples_split=2, n_estimators=122;, score=0.997 total time=  16.2s\n",
            "[CV 4/10; 2/10] START min_samples_leaf=1, min_samples_split=2, n_estimators=122.\n",
            "[CV 4/10; 2/10] END min_samples_leaf=1, min_samples_split=2, n_estimators=122;, score=0.988 total time=  15.9s\n",
            "[CV 5/10; 2/10] START min_samples_leaf=1, min_samples_split=2, n_estimators=122.\n",
            "[CV 5/10; 2/10] END min_samples_leaf=1, min_samples_split=2, n_estimators=122;, score=0.991 total time=  16.1s\n",
            "[CV 6/10; 2/10] START min_samples_leaf=1, min_samples_split=2, n_estimators=122.\n",
            "[CV 6/10; 2/10] END min_samples_leaf=1, min_samples_split=2, n_estimators=122;, score=0.991 total time=  16.1s\n",
            "[CV 7/10; 2/10] START min_samples_leaf=1, min_samples_split=2, n_estimators=122.\n",
            "[CV 7/10; 2/10] END min_samples_leaf=1, min_samples_split=2, n_estimators=122;, score=0.980 total time=  15.8s\n",
            "[CV 8/10; 2/10] START min_samples_leaf=1, min_samples_split=2, n_estimators=122.\n",
            "[CV 8/10; 2/10] END min_samples_leaf=1, min_samples_split=2, n_estimators=122;, score=0.991 total time=  15.9s\n",
            "[CV 9/10; 2/10] START min_samples_leaf=1, min_samples_split=2, n_estimators=122.\n",
            "[CV 9/10; 2/10] END min_samples_leaf=1, min_samples_split=2, n_estimators=122;, score=1.000 total time=  16.4s\n",
            "[CV 10/10; 2/10] START min_samples_leaf=1, min_samples_split=2, n_estimators=122\n",
            "[CV 10/10; 2/10] END min_samples_leaf=1, min_samples_split=2, n_estimators=122;, score=0.986 total time=  16.1s\n",
            "[CV 1/10; 3/10] START min_samples_leaf=1, min_samples_split=2, n_estimators=200.\n",
            "[CV 1/10; 3/10] END min_samples_leaf=1, min_samples_split=2, n_estimators=200;, score=0.991 total time=  26.3s\n",
            "[CV 2/10; 3/10] START min_samples_leaf=1, min_samples_split=2, n_estimators=200.\n",
            "[CV 2/10; 3/10] END min_samples_leaf=1, min_samples_split=2, n_estimators=200;, score=0.985 total time=  26.2s\n",
            "[CV 3/10; 3/10] START min_samples_leaf=1, min_samples_split=2, n_estimators=200.\n",
            "[CV 3/10; 3/10] END min_samples_leaf=1, min_samples_split=2, n_estimators=200;, score=1.000 total time=  25.9s\n",
            "[CV 4/10; 3/10] START min_samples_leaf=1, min_samples_split=2, n_estimators=200.\n",
            "[CV 4/10; 3/10] END min_samples_leaf=1, min_samples_split=2, n_estimators=200;, score=0.988 total time=  25.6s\n",
            "[CV 5/10; 3/10] START min_samples_leaf=1, min_samples_split=2, n_estimators=200.\n",
            "[CV 5/10; 3/10] END min_samples_leaf=1, min_samples_split=2, n_estimators=200;, score=0.988 total time=  26.0s\n",
            "[CV 6/10; 3/10] START min_samples_leaf=1, min_samples_split=2, n_estimators=200.\n",
            "[CV 6/10; 3/10] END min_samples_leaf=1, min_samples_split=2, n_estimators=200;, score=0.991 total time=  26.3s\n",
            "[CV 7/10; 3/10] START min_samples_leaf=1, min_samples_split=2, n_estimators=200.\n",
            "[CV 7/10; 3/10] END min_samples_leaf=1, min_samples_split=2, n_estimators=200;, score=0.975 total time=  26.3s\n",
            "[CV 8/10; 3/10] START min_samples_leaf=1, min_samples_split=2, n_estimators=200.\n",
            "[CV 8/10; 3/10] END min_samples_leaf=1, min_samples_split=2, n_estimators=200;, score=0.991 total time=  26.1s\n",
            "[CV 9/10; 3/10] START min_samples_leaf=1, min_samples_split=2, n_estimators=200.\n",
            "[CV 9/10; 3/10] END min_samples_leaf=1, min_samples_split=2, n_estimators=200;, score=1.000 total time=  25.9s\n",
            "[CV 10/10; 3/10] START min_samples_leaf=1, min_samples_split=2, n_estimators=200\n",
            "[CV 10/10; 3/10] END min_samples_leaf=1, min_samples_split=2, n_estimators=200;, score=0.986 total time=  25.7s\n",
            "[CV 1/10; 4/10] START min_samples_leaf=4, min_samples_split=10, n_estimators=155\n",
            "[CV 1/10; 4/10] END min_samples_leaf=4, min_samples_split=10, n_estimators=155;, score=0.988 total time=  19.9s\n",
            "[CV 2/10; 4/10] START min_samples_leaf=4, min_samples_split=10, n_estimators=155\n",
            "[CV 2/10; 4/10] END min_samples_leaf=4, min_samples_split=10, n_estimators=155;, score=0.977 total time=  19.6s\n",
            "[CV 3/10; 4/10] START min_samples_leaf=4, min_samples_split=10, n_estimators=155\n",
            "[CV 3/10; 4/10] END min_samples_leaf=4, min_samples_split=10, n_estimators=155;, score=0.999 total time=  19.8s\n",
            "[CV 4/10; 4/10] START min_samples_leaf=4, min_samples_split=10, n_estimators=155\n",
            "[CV 4/10; 4/10] END min_samples_leaf=4, min_samples_split=10, n_estimators=155;, score=0.988 total time=  19.4s\n",
            "[CV 5/10; 4/10] START min_samples_leaf=4, min_samples_split=10, n_estimators=155\n",
            "[CV 5/10; 4/10] END min_samples_leaf=4, min_samples_split=10, n_estimators=155;, score=0.983 total time=  19.7s\n",
            "[CV 6/10; 4/10] START min_samples_leaf=4, min_samples_split=10, n_estimators=155\n",
            "[CV 6/10; 4/10] END min_samples_leaf=4, min_samples_split=10, n_estimators=155;, score=0.988 total time=  19.5s\n",
            "[CV 7/10; 4/10] START min_samples_leaf=4, min_samples_split=10, n_estimators=155\n",
            "[CV 7/10; 4/10] END min_samples_leaf=4, min_samples_split=10, n_estimators=155;, score=0.975 total time=  19.4s\n",
            "[CV 8/10; 4/10] START min_samples_leaf=4, min_samples_split=10, n_estimators=155\n",
            "[CV 8/10; 4/10] END min_samples_leaf=4, min_samples_split=10, n_estimators=155;, score=0.994 total time=  19.8s\n",
            "[CV 9/10; 4/10] START min_samples_leaf=4, min_samples_split=10, n_estimators=155\n",
            "[CV 9/10; 4/10] END min_samples_leaf=4, min_samples_split=10, n_estimators=155;, score=0.999 total time=  19.8s\n",
            "[CV 10/10; 4/10] START min_samples_leaf=4, min_samples_split=10, n_estimators=155\n",
            "[CV 10/10; 4/10] END min_samples_leaf=4, min_samples_split=10, n_estimators=155;, score=0.985 total time=  19.5s\n",
            "[CV 1/10; 5/10] START min_samples_leaf=2, min_samples_split=5, n_estimators=166.\n",
            "[CV 1/10; 5/10] END min_samples_leaf=2, min_samples_split=5, n_estimators=166;, score=0.991 total time=  21.3s\n",
            "[CV 2/10; 5/10] START min_samples_leaf=2, min_samples_split=5, n_estimators=166.\n",
            "[CV 2/10; 5/10] END min_samples_leaf=2, min_samples_split=5, n_estimators=166;, score=0.982 total time=  20.7s\n",
            "[CV 3/10; 5/10] START min_samples_leaf=2, min_samples_split=5, n_estimators=166.\n",
            "[CV 3/10; 5/10] END min_samples_leaf=2, min_samples_split=5, n_estimators=166;, score=0.999 total time=  21.7s\n",
            "[CV 4/10; 5/10] START min_samples_leaf=2, min_samples_split=5, n_estimators=166.\n",
            "[CV 4/10; 5/10] END min_samples_leaf=2, min_samples_split=5, n_estimators=166;, score=0.988 total time=  21.3s\n",
            "[CV 5/10; 5/10] START min_samples_leaf=2, min_samples_split=5, n_estimators=166.\n",
            "[CV 5/10; 5/10] END min_samples_leaf=2, min_samples_split=5, n_estimators=166;, score=0.988 total time=  21.5s\n",
            "[CV 6/10; 5/10] START min_samples_leaf=2, min_samples_split=5, n_estimators=166.\n",
            "[CV 6/10; 5/10] END min_samples_leaf=2, min_samples_split=5, n_estimators=166;, score=0.991 total time=  21.5s\n",
            "[CV 7/10; 5/10] START min_samples_leaf=2, min_samples_split=5, n_estimators=166.\n",
            "[CV 7/10; 5/10] END min_samples_leaf=2, min_samples_split=5, n_estimators=166;, score=0.977 total time=  21.1s\n",
            "[CV 8/10; 5/10] START min_samples_leaf=2, min_samples_split=5, n_estimators=166.\n",
            "[CV 8/10; 5/10] END min_samples_leaf=2, min_samples_split=5, n_estimators=166;, score=0.997 total time=  21.4s\n",
            "[CV 9/10; 5/10] START min_samples_leaf=2, min_samples_split=5, n_estimators=166.\n",
            "[CV 9/10; 5/10] END min_samples_leaf=2, min_samples_split=5, n_estimators=166;, score=0.996 total time=  21.5s\n",
            "[CV 10/10; 5/10] START min_samples_leaf=2, min_samples_split=5, n_estimators=166\n",
            "[CV 10/10; 5/10] END min_samples_leaf=2, min_samples_split=5, n_estimators=166;, score=0.986 total time=  21.4s\n",
            "[CV 1/10; 6/10] START min_samples_leaf=1, min_samples_split=10, n_estimators=200\n",
            "[CV 1/10; 6/10] END min_samples_leaf=1, min_samples_split=10, n_estimators=200;, score=0.991 total time=  25.5s\n",
            "[CV 2/10; 6/10] START min_samples_leaf=1, min_samples_split=10, n_estimators=200\n",
            "[CV 2/10; 6/10] END min_samples_leaf=1, min_samples_split=10, n_estimators=200;, score=0.985 total time=  25.7s\n",
            "[CV 3/10; 6/10] START min_samples_leaf=1, min_samples_split=10, n_estimators=200\n",
            "[CV 3/10; 6/10] END min_samples_leaf=1, min_samples_split=10, n_estimators=200;, score=0.999 total time=  26.1s\n",
            "[CV 4/10; 6/10] START min_samples_leaf=1, min_samples_split=10, n_estimators=200\n",
            "[CV 4/10; 6/10] END min_samples_leaf=1, min_samples_split=10, n_estimators=200;, score=0.988 total time=  25.7s\n",
            "[CV 5/10; 6/10] START min_samples_leaf=1, min_samples_split=10, n_estimators=200\n",
            "[CV 5/10; 6/10] END min_samples_leaf=1, min_samples_split=10, n_estimators=200;, score=0.988 total time=  26.0s\n",
            "[CV 6/10; 6/10] START min_samples_leaf=1, min_samples_split=10, n_estimators=200\n",
            "[CV 6/10; 6/10] END min_samples_leaf=1, min_samples_split=10, n_estimators=200;, score=0.991 total time=  26.3s\n",
            "[CV 7/10; 6/10] START min_samples_leaf=1, min_samples_split=10, n_estimators=200\n",
            "[CV 7/10; 6/10] END min_samples_leaf=1, min_samples_split=10, n_estimators=200;, score=0.977 total time=  26.6s\n",
            "[CV 8/10; 6/10] START min_samples_leaf=1, min_samples_split=10, n_estimators=200\n",
            "[CV 8/10; 6/10] END min_samples_leaf=1, min_samples_split=10, n_estimators=200;, score=0.994 total time=  25.9s\n",
            "[CV 9/10; 6/10] START min_samples_leaf=1, min_samples_split=10, n_estimators=200\n",
            "[CV 9/10; 6/10] END min_samples_leaf=1, min_samples_split=10, n_estimators=200;, score=0.999 total time=  26.1s\n",
            "[CV 10/10; 6/10] START min_samples_leaf=1, min_samples_split=10, n_estimators=200\n",
            "[CV 10/10; 6/10] END min_samples_leaf=1, min_samples_split=10, n_estimators=200;, score=0.986 total time=  26.4s\n",
            "[CV 1/10; 7/10] START min_samples_leaf=1, min_samples_split=2, n_estimators=111.\n",
            "[CV 1/10; 7/10] END min_samples_leaf=1, min_samples_split=2, n_estimators=111;, score=0.992 total time=  14.5s\n",
            "[CV 2/10; 7/10] START min_samples_leaf=1, min_samples_split=2, n_estimators=111.\n",
            "[CV 2/10; 7/10] END min_samples_leaf=1, min_samples_split=2, n_estimators=111;, score=0.985 total time=  14.4s\n",
            "[CV 3/10; 7/10] START min_samples_leaf=1, min_samples_split=2, n_estimators=111.\n",
            "[CV 3/10; 7/10] END min_samples_leaf=1, min_samples_split=2, n_estimators=111;, score=1.000 total time=  15.1s\n",
            "[CV 4/10; 7/10] START min_samples_leaf=1, min_samples_split=2, n_estimators=111.\n",
            "[CV 4/10; 7/10] END min_samples_leaf=1, min_samples_split=2, n_estimators=111;, score=0.988 total time=  14.5s\n",
            "[CV 5/10; 7/10] START min_samples_leaf=1, min_samples_split=2, n_estimators=111.\n",
            "[CV 5/10; 7/10] END min_samples_leaf=1, min_samples_split=2, n_estimators=111;, score=0.988 total time=  14.7s\n",
            "[CV 6/10; 7/10] START min_samples_leaf=1, min_samples_split=2, n_estimators=111.\n",
            "[CV 6/10; 7/10] END min_samples_leaf=1, min_samples_split=2, n_estimators=111;, score=0.994 total time=  15.0s\n",
            "[CV 7/10; 7/10] START min_samples_leaf=1, min_samples_split=2, n_estimators=111.\n",
            "[CV 7/10; 7/10] END min_samples_leaf=1, min_samples_split=2, n_estimators=111;, score=0.978 total time=  15.1s\n",
            "[CV 8/10; 7/10] START min_samples_leaf=1, min_samples_split=2, n_estimators=111.\n",
            "[CV 8/10; 7/10] END min_samples_leaf=1, min_samples_split=2, n_estimators=111;, score=0.997 total time=  15.4s\n",
            "[CV 9/10; 7/10] START min_samples_leaf=1, min_samples_split=2, n_estimators=111.\n",
            "[CV 9/10; 7/10] END min_samples_leaf=1, min_samples_split=2, n_estimators=111;, score=1.000 total time=  15.2s\n",
            "[CV 10/10; 7/10] START min_samples_leaf=1, min_samples_split=2, n_estimators=111\n",
            "[CV 10/10; 7/10] END min_samples_leaf=1, min_samples_split=2, n_estimators=111;, score=0.986 total time=  15.2s\n",
            "[CV 1/10; 8/10] START min_samples_leaf=4, min_samples_split=2, n_estimators=122.\n",
            "[CV 1/10; 8/10] END min_samples_leaf=4, min_samples_split=2, n_estimators=122;, score=0.994 total time=  15.8s\n",
            "[CV 2/10; 8/10] START min_samples_leaf=4, min_samples_split=2, n_estimators=122.\n",
            "[CV 2/10; 8/10] END min_samples_leaf=4, min_samples_split=2, n_estimators=122;, score=0.980 total time=  15.5s\n",
            "[CV 3/10; 8/10] START min_samples_leaf=4, min_samples_split=2, n_estimators=122.\n",
            "[CV 3/10; 8/10] END min_samples_leaf=4, min_samples_split=2, n_estimators=122;, score=0.999 total time=  16.1s\n",
            "[CV 4/10; 8/10] START min_samples_leaf=4, min_samples_split=2, n_estimators=122.\n",
            "[CV 4/10; 8/10] END min_samples_leaf=4, min_samples_split=2, n_estimators=122;, score=0.988 total time=  15.7s\n",
            "[CV 5/10; 8/10] START min_samples_leaf=4, min_samples_split=2, n_estimators=122.\n",
            "[CV 5/10; 8/10] END min_samples_leaf=4, min_samples_split=2, n_estimators=122;, score=0.983 total time=  15.9s\n",
            "[CV 6/10; 8/10] START min_samples_leaf=4, min_samples_split=2, n_estimators=122.\n",
            "[CV 6/10; 8/10] END min_samples_leaf=4, min_samples_split=2, n_estimators=122;, score=0.988 total time=  16.4s\n",
            "[CV 7/10; 8/10] START min_samples_leaf=4, min_samples_split=2, n_estimators=122.\n",
            "[CV 7/10; 8/10] END min_samples_leaf=4, min_samples_split=2, n_estimators=122;, score=0.977 total time=  16.3s\n",
            "[CV 8/10; 8/10] START min_samples_leaf=4, min_samples_split=2, n_estimators=122.\n",
            "[CV 8/10; 8/10] END min_samples_leaf=4, min_samples_split=2, n_estimators=122;, score=0.988 total time=  16.3s\n",
            "[CV 9/10; 8/10] START min_samples_leaf=4, min_samples_split=2, n_estimators=122.\n",
            "[CV 9/10; 8/10] END min_samples_leaf=4, min_samples_split=2, n_estimators=122;, score=0.996 total time=  16.7s\n",
            "[CV 10/10; 8/10] START min_samples_leaf=4, min_samples_split=2, n_estimators=122\n",
            "[CV 10/10; 8/10] END min_samples_leaf=4, min_samples_split=2, n_estimators=122;, score=0.983 total time=  16.5s\n",
            "[CV 1/10; 9/10] START min_samples_leaf=1, min_samples_split=5, n_estimators=144.\n",
            "[CV 1/10; 9/10] END min_samples_leaf=1, min_samples_split=5, n_estimators=144;, score=0.989 total time=  18.9s\n",
            "[CV 2/10; 9/10] START min_samples_leaf=1, min_samples_split=5, n_estimators=144.\n",
            "[CV 2/10; 9/10] END min_samples_leaf=1, min_samples_split=5, n_estimators=144;, score=0.988 total time=  19.3s\n",
            "[CV 3/10; 9/10] START min_samples_leaf=1, min_samples_split=5, n_estimators=144.\n",
            "[CV 3/10; 9/10] END min_samples_leaf=1, min_samples_split=5, n_estimators=144;, score=0.999 total time=  19.6s\n",
            "[CV 4/10; 9/10] START min_samples_leaf=1, min_samples_split=5, n_estimators=144.\n",
            "[CV 4/10; 9/10] END min_samples_leaf=1, min_samples_split=5, n_estimators=144;, score=0.988 total time=  19.0s\n",
            "[CV 5/10; 9/10] START min_samples_leaf=1, min_samples_split=5, n_estimators=144.\n",
            "[CV 5/10; 9/10] END min_samples_leaf=1, min_samples_split=5, n_estimators=144;, score=0.988 total time=  19.0s\n",
            "[CV 6/10; 9/10] START min_samples_leaf=1, min_samples_split=5, n_estimators=144.\n",
            "[CV 6/10; 9/10] END min_samples_leaf=1, min_samples_split=5, n_estimators=144;, score=0.991 total time=  18.8s\n",
            "[CV 7/10; 9/10] START min_samples_leaf=1, min_samples_split=5, n_estimators=144.\n",
            "[CV 7/10; 9/10] END min_samples_leaf=1, min_samples_split=5, n_estimators=144;, score=0.980 total time=  19.3s\n",
            "[CV 8/10; 9/10] START min_samples_leaf=1, min_samples_split=5, n_estimators=144.\n",
            "[CV 8/10; 9/10] END min_samples_leaf=1, min_samples_split=5, n_estimators=144;, score=0.996 total time=  19.4s\n",
            "[CV 9/10; 9/10] START min_samples_leaf=1, min_samples_split=5, n_estimators=144.\n",
            "[CV 9/10; 9/10] END min_samples_leaf=1, min_samples_split=5, n_estimators=144;, score=1.000 total time=  19.4s\n",
            "[CV 10/10; 9/10] START min_samples_leaf=1, min_samples_split=5, n_estimators=144\n",
            "[CV 10/10; 9/10] END min_samples_leaf=1, min_samples_split=5, n_estimators=144;, score=0.985 total time=  19.1s\n",
            "[CV 1/10; 10/10] START min_samples_leaf=2, min_samples_split=5, n_estimators=188\n",
            "[CV 1/10; 10/10] END min_samples_leaf=2, min_samples_split=5, n_estimators=188;, score=0.991 total time=  25.2s\n",
            "[CV 2/10; 10/10] START min_samples_leaf=2, min_samples_split=5, n_estimators=188\n",
            "[CV 2/10; 10/10] END min_samples_leaf=2, min_samples_split=5, n_estimators=188;, score=0.980 total time=  24.5s\n",
            "[CV 3/10; 10/10] START min_samples_leaf=2, min_samples_split=5, n_estimators=188\n",
            "[CV 3/10; 10/10] END min_samples_leaf=2, min_samples_split=5, n_estimators=188;, score=0.999 total time=  24.5s\n",
            "[CV 4/10; 10/10] START min_samples_leaf=2, min_samples_split=5, n_estimators=188\n",
            "[CV 4/10; 10/10] END min_samples_leaf=2, min_samples_split=5, n_estimators=188;, score=0.988 total time=  24.5s\n",
            "[CV 5/10; 10/10] START min_samples_leaf=2, min_samples_split=5, n_estimators=188\n",
            "[CV 5/10; 10/10] END min_samples_leaf=2, min_samples_split=5, n_estimators=188;, score=0.983 total time=  24.6s\n",
            "[CV 6/10; 10/10] START min_samples_leaf=2, min_samples_split=5, n_estimators=188\n",
            "[CV 6/10; 10/10] END min_samples_leaf=2, min_samples_split=5, n_estimators=188;, score=0.988 total time=  25.3s\n",
            "[CV 7/10; 10/10] START min_samples_leaf=2, min_samples_split=5, n_estimators=188\n",
            "[CV 7/10; 10/10] END min_samples_leaf=2, min_samples_split=5, n_estimators=188;, score=0.980 total time=  24.8s\n",
            "[CV 8/10; 10/10] START min_samples_leaf=2, min_samples_split=5, n_estimators=188\n",
            "[CV 8/10; 10/10] END min_samples_leaf=2, min_samples_split=5, n_estimators=188;, score=0.996 total time=  25.3s\n",
            "[CV 9/10; 10/10] START min_samples_leaf=2, min_samples_split=5, n_estimators=188\n",
            "[CV 9/10; 10/10] END min_samples_leaf=2, min_samples_split=5, n_estimators=188;, score=0.999 total time=  25.5s\n",
            "[CV 10/10; 10/10] START min_samples_leaf=2, min_samples_split=5, n_estimators=188\n",
            "[CV 10/10; 10/10] END min_samples_leaf=2, min_samples_split=5, n_estimators=188;, score=0.985 total time=  24.8s\n"
          ]
        },
        {
          "output_type": "execute_result",
          "data": {
            "text/plain": [
              "RandomizedSearchCV(cv=10, estimator=RandomForestClassifier(),\n",
              "                   param_distributions={'min_samples_leaf': [1, 2, 4],\n",
              "                                        'min_samples_split': [2, 5, 10],\n",
              "                                        'n_estimators': [100, 111, 122, 133,\n",
              "                                                         144, 155, 166, 177,\n",
              "                                                         188, 200]},\n",
              "                   scoring=make_scorer(weighted_balance_average), verbose=10)"
            ]
          },
          "metadata": {},
          "execution_count": 97
        }
      ]
    },
    {
      "cell_type": "code",
      "source": [
        "print(rf_random.best_params_)"
      ],
      "metadata": {
        "colab": {
          "base_uri": "https://localhost:8080/"
        },
        "id": "NIVRmwfBr36T",
        "outputId": "2576e12d-af38-4b56-f1e2-83220c242cd3"
      },
      "id": "NIVRmwfBr36T",
      "execution_count": null,
      "outputs": [
        {
          "output_type": "stream",
          "name": "stdout",
          "text": [
            "{'n_estimators': 111, 'min_samples_split': 2, 'min_samples_leaf': 1}\n"
          ]
        }
      ]
    },
    {
      "cell_type": "code",
      "source": [
        "clf = RandomForestClassifier(n_estimators = 111, min_samples_split = 2, min_samples_leaf = 1)\n",
        "clf.fit(x_train, y_train)\n",
        "y_pred = clf.predict(x_test)\n",
        "return_accuracy(y_test, y_pred, verbose=1)"
      ],
      "metadata": {
        "colab": {
          "base_uri": "https://localhost:8080/"
        },
        "id": "SxCPGlQVr7Od",
        "outputId": "14bf2450-3ead-4eb6-83d0-6c6a6f2f9d79"
      },
      "id": "SxCPGlQVr7Od",
      "execution_count": null,
      "outputs": [
        {
          "output_type": "stream",
          "name": "stdout",
          "text": [
            "The number of true negatives is: 60918\n",
            "The number of false negatives is: 26\n",
            "The number of false positives is: 164\n",
            "The number of true positives is: 101\n",
            "The accuracy is: 0.9968958813246418\n",
            "The accuracy on the 1's is  0.7952755905511811\n",
            "The accuracy on the 0's is  0.9973150846403196\n"
          ]
        },
        {
          "output_type": "execute_result",
          "data": {
            "text/plain": [
              "0.9968958813246418"
            ]
          },
          "metadata": {},
          "execution_count": 100
        }
      ]
    },
    {
      "cell_type": "markdown",
      "source": [
        "LOOKING FOR OUTLIERS IN THE BALANCED DATASETAND RETUNING THE PARAMETERS"
      ],
      "metadata": {
        "id": "RnJmX6d79LaR"
      },
      "id": "RnJmX6d79LaR"
    },
    {
      "cell_type": "code",
      "source": [
        "x_1, y_1, x_0, y_0 = split_importance(training_data, RelKa)"
      ],
      "metadata": {
        "id": "TViDApw2D7No"
      },
      "id": "TViDApw2D7No",
      "execution_count": null,
      "outputs": []
    },
    {
      "cell_type": "code",
      "source": [
        "# split the two classes seperately into train and test set to ensure representation of the minority class\n",
        "# both in the test set and in the train set\n",
        "x_1_train, x_1_test, y_1_train, y_1_test = train_test_split(x_1, y_1, test_size=0.4, random_state=42)\n",
        "x_0_train, x_0_test, y_0_train, y_0_test = train_test_split(x_0, y_0, test_size=0.4, random_state=42)\n",
        "\n",
        "x_train = np.concatenate((x_1_train, x_0_train))\n",
        "y_train = np.concatenate((y_1_train, y_0_train))\n",
        "x_test = np.concatenate((x_1_test, x_0_test))\n",
        "y_test = np.concatenate((y_1_test, y_0_test))"
      ],
      "metadata": {
        "id": "OKqWKO0AEDWN"
      },
      "id": "OKqWKO0AEDWN",
      "execution_count": null,
      "outputs": []
    },
    {
      "cell_type": "code",
      "source": [
        "contamination, scores, outliers_indices = Anomaly_Detection_Isolation_Forests(x_train, change_split=False)\n",
        "check_Isolation_Forests(contamination, outliers_indices)\n",
        "check_boundary_decision(scores, 0.02, verbose=1)"
      ],
      "metadata": {
        "colab": {
          "base_uri": "https://localhost:8080/",
          "height": 300
        },
        "id": "HCZIu9xH9RF0",
        "outputId": "fd99075f-8b32-48e5-a9f9-00146cefeb44"
      },
      "id": "HCZIu9xH9RF0",
      "execution_count": null,
      "outputs": [
        {
          "output_type": "display_data",
          "data": {
            "image/png": "[encoded data removed]",
            "text/plain": [
              "<Figure size 432x288 with 1 Axes>"
            ]
          },
          "metadata": {
            "needs_background": "light"
          }
        },
        {
          "output_type": "stream",
          "name": "stdout",
          "text": [
            "The indecision percentage around 0.02 is 0.29319696771663833\n",
            "The percentage of outliers detected is 0.06536253825794294\n"
          ]
        }
      ]
    },
    {
      "cell_type": "code",
      "source": [
        "x_train, y_train = drop_outliers(x_train, y_train, outliers_indices)"
      ],
      "metadata": {
        "id": "DKjma3Yo9jxD"
      },
      "execution_count": null,
      "outputs": [],
      "id": "DKjma3Yo9jxD"
    },
    {
      "cell_type": "code",
      "source": [
        "from sklearn.preprocessing import StandardScaler\n",
        "\n",
        "sc = StandardScaler()\n",
        "x_train = sc.fit_transform(x_train)\n",
        "x_test = sc.transform(x_test)"
      ],
      "metadata": {
        "id": "emMqBe5hEHGt"
      },
      "id": "emMqBe5hEHGt",
      "execution_count": null,
      "outputs": []
    },
    {
      "cell_type": "code",
      "source": [
        "y_train = split_RelKa(y_train, 0.7)\n",
        "y_test = split_RelKa(y_test, 0.7)"
      ],
      "metadata": {
        "id": "m-HxeaP_ELtj"
      },
      "execution_count": null,
      "outputs": [],
      "id": "m-HxeaP_ELtj"
    },
    {
      "cell_type": "code",
      "source": [
        "x_train, y_train = smote_sf(x_train, y_train, undersample=0.1, oversample=0.3, kneighbors=5)"
      ],
      "metadata": {
        "id": "qCMojIRp9PiQ"
      },
      "execution_count": null,
      "outputs": [],
      "id": "qCMojIRp9PiQ"
    },
    {
      "cell_type": "code",
      "source": [
        "from sklearn.model_selection import RandomizedSearchCV\n",
        "\n",
        "n_estimators = [int(x) for x in np.linspace(start = 100, stop = 200, num = 10)]\n",
        "min_samples_split = [2, 5, 10]\n",
        "min_samples_leaf = [1, 2, 4]\n",
        "random_grid = {'n_estimators': n_estimators,\n",
        "               'min_samples_split': min_samples_split,\n",
        "               'min_samples_leaf': min_samples_leaf}"
      ],
      "metadata": {
        "id": "RQtc0nhC9nCX"
      },
      "execution_count": null,
      "outputs": [],
      "id": "RQtc0nhC9nCX"
    },
    {
      "cell_type": "code",
      "source": [
        "from sklearn.ensemble import RandomForestClassifier\n",
        "\n",
        "rf = RandomForestClassifier()\n",
        "rf_random = RandomizedSearchCV(estimator = rf, param_distributions = random_grid, n_iter = 10, cv = 10, scoring=make_scorer(weighted_balance_average), verbose=10)\n",
        "rf_random.fit(x_train, y_train)"
      ],
      "metadata": {
        "colab": {
          "base_uri": "https://localhost:8080/"
        },
        "outputId": "3ea8a855-51a5-40b3-c4ae-ae5284ad7618",
        "id": "5wYVs4DS9qUF"
      },
      "execution_count": null,
      "outputs": [
        {
          "output_type": "stream",
          "name": "stdout",
          "text": [
            "Fitting 10 folds for each of 10 candidates, totalling 100 fits\n",
            "[CV 1/10; 1/10] START min_samples_leaf=1, min_samples_split=5, n_estimators=200.\n",
            "[CV 1/10; 1/10] END min_samples_leaf=1, min_samples_split=5, n_estimators=200;, score=0.977 total time=  24.7s\n",
            "[CV 2/10; 1/10] START min_samples_leaf=1, min_samples_split=5, n_estimators=200.\n",
            "[CV 2/10; 1/10] END min_samples_leaf=1, min_samples_split=5, n_estimators=200;, score=0.985 total time=  24.7s\n",
            "[CV 3/10; 1/10] START min_samples_leaf=1, min_samples_split=5, n_estimators=200.\n",
            "[CV 3/10; 1/10] END min_samples_leaf=1, min_samples_split=5, n_estimators=200;, score=0.996 total time=  25.1s\n",
            "[CV 4/10; 1/10] START min_samples_leaf=1, min_samples_split=5, n_estimators=200.\n",
            "[CV 4/10; 1/10] END min_samples_leaf=1, min_samples_split=5, n_estimators=200;, score=0.991 total time=  25.0s\n",
            "[CV 5/10; 1/10] START min_samples_leaf=1, min_samples_split=5, n_estimators=200.\n",
            "[CV 5/10; 1/10] END min_samples_leaf=1, min_samples_split=5, n_estimators=200;, score=0.993 total time=  24.6s\n",
            "[CV 6/10; 1/10] START min_samples_leaf=1, min_samples_split=5, n_estimators=200.\n",
            "[CV 6/10; 1/10] END min_samples_leaf=1, min_samples_split=5, n_estimators=200;, score=0.996 total time=  24.8s\n",
            "[CV 7/10; 1/10] START min_samples_leaf=1, min_samples_split=5, n_estimators=200.\n",
            "[CV 7/10; 1/10] END min_samples_leaf=1, min_samples_split=5, n_estimators=200;, score=0.999 total time=  25.4s\n",
            "[CV 8/10; 1/10] START min_samples_leaf=1, min_samples_split=5, n_estimators=200.\n",
            "[CV 8/10; 1/10] END min_samples_leaf=1, min_samples_split=5, n_estimators=200;, score=0.982 total time=  25.1s\n",
            "[CV 9/10; 1/10] START min_samples_leaf=1, min_samples_split=5, n_estimators=200.\n",
            "[CV 9/10; 1/10] END min_samples_leaf=1, min_samples_split=5, n_estimators=200;, score=0.991 total time=  24.7s\n",
            "[CV 10/10; 1/10] START min_samples_leaf=1, min_samples_split=5, n_estimators=200\n",
            "[CV 10/10; 1/10] END min_samples_leaf=1, min_samples_split=5, n_estimators=200;, score=0.994 total time=  24.8s\n",
            "[CV 1/10; 2/10] START min_samples_leaf=2, min_samples_split=2, n_estimators=122.\n",
            "[CV 1/10; 2/10] END min_samples_leaf=2, min_samples_split=2, n_estimators=122;, score=0.978 total time=  14.9s\n",
            "[CV 2/10; 2/10] START min_samples_leaf=2, min_samples_split=2, n_estimators=122.\n",
            "[CV 2/10; 2/10] END min_samples_leaf=2, min_samples_split=2, n_estimators=122;, score=0.988 total time=  15.0s\n",
            "[CV 3/10; 2/10] START min_samples_leaf=2, min_samples_split=2, n_estimators=122.\n",
            "[CV 3/10; 2/10] END min_samples_leaf=2, min_samples_split=2, n_estimators=122;, score=0.996 total time=  15.4s\n",
            "[CV 4/10; 2/10] START min_samples_leaf=2, min_samples_split=2, n_estimators=122.\n",
            "[CV 4/10; 2/10] END min_samples_leaf=2, min_samples_split=2, n_estimators=122;, score=0.990 total time=  15.1s\n",
            "[CV 5/10; 2/10] START min_samples_leaf=2, min_samples_split=2, n_estimators=122.\n",
            "[CV 5/10; 2/10] END min_samples_leaf=2, min_samples_split=2, n_estimators=122;, score=0.993 total time=  15.1s\n",
            "[CV 6/10; 2/10] START min_samples_leaf=2, min_samples_split=2, n_estimators=122.\n",
            "[CV 6/10; 2/10] END min_samples_leaf=2, min_samples_split=2, n_estimators=122;, score=0.997 total time=  15.3s\n",
            "[CV 7/10; 2/10] START min_samples_leaf=2, min_samples_split=2, n_estimators=122.\n",
            "[CV 7/10; 2/10] END min_samples_leaf=2, min_samples_split=2, n_estimators=122;, score=0.999 total time=  14.9s\n",
            "[CV 8/10; 2/10] START min_samples_leaf=2, min_samples_split=2, n_estimators=122.\n",
            "[CV 8/10; 2/10] END min_samples_leaf=2, min_samples_split=2, n_estimators=122;, score=0.982 total time=  15.0s\n",
            "[CV 9/10; 2/10] START min_samples_leaf=2, min_samples_split=2, n_estimators=122.\n",
            "[CV 9/10; 2/10] END min_samples_leaf=2, min_samples_split=2, n_estimators=122;, score=0.991 total time=  15.1s\n",
            "[CV 10/10; 2/10] START min_samples_leaf=2, min_samples_split=2, n_estimators=122\n",
            "[CV 10/10; 2/10] END min_samples_leaf=2, min_samples_split=2, n_estimators=122;, score=0.993 total time=  15.1s\n",
            "[CV 1/10; 3/10] START min_samples_leaf=4, min_samples_split=10, n_estimators=155\n",
            "[CV 1/10; 3/10] END min_samples_leaf=4, min_samples_split=10, n_estimators=155;, score=0.977 total time=  18.5s\n",
            "[CV 2/10; 3/10] START min_samples_leaf=4, min_samples_split=10, n_estimators=155\n",
            "[CV 2/10; 3/10] END min_samples_leaf=4, min_samples_split=10, n_estimators=155;, score=0.988 total time=  19.2s\n",
            "[CV 3/10; 3/10] START min_samples_leaf=4, min_samples_split=10, n_estimators=155\n",
            "[CV 3/10; 3/10] END min_samples_leaf=4, min_samples_split=10, n_estimators=155;, score=0.995 total time=  18.8s\n",
            "[CV 4/10; 3/10] START min_samples_leaf=4, min_samples_split=10, n_estimators=155\n",
            "[CV 4/10; 3/10] END min_samples_leaf=4, min_samples_split=10, n_estimators=155;, score=0.987 total time=  19.0s\n",
            "[CV 5/10; 3/10] START min_samples_leaf=4, min_samples_split=10, n_estimators=155\n",
            "[CV 5/10; 3/10] END min_samples_leaf=4, min_samples_split=10, n_estimators=155;, score=0.996 total time=  19.0s\n",
            "[CV 6/10; 3/10] START min_samples_leaf=4, min_samples_split=10, n_estimators=155\n",
            "[CV 6/10; 3/10] END min_samples_leaf=4, min_samples_split=10, n_estimators=155;, score=0.997 total time=  18.8s\n",
            "[CV 7/10; 3/10] START min_samples_leaf=4, min_samples_split=10, n_estimators=155\n",
            "[CV 7/10; 3/10] END min_samples_leaf=4, min_samples_split=10, n_estimators=155;, score=0.999 total time=  18.7s\n",
            "[CV 8/10; 3/10] START min_samples_leaf=4, min_samples_split=10, n_estimators=155\n",
            "[CV 8/10; 3/10] END min_samples_leaf=4, min_samples_split=10, n_estimators=155;, score=0.982 total time=  18.9s\n",
            "[CV 9/10; 3/10] START min_samples_leaf=4, min_samples_split=10, n_estimators=155\n",
            "[CV 9/10; 3/10] END min_samples_leaf=4, min_samples_split=10, n_estimators=155;, score=0.991 total time=  18.6s\n",
            "[CV 10/10; 3/10] START min_samples_leaf=4, min_samples_split=10, n_estimators=155\n",
            "[CV 10/10; 3/10] END min_samples_leaf=4, min_samples_split=10, n_estimators=155;, score=0.996 total time=  18.8s\n",
            "[CV 1/10; 4/10] START min_samples_leaf=4, min_samples_split=2, n_estimators=122.\n",
            "[CV 1/10; 4/10] END min_samples_leaf=4, min_samples_split=2, n_estimators=122;, score=0.980 total time=  14.8s\n",
            "[CV 2/10; 4/10] START min_samples_leaf=4, min_samples_split=2, n_estimators=122.\n",
            "[CV 2/10; 4/10] END min_samples_leaf=4, min_samples_split=2, n_estimators=122;, score=0.988 total time=  15.0s\n",
            "[CV 3/10; 4/10] START min_samples_leaf=4, min_samples_split=2, n_estimators=122.\n",
            "[CV 3/10; 4/10] END min_samples_leaf=4, min_samples_split=2, n_estimators=122;, score=0.996 total time=  14.9s\n",
            "[CV 4/10; 4/10] START min_samples_leaf=4, min_samples_split=2, n_estimators=122.\n",
            "[CV 4/10; 4/10] END min_samples_leaf=4, min_samples_split=2, n_estimators=122;, score=0.990 total time=  15.0s\n",
            "[CV 5/10; 4/10] START min_samples_leaf=4, min_samples_split=2, n_estimators=122.\n",
            "[CV 5/10; 4/10] END min_samples_leaf=4, min_samples_split=2, n_estimators=122;, score=0.993 total time=  14.9s\n",
            "[CV 6/10; 4/10] START min_samples_leaf=4, min_samples_split=2, n_estimators=122.\n",
            "[CV 6/10; 4/10] END min_samples_leaf=4, min_samples_split=2, n_estimators=122;, score=0.996 total time=  14.9s\n",
            "[CV 7/10; 4/10] START min_samples_leaf=4, min_samples_split=2, n_estimators=122.\n",
            "[CV 7/10; 4/10] END min_samples_leaf=4, min_samples_split=2, n_estimators=122;, score=0.999 total time=  15.1s\n",
            "[CV 8/10; 4/10] START min_samples_leaf=4, min_samples_split=2, n_estimators=122.\n",
            "[CV 8/10; 4/10] END min_samples_leaf=4, min_samples_split=2, n_estimators=122;, score=0.985 total time=  14.7s\n",
            "[CV 9/10; 4/10] START min_samples_leaf=4, min_samples_split=2, n_estimators=122.\n",
            "[CV 9/10; 4/10] END min_samples_leaf=4, min_samples_split=2, n_estimators=122;, score=0.991 total time=  15.0s\n",
            "[CV 10/10; 4/10] START min_samples_leaf=4, min_samples_split=2, n_estimators=122\n",
            "[CV 10/10; 4/10] END min_samples_leaf=4, min_samples_split=2, n_estimators=122;, score=0.996 total time=  15.0s\n",
            "[CV 1/10; 5/10] START min_samples_leaf=2, min_samples_split=10, n_estimators=166\n",
            "[CV 1/10; 5/10] END min_samples_leaf=2, min_samples_split=10, n_estimators=166;, score=0.981 total time=  20.2s\n",
            "[CV 2/10; 5/10] START min_samples_leaf=2, min_samples_split=10, n_estimators=166\n",
            "[CV 2/10; 5/10] END min_samples_leaf=2, min_samples_split=10, n_estimators=166;, score=0.988 total time=  20.8s\n",
            "[CV 3/10; 5/10] START min_samples_leaf=2, min_samples_split=10, n_estimators=166\n",
            "[CV 3/10; 5/10] END min_samples_leaf=2, min_samples_split=10, n_estimators=166;, score=0.996 total time=  21.0s\n",
            "[CV 4/10; 5/10] START min_samples_leaf=2, min_samples_split=10, n_estimators=166\n",
            "[CV 4/10; 5/10] END min_samples_leaf=2, min_samples_split=10, n_estimators=166;, score=0.990 total time=  21.2s\n",
            "[CV 5/10; 5/10] START min_samples_leaf=2, min_samples_split=10, n_estimators=166\n",
            "[CV 5/10; 5/10] END min_samples_leaf=2, min_samples_split=10, n_estimators=166;, score=0.993 total time=  20.3s\n",
            "[CV 6/10; 5/10] START min_samples_leaf=2, min_samples_split=10, n_estimators=166\n",
            "[CV 6/10; 5/10] END min_samples_leaf=2, min_samples_split=10, n_estimators=166;, score=0.996 total time=  20.7s\n",
            "[CV 7/10; 5/10] START min_samples_leaf=2, min_samples_split=10, n_estimators=166\n",
            "[CV 7/10; 5/10] END min_samples_leaf=2, min_samples_split=10, n_estimators=166;, score=0.999 total time=  20.8s\n",
            "[CV 8/10; 5/10] START min_samples_leaf=2, min_samples_split=10, n_estimators=166\n",
            "[CV 8/10; 5/10] END min_samples_leaf=2, min_samples_split=10, n_estimators=166;, score=0.985 total time=  20.7s\n",
            "[CV 9/10; 5/10] START min_samples_leaf=2, min_samples_split=10, n_estimators=166\n",
            "[CV 9/10; 5/10] END min_samples_leaf=2, min_samples_split=10, n_estimators=166;, score=0.991 total time=  20.9s\n",
            "[CV 10/10; 5/10] START min_samples_leaf=2, min_samples_split=10, n_estimators=166\n",
            "[CV 10/10; 5/10] END min_samples_leaf=2, min_samples_split=10, n_estimators=166;, score=0.996 total time=  20.4s\n",
            "[CV 1/10; 6/10] START min_samples_leaf=1, min_samples_split=2, n_estimators=155.\n",
            "[CV 1/10; 6/10] END min_samples_leaf=1, min_samples_split=2, n_estimators=155;, score=0.981 total time=  19.0s\n",
            "[CV 2/10; 6/10] START min_samples_leaf=1, min_samples_split=2, n_estimators=155.\n",
            "[CV 2/10; 6/10] END min_samples_leaf=1, min_samples_split=2, n_estimators=155;, score=0.991 total time=  19.4s\n",
            "[CV 3/10; 6/10] START min_samples_leaf=1, min_samples_split=2, n_estimators=155.\n",
            "[CV 3/10; 6/10] END min_samples_leaf=1, min_samples_split=2, n_estimators=155;, score=0.993 total time=  19.5s\n",
            "[CV 4/10; 6/10] START min_samples_leaf=1, min_samples_split=2, n_estimators=155.\n",
            "[CV 4/10; 6/10] END min_samples_leaf=1, min_samples_split=2, n_estimators=155;, score=0.991 total time=  19.5s\n",
            "[CV 5/10; 6/10] START min_samples_leaf=1, min_samples_split=2, n_estimators=155.\n",
            "[CV 5/10; 6/10] END min_samples_leaf=1, min_samples_split=2, n_estimators=155;, score=0.993 total time=  23.4s\n",
            "[CV 6/10; 6/10] START min_samples_leaf=1, min_samples_split=2, n_estimators=155.\n",
            "[CV 6/10; 6/10] END min_samples_leaf=1, min_samples_split=2, n_estimators=155;, score=0.997 total time=  19.5s\n",
            "[CV 7/10; 6/10] START min_samples_leaf=1, min_samples_split=2, n_estimators=155.\n",
            "[CV 7/10; 6/10] END min_samples_leaf=1, min_samples_split=2, n_estimators=155;, score=0.999 total time=  19.4s\n",
            "[CV 8/10; 6/10] START min_samples_leaf=1, min_samples_split=2, n_estimators=155.\n",
            "[CV 8/10; 6/10] END min_samples_leaf=1, min_samples_split=2, n_estimators=155;, score=0.982 total time=  19.5s\n",
            "[CV 9/10; 6/10] START min_samples_leaf=1, min_samples_split=2, n_estimators=155.\n",
            "[CV 9/10; 6/10] END min_samples_leaf=1, min_samples_split=2, n_estimators=155;, score=0.991 total time=  19.4s\n",
            "[CV 10/10; 6/10] START min_samples_leaf=1, min_samples_split=2, n_estimators=155\n",
            "[CV 10/10; 6/10] END min_samples_leaf=1, min_samples_split=2, n_estimators=155;, score=0.997 total time=  20.2s\n",
            "[CV 1/10; 7/10] START min_samples_leaf=4, min_samples_split=5, n_estimators=111.\n",
            "[CV 1/10; 7/10] END min_samples_leaf=4, min_samples_split=5, n_estimators=111;, score=0.979 total time=  13.3s\n",
            "[CV 2/10; 7/10] START min_samples_leaf=4, min_samples_split=5, n_estimators=111.\n",
            "[CV 2/10; 7/10] END min_samples_leaf=4, min_samples_split=5, n_estimators=111;, score=0.988 total time=  13.1s\n",
            "[CV 3/10; 7/10] START min_samples_leaf=4, min_samples_split=5, n_estimators=111.\n",
            "[CV 3/10; 7/10] END min_samples_leaf=4, min_samples_split=5, n_estimators=111;, score=0.992 total time=  13.7s\n",
            "[CV 4/10; 7/10] START min_samples_leaf=4, min_samples_split=5, n_estimators=111.\n",
            "[CV 4/10; 7/10] END min_samples_leaf=4, min_samples_split=5, n_estimators=111;, score=0.990 total time=  13.5s\n",
            "[CV 5/10; 7/10] START min_samples_leaf=4, min_samples_split=5, n_estimators=111.\n",
            "[CV 5/10; 7/10] END min_samples_leaf=4, min_samples_split=5, n_estimators=111;, score=0.996 total time=  13.1s\n",
            "[CV 6/10; 7/10] START min_samples_leaf=4, min_samples_split=5, n_estimators=111.\n",
            "[CV 6/10; 7/10] END min_samples_leaf=4, min_samples_split=5, n_estimators=111;, score=0.996 total time=  13.6s\n",
            "[CV 7/10; 7/10] START min_samples_leaf=4, min_samples_split=5, n_estimators=111.\n",
            "[CV 7/10; 7/10] END min_samples_leaf=4, min_samples_split=5, n_estimators=111;, score=0.999 total time=  13.7s\n",
            "[CV 8/10; 7/10] START min_samples_leaf=4, min_samples_split=5, n_estimators=111.\n",
            "[CV 8/10; 7/10] END min_samples_leaf=4, min_samples_split=5, n_estimators=111;, score=0.982 total time=  13.3s\n",
            "[CV 9/10; 7/10] START min_samples_leaf=4, min_samples_split=5, n_estimators=111.\n",
            "[CV 9/10; 7/10] END min_samples_leaf=4, min_samples_split=5, n_estimators=111;, score=0.991 total time=  13.2s\n",
            "[CV 10/10; 7/10] START min_samples_leaf=4, min_samples_split=5, n_estimators=111\n",
            "[CV 10/10; 7/10] END min_samples_leaf=4, min_samples_split=5, n_estimators=111;, score=0.996 total time=  12.8s\n",
            "[CV 1/10; 8/10] START min_samples_leaf=2, min_samples_split=5, n_estimators=166.\n",
            "[CV 1/10; 8/10] END min_samples_leaf=2, min_samples_split=5, n_estimators=166;, score=0.983 total time=  18.5s\n",
            "[CV 2/10; 8/10] START min_samples_leaf=2, min_samples_split=5, n_estimators=166.\n",
            "[CV 2/10; 8/10] END min_samples_leaf=2, min_samples_split=5, n_estimators=166;, score=0.988 total time=  18.3s\n",
            "[CV 3/10; 8/10] START min_samples_leaf=2, min_samples_split=5, n_estimators=166.\n",
            "[CV 3/10; 8/10] END min_samples_leaf=2, min_samples_split=5, n_estimators=166;, score=0.993 total time=  18.6s\n",
            "[CV 4/10; 8/10] START min_samples_leaf=2, min_samples_split=5, n_estimators=166.\n",
            "[CV 4/10; 8/10] END min_samples_leaf=2, min_samples_split=5, n_estimators=166;, score=0.990 total time=  18.3s\n",
            "[CV 5/10; 8/10] START min_samples_leaf=2, min_samples_split=5, n_estimators=166.\n",
            "[CV 5/10; 8/10] END min_samples_leaf=2, min_samples_split=5, n_estimators=166;, score=0.993 total time=  18.3s\n",
            "[CV 6/10; 8/10] START min_samples_leaf=2, min_samples_split=5, n_estimators=166.\n",
            "[CV 6/10; 8/10] END min_samples_leaf=2, min_samples_split=5, n_estimators=166;, score=0.996 total time=  18.2s\n",
            "[CV 7/10; 8/10] START min_samples_leaf=2, min_samples_split=5, n_estimators=166.\n",
            "[CV 7/10; 8/10] END min_samples_leaf=2, min_samples_split=5, n_estimators=166;, score=0.999 total time=  18.0s\n",
            "[CV 8/10; 8/10] START min_samples_leaf=2, min_samples_split=5, n_estimators=166.\n",
            "[CV 8/10; 8/10] END min_samples_leaf=2, min_samples_split=5, n_estimators=166;, score=0.982 total time=  18.7s\n",
            "[CV 9/10; 8/10] START min_samples_leaf=2, min_samples_split=5, n_estimators=166.\n",
            "[CV 9/10; 8/10] END min_samples_leaf=2, min_samples_split=5, n_estimators=166;, score=0.991 total time=  18.0s\n",
            "[CV 10/10; 8/10] START min_samples_leaf=2, min_samples_split=5, n_estimators=166\n",
            "[CV 10/10; 8/10] END min_samples_leaf=2, min_samples_split=5, n_estimators=166;, score=0.997 total time=  17.9s\n",
            "[CV 1/10; 9/10] START min_samples_leaf=2, min_samples_split=2, n_estimators=133.\n",
            "[CV 1/10; 9/10] END min_samples_leaf=2, min_samples_split=2, n_estimators=133;, score=0.978 total time=  14.5s\n",
            "[CV 2/10; 9/10] START min_samples_leaf=2, min_samples_split=2, n_estimators=133.\n",
            "[CV 2/10; 9/10] END min_samples_leaf=2, min_samples_split=2, n_estimators=133;, score=0.985 total time=  14.3s\n",
            "[CV 3/10; 9/10] START min_samples_leaf=2, min_samples_split=2, n_estimators=133.\n",
            "[CV 3/10; 9/10] END min_samples_leaf=2, min_samples_split=2, n_estimators=133;, score=0.993 total time=  14.9s\n",
            "[CV 4/10; 9/10] START min_samples_leaf=2, min_samples_split=2, n_estimators=133.\n",
            "[CV 4/10; 9/10] END min_samples_leaf=2, min_samples_split=2, n_estimators=133;, score=0.990 total time=  14.1s\n",
            "[CV 5/10; 9/10] START min_samples_leaf=2, min_samples_split=2, n_estimators=133.\n",
            "[CV 5/10; 9/10] END min_samples_leaf=2, min_samples_split=2, n_estimators=133;, score=0.996 total time=  14.2s\n",
            "[CV 6/10; 9/10] START min_samples_leaf=2, min_samples_split=2, n_estimators=133.\n",
            "[CV 6/10; 9/10] END min_samples_leaf=2, min_samples_split=2, n_estimators=133;, score=0.996 total time=  14.5s\n",
            "[CV 7/10; 9/10] START min_samples_leaf=2, min_samples_split=2, n_estimators=133.\n",
            "[CV 7/10; 9/10] END min_samples_leaf=2, min_samples_split=2, n_estimators=133;, score=0.999 total time=  14.6s\n",
            "[CV 8/10; 9/10] START min_samples_leaf=2, min_samples_split=2, n_estimators=133.\n",
            "[CV 8/10; 9/10] END min_samples_leaf=2, min_samples_split=2, n_estimators=133;, score=0.985 total time=  14.3s\n",
            "[CV 9/10; 9/10] START min_samples_leaf=2, min_samples_split=2, n_estimators=133.\n",
            "[CV 9/10; 9/10] END min_samples_leaf=2, min_samples_split=2, n_estimators=133;, score=0.991 total time=  14.4s\n",
            "[CV 10/10; 9/10] START min_samples_leaf=2, min_samples_split=2, n_estimators=133\n",
            "[CV 10/10; 9/10] END min_samples_leaf=2, min_samples_split=2, n_estimators=133;, score=0.997 total time=  14.5s\n",
            "[CV 1/10; 10/10] START min_samples_leaf=1, min_samples_split=5, n_estimators=111\n",
            "[CV 1/10; 10/10] END min_samples_leaf=1, min_samples_split=5, n_estimators=111;, score=0.980 total time=  12.0s\n",
            "[CV 2/10; 10/10] START min_samples_leaf=1, min_samples_split=5, n_estimators=111\n",
            "[CV 2/10; 10/10] END min_samples_leaf=1, min_samples_split=5, n_estimators=111;, score=0.991 total time=  12.1s\n",
            "[CV 3/10; 10/10] START min_samples_leaf=1, min_samples_split=5, n_estimators=111\n",
            "[CV 3/10; 10/10] END min_samples_leaf=1, min_samples_split=5, n_estimators=111;, score=0.993 total time=  12.1s\n",
            "[CV 4/10; 10/10] START min_samples_leaf=1, min_samples_split=5, n_estimators=111\n",
            "[CV 4/10; 10/10] END min_samples_leaf=1, min_samples_split=5, n_estimators=111;, score=0.991 total time=  12.2s\n",
            "[CV 5/10; 10/10] START min_samples_leaf=1, min_samples_split=5, n_estimators=111\n",
            "[CV 5/10; 10/10] END min_samples_leaf=1, min_samples_split=5, n_estimators=111;, score=0.993 total time=  12.3s\n",
            "[CV 6/10; 10/10] START min_samples_leaf=1, min_samples_split=5, n_estimators=111\n",
            "[CV 6/10; 10/10] END min_samples_leaf=1, min_samples_split=5, n_estimators=111;, score=0.996 total time=  11.9s\n",
            "[CV 7/10; 10/10] START min_samples_leaf=1, min_samples_split=5, n_estimators=111\n",
            "[CV 7/10; 10/10] END min_samples_leaf=1, min_samples_split=5, n_estimators=111;, score=0.999 total time=  11.9s\n",
            "[CV 8/10; 10/10] START min_samples_leaf=1, min_samples_split=5, n_estimators=111\n",
            "[CV 8/10; 10/10] END min_samples_leaf=1, min_samples_split=5, n_estimators=111;, score=0.985 total time=  11.9s\n",
            "[CV 9/10; 10/10] START min_samples_leaf=1, min_samples_split=5, n_estimators=111\n",
            "[CV 9/10; 10/10] END min_samples_leaf=1, min_samples_split=5, n_estimators=111;, score=0.991 total time=  11.9s\n",
            "[CV 10/10; 10/10] START min_samples_leaf=1, min_samples_split=5, n_estimators=111\n",
            "[CV 10/10; 10/10] END min_samples_leaf=1, min_samples_split=5, n_estimators=111;, score=0.993 total time=  12.1s\n"
          ]
        },
        {
          "output_type": "execute_result",
          "data": {
            "text/plain": [
              "RandomizedSearchCV(cv=10, estimator=RandomForestClassifier(),\n",
              "                   param_distributions={'min_samples_leaf': [1, 2, 4],\n",
              "                                        'min_samples_split': [2, 5, 10],\n",
              "                                        'n_estimators': [100, 111, 122, 133,\n",
              "                                                         144, 155, 166, 177,\n",
              "                                                         188, 200]},\n",
              "                   scoring=make_scorer(weighted_balance_average), verbose=10)"
            ]
          },
          "metadata": {},
          "execution_count": 137
        }
      ],
      "id": "5wYVs4DS9qUF"
    },
    {
      "cell_type": "code",
      "source": [
        "print(rf_random.best_params_)"
      ],
      "metadata": {
        "colab": {
          "base_uri": "https://localhost:8080/"
        },
        "id": "jtQ3NAoH9vJY",
        "outputId": "35df1128-d584-42ec-b5c8-5a138ead036b"
      },
      "id": "jtQ3NAoH9vJY",
      "execution_count": null,
      "outputs": [
        {
          "output_type": "stream",
          "name": "stdout",
          "text": [
            "{'n_estimators': 166, 'min_samples_split': 10, 'min_samples_leaf': 2}\n"
          ]
        }
      ]
    },
    {
      "cell_type": "code",
      "source": [
        "clf = RandomForestClassifier(n_estimators=166, min_samples_split=10, min_samples_leaf=2)\n",
        "clf.fit(x_train, y_train)\n",
        "y_pred = clf.predict(x_test)\n",
        "return_accuracy(y_test, y_pred)"
      ],
      "metadata": {
        "colab": {
          "base_uri": "https://localhost:8080/"
        },
        "id": "9xrzTwM29vO4",
        "outputId": "7903076c-6195-479f-80fd-468a12b92c6f"
      },
      "id": "9xrzTwM29vO4",
      "execution_count": null,
      "outputs": [
        {
          "output_type": "stream",
          "name": "stdout",
          "text": [
            "The number of true negatives is: 60891\n",
            "The number of false negatives is: 20\n",
            "The number of false positives is: 191\n",
            "The number of true positives is: 107\n",
            "The accuracy is: 0.9965527945236812\n",
            "The accuracy on the 1's is  0.84251968503937\n",
            "The accuracy on the 0's is  0.9968730558920795\n"
          ]
        },
        {
          "output_type": "execute_result",
          "data": {
            "text/plain": [
              "0.9965527945236812"
            ]
          },
          "metadata": {},
          "execution_count": 139
        }
      ]
    },
    {
      "cell_type": "markdown",
      "source": [
        "UNDERSAMPLING BY RANDOM UNDER SAMPLER"
      ],
      "metadata": {
        "id": "00CnMWoctaEF"
      },
      "id": "00CnMWoctaEF"
    },
    {
      "cell_type": "code",
      "source": [
        "# we don't perform a classical random splitting of train and test as we want the majority of the 1's in the test to see the accuracy of the model on those\n",
        "import random\n",
        "\n",
        "\n",
        "critical_indices = np.where(RelKa >= 0.6)[0]\n",
        "random_subsample = random.sample(list(np.arange(len(critical_indices))), np.int(0.7 * len(critical_indices)))\n",
        "training_critical_indices = []\n",
        "for i in range(len(critical_indices)):\n",
        "    if i not in random_subsample:\n",
        "      training_critical_indices.append(i)\n",
        "critical_subsample = training_data[critical_indices[0] + random_subsample, :]\n",
        "critical_RelKa = RelKa[critical_indices[0] + random_subsample]\n",
        "X_test = np.zeros(training_data.shape[1])\n",
        "X_test = X_test[..., np.newaxis].T\n",
        "y_test = np.array([])\n",
        "X_train = np.zeros(training_data.shape[1])\n",
        "X_train = X_train[..., np.newaxis].T\n",
        "y_train = np.array([])\n",
        "X_test = np.concatenate([X_test, critical_subsample], axis=0)\n",
        "y_test = np.concatenate([y_test, critical_RelKa])\n",
        "X_train = np.concatenate([X_train, training_data[critical_indices[0] + training_critical_indices, :]], axis=0)\n",
        "y_train = np.concatenate([y_train, RelKa[critical_indices[0] + training_critical_indices]])\n",
        "X_test = np.delete(X_test, 0, axis=0)\n",
        "X_train = np.delete(X_train, 0, axis=0)"
      ],
      "metadata": {
        "id": "lthSQ4Bh0itS"
      },
      "id": "lthSQ4Bh0itS",
      "execution_count": null,
      "outputs": []
    },
    {
      "cell_type": "code",
      "source": [
        "print(X_train.shape, y_train.shape, X_test.shape, y_test.shape)"
      ],
      "metadata": {
        "colab": {
          "base_uri": "https://localhost:8080/"
        },
        "id": "sbWWyGNp3ctE",
        "outputId": "e00a5c95-2003-41a7-ad40-77f451d336a8"
      },
      "id": "sbWWyGNp3ctE",
      "execution_count": null,
      "outputs": [
        {
          "output_type": "stream",
          "name": "stdout",
          "text": [
            "(267, 318) (267,) (622, 318) (622,)\n"
          ]
        }
      ]
    },
    {
      "cell_type": "code",
      "source": [
        "non_critical_indices = np.where(RelKa < 0.6)[0]\n",
        "non_critical_training_data = training_data[non_critical_indices, :]\n",
        "non_critical_RelKa = RelKa[non_critical_indices]\n",
        "non_critical_X_train, non_critical_X_test, non_critical_y_train, non_critical_y_test = train_test_split(non_critical_training_data, non_critical_RelKa, train_size=0.7, random_state=42) "
      ],
      "metadata": {
        "id": "be7hAjxY3rOm"
      },
      "id": "be7hAjxY3rOm",
      "execution_count": null,
      "outputs": []
    },
    {
      "cell_type": "code",
      "source": [
        "X_train = np.concatenate([X_train, non_critical_X_train], axis=0)\n",
        "X_test = np.concatenate([X_test, non_critical_X_test], axis=0)\n",
        "y_train = np.concatenate([y_train, non_critical_y_train])\n",
        "y_test = np.concatenate([y_test, non_critical_y_test])\n",
        "y_train = split_RelKa(y_train, 0.6)\n",
        "y_test = split_RelKa(y_test, 0.6)"
      ],
      "metadata": {
        "id": "dyM0_rwB4MaZ"
      },
      "id": "dyM0_rwB4MaZ",
      "execution_count": null,
      "outputs": []
    },
    {
      "cell_type": "code",
      "metadata": {
        "id": "zJditbVB6fEB"
      },
      "source": [
        "from sklearn.model_selection import RandomizedSearchCV\n",
        "\n",
        "n_estimators = [int(x) for x in np.linspace(start = 100, stop = 200, num = 10)]\n",
        "min_samples_split = [2, 5, 10]\n",
        "min_samples_leaf = [1, 2, 4]\n",
        "random_grid = {'classifier__n_estimators': n_estimators,\n",
        "               'classifier__min_samples_split': min_samples_split,\n",
        "               'classifier__min_samples_leaf': min_samples_leaf}"
      ],
      "execution_count": null,
      "outputs": [],
      "id": "zJditbVB6fEB"
    },
    {
      "cell_type": "code",
      "source": [
        "from sklearn.ensemble import RandomForestClassifier\n",
        "from sklearn.metrics import make_scorer, f1_score\n",
        "from imblearn.pipeline import Pipeline\n",
        "from imblearn.under_sampling import RandomUnderSampler\n",
        "from imblearn.over_sampling import SMOTE\n",
        "\n",
        "rus = RandomUnderSampler\n",
        "smo = SMOTE()\n",
        "rfc = RandomForestClassifier()"
      ],
      "metadata": {
        "id": "m78JrdiK5ttP"
      },
      "id": "m78JrdiK5ttP",
      "execution_count": null,
      "outputs": []
    },
    {
      "cell_type": "code",
      "source": [
        "def cross_validate(X, y, random_grid, undersampling=True, oversampling=True):\n",
        "    if oversampling is False:\n",
        "        pipeline = Pipeline([('undersampling', RandomUnderSampler(sampling_strategy = 0.02)), ('classifier', RandomForestClassifier())])\n",
        "    elif undersampling is False:\n",
        "        pipeline = Pipeline([('smt', SMOTE(sampling_strategy = 0.8)), ('classifier', RandomForestClassifier())])\n",
        "    else:\n",
        "        pipeline = Pipeline([('undersampling', RandomUnderSampler(sampling_strategy = 0.02)), ('smt',  SMOTE(sampling_strategy = 0.8)), ('classifier', RandomForestClassifier())])\n",
        "    \n",
        "    rf_random = RandomizedSearchCV(estimator=pipeline, param_distributions=random_grid, n_iter=5, cv=10, scoring='roc_auc', verbose=10)\n",
        "    rf_random.fit(X, y)\n",
        "    return rf_random.best_params_"
      ],
      "metadata": {
        "id": "G6zqxYNw8LBO"
      },
      "id": "G6zqxYNw8LBO",
      "execution_count": null,
      "outputs": []
    },
    {
      "cell_type": "code",
      "source": [
        "best_params = cross_validate(X_train, y_train, random_grid)"
      ],
      "metadata": {
        "colab": {
          "base_uri": "https://localhost:8080/"
        },
        "id": "qpRUWUvjXc8v",
        "outputId": "3a781e0b-9c9f-4733-ddcd-37928b1b6317"
      },
      "id": "qpRUWUvjXc8v",
      "execution_count": null,
      "outputs": [
        {
          "output_type": "stream",
          "name": "stdout",
          "text": [
            "{'classifier__n_estimators': 122, 'classifier__min_samples_split': 2, 'classifier__min_samples_leaf': 2}\n"
          ]
        }
      ]
    },
    {
      "cell_type": "code",
      "source": [
        "clf = RandomForestClassifier(n_estimators=122, min_samples_leaf=2, min_samples_split=2)\n",
        "clf.fit(X_train, y_train)\n",
        "y_pred = clf.predict(X_test)"
      ],
      "metadata": {
        "colab": {
          "base_uri": "https://localhost:8080/",
          "height": 200
        },
        "id": "mDWfZGh5MLoH",
        "outputId": "8052398f-13aa-43dd-c0eb-7c82677c067d"
      },
      "id": "mDWfZGh5MLoH",
      "execution_count": null,
      "outputs": [
        {
          "output_type": "error",
          "ename": "NameError",
          "evalue": "ignored",
          "traceback": [
            "\u001b[0;31m---------------------------------------------------------------------------\u001b[0m",
            "\u001b[0;31mNameError\u001b[0m                                 Traceback (most recent call last)",
            "\u001b[0;32m<ipython-input-23-0505aff7eeef>\u001b[0m in \u001b[0;36m<module>\u001b[0;34m()\u001b[0m\n\u001b[1;32m      2\u001b[0m \u001b[0mclf\u001b[0m\u001b[0;34m.\u001b[0m\u001b[0mfit\u001b[0m\u001b[0;34m(\u001b[0m\u001b[0mX_train\u001b[0m\u001b[0;34m,\u001b[0m \u001b[0my_train\u001b[0m\u001b[0;34m)\u001b[0m\u001b[0;34m\u001b[0m\u001b[0;34m\u001b[0m\u001b[0m\n\u001b[1;32m      3\u001b[0m \u001b[0my_pred\u001b[0m \u001b[0;34m=\u001b[0m \u001b[0mclf\u001b[0m\u001b[0;34m.\u001b[0m\u001b[0mpredict\u001b[0m\u001b[0;34m(\u001b[0m\u001b[0mX_test\u001b[0m\u001b[0;34m)\u001b[0m\u001b[0;34m\u001b[0m\u001b[0;34m\u001b[0m\u001b[0m\n\u001b[0;32m----> 4\u001b[0;31m \u001b[0mreturn_accuracy\u001b[0m\u001b[0;34m(\u001b[0m\u001b[0my_test\u001b[0m\u001b[0;34m,\u001b[0m \u001b[0my_pred\u001b[0m\u001b[0;34m,\u001b[0m \u001b[0mverbose\u001b[0m\u001b[0;34m=\u001b[0m\u001b[0;36m1\u001b[0m\u001b[0;34m)\u001b[0m\u001b[0;34m\u001b[0m\u001b[0;34m\u001b[0m\u001b[0m\n\u001b[0m",
            "\u001b[0;31mNameError\u001b[0m: name 'return_accuracy' is not defined"
          ]
        }
      ]
    },
    {
      "cell_type": "code",
      "source": [
        "return_accuracy(y_test, y_pred, verbose=1)"
      ],
      "metadata": {
        "colab": {
          "base_uri": "https://localhost:8080/"
        },
        "id": "ZhCdYT5SBVKv",
        "outputId": "87500ce8-10d0-4bfe-d863-1b14d47e6199"
      },
      "id": "ZhCdYT5SBVKv",
      "execution_count": null,
      "outputs": [
        {
          "output_type": "stream",
          "name": "stdout",
          "text": [
            "The number of true negatives is: 50904\n",
            "The number of false negatives is: 460\n",
            "The number of false positives is: 4\n",
            "The number of true positives is: 162\n",
            "The accuracy is: 0.9909955365806327\n",
            "The accuracy on the 1's is  0.2604501607717042\n",
            "The accuracy on the 0's is  0.999921426887719\n"
          ]
        },
        {
          "output_type": "execute_result",
          "data": {
            "text/plain": [
              "0.9909955365806327"
            ]
          },
          "metadata": {},
          "execution_count": 25
        }
      ]
    }
  ]
}