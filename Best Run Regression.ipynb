{
  "cells": [
    {
      "cell_type": "code",
      "execution_count": 2,
      "metadata": {
        "id": "qeM593-TwcoM"
      },
      "outputs": [],
      "source": [
        "# for dealing with data\n",
        "import pandas as pd\n",
        "import numpy as np\n",
        "\n",
        "#for visualization\n",
        "import matplotlib\n",
        "from matplotlib import pyplot as plt\n",
        "import seaborn as sns\n",
        "import scipy.stats as st\n",
        "import random\n",
        "\n",
        "\n",
        "#machine learning libraries\n",
        "from sklearn.preprocessing import StandardScaler\n",
        "from sklearn.model_selection import train_test_split\n",
        "from xgboost import XGBRegressor\n",
        "from sklearn.metrics import mean_squared_error as MSE\n",
        "from sklearn.model_selection import RandomizedSearchCV\n",
        "from sklearn.metrics import make_scorer\n",
        "from sklearn.model_selection import PredefinedSplit\n",
        "\n",
        "#for mathematics and statistics\n",
        "import math\n",
        "from scipy import stats\n",
        "import scipy as sci\n",
        "from scipy.spatial.distance import minkowski\n",
        "from scipy.stats import spearmanr"
      ]
    },
    {
      "cell_type": "code",
      "execution_count": 3,
      "metadata": {
        "colab": {
          "base_uri": "https://localhost:8080/"
        },
        "id": "7DD9gASEwigQ",
        "outputId": "a36ddc41-f2bf-402b-8fde-3750b0b7315d"
      },
      "outputs": [
        {
          "output_type": "stream",
          "name": "stdout",
          "text": [
            "Drive already mounted at /content/drive; to attempt to forcibly remount, call drive.mount(\"/content/drive\", force_remount=True).\n",
            "/content/drive/My Drive\n"
          ]
        }
      ],
      "source": [
        "from google.colab import drive\n",
        "drive.mount('/content/drive')\n",
        "%cd drive/My\\ Drive"
      ]
    },
    {
      "cell_type": "code",
      "execution_count": 4,
      "metadata": {
        "id": "wcIPdcE4wlb1"
      },
      "outputs": [],
      "source": [
        "# we import the dataset using pandas\n",
        "pddata = pd.read_csv('GSM1586785_ScrH-12A_Exd_14mer_cg.csv.zip', compression='zip', error_bad_lines=False, skiprows=1)"
      ]
    },
    {
      "cell_type": "code",
      "execution_count": 5,
      "metadata": {
        "id": "FU9GUWIBwnDh"
      },
      "outputs": [],
      "source": [
        "# we visualize the first ten rows of our dataframe\n",
        "pddata = pddata.to_numpy()\n",
        "RelKa = pddata[:, -1]\n",
        "training_data = pddata[:, 2:-1]"
      ]
    },
    {
      "cell_type": "code",
      "execution_count": 23,
      "metadata": {
        "id": "ec7aw0cE6rsV"
      },
      "outputs": [],
      "source": [
        "from sklearn.ensemble import IsolationForest\n",
        "\n",
        "def split_outliers(threshold, scores):\n",
        "  outliers_indices = np.where(scores < threshold)[0]\n",
        "  return outliers_indices\n",
        "\n",
        "def Anomaly_Detection_Isolation_Forests(x, change_split=False):\n",
        "  random_state = np.random.RandomState(42)\n",
        "  contamination = 'auto'\n",
        "  threshold = np.random.uniform(-0.03, -0.02, 1)\n",
        "  model = IsolationForest(n_estimators=120, max_samples='auto', contamination=contamination, random_state=random_state)\n",
        "  model.fit(x)\n",
        "  scores = model.decision_function(x)\n",
        "  if change_split == False:\n",
        "    anomaly_score = model.predict(x)\n",
        "    outliers_indices = np.where(anomaly_score == -1)[0]\n",
        "  if change_split == True:\n",
        "    outliers_indices = split_outliers(threshold, scores)\n",
        "  return contamination, scores, outliers_indices\n",
        "\n",
        "def check_Isolation_Forests(contamination, outliers_indices):\n",
        "  \"\"\"\n",
        "  Simply a check on the proper working of the IF algorithm\n",
        "  \"\"\"\n",
        "  tol = 1.0e-02\n",
        "  if contamination != 'auto':\n",
        "    outliers_percentage = 1 / len(RelKa) * len(outliers_indices)\n",
        "    assert np.abs(contamination-outliers_percentage) < tol\n",
        "\n",
        "def check_boundary_decision(scores, p, verbose=1):\n",
        "  \"\"\"\n",
        "  This function simply controls how many scores returned by the IF algorithm \n",
        "  are likely to be misclassified\n",
        "  \"\"\"\n",
        "  indecision_percentage = 1 / len(RelKa) * np.count_nonzero(np.abs(scores) <= p)\n",
        "  if verbose == 1:\n",
        "    plt.hist(scores)\n",
        "    plt.show()\n",
        "    print(\"The indecision percentage around\", p,  \"is\", indecision_percentage)\n",
        "    print(\"The percentage of outliers detected is\", 1 / len(scores) * len(np.where(scores < 0)[0]))\n",
        "\n",
        "def drop_outliers(x, y, outliers):\n",
        "  x = np.delete(x, outliers, axis=0)\n",
        "  y = np.delete(y, outliers, axis=0)\n",
        "  return x, y"
      ]
    },
    {
      "cell_type": "code",
      "execution_count": 7,
      "metadata": {
        "id": "d8eYszg3n53z"
      },
      "outputs": [],
      "source": [
        "def split_importance(x, y, importance_class=0.7):\n",
        "  \"\"\"\n",
        "  Split the samples into interesting ones and not interesting ones\n",
        "  :param x: numpy.ndarray:the feature vector of the initial dataset\n",
        "  :param y: numpy.ndarray: the value vector of the initial dataset\n",
        "  :param importance_class: float: the lower bound for the underepresented class\n",
        "  \"\"\"\n",
        "  return x[y >= importance_class], y[y >= importance_class], x[y < importance_class], y[y < importance_class]"
      ]
    },
    {
      "cell_type": "code",
      "execution_count": 24,
      "metadata": {
        "id": "UuXU1lLfoAy1"
      },
      "outputs": [],
      "source": [
        "x_1, y_1, x_0, y_0 = split_importance(training_data, RelKa)"
      ]
    },
    {
      "cell_type": "code",
      "execution_count": 25,
      "metadata": {
        "id": "wnZYvVZuoEXN"
      },
      "outputs": [],
      "source": [
        "# split the two classes seperately into train and test set to ensure representation of the minority class\n",
        "# both in the test set and in the train set\n",
        "x_1_train, x_1_test, y_1_train, y_1_test = train_test_split(x_1, y_1, test_size=0.3, random_state=42)\n",
        "x_0_train, x_0_test, y_0_train, y_0_test = train_test_split(x_0, y_0, test_size=0.3, random_state=42)\n",
        "\n",
        "x_train = np.concatenate((x_1_train, x_0_train))\n",
        "y_train = np.concatenate((y_1_train, y_0_train))\n",
        "x_test = np.concatenate((x_1_test, x_0_test))\n",
        "y_test = np.concatenate((y_1_test, y_0_test))"
      ]
    },
    {
      "cell_type": "code",
      "execution_count": 26,
      "metadata": {
        "id": "vO7-bhBsoMWO"
      },
      "outputs": [],
      "source": [
        "from sklearn.preprocessing import StandardScaler\n",
        "\n",
        "sc = StandardScaler()\n",
        "x_train = sc.fit_transform(x_train)\n",
        "x_test = sc.transform(x_test)"
      ]
    },
    {
      "cell_type": "code",
      "execution_count": 11,
      "metadata": {
        "id": "4fsfcd-qF3YL"
      },
      "outputs": [],
      "source": [
        "def random_undersampling(x, y, alpha, importance_boundary=0.7):\n",
        "  \"\"\"\n",
        "  alpha is a parameter bigger than 1/2\n",
        "  \"\"\"\n",
        "  count = 0\n",
        "  to_drop = []\n",
        "  for i in range(x.shape[0]):\n",
        "    print(\"Checking the \", i, \"sample\")\n",
        "    U = st.uniform.rvs(size=1)\n",
        "    if y[i] <= importance_boundary:\n",
        "      if U <= alpha:\n",
        "        to_drop.append(i)\n",
        "  x = np.delete(x, to_drop, axis=0)\n",
        "  y = np.delete(y, to_drop, axis=0)\n",
        "  return x, y"
      ]
    },
    {
      "cell_type": "code",
      "execution_count": 12,
      "metadata": {
        "id": "JBdxcA968_G4"
      },
      "outputs": [],
      "source": [
        "def stratified_undersampling(x, y, intervals = 0.05 * np.arange(0, 15)):\n",
        "  \"\"\"\n",
        "  This function performs stratified undersampling on the majority class\n",
        "  by dropping samples in each strata with a probability equal to the frequency\n",
        "  :param x: the datapoints to be undersampled\n",
        "  :param y: the corresponding labels\n",
        "  :param alpha: a hyperparameter to choose the dropping probability \n",
        "  :param intervals: the stratification intervals\n",
        "  :return x and y undersampled  \n",
        "  \"\"\"\n",
        "  # just a check that we drop with high probability in the frequent strata\n",
        "  to_drop = []\n",
        "  # we do a cycle over all intervals\n",
        "  for i in range(len(intervals)-1):\n",
        "    # get the indices for which the label is in the i-th strata\n",
        "    indices = np.where(np.logical_and(intervals[i] < y, y < intervals[i+1]))[0]\n",
        "    # compute the frequency of the i-th strata\n",
        "    frequency = len(indices) / len(y)\n",
        "    # we do a cycle over all elements in such a stratum\n",
        "    for j in range(len(indices)):\n",
        "      # we draw a uniform random variable\n",
        "      U = st.uniform.rvs(size=1)\n",
        "      if U <= frequency:\n",
        "        # we drop every sample in the i-th strata with probability alpha * frequency\n",
        "        to_drop.append(indices[j])\n",
        "  # we drop from x and y the samples and the labels found before\n",
        "  x_new = np.delete(x, to_drop, axis=0)\n",
        "  y_new = np.delete(y, to_drop, axis=0)\n",
        "  return x_new, y_new"
      ]
    },
    {
      "cell_type": "code",
      "execution_count": 13,
      "metadata": {
        "id": "4As9ODx8t6_H"
      },
      "outputs": [],
      "source": [
        "#quantization function required for some score functions\n",
        "def quantize(x,cuts=100):\n",
        "  ranges = np.sort(np.unique(pd.cut(x,cuts)))\n",
        "  for i in range(ranges.shape[0]):\n",
        "    ranges_i = ranges[i]\n",
        "    x[(x<=ranges_i.right)&(x>ranges_i.left)] = (ranges_i.left +ranges_i.right)/2\n",
        "  return x\n",
        "\n",
        "def quantize_features(x,cuts=100):\n",
        "  return np.apply_along_axis(quantize,0,x,cuts)\n",
        "\n",
        "#correlation scorers\n",
        "def Spearman(i,j):\n",
        "  ret,_ = spearmanr(i,j)\n",
        "  return ret\n",
        "\n",
        "def Correlation_Score(x,y):\n",
        "  x = x.T\n",
        "  score = [min([abs(Spearman(j,i)) for i in x]) for j in x]\n",
        "  return np.array(score)\n",
        "\n",
        "def Correlation_Score_Max(x,y):\n",
        "  x = x.T\n",
        "  score = [-max([abs(Spearman(j,i)) for i in x]) for j in x]\n",
        "  return np.array(score)\n",
        "\n",
        "def Closest(x, z):\n",
        "    \"\"\"\n",
        "    Returns the index of the sample in x which is the closest one to all the samples in z\n",
        "    :param x: numpy.ndarray: The array of the samples for which we seek to find the furthest\n",
        "    :param z: numpy.ndarray: The array of the samples which we use as a point of reference\n",
        "    :return: int: returns a single index corresponding to the furthest x\n",
        "    \"\"\"\n",
        "    distances = []\n",
        "    # we seek for the closest point to z in x\n",
        "    for i in range(x.shape[0]):\n",
        "        # for each sample in x we calculate the distance from all points in z and we take the minimum\n",
        "        distance = min([np.linalg.norm(j - x[i]) for j in z])\n",
        "        # we add the calculated distance to the list\n",
        "        distances.append(distance)\n",
        "    # we return the closest point by taking the argmin over all calculated distances\n",
        "    return np.argmin(distances)"
      ]
    },
    {
      "cell_type": "code",
      "execution_count": 14,
      "metadata": {
        "id": "JtmKdxD5xcMm"
      },
      "outputs": [],
      "source": [
        "def PSU_undersampling_regression(x, y, randomsize, xi, yi):\n",
        "    \"\"\"\n",
        "    This function performs the PSU undersampling of the samples in the x,y arrays\n",
        "    with regards to the set xi,yi. This version is a slight modification of the original proposed algorithm\n",
        "    which helps us improving in the prediction of the RelKa in the central intervals\n",
        "    :param x: numpy.ndarray: The array of samples on which we perform the undersampling\n",
        "    :param y: numpy.ndarray: The labels corresponding to the samples in x\n",
        "    :param randomsize: int: An integer corresponding to the number of samples to be left\n",
        "    :param xi: numpy.ndarray: The array with the samples to be used as a reference for distances\n",
        "    :param yi: numpy.ndarray: The labels of the samples in xi\n",
        "    :return: numpy.ndarray,numpy.ndarray: Returns 2 numpy arrays corresponding to the undersampled data\n",
        "    \"\"\"\n",
        "    # we calculate the centroid of the majority class data\n",
        "    C = np.mean(x, axis=0)\n",
        "    # for each sample in the majority class we calculate the l2 distance from the centroid\n",
        "    dist = np.linalg.norm(x - C, 2, axis=1)\n",
        "    # we sort the distances\n",
        "    indices = dist.argsort()\n",
        "    # we sort the samples and the corresponding labels according to the distances calculated before\n",
        "    x = x[indices]\n",
        "    y = y[indices]\n",
        "    # we split the samples and the corresponding labels in randomsize partitions\n",
        "    split_x = np.array_split(x, randomsize)\n",
        "    split_y = np.array_split(y, randomsize)\n",
        "    # for each partition we calculate the closest point to the minority class xi\n",
        "    indices = [Closest(split_x[i], xi) for i in range(randomsize)]\n",
        "    # the collection of the randomsize closest points calculated above represents the undersampled data\n",
        "    x_resample = np.array([split_x[i][indices[i]] for i in range(randomsize)])\n",
        "    # the corresponding labels of the undersampled data are also returned\n",
        "    y_resample = np.array([split_y[i][indices[i]] for i in range(randomsize)])\n",
        "    return x_resample, y_resample"
      ]
    },
    {
      "cell_type": "code",
      "execution_count": 15,
      "metadata": {
        "id": "FcGYPv2Cvwoe"
      },
      "outputs": [],
      "source": [
        "def PSU_stratified_undersampling(x, y, randomsize, intervals, xi, yi):\n",
        "    \"\"\"\n",
        "    This function performs the PSU undersampling of the samples in the x,y arrays\n",
        "    with regards to the set xi,yi. This version is a slight modification of the original proposed algorithm\n",
        "    which helps us improving in the prediction of the RelKa in the central intervals\n",
        "    :param x: numpy.ndarray: The array of samples on which we perform the undersampling\n",
        "    :param y: numpy.ndarray: The labels corresponding to the samples in x\n",
        "    :param randomsize: int: An integer corresponding to the number of samples to be left\n",
        "    :param intervals: the intervals for stratification\n",
        "    :param xi: the reference points\n",
        "    :param yi: the corresponding labels to xi\n",
        "    :return: numpy.ndarray,numpy.ndarray: Returns 2 numpy arrays corresponding to the undersampled data\n",
        "    \"\"\"\n",
        "    # we calculate the number of strata\n",
        "    k = intervals.shape[0]\n",
        "    print(k)\n",
        "    # we initialize the lists for undersampling\n",
        "    x_resample = np.zeros(x.shape[1])\n",
        "    x_resample = x_resample[..., np.newaxis].T\n",
        "    y_resample = []\n",
        "    for i in range(len(intervals)-1):\n",
        "        indices = np.where(np.logical_and(intervals[i] < y, y < intervals[i+1]))[0]\n",
        "        # we get the samples and the labels in the i-th strata\n",
        "        x_ = x[indices]\n",
        "        y_ = y[indices]\n",
        "        frequency = len(indices) / len(y)\n",
        "        # we perform the modified PSU undersampling on the i-th strata\n",
        "        x_, y_ = PSU_undersampling_regression(x_, y_, int(randomsize*frequency), xi, yi)\n",
        "        # we add the samples and the corresponding labels\n",
        "        x_resample = np.concatenate([x_resample, x_], axis=0)\n",
        "        y_resample = np.concatenate([y_resample, y_], axis=0)\n",
        "    # we drop the first row used only for initialization\n",
        "    x_resample = np.delete(x_resample, 0, axis=0)\n",
        "    return x_resample, y_resample"
      ]
    },
    {
      "cell_type": "code",
      "execution_count": 16,
      "metadata": {
        "id": "t5MjEsO7t-y-"
      },
      "outputs": [],
      "source": [
        "def Furthest(x, z):\n",
        "    \"\"\"\n",
        "    Returns the index of the sample in x which is furthest from all the samples in z\n",
        "    :param x: numpy.ndarray: The array of the samples for which we seek to find the furthest\n",
        "    :param z: numpy.ndarray: The array of the samples which we use as a point of reference\n",
        "    :return: int: returns a single index corresponding to the furthest x\n",
        "    \"\"\"\n",
        "    # we initialize the maximum distance to be -1 and the furthest sample to have index 0\n",
        "    max_dist_i = 0\n",
        "    max_dist = -1\n",
        "    # we seek for the furthest point from z in x\n",
        "    for i in range(x.shape[0]):\n",
        "        # for each sample in x we calculate the distance from all points in z and we take the minimum\n",
        "        distance = min([np.linalg.norm(j - x[i]) for j in z])\n",
        "        # we update the distance if the current distance is larger than the old one\n",
        "        if max_dist < distance:\n",
        "            max_dist = distance\n",
        "            # we save the current sample i as the candidate furthest point from z\n",
        "            max_dist_i = i\n",
        "    return max_dist_i\n",
        "\n",
        "def PSU_undersampling(x,y,randomsize,xi,yi):\n",
        "  \"\"\"\n",
        "  This function calculates the PSU undersampling of the samples in the x,y arrays\n",
        "  with regards to the set xi,yi\n",
        "  :param x: numpy.ndarray: The array of samples, which we want to undersample\n",
        "  :param y: numpy.ndarray: The array with the labels corresponding to the samples in x\n",
        "  :param randomsize: int: An int corresponding to the number of samples to be left\n",
        "  :param xi: numpy.ndarray: The array with the samples to be used as a reference for distances\n",
        "  :param yi: numpy.ndarray: The labels of these samples\n",
        "  :return: numpy.ndarray,numpy.ndarray: Returns 2 numpy arrays corresponding to the undersampled data\n",
        "  \"\"\"\n",
        "  C = np.mean(x,axis = 0)\n",
        "  dist = np.linalg.norm(x-C,2,axis = 1)\n",
        "  indices = dist.argsort()\n",
        "  x = x[indices]\n",
        "  y = y[indices]\n",
        "  split_x = np.array_split(x,randomsize)\n",
        "  split_y = np.array_split(y,randomsize)\n",
        "  indices = [Furthest(split_x[i],xi) for i in range(randomsize)]\n",
        "  x_resample = np.array([split_x[i][indices[i]] for i in range(randomsize)])\n",
        "  y_resample = np.array([split_y[i][indices[i]] for i in range(randomsize)])\n",
        "  return x_resample, y_resample\n",
        "\n",
        "def PSU_undersampling_reduced_dim(x,y,randomsize,xi,yi):\n",
        "  \"\"\"\n",
        "  This function calculates the PSU undersampling by first doing a dimensionality reduction\n",
        "  of the samples in the x,y arrays with regards to the set xi,yi\n",
        "  :param x: numpy.ndarray: The array of samples, which we want to undersample\n",
        "  :param y: numpy.ndarray: The array with the labels corresponding to the samples in x\n",
        "  :param randomsize: int: An int corresponding to the number of samples to be left\n",
        "  :param xi: numpy.ndarray: The array with the samples to be used as a reference for distances\n",
        "  :param yi: numpy.ndarray: The labels of these samples\n",
        "  :return: numpy.ndarray,numpy.ndarray: Returns 2 numpy arrays corresponding to the undersampled data\n",
        "  \"\"\"\n",
        "  feature_scores =  Fisher_Score(xi,x)\n",
        "  indices = np.sort((-feature_scores).argsort()[:10])\n",
        "  x_filtered = x[:,indices]\n",
        "  x_i = xi[:,indices]\n",
        "  C = np.mean(x_filtered,axis = 0)\n",
        "  dist = np.linalg.norm(x_filtered-C,2,axis = 1)\n",
        "  indices = dist.argsort()\n",
        "  x_filtered = x_filtered[indices]\n",
        "  y = y[indices]\n",
        "  split_x = np.array_split(x_filtered,randomsize)\n",
        "  split_y = np.array_split(y,randomsize)\n",
        "  indices = [Furthest(split_x[i],x_i) for i in range(randomsize)]\n",
        "  split_x = np.array_split(x,randomsize)\n",
        "  x_resample = np.array([split_x[i][indices[i]] for i in range(randomsize)])\n",
        "  y_resample = np.array([split_y[i][indices[i]] for i in range(randomsize)])\n",
        "  return x_resample, y_resample"
      ]
    },
    {
      "cell_type": "code",
      "execution_count": 17,
      "metadata": {
        "id": "uJq6YmmPoTM1"
      },
      "outputs": [],
      "source": [
        "def Fisher_Score(x_import, x_nimport):\n",
        "  \"\"\"\n",
        "  Given two arrays of two classes this function calculates the Fischer_scores to \n",
        "  measure the significance for all features\n",
        "  :param x_import: numpy.ndarray: the array containing the samples of one class\n",
        "  :param x_nimport: numpy.ndarray: the array containing the samples of the other class\n",
        "  :return: numpy.ndarray: returns an array containg the Fisher_Score for all features \n",
        "  \"\"\"\n",
        "  mean_import = np.mean(x_import, axis = 0)\n",
        "  mean_nimport = np.mean(x_nimport, axis = 0)\n",
        "  mean_dist = np.absolute(mean_import - mean_nimport)\n",
        "  std_import = np.std(x_import, axis=0)\n",
        "  std_nimport = np.std(x_nimport, axis=0)\n",
        "  std_sum = std_import+std_nimport\n",
        "  #return std_sum\n",
        "  return np.divide(mean_dist,std_sum)\n",
        "\n",
        "def calculate_distances(x, distance):\n",
        "  \"\"\"\n",
        "  Calculates the distance between any two pairs of the set x using \n",
        "  the Minkowski distance of degree distance.\n",
        "  :param x: numpy.ndarray: the vector for which we will calculate the distance \n",
        "                            between all of its elements \n",
        "  :param distance: float: the norm which should be used for the Minkowski distance\n",
        "  :return: numpy.ndarray: returns the Minkowski distance with the specified norm \n",
        "                          between all pairs of elements in x \n",
        "  \"\"\"\n",
        "  dist = np.array([[minkowski(a1,a2,distance) for a2 in x] for a1 in x])\n",
        "  np.fill_diagonal(dist,float('inf'))\n",
        "  return dist\n",
        "\n",
        "def random_sampler(x, y, randomsize):\n",
        "  \"\"\"\n",
        "  This function does random undersampling of vectors x,y and reduces them to \n",
        "  size random size\n",
        "  :param x: numpy.ndarray: the feature vector to be subsampled\n",
        "  :param y: numpy.ndarray: the label vector to be subsampled\n",
        "  :return: <class 'tuple'>: A tuple containing the two undersampled vectors\n",
        "  \"\"\"\n",
        "  p = np.random.permutation(len(y))\n",
        "  new_x = x[p]\n",
        "  new_y = y[p]\n",
        "  return new_x[:randomsize],new_y[:randomsize]\n",
        "\n",
        "def generate_samples(x, y, neighbors, N):\n",
        "  \"\"\"\n",
        "  This function generate N samples which are convex combinations of \n",
        "  the features of x and the labels of y\n",
        "  :param x: numpy.ndarray:\n",
        "  :param y: numpy.ndarray:\n",
        "  :return: <class 'tuple'>:\n",
        "  \"\"\"\n",
        "  new_samples_x = []\n",
        "  new_samples_y = []\n",
        "  for i in range(N):\n",
        "    random_sample_i = random.randint(0,y.shape[0]-1)\n",
        "    x_i = x[random_sample_i]\n",
        "    random_sample_j = random.randint(0,neighbors.shape[1]-1)\n",
        "    neigh_i = neighbors[random_sample_i,random_sample_j]\n",
        "    x_j = x[neigh_i]\n",
        "    lambda_ = random.uniform(0,1)\n",
        "    y_i = y[random_sample_i]\n",
        "    y_j = y[neigh_i]\n",
        "    new_x = x_i + lambda_*(x_j-x_i)\n",
        "    new_y = y_i + lambda_*(y_j-y_i)\n",
        "    new_samples_x.append(new_x)\n",
        "    new_samples_y.append(new_y)\n",
        "  return np.array(new_samples_x),np.array(new_samples_y)\n",
        "\n",
        "def random_sampler(x,y,randomsize):\n",
        "  \"\"\"\n",
        "  This function does random undersampling of vectors x,y and reduces them to \n",
        "  size random size\n",
        "  :param x: numpy.ndarray: the feature vector to be subsampled\n",
        "  :param y: numpy.ndarray: the label vector to be subsampled\n",
        "  :return: <class 'tuple'>: A tuple containing the two undersampled vectors\n",
        "  \"\"\"\n",
        "  p = np.random.permutation(len(y))\n",
        "  new_x = x[p]\n",
        "  new_y = y[p]\n",
        "  return new_x[:randomsize],new_y[:randomsize]\n",
        "\n",
        "def generate_samples(x,y,neighbors,N):\n",
        "  \"\"\"\n",
        "  This function generate N samples which are convex combinations of \n",
        "  the features of x and the labels of y\n",
        "  :param x: numpy.ndarray:\n",
        "  :param y: numpy.ndarray:\n",
        "  :return: <class 'tuple'>:\n",
        "  \"\"\"\n",
        "  new_samples_x = []\n",
        "  new_samples_y = []\n",
        "  for i in range(N):\n",
        "    random_sample_i = random.randint(0,y.shape[0]-1)\n",
        "    x_i = x[random_sample_i]\n",
        "    random_sample_j = random.randint(0,neighbors.shape[1]-1)\n",
        "    neigh_i = neighbors[random_sample_i,random_sample_j]\n",
        "    x_j = x[neigh_i]\n",
        "    lambda_ = random.uniform(0,1)\n",
        "    y_i = y[random_sample_i]\n",
        "    y_j = y[neigh_i]\n",
        "    new_x = x_i + lambda_*(x_j-x_i)\n",
        "    new_y = y_i + lambda_*(y_j-y_i)\n",
        "    new_samples_x.append(new_x)\n",
        "    new_samples_y.append(new_y)\n",
        "  return np.array(new_samples_x),np.array(new_samples_y)\n",
        "\n",
        "def smote_sf_classification(x, y, undersample=0.1, oversample=0.3, attribute_scorer=Fisher_Score,\n",
        "                            attribute_number=10, distance=float('inf'), kneighbors=3, importance_class=0.7):\n",
        "    \"\"\"\n",
        "    This function takes the complete input and produces a more balanced dataset based on the importance class\n",
        "    :param x: numpy.ndarray: the feature vector of the initial dataset\n",
        "    :param y: numpy.ndarray: the value vector of the initial dataset\n",
        "    :param undersample: float: the percentage of the dominant class that we want to keep\n",
        "    :param oversample: float: the percentage of the dataset that the minority class will be at the end\n",
        "    :param attribute_scorer: function: a function which will be used to score the relevance of a feature\n",
        "    :param attribute_number: int: the number of attributes to keep according to their score\n",
        "    :param distance: float: the norm which should be used for the Minkowski distance\n",
        "    :param kneighbors: int: the number of nearest neighbours to be considered for each point\n",
        "    :param importance_class: float: the lower bound for the under-represented class\n",
        "    :return: returns 2 new feature vectors and 2 new label vectors containing\n",
        "            the data for the importance class and the data for the non importance\n",
        "            class and their labels.\n",
        "    \"\"\"\n",
        "    # we split the training set into majority and minority class according to the value of the label\n",
        "    x_import = x[y >= importance_class]\n",
        "    y_import = y[y >= importance_class]\n",
        "    x_nimport = x[y < importance_class]\n",
        "    y_nimport = y[y < importance_class]\n",
        "\n",
        "    # we calculate the Fisher score for all the features\n",
        "    feature_scores = attribute_scorer(x_import, x_nimport)\n",
        "    # we find the attribute_number highest coordinates of the feature_scores vector\n",
        "    indices = np.sort((-feature_scores).argsort()[:attribute_number])\n",
        "    # we filter the samples to be represented only by the attribute number highest scored features\n",
        "    x_import_filtered = x_import[:, indices]\n",
        "    # we calculate the distances between the datapoints considering only the important features as otherwise we\n",
        "    # fall into the curse of dimensionality\n",
        "    distances = calculate_distances(x_import_filtered, distance)\n",
        "    # we find the kneighbors lowest indices of the distances of each sample, the corresponding datapoints are the\n",
        "    # nearest neighbours to be drawn randomly for the oversampling procedure\n",
        "    neighbors = np.array([np.sort(d.argsort()[:kneighbors]) for d in distances])\n",
        "    # we first undersample the the majority class\n",
        "    # we calculate the final size of the undersampled data\n",
        "    nimport_len = int(undersample * y_nimport.shape[0])\n",
        "    # we perform undersampling\n",
        "    x_nimport, y_nimport = PSU_undersampling(x_nimport, y_nimport, nimport_len, x_import, y_import)\n",
        "    # we calculate the number of samples to be generated by the oversampling algorithm\n",
        "    N = int(oversample * (y_nimport.shape[0]) - y_import.shape[0])\n",
        "    # we perform oversampling\n",
        "    new_samples_x, new_samples_y = generate_samples(x_import, y_import, neighbors, N)\n",
        "    # we merge the new samples with the old samples of the minority class and their labels\n",
        "    x_import = np.concatenate((x_import, new_samples_x))\n",
        "    y_import = np.concatenate((y_import, new_samples_y))\n",
        "    # we stack the samples and the labels of the majority and minority class\n",
        "    x_ret = np.concatenate((x_import, x_nimport))\n",
        "    y_ret = np.concatenate((y_import, y_nimport))\n",
        "    # x_ret represents the balanced dataset and y_ret the corresponding labels\n",
        "    return x_ret, y_ret"
      ]
    },
    {
      "cell_type": "code",
      "execution_count": 18,
      "metadata": {
        "id": "RzW1M9AHv8Dk"
      },
      "outputs": [],
      "source": [
        "def smote_sf_regression(x, y, undersample=0.1, oversample=0.3, attribute_scorer=Fisher_Score,\n",
        "                        attribute_number=10, distance=float('inf'), kneighbors=3,\n",
        "                        importance_class=0.7, width_strata=0.1):\n",
        "    \"\"\"\n",
        "    This function performs stratified undersampling and SMOTE oversampling for the regression task\n",
        "    @param x: the initial dataset\n",
        "    @param y: the corresponding labels\n",
        "    @param undersample: the undersampling rate\n",
        "    @param oversample: the oversampling rate\n",
        "    @param attribute_scorer: the scorer for the features\n",
        "    @param attribute_number: the number of features to be considered for the distances between samples\n",
        "    @param distance: the degree of the Minkowski distance to be used\n",
        "    @param kneighbors: the number of nearest neighbours for the oversampling algorithm\n",
        "    @param importance_class: the importance boundary between majority and minority class\n",
        "    @param width_strata: the width of the strata for the stratified undersampling\n",
        "    @return: x and y rebalanced\n",
        "    \"\"\"\n",
        "    # we split the training set into majority and minority class according to the value of the label\n",
        "    x_import = x[y >= importance_class]\n",
        "    y_import = y[y >= importance_class]\n",
        "    x_nimport = x[y < importance_class]\n",
        "    y_nimport = y[y < importance_class]\n",
        "\n",
        "    # we calculate the Fisher score for all the features\n",
        "    feature_scores = attribute_scorer(x_import, x_nimport)\n",
        "    # we find the attribute_number highest coordinates of the feature_scores vector\n",
        "    indices = np.sort((-feature_scores).argsort()[:attribute_number])\n",
        "    # we filter the samples to be represented only by the attribute number highest scored features\n",
        "    x_import_filtered = x_import[:, indices]\n",
        "    # we calculate the distances between the datapoints considering only the important features as otherwise we\n",
        "    # fall into the curse of dimensionality\n",
        "    distances = calculate_distances(x_import_filtered, distance)\n",
        "    # we find the kneighbors lowest indices of the distances of each sample, the corresponding datapoints are the\n",
        "    # nearest neighbours to be drawn randomly for the oversampling procedure\n",
        "    neighbors = np.array([np.sort(d.argsort()[:kneighbors]) for d in distances])\n",
        "    # we get the undersampled datasize\n",
        "    nimport_len = int(undersample * y_nimport.shape[0])\n",
        "    print(nimport_len)\n",
        "    # we perform stratified undersampling\n",
        "    intervals = width_strata * np.arange(int(importance_class / width_strata))\n",
        "    print(intervals)\n",
        "    x_nimport, y_nimport = stratified_undersampling(x_nimport, y_nimport, intervals)\n",
        "    # we compute the number of new samples to be generated\n",
        "    N = int(oversample * (y_nimport.shape[0]) - y_import.shape[0])\n",
        "    new_samples_x, new_samples_y = generate_samples(x_import, y_import, neighbors, N)\n",
        "    # we merge the new samples with the old samples of the minority class and their labels\n",
        "    x_import = np.concatenate((x_import, new_samples_x))\n",
        "    y_import = np.concatenate((y_import, new_samples_y))\n",
        "    # we stack the samples and the labels of the majority and minority class\n",
        "    x_ret = np.concatenate((x_import, x_nimport))\n",
        "    y_ret = np.concatenate((y_import, y_nimport))\n",
        "    # x_ret represents the balanced dataset and y_ret the corresponding labels\n",
        "    return x_ret, y_ret"
      ]
    },
    {
      "cell_type": "code",
      "source": [
        "contamination, scores, outliers_indices = Anomaly_Detection_Isolation_Forests(x_train, change_split=False)\n",
        "check_Isolation_Forests(contamination, outliers_indices)\n",
        "check_boundary_decision(scores, 0.02, verbose=1)"
      ],
      "metadata": {
        "colab": {
          "base_uri": "https://localhost:8080/",
          "height": 300
        },
        "id": "DfZ34TkFCG_w",
        "outputId": "5aaf71aa-3cd6-47bc-d9d2-b7d380f241f9"
      },
      "execution_count": 27,
      "outputs": [
        {
          "output_type": "display_data",
          "data": {
            "image/png": "[encoded data removed]",
            "text/plain": [
              "<Figure size 432x288 with 1 Axes>"
            ]
          },
          "metadata": {
            "needs_background": "light"
          }
        },
        {
          "output_type": "stream",
          "name": "stdout",
          "text": [
            "The indecision percentage around 0.02 is 0.3294876304373314\n",
            "The percentage of outliers detected is 0.05331435032033834\n"
          ]
        }
      ]
    },
    {
      "cell_type": "code",
      "source": [
        "x_train, y_train = drop_outliers(x_train, y_train, outliers_indices)"
      ],
      "metadata": {
        "id": "LGryUawLCfGL"
      },
      "execution_count": 28,
      "outputs": []
    },
    {
      "cell_type": "code",
      "execution_count": 29,
      "metadata": {
        "colab": {
          "base_uri": "https://localhost:8080/"
        },
        "id": "4c4WT7AvpFRs",
        "outputId": "729ecb42-df34-4cd5-8b7b-7c05707902f3"
      },
      "outputs": [
        {
          "output_type": "stream",
          "name": "stdout",
          "text": [
            "11281\n",
            "[0.  0.1 0.2 0.3 0.4 0.5]\n"
          ]
        }
      ],
      "source": [
        "x_train, y_train = smote_sf_regression(x_train, y_train)"
      ]
    },
    {
      "cell_type": "code",
      "execution_count": 30,
      "metadata": {
        "colab": {
          "base_uri": "https://localhost:8080/",
          "height": 283
        },
        "id": "ESd8q6QBxvdu",
        "outputId": "593ad954-84c8-4efa-fc9b-7426d76f732e"
      },
      "outputs": [
        {
          "output_type": "execute_result",
          "data": {
            "text/plain": [
              "<matplotlib.axes._subplots.AxesSubplot at 0x7fe2bcb52550>"
            ]
          },
          "metadata": {},
          "execution_count": 30
        },
        {
          "output_type": "display_data",
          "data": {
            "image/png": "[encoded data removed]",
            "text/plain": [
              "<Figure size 432x288 with 1 Axes>"
            ]
          },
          "metadata": {
            "needs_background": "light"
          }
        }
      ],
      "source": [
        "sns.kdeplot(y_train, fill=True)"
      ]
    },
    {
      "cell_type": "code",
      "execution_count": 31,
      "metadata": {
        "colab": {
          "base_uri": "https://localhost:8080/"
        },
        "id": "a63d2612",
        "outputId": "44cc600d-4c70-4a7d-afa7-01b5b64a6542"
      },
      "outputs": [
        {
          "output_type": "stream",
          "name": "stdout",
          "text": [
            "[18:16:51] WARNING: /workspace/src/objective/regression_obj.cu:152: reg:linear is now deprecated in favor of reg:squarederror.\n"
          ]
        }
      ],
      "source": [
        "# we use XGB regressor model with the following hyperparameters\n",
        "\n",
        "model = XGBRegressor(subsample = 0.8999999999999999, n_estimators= 500,\n",
        "                     max_depth = 20, learning_rate = 0.01, colsample_bytree = 0.7999999999999999, colsample_bylevel = 0.6, obj=MSE)\n",
        "model.fit(x_train, y_train,eval_metric=MSE)\n",
        "predictions = model.predict(x_test)"
      ]
    },
    {
      "cell_type": "code",
      "execution_count": 32,
      "metadata": {
        "colab": {
          "base_uri": "https://localhost:8080/",
          "height": 517
        },
        "id": "b6898c6e",
        "outputId": "6e348cbb-d0dc-4205-a95f-e91e136b0f02"
      },
      "outputs": [
        {
          "output_type": "display_data",
          "data": {
            "image/png": "[encoded data removed]",
            "text/plain": [
              "<Figure size 842.4x595.44 with 1 Axes>"
            ]
          },
          "metadata": {}
        }
      ],
      "source": [
        "range_values = np.arange(0.05,1.05,0.1)\n",
        "mse_ranges = []\n",
        "for val in range_values:\n",
        "    labels_range = y_test[np.where(np.abs(y_test-val)<=0.05)]\n",
        "    correspondent_predictions = predictions[np.where(np.abs(y_test-val)<=0.05)]\n",
        "    mse_ranges.append(MSE(correspondent_predictions, labels_range))\n",
        "sns.set(rc={'figure.figsize':(11.7,8.27)})\n",
        "intervals = ['0.0-0.1', '0.1-0.2', '0.2-0.3', '0.3-0.4','0.4-0.5', '0.5-0.6', '0.6-0-7', '0.7-0.8', '0.8-0.9', '0.9-1.0']\n",
        "dict_mse = {'intervals': intervals, 'mse': mse_ranges}\n",
        "df_mse = pd.DataFrame.from_dict(dict_mse)\n",
        "sns.barplot(x = df_mse['intervals'], y = df_mse['mse'], color='blue')\n",
        "plt.show()"
      ]
    }
  ],
  "metadata": {
    "colab": {
      "name": "Untitled0.ipynb",
      "provenance": [],
      "collapsed_sections": []
    },
    "kernelspec": {
      "display_name": "Python 3",
      "name": "python3"
    },
    "language_info": {
      "name": "python"
    }
  },
  "nbformat": 4,
  "nbformat_minor": 0
}