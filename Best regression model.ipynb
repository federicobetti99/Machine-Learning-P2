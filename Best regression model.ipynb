{
 "cells": [
  {
   "cell_type": "code",
   "execution_count": 1,
   "id": "ebdc7f1f",
   "metadata": {},
   "outputs": [],
   "source": [
    "# for basic operations\n",
    "import pandas as pd\n",
    "import numpy as np\n",
    "\n",
    "#for visualization\n",
    "from matplotlib import pyplot as plt\n",
    "import seaborn as sns\n",
    "\n",
    "#for machine learning\n",
    "from sklearn.model_selection import train_test_split\n",
    "from xgboost import XGBRegressor\n",
    "from sklearn.metrics import mean_squared_error as MSE\n",
    "from sklearn.model_selection import GridSearchCV, RandomizedSearchCV\n",
    "from sklearn.preprocessing import StandardScaler\n",
    "from sklearn.decomposition import PCA\n",
    "from sklearn.metrics import make_scorer\n",
    "\n",
    "# for math formulas\n",
    "import math\n",
    "\n",
    "# for statistics\n",
    "from scipy import stats\n",
    "import scipy as sci\n",
    "\n",
    "import random\n",
    "\n",
    "sns.set(rc={'figure.figsize':(11.7,8.27)})"
   ]
  },
  {
   "cell_type": "code",
   "execution_count": 2,
   "id": "03ad9d88",
   "metadata": {},
   "outputs": [
    {
     "data": {
      "text/html": [
       "<div>\n",
       "<style scoped>\n",
       "    .dataframe tbody tr th:only-of-type {\n",
       "        vertical-align: middle;\n",
       "    }\n",
       "\n",
       "    .dataframe tbody tr th {\n",
       "        vertical-align: top;\n",
       "    }\n",
       "\n",
       "    .dataframe thead th {\n",
       "        text-align: right;\n",
       "    }\n",
       "</style>\n",
       "<table border=\"1\" class=\"dataframe\">\n",
       "  <thead>\n",
       "    <tr style=\"text-align: right;\">\n",
       "      <th></th>\n",
       "      <th>Unnamed: 0</th>\n",
       "      <th>Kmer</th>\n",
       "      <th>y_1</th>\n",
       "      <th>y_2</th>\n",
       "      <th>y_3</th>\n",
       "      <th>y_4</th>\n",
       "      <th>y_5</th>\n",
       "      <th>y_6</th>\n",
       "      <th>zC_1</th>\n",
       "      <th>zC_2</th>\n",
       "      <th>...</th>\n",
       "      <th>zW_76</th>\n",
       "      <th>zW_77</th>\n",
       "      <th>zW_78</th>\n",
       "      <th>y_79</th>\n",
       "      <th>y_80</th>\n",
       "      <th>y_81</th>\n",
       "      <th>y_82</th>\n",
       "      <th>y_83</th>\n",
       "      <th>y_84</th>\n",
       "      <th>relKa</th>\n",
       "    </tr>\n",
       "  </thead>\n",
       "  <tbody>\n",
       "    <tr>\n",
       "      <th>0</th>\n",
       "      <td>0</td>\n",
       "      <td>AATGATTAATTACC</td>\n",
       "      <td>0.593697</td>\n",
       "      <td>-1.092779</td>\n",
       "      <td>0.309117</td>\n",
       "      <td>0.133525</td>\n",
       "      <td>0.023403</td>\n",
       "      <td>-0.157348</td>\n",
       "      <td>1.177586</td>\n",
       "      <td>-2.166888</td>\n",
       "      <td>...</td>\n",
       "      <td>-0.674709</td>\n",
       "      <td>10.019444</td>\n",
       "      <td>-1.012806</td>\n",
       "      <td>-0.790300</td>\n",
       "      <td>-0.112492</td>\n",
       "      <td>0.118705</td>\n",
       "      <td>0.237596</td>\n",
       "      <td>-0.009713</td>\n",
       "      <td>0.267886</td>\n",
       "      <td>1.000000</td>\n",
       "    </tr>\n",
       "    <tr>\n",
       "      <th>1</th>\n",
       "      <td>1</td>\n",
       "      <td>GGTAATTAATCATT</td>\n",
       "      <td>0.790300</td>\n",
       "      <td>-0.112492</td>\n",
       "      <td>0.118705</td>\n",
       "      <td>-0.237596</td>\n",
       "      <td>-0.009713</td>\n",
       "      <td>0.267886</td>\n",
       "      <td>2.591673</td>\n",
       "      <td>-3.422281</td>\n",
       "      <td>...</td>\n",
       "      <td>-0.986852</td>\n",
       "      <td>9.851130</td>\n",
       "      <td>-1.990198</td>\n",
       "      <td>-0.593697</td>\n",
       "      <td>-1.092779</td>\n",
       "      <td>0.309117</td>\n",
       "      <td>-0.133525</td>\n",
       "      <td>0.023403</td>\n",
       "      <td>-0.157348</td>\n",
       "      <td>1.000000</td>\n",
       "    </tr>\n",
       "    <tr>\n",
       "      <th>2</th>\n",
       "      <td>2</td>\n",
       "      <td>AATGATTAATTACT</td>\n",
       "      <td>0.593690</td>\n",
       "      <td>-1.092780</td>\n",
       "      <td>0.309116</td>\n",
       "      <td>0.133525</td>\n",
       "      <td>0.023403</td>\n",
       "      <td>-0.157348</td>\n",
       "      <td>1.177587</td>\n",
       "      <td>-2.166890</td>\n",
       "      <td>...</td>\n",
       "      <td>-0.839165</td>\n",
       "      <td>10.065669</td>\n",
       "      <td>-1.499679</td>\n",
       "      <td>-0.826872</td>\n",
       "      <td>-1.141872</td>\n",
       "      <td>0.500342</td>\n",
       "      <td>-0.143809</td>\n",
       "      <td>0.043456</td>\n",
       "      <td>0.095141</td>\n",
       "      <td>0.968830</td>\n",
       "    </tr>\n",
       "    <tr>\n",
       "      <th>3</th>\n",
       "      <td>3</td>\n",
       "      <td>AGTAATTAATCATT</td>\n",
       "      <td>0.826872</td>\n",
       "      <td>-1.141872</td>\n",
       "      <td>0.500342</td>\n",
       "      <td>0.143809</td>\n",
       "      <td>0.043456</td>\n",
       "      <td>0.095141</td>\n",
       "      <td>2.137980</td>\n",
       "      <td>-2.777053</td>\n",
       "      <td>...</td>\n",
       "      <td>-0.986851</td>\n",
       "      <td>9.851129</td>\n",
       "      <td>-1.990198</td>\n",
       "      <td>-0.593690</td>\n",
       "      <td>-1.092780</td>\n",
       "      <td>0.309116</td>\n",
       "      <td>-0.133525</td>\n",
       "      <td>0.023403</td>\n",
       "      <td>-0.157348</td>\n",
       "      <td>0.968830</td>\n",
       "    </tr>\n",
       "    <tr>\n",
       "      <th>4</th>\n",
       "      <td>4</td>\n",
       "      <td>AGGTAATTAATCAT</td>\n",
       "      <td>1.260372</td>\n",
       "      <td>-0.870861</td>\n",
       "      <td>0.397555</td>\n",
       "      <td>0.124897</td>\n",
       "      <td>0.053255</td>\n",
       "      <td>0.213696</td>\n",
       "      <td>1.977567</td>\n",
       "      <td>-2.851909</td>\n",
       "      <td>...</td>\n",
       "      <td>-0.960712</td>\n",
       "      <td>9.943948</td>\n",
       "      <td>-1.806082</td>\n",
       "      <td>0.336528</td>\n",
       "      <td>-0.596511</td>\n",
       "      <td>0.184099</td>\n",
       "      <td>-0.075285</td>\n",
       "      <td>0.032807</td>\n",
       "      <td>0.149085</td>\n",
       "      <td>0.968752</td>\n",
       "    </tr>\n",
       "    <tr>\n",
       "      <th>...</th>\n",
       "      <td>...</td>\n",
       "      <td>...</td>\n",
       "      <td>...</td>\n",
       "      <td>...</td>\n",
       "      <td>...</td>\n",
       "      <td>...</td>\n",
       "      <td>...</td>\n",
       "      <td>...</td>\n",
       "      <td>...</td>\n",
       "      <td>...</td>\n",
       "      <td>...</td>\n",
       "      <td>...</td>\n",
       "      <td>...</td>\n",
       "      <td>...</td>\n",
       "      <td>...</td>\n",
       "      <td>...</td>\n",
       "      <td>...</td>\n",
       "      <td>...</td>\n",
       "      <td>...</td>\n",
       "      <td>...</td>\n",
       "      <td>...</td>\n",
       "    </tr>\n",
       "    <tr>\n",
       "      <th>170576</th>\n",
       "      <td>170576</td>\n",
       "      <td>AAATAAATCAAAAA</td>\n",
       "      <td>0.876056</td>\n",
       "      <td>-1.165222</td>\n",
       "      <td>0.321638</td>\n",
       "      <td>0.106295</td>\n",
       "      <td>0.028863</td>\n",
       "      <td>-0.202603</td>\n",
       "      <td>1.139074</td>\n",
       "      <td>-1.939220</td>\n",
       "      <td>...</td>\n",
       "      <td>-0.779331</td>\n",
       "      <td>9.794168</td>\n",
       "      <td>-1.737971</td>\n",
       "      <td>0.085539</td>\n",
       "      <td>-0.955026</td>\n",
       "      <td>0.025427</td>\n",
       "      <td>0.256477</td>\n",
       "      <td>0.048950</td>\n",
       "      <td>0.080873</td>\n",
       "      <td>0.076591</td>\n",
       "    </tr>\n",
       "    <tr>\n",
       "      <th>170577</th>\n",
       "      <td>170577</td>\n",
       "      <td>TAATTGTTTTTTTT</td>\n",
       "      <td>0.585035</td>\n",
       "      <td>-0.150802</td>\n",
       "      <td>0.171198</td>\n",
       "      <td>-0.256918</td>\n",
       "      <td>0.058377</td>\n",
       "      <td>0.181906</td>\n",
       "      <td>1.209817</td>\n",
       "      <td>-3.391274</td>\n",
       "      <td>...</td>\n",
       "      <td>-1.162514</td>\n",
       "      <td>9.929123</td>\n",
       "      <td>-1.934750</td>\n",
       "      <td>-1.023253</td>\n",
       "      <td>-0.926061</td>\n",
       "      <td>0.372899</td>\n",
       "      <td>-0.098051</td>\n",
       "      <td>0.026279</td>\n",
       "      <td>-0.269782</td>\n",
       "      <td>0.073354</td>\n",
       "    </tr>\n",
       "    <tr>\n",
       "      <th>170578</th>\n",
       "      <td>170578</td>\n",
       "      <td>AAAAAAAACAATTA</td>\n",
       "      <td>1.023253</td>\n",
       "      <td>-0.926061</td>\n",
       "      <td>0.372899</td>\n",
       "      <td>0.098051</td>\n",
       "      <td>0.026279</td>\n",
       "      <td>-0.269782</td>\n",
       "      <td>1.151259</td>\n",
       "      <td>-1.899359</td>\n",
       "      <td>...</td>\n",
       "      <td>-0.832287</td>\n",
       "      <td>9.702945</td>\n",
       "      <td>-1.787255</td>\n",
       "      <td>-0.585035</td>\n",
       "      <td>-0.150802</td>\n",
       "      <td>0.171198</td>\n",
       "      <td>0.256918</td>\n",
       "      <td>0.058377</td>\n",
       "      <td>0.181906</td>\n",
       "      <td>0.073354</td>\n",
       "    </tr>\n",
       "    <tr>\n",
       "      <th>170579</th>\n",
       "      <td>170579</td>\n",
       "      <td>TTATTTTTTTAATT</td>\n",
       "      <td>-0.413908</td>\n",
       "      <td>-0.828290</td>\n",
       "      <td>0.190382</td>\n",
       "      <td>-0.246474</td>\n",
       "      <td>0.039222</td>\n",
       "      <td>0.122640</td>\n",
       "      <td>0.331353</td>\n",
       "      <td>-3.875098</td>\n",
       "      <td>...</td>\n",
       "      <td>-0.978912</td>\n",
       "      <td>9.863057</td>\n",
       "      <td>-1.994680</td>\n",
       "      <td>-0.735610</td>\n",
       "      <td>-1.194044</td>\n",
       "      <td>0.298711</td>\n",
       "      <td>-0.138674</td>\n",
       "      <td>0.028309</td>\n",
       "      <td>-0.129401</td>\n",
       "      <td>0.073150</td>\n",
       "    </tr>\n",
       "    <tr>\n",
       "      <th>170580</th>\n",
       "      <td>170580</td>\n",
       "      <td>AATTAAAAAAATAA</td>\n",
       "      <td>0.735610</td>\n",
       "      <td>-1.194044</td>\n",
       "      <td>0.298711</td>\n",
       "      <td>0.138674</td>\n",
       "      <td>0.028309</td>\n",
       "      <td>-0.129401</td>\n",
       "      <td>1.245580</td>\n",
       "      <td>-2.277798</td>\n",
       "      <td>...</td>\n",
       "      <td>-0.362874</td>\n",
       "      <td>9.328955</td>\n",
       "      <td>-1.623023</td>\n",
       "      <td>0.413908</td>\n",
       "      <td>-0.828290</td>\n",
       "      <td>0.190382</td>\n",
       "      <td>0.246474</td>\n",
       "      <td>0.039222</td>\n",
       "      <td>0.122640</td>\n",
       "      <td>0.073150</td>\n",
       "    </tr>\n",
       "  </tbody>\n",
       "</table>\n",
       "<p>170581 rows × 321 columns</p>\n",
       "</div>"
      ],
      "text/plain": [
       "        Unnamed: 0            Kmer       y_1       y_2       y_3       y_4  \\\n",
       "0                0  AATGATTAATTACC  0.593697 -1.092779  0.309117  0.133525   \n",
       "1                1  GGTAATTAATCATT  0.790300 -0.112492  0.118705 -0.237596   \n",
       "2                2  AATGATTAATTACT  0.593690 -1.092780  0.309116  0.133525   \n",
       "3                3  AGTAATTAATCATT  0.826872 -1.141872  0.500342  0.143809   \n",
       "4                4  AGGTAATTAATCAT  1.260372 -0.870861  0.397555  0.124897   \n",
       "...            ...             ...       ...       ...       ...       ...   \n",
       "170576      170576  AAATAAATCAAAAA  0.876056 -1.165222  0.321638  0.106295   \n",
       "170577      170577  TAATTGTTTTTTTT  0.585035 -0.150802  0.171198 -0.256918   \n",
       "170578      170578  AAAAAAAACAATTA  1.023253 -0.926061  0.372899  0.098051   \n",
       "170579      170579  TTATTTTTTTAATT -0.413908 -0.828290  0.190382 -0.246474   \n",
       "170580      170580  AATTAAAAAAATAA  0.735610 -1.194044  0.298711  0.138674   \n",
       "\n",
       "             y_5       y_6      zC_1      zC_2  ...     zW_76      zW_77  \\\n",
       "0       0.023403 -0.157348  1.177586 -2.166888  ... -0.674709  10.019444   \n",
       "1      -0.009713  0.267886  2.591673 -3.422281  ... -0.986852   9.851130   \n",
       "2       0.023403 -0.157348  1.177587 -2.166890  ... -0.839165  10.065669   \n",
       "3       0.043456  0.095141  2.137980 -2.777053  ... -0.986851   9.851129   \n",
       "4       0.053255  0.213696  1.977567 -2.851909  ... -0.960712   9.943948   \n",
       "...          ...       ...       ...       ...  ...       ...        ...   \n",
       "170576  0.028863 -0.202603  1.139074 -1.939220  ... -0.779331   9.794168   \n",
       "170577  0.058377  0.181906  1.209817 -3.391274  ... -1.162514   9.929123   \n",
       "170578  0.026279 -0.269782  1.151259 -1.899359  ... -0.832287   9.702945   \n",
       "170579  0.039222  0.122640  0.331353 -3.875098  ... -0.978912   9.863057   \n",
       "170580  0.028309 -0.129401  1.245580 -2.277798  ... -0.362874   9.328955   \n",
       "\n",
       "           zW_78      y_79      y_80      y_81      y_82      y_83      y_84  \\\n",
       "0      -1.012806 -0.790300 -0.112492  0.118705  0.237596 -0.009713  0.267886   \n",
       "1      -1.990198 -0.593697 -1.092779  0.309117 -0.133525  0.023403 -0.157348   \n",
       "2      -1.499679 -0.826872 -1.141872  0.500342 -0.143809  0.043456  0.095141   \n",
       "3      -1.990198 -0.593690 -1.092780  0.309116 -0.133525  0.023403 -0.157348   \n",
       "4      -1.806082  0.336528 -0.596511  0.184099 -0.075285  0.032807  0.149085   \n",
       "...          ...       ...       ...       ...       ...       ...       ...   \n",
       "170576 -1.737971  0.085539 -0.955026  0.025427  0.256477  0.048950  0.080873   \n",
       "170577 -1.934750 -1.023253 -0.926061  0.372899 -0.098051  0.026279 -0.269782   \n",
       "170578 -1.787255 -0.585035 -0.150802  0.171198  0.256918  0.058377  0.181906   \n",
       "170579 -1.994680 -0.735610 -1.194044  0.298711 -0.138674  0.028309 -0.129401   \n",
       "170580 -1.623023  0.413908 -0.828290  0.190382  0.246474  0.039222  0.122640   \n",
       "\n",
       "           relKa  \n",
       "0       1.000000  \n",
       "1       1.000000  \n",
       "2       0.968830  \n",
       "3       0.968830  \n",
       "4       0.968752  \n",
       "...          ...  \n",
       "170576  0.076591  \n",
       "170577  0.073354  \n",
       "170578  0.073354  \n",
       "170579  0.073150  \n",
       "170580  0.073150  \n",
       "\n",
       "[170581 rows x 321 columns]"
      ]
     },
     "execution_count": 2,
     "metadata": {},
     "output_type": "execute_result"
    }
   ],
   "source": [
    "df = pd.read_csv('data\\GSM1586785_ScrH-12A_Exd_14mer_cg.csv')\n",
    "df"
   ]
  },
  {
   "cell_type": "code",
   "execution_count": 3,
   "id": "85e66f5d",
   "metadata": {},
   "outputs": [],
   "source": [
    "df.drop(columns = 'Unnamed: 0', inplace = True)\n",
    "df.drop(columns = 'Kmer', inplace = True)"
   ]
  },
  {
   "cell_type": "markdown",
   "id": "eba010cb",
   "metadata": {},
   "source": [
    "### Outliers remotion"
   ]
  },
  {
   "cell_type": "code",
   "execution_count": 4,
   "id": "d72a21d7",
   "metadata": {},
   "outputs": [],
   "source": [
    "# Worse performances\n",
    "\n",
    "from sklearn.ensemble import IsolationForest\n",
    "\n",
    "def Anomaly_Detection_Isolation_Forests(x, change_split=True):\n",
    "  random_state = np.random.RandomState(42)\n",
    "  contamination = 'auto'\n",
    "  threshold = np.random.uniform(-0.03, -0.02, 1)\n",
    "  model = IsolationForest(n_estimators=120, max_samples='auto', contamination=contamination, random_state=random_state)\n",
    "  model.fit(x)\n",
    "  scores = model.decision_function(x)\n",
    "  if change_split == False:\n",
    "    anomaly_score = model.predict(x)\n",
    "    outliers_indices = np.where(anomaly_score == -1)[0]\n",
    "  if change_split == True:\n",
    "    outliers_indices = split_outliers(threshold, scores)\n",
    "  return contamination, scores, outliers_indices\n",
    "\n",
    "def check_Isolation_Forests(contamination, outliers_indices):\n",
    "  \"\"\"\n",
    "  Simply a check on the proper working of the IF algorithm\n",
    "  \"\"\"\n",
    "  tol = 1.0e-02\n",
    "  if contamination != 'auto':\n",
    "    outliers_percentage = 1 / len(RelKa) * len(outliers_indices)\n",
    "    assert np.abs(contamination-outliers_percentage) < tol\n",
    "\n",
    "def check_boundary_decision(scores, p, verbose=1):\n",
    "  \"\"\"\n",
    "  This function simply controls how many scores returned by the IF algorithm \n",
    "  are likely to be misclassified\n",
    "  \"\"\"\n",
    "  indecision_percentage = 1 / len(y) * np.count_nonzero(np.abs(scores) <= p)\n",
    "  if verbose == 1:\n",
    "    plt.hist(scores)\n",
    "    plt.show()\n",
    "    print(\"The indecision percentage around\", p,  \"is\", indecision_percentage)\n",
    "    print(\"The percentage of outliers detected is\", 1 / len(scores) * len(np.where(scores < 0)[0]))\n",
    "\n",
    "def drop_outliers(x, y, outliers):\n",
    "  x = np.delete(x, outliers, axis=0)\n",
    "  y = np.delete(y, outliers, axis=0)\n",
    "  return x, y"
   ]
  },
  {
   "cell_type": "code",
   "execution_count": 5,
   "id": "699d19f2",
   "metadata": {},
   "outputs": [],
   "source": [
    "y = df['relKa'].to_numpy()\n",
    "x = df.loc[:, df.columns != 'relKa'].to_numpy()"
   ]
  },
  {
   "cell_type": "code",
   "execution_count": 6,
   "id": "73e123f9",
   "metadata": {},
   "outputs": [
    {
     "data": {
      "image/png": "[encoded data removed]",
      "text/plain": [
       "<Figure size 842.4x595.44 with 1 Axes>"
      ]
     },
     "metadata": {},
     "output_type": "display_data"
    },
    {
     "name": "stdout",
     "output_type": "stream",
     "text": [
      "The indecision percentage around 0.02 is 0.5208317456223144\n",
      "The percentage of outliers detected is 0.0773825924340929\n"
     ]
    }
   ],
   "source": [
    "contamination, scores, outliers_indices = Anomaly_Detection_Isolation_Forests(x, change_split=False)\n",
    "check_Isolation_Forests(contamination, outliers_indices)\n",
    "check_boundary_decision(scores, 0.02, verbose=1)"
   ]
  },
  {
   "cell_type": "code",
   "execution_count": 7,
   "id": "17326496",
   "metadata": {},
   "outputs": [
    {
     "data": {
      "text/plain": [
       "13200"
      ]
     },
     "execution_count": 7,
     "metadata": {},
     "output_type": "execute_result"
    }
   ],
   "source": [
    "y[outliers_indices].shape[0]"
   ]
  },
  {
   "cell_type": "code",
   "execution_count": 8,
   "id": "316354a9",
   "metadata": {},
   "outputs": [],
   "source": [
    "x, y = drop_outliers(x, y, outliers_indices)"
   ]
  },
  {
   "cell_type": "markdown",
   "id": "4c8c6e82",
   "metadata": {},
   "source": [
    "### Undersampling"
   ]
  },
  {
   "cell_type": "code",
   "execution_count": 9,
   "id": "38507977",
   "metadata": {},
   "outputs": [
    {
     "data": {
      "image/png": "[encoded data removed]",
      "text/plain": [
       "<Figure size 842.4x595.44 with 1 Axes>"
      ]
     },
     "metadata": {},
     "output_type": "display_data"
    }
   ],
   "source": [
    "plt.hist(y, bins=100)\n",
    "plt.yscale('log')\n",
    "plt.show()"
   ]
  },
  {
   "cell_type": "code",
   "execution_count": 10,
   "id": "523aa873",
   "metadata": {},
   "outputs": [
    {
     "name": "stderr",
     "output_type": "stream",
     "text": [
      "C:\\Users\\Luca\\AppData\\Local\\Temp/ipykernel_49144/3712141818.py:13: DeprecationWarning: `np.int` is a deprecated alias for the builtin `int`. To silence this warning, use `int` by itself. Doing this will not modify any behavior and is safe. When replacing `np.int`, you may wish to use e.g. `np.int64` or `np.int32` to specify the precision. If you wish to review your current use, check the release note link for additional information.\n",
      "Deprecated in NumPy 1.20; for more details and guidance: https://numpy.org/devdocs/release/1.20.0-notes.html#deprecations\n",
      "  sample_length = np.int(ratios[i]*indices_interval.shape[0])\n"
     ]
    }
   ],
   "source": [
    "intervals = [[0,0.2],[0.2,0.4],[0.4,0.6],[0.6,0.8],[0.8,1]]\n",
    "ratios = [0.1, 0.3, 0.5, 1, 1]\n",
    "\n",
    "def undersampling(x, y, ratios, intervals):\n",
    "    \n",
    "    undersampled_x = np.zeros(x.shape[1])\n",
    "    undersampled_x = undersampled_x[..., np.newaxis].T\n",
    "    undersampled_y = np.array([])\n",
    "    i = 0\n",
    "    for interval in intervals:\n",
    "        indices_interval = np.where((y >= interval[0]) & (y<= interval[1]))\n",
    "        indices_interval = indices_interval[0]\n",
    "        sample_length = np.int(ratios[i]*indices_interval.shape[0])\n",
    "        indices_picked = random.sample(list(indices_interval), sample_length)\n",
    "        x_sampled = x[indices_picked, :]\n",
    "        y_sampled = y[indices_picked]\n",
    "        undersampled_x = np.concatenate([undersampled_x, x_sampled], axis=0)\n",
    "        undersampled_y = np.concatenate([undersampled_y, y_sampled], axis=0)\n",
    "        i +=1\n",
    "    return undersampled_x, undersampled_y\n",
    "\n",
    "undersampled_x, undersampled_y = undersampling(x, y, ratios, intervals)\n",
    "undersampled_x = np.delete(undersampled_x, 0, axis = 0)"
   ]
  },
  {
   "cell_type": "code",
   "execution_count": 11,
   "id": "7a5a6d1e",
   "metadata": {},
   "outputs": [
    {
     "data": {
      "image/png": "[encoded data removed]",
      "text/plain": [
       "<Figure size 842.4x595.44 with 1 Axes>"
      ]
     },
     "metadata": {},
     "output_type": "display_data"
    }
   ],
   "source": [
    "plt.hist(undersampled_y, bins=100)\n",
    "plt.yscale('log')\n",
    "plt.show()"
   ]
  },
  {
   "cell_type": "markdown",
   "id": "5d0c5ad0",
   "metadata": {},
   "source": [
    "### Boxcox transformation"
   ]
  },
  {
   "cell_type": "code",
   "execution_count": 12,
   "id": "f9a3a260",
   "metadata": {},
   "outputs": [
    {
     "name": "stdout",
     "output_type": "stream",
     "text": [
      "-0.5225622946910992\n",
      "[-0.39207939  0.        ]\n"
     ]
    }
   ],
   "source": [
    "undersampled_y, fitted_lambda= stats.boxcox(list(undersampled_y),lmbda=None)\n",
    "print(fitted_lambda)\n",
    "print(stats.boxcox([0.7,1], fitted_lambda))\n",
    "undersampled_y = np.array(undersampled_y)\n",
    "#inv_boxcox(y,fitted_lambda)"
   ]
  },
  {
   "cell_type": "code",
   "execution_count": 13,
   "id": "6be99ee5",
   "metadata": {},
   "outputs": [
    {
     "data": {
      "image/png": "[encoded data removed]",
      "text/plain": [
       "<Figure size 842.4x595.44 with 1 Axes>"
      ]
     },
     "metadata": {},
     "output_type": "display_data"
    }
   ],
   "source": [
    "plt.hist(undersampled_y, bins=100)\n",
    "plt.yscale('log')\n",
    "plt.show()"
   ]
  },
  {
   "cell_type": "code",
   "execution_count": 14,
   "id": "b0a33768",
   "metadata": {},
   "outputs": [],
   "source": [
    "x_train, x_test, y_train, y_test = train_test_split(undersampled_x, undersampled_y, test_size=0.30, random_state=42)\n",
    "sc = StandardScaler()\n",
    "x_train = sc.fit_transform(x_train)\n",
    "x_test = sc.transform(x_test)"
   ]
  },
  {
   "cell_type": "code",
   "execution_count": null,
   "id": "4c74bbeb",
   "metadata": {},
   "outputs": [],
   "source": [
    "model = XGBRegressor(subsample = 0.8999999999999999, n_estimators= 500,\n",
    "                     max_depth = 20, learning_rate = 0.01, colsample_bytree = 0.7999999999999999, colsample_bylevel = 0.6)\n",
    "model.fit(x_train, y_train)\n",
    "predictions = model.predict(x_test)"
   ]
  },
  {
   "cell_type": "code",
   "execution_count": null,
   "id": "f015f713",
   "metadata": {},
   "outputs": [],
   "source": [
    "predictions = sci.special.inv_boxcox(predictions, fitted_lambda)\n",
    "y_test = sci.special.inv_boxcox(y_test, fitted_lambda)\n",
    "undersampled_y = sci.special.inv_boxcox(undersampled_y , fitted_lambda)"
   ]
  },
  {
   "cell_type": "code",
   "execution_count": null,
   "id": "0201e726",
   "metadata": {},
   "outputs": [],
   "source": [
    "print('the MSE for tuned model XGB Regressor is', MSE(y_test, predictions))"
   ]
  },
  {
   "cell_type": "markdown",
   "id": "74623099",
   "metadata": {},
   "source": [
    "Visualization of the results"
   ]
  },
  {
   "cell_type": "code",
   "execution_count": null,
   "id": "2a4e96cd",
   "metadata": {},
   "outputs": [],
   "source": [
    "range_values = np.arange(0.05,1.05,0.1)\n",
    "mse_ranges = []\n",
    "print(range_values)\n",
    "for val in range_values:\n",
    "    labels_range = y[np.where(np.abs(y_test-val)<=0.05)]\n",
    "    correspondent_predictions = predictions[np.where(np.abs(y_test-val)<=0.05)]\n",
    "    mse_ranges.append(MSE(correspondent_predictions, labels_range))\n",
    "sns.set(rc={'figure.figsize':(11.7,8.27)})\n",
    "intervals = ['0.0-0.1', '0.1-0.2', '0.2-0.3', '0.3-0.4','0.4-0.5', '0.5-0.6', '0.6-0-7', '0.7-0.8', '0.8-0.9', '0.9-1.0']\n",
    "dict_mse = {'intervals': intervals, 'mse': mse_ranges}\n",
    "df_mse = pd.DataFrame.from_dict(dict_mse)\n",
    "sns.barplot(x = df_mse['intervals'], y = df_mse['mse'], color='blue')\n",
    "plt.show()"
   ]
  },
  {
   "cell_type": "markdown",
   "id": "63f0ab39",
   "metadata": {},
   "source": [
    "#### hyperparameters tuning"
   ]
  },
  {
   "cell_type": "code",
   "execution_count": null,
   "id": "e1e8743e",
   "metadata": {},
   "outputs": [],
   "source": [
    "undersampled_y, fitted_lambda= stats.boxcox(list(undersampled_y),lmbda=None)\n",
    "undersampled_y = np.array(undersampled_y)"
   ]
  },
  {
   "cell_type": "code",
   "execution_count": null,
   "id": "fbc5cded",
   "metadata": {},
   "outputs": [],
   "source": [
    "plt.hist(undersampled_y, bins=100)\n",
    "plt.yscale('log')\n",
    "plt.show()"
   ]
  },
  {
   "cell_type": "code",
   "execution_count": null,
   "id": "84f3deee",
   "metadata": {},
   "outputs": [],
   "source": [
    "x_train, x_test, y_train, y_test = train_test_split(undersampled_x, undersampled_y, test_size=0.30, random_state=42)\n",
    "sc = StandardScaler()\n",
    "x_train = sc.fit_transform(x_train)\n",
    "x_test = sc.transform(x_test)"
   ]
  },
  {
   "cell_type": "code",
   "execution_count": null,
   "id": "112f448e",
   "metadata": {},
   "outputs": [],
   "source": [
    "params = { 'max_depth': [5, 10, 15, 20],\n",
    "           'learning_rate': [0.01, 0.1, 0.5],\n",
    "           'subsample': np.arange(0.5, 1.0, 0.1),\n",
    "           'colsample_bytree': np.arange(0.5, 1.0, 0.1),\n",
    "           'colsample_bylevel': np.arange(0.5, 1.0, 0.1),\n",
    "           'n_estimators': [100, 500, 1000],\n",
    "            }\n",
    "model = XGBRegressor(seed = 20)\n",
    "clf = RandomizedSearchCV(estimator = model,\n",
    "                         param_distributions = params,\n",
    "                         scoring='neg_mean_squared_error',\n",
    "                         n_iter=10,\n",
    "                         verbose=10)\n",
    "clf.fit(x_train, y_train)\n",
    "print(\"Best parameters:\", clf.best_params_)\n",
    "print(\"Lowest RMSE: \", (-clf.best_score_)**(1/2.0))"
   ]
  },
  {
   "cell_type": "code",
   "execution_count": null,
   "id": "a6fe30e9",
   "metadata": {},
   "outputs": [],
   "source": [
    "print(\"Best parameters:\", clf.best_params_)\n",
    "print(\"Lowest RMSE: \", (-clf.best_score_)**(1/2.0))\n",
    "predictions = clf.predict(x_test)"
   ]
  },
  {
   "cell_type": "code",
   "execution_count": null,
   "id": "d1073183",
   "metadata": {},
   "outputs": [],
   "source": [
    "predictions = sci.special.inv_boxcox(predictions, fitted_lambda)\n",
    "y_test = sci.special.inv_boxcox(y_test, fitted_lambda)\n",
    "undersampled_y = sci.special.inv_boxcox(undersampled_y , fitted_lambda)"
   ]
  },
  {
   "cell_type": "code",
   "execution_count": null,
   "id": "4142eacd",
   "metadata": {},
   "outputs": [],
   "source": [
    "print('the MSE for tuned model XGB Regressor is', MSE(y_test, predictions))\n",
    "range_values = np.arange(0.05,1.05,0.1)\n",
    "mse_ranges = []\n",
    "print(range_values)\n",
    "for val in range_values:\n",
    "    labels_range = y[np.where(np.abs(y_test-val)<=0.05)]\n",
    "    correspondent_predictions = predictions[np.where(np.abs(y_test-val)<=0.05)]\n",
    "    mse_ranges.append(MSE(correspondent_predictions, labels_range))\n",
    "sns.set(rc={'figure.figsize':(11.7,8.27)})\n",
    "intervals = ['0.0-0.1', '0.1-0.2', '0.2-0.3', '0.3-0.4','0.4-0.5', '0.5-0.6', '0.6-0-7', '0.7-0.8', '0.8-0.9', '0.9-1.0']\n",
    "dict_mse = {'intervals': intervals, 'mse': mse_ranges}\n",
    "df_mse = pd.DataFrame.from_dict(dict_mse)\n",
    "sns.barplot(x = df_mse['intervals'], y = df_mse['mse'], color='blue')\n",
    "plt.show()"
   ]
  },
  {
   "cell_type": "code",
   "execution_count": null,
   "id": "e043338f",
   "metadata": {},
   "outputs": [],
   "source": []
  }
 ],
 "metadata": {
  "kernelspec": {
   "display_name": "Python 3 (ipykernel)",
   "language": "python",
   "name": "python3"
  },
  "language_info": {
   "codemirror_mode": {
    "name": "ipython",
    "version": 3
   },
   "file_extension": ".py",
   "mimetype": "text/x-python",
   "name": "python",
   "nbconvert_exporter": "python",
   "pygments_lexer": "ipython3",
   "version": "3.8.8"
  }
 },
 "nbformat": 4,
 "nbformat_minor": 5
}
